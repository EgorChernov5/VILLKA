{
 "cells": [
  {
   "cell_type": "markdown",
   "metadata": {},
   "source": [
    "Тетрадка для предобработки данных."
   ]
  },
  {
   "cell_type": "markdown",
   "metadata": {},
   "source": [
    "# Import"
   ]
  },
  {
   "cell_type": "code",
   "execution_count": 1,
   "metadata": {},
   "outputs": [
    {
     "data": {
      "text/plain": [
       "True"
      ]
     },
     "execution_count": 1,
     "metadata": {},
     "output_type": "execute_result"
    }
   ],
   "source": [
    "import os\n",
    "from dotenv import load_dotenv\n",
    "\n",
    "import pandas as pd\n",
    "import numpy as np\n",
    "\n",
    "from sklearn.pipeline import Pipeline\n",
    "from sklearn.preprocessing import Normalizer, StandardScaler, LabelEncoder\n",
    "\n",
    "import torch\n",
    "from torch.utils.data import Dataset\n",
    "\n",
    "\n",
    "load_dotenv()"
   ]
  },
  {
   "cell_type": "markdown",
   "metadata": {},
   "source": [
    "# Config"
   ]
  },
  {
   "cell_type": "code",
   "execution_count": 2,
   "metadata": {},
   "outputs": [],
   "source": [
    "INPUT_DATA_PATH = os.getenv(\"INPUT_DATA_PATH\")\n",
    "OUTPUT_DATA_PATH = os.getenv(\"OUTPUT_DATA_PATH\")"
   ]
  },
  {
   "cell_type": "markdown",
   "metadata": {},
   "source": [
    "# Classes and functions"
   ]
  },
  {
   "cell_type": "markdown",
   "metadata": {},
   "source": [
    "Реализация класса для работы с данными ([документация](https://pytorch.org/tutorials/beginner/basics/data_tutorial.html))."
   ]
  },
  {
   "cell_type": "code",
   "execution_count": null,
   "metadata": {},
   "outputs": [],
   "source": [
    "class CustomImageDataset(Dataset):\n",
    "    def __init__(self, dataset_path: str, label_name: str, transform: Pipeline | None = None, target_transform: Pipeline | None = None):\n",
    "        dataset = pd.read_csv(dataset_path)\n",
    "        self.X, self.y = dataset.drop(label_name, axis=1), dataset[label_name]\n",
    "        self.transform = transform\n",
    "        self.target_transform = target_transform\n",
    "\n",
    "        if self.transform:\n",
    "            self.X = self.transform.fit_transform(self.X)\n",
    "        \n",
    "        if self.target_transform:\n",
    "            self.y = self.target_transform.fit_transform(self.y)\n",
    "\n",
    "    def __len__(self):\n",
    "        return len(self.y)\n",
    "\n",
    "    def __getitem__(self, idx):\n",
    "        return self.X.iloc[idx], self.y.iloc[idx]"
   ]
  },
  {
   "cell_type": "markdown",
   "metadata": {},
   "source": [
    "# Look data"
   ]
  },
  {
   "cell_type": "code",
   "execution_count": 10,
   "metadata": {},
   "outputs": [],
   "source": [
    "user_ds_path = os.path.join(INPUT_DATA_PATH, \"Предсказание количества просмотров рекламы/users.tsv\")\n",
    "history_ds_path = os.path.join(INPUT_DATA_PATH, \"Предсказание количества просмотров рекламы/history.tsv\")\n",
    "validate_ds_path = os.path.join(INPUT_DATA_PATH, \"Предсказание количества просмотров рекламы/validate.tsv\")\n",
    "\n",
    "validate_answers_ds_path = os.path.join(INPUT_DATA_PATH, \"Предсказание количества просмотров рекламы/validate_answers.tsv\")"
   ]
  },
  {
   "cell_type": "code",
   "execution_count": 18,
   "metadata": {},
   "outputs": [],
   "source": [
    "user_ds = pd.read_csv(user_ds_path, sep=\"\\t\")\n",
    "history_ds = pd.read_csv(history_ds_path, sep=\"\\t\")\n",
    "validate_ds = pd.read_csv(validate_ds_path, sep=\"\\t\")\n",
    "\n",
    "validate_answers_ds = pd.read_csv(validate_answers_ds_path, sep=\"\\t\")"
   ]
  },
  {
   "cell_type": "markdown",
   "metadata": {},
   "source": [
    "## Missed values"
   ]
  },
  {
   "cell_type": "code",
   "execution_count": 35,
   "metadata": {},
   "outputs": [
    {
     "name": "stdout",
     "output_type": "stream",
     "text": [
      "<class 'pandas.core.frame.DataFrame'>\n",
      "RangeIndex: 27769 entries, 0 to 27768\n",
      "Data columns (total 4 columns):\n",
      " #   Column   Non-Null Count  Dtype\n",
      "---  ------   --------------  -----\n",
      " 0   user_id  27769 non-null  int64\n",
      " 1   sex      27769 non-null  int64\n",
      " 2   age      27769 non-null  int64\n",
      " 3   city_id  27769 non-null  int64\n",
      "dtypes: int64(4)\n",
      "memory usage: 867.9 KB\n"
     ]
    }
   ],
   "source": [
    "user_ds.info()"
   ]
  },
  {
   "cell_type": "code",
   "execution_count": 36,
   "metadata": {},
   "outputs": [
    {
     "name": "stdout",
     "output_type": "stream",
     "text": [
      "<class 'pandas.core.frame.DataFrame'>\n",
      "RangeIndex: 1147857 entries, 0 to 1147856\n",
      "Data columns (total 4 columns):\n",
      " #   Column     Non-Null Count    Dtype  \n",
      "---  ------     --------------    -----  \n",
      " 0   hour       1147857 non-null  int64  \n",
      " 1   cpm        1147857 non-null  float64\n",
      " 2   publisher  1147857 non-null  int64  \n",
      " 3   user_id    1147857 non-null  int64  \n",
      "dtypes: float64(1), int64(3)\n",
      "memory usage: 35.0 MB\n"
     ]
    }
   ],
   "source": [
    "history_ds.info()"
   ]
  },
  {
   "cell_type": "code",
   "execution_count": 37,
   "metadata": {},
   "outputs": [
    {
     "name": "stdout",
     "output_type": "stream",
     "text": [
      "<class 'pandas.core.frame.DataFrame'>\n",
      "RangeIndex: 1008 entries, 0 to 1007\n",
      "Data columns (total 6 columns):\n",
      " #   Column         Non-Null Count  Dtype  \n",
      "---  ------         --------------  -----  \n",
      " 0   cpm            1008 non-null   float64\n",
      " 1   hour_start     1008 non-null   int64  \n",
      " 2   hour_end       1008 non-null   int64  \n",
      " 3   publishers     1008 non-null   object \n",
      " 4   audience_size  1008 non-null   int64  \n",
      " 5   user_ids       1008 non-null   object \n",
      "dtypes: float64(1), int64(3), object(2)\n",
      "memory usage: 47.4+ KB\n"
     ]
    }
   ],
   "source": [
    "validate_ds.info()"
   ]
  },
  {
   "cell_type": "code",
   "execution_count": 38,
   "metadata": {},
   "outputs": [
    {
     "name": "stdout",
     "output_type": "stream",
     "text": [
      "<class 'pandas.core.frame.DataFrame'>\n",
      "RangeIndex: 1008 entries, 0 to 1007\n",
      "Data columns (total 3 columns):\n",
      " #   Column          Non-Null Count  Dtype  \n",
      "---  ------          --------------  -----  \n",
      " 0   at_least_one    1008 non-null   float64\n",
      " 1   at_least_two    1008 non-null   float64\n",
      " 2   at_least_three  1008 non-null   float64\n",
      "dtypes: float64(3)\n",
      "memory usage: 23.8 KB\n"
     ]
    }
   ],
   "source": [
    "validate_answers_ds.info()"
   ]
  },
  {
   "cell_type": "markdown",
   "metadata": {},
   "source": [
    "___\n",
    "В данных нет None значений, но нужно исследовать значения признаков."
   ]
  },
  {
   "cell_type": "markdown",
   "metadata": {},
   "source": [
    "## Values analyse"
   ]
  },
  {
   "cell_type": "code",
   "execution_count": 39,
   "metadata": {},
   "outputs": [
    {
     "data": {
      "text/html": [
       "<div>\n",
       "<style scoped>\n",
       "    .dataframe tbody tr th:only-of-type {\n",
       "        vertical-align: middle;\n",
       "    }\n",
       "\n",
       "    .dataframe tbody tr th {\n",
       "        vertical-align: top;\n",
       "    }\n",
       "\n",
       "    .dataframe thead th {\n",
       "        text-align: right;\n",
       "    }\n",
       "</style>\n",
       "<table border=\"1\" class=\"dataframe\">\n",
       "  <thead>\n",
       "    <tr style=\"text-align: right;\">\n",
       "      <th></th>\n",
       "      <th>user_id</th>\n",
       "      <th>sex</th>\n",
       "      <th>age</th>\n",
       "      <th>city_id</th>\n",
       "    </tr>\n",
       "  </thead>\n",
       "  <tbody>\n",
       "    <tr>\n",
       "      <th>0</th>\n",
       "      <td>0</td>\n",
       "      <td>2</td>\n",
       "      <td>19</td>\n",
       "      <td>0</td>\n",
       "    </tr>\n",
       "    <tr>\n",
       "      <th>1</th>\n",
       "      <td>1</td>\n",
       "      <td>1</td>\n",
       "      <td>0</td>\n",
       "      <td>1</td>\n",
       "    </tr>\n",
       "    <tr>\n",
       "      <th>2</th>\n",
       "      <td>2</td>\n",
       "      <td>2</td>\n",
       "      <td>24</td>\n",
       "      <td>2</td>\n",
       "    </tr>\n",
       "    <tr>\n",
       "      <th>3</th>\n",
       "      <td>3</td>\n",
       "      <td>1</td>\n",
       "      <td>20</td>\n",
       "      <td>3</td>\n",
       "    </tr>\n",
       "    <tr>\n",
       "      <th>4</th>\n",
       "      <td>4</td>\n",
       "      <td>2</td>\n",
       "      <td>29</td>\n",
       "      <td>4</td>\n",
       "    </tr>\n",
       "  </tbody>\n",
       "</table>\n",
       "</div>"
      ],
      "text/plain": [
       "   user_id  sex  age  city_id\n",
       "0        0    2   19        0\n",
       "1        1    1    0        1\n",
       "2        2    2   24        2\n",
       "3        3    1   20        3\n",
       "4        4    2   29        4"
      ]
     },
     "execution_count": 39,
     "metadata": {},
     "output_type": "execute_result"
    }
   ],
   "source": [
    "user_ds.head()"
   ]
  },
  {
   "cell_type": "code",
   "execution_count": null,
   "metadata": {},
   "outputs": [],
   "source": [
    "users_ds"
   ]
  },
  {
   "cell_type": "markdown",
   "metadata": {},
   "source": [
    "# Preprocess"
   ]
  },
  {
   "cell_type": "code",
   "execution_count": null,
   "metadata": {},
   "outputs": [],
   "source": [
    "# Define the data path and taget\n",
    "dataset_path = os.path.join(INPUT_DATA_PATH, \"name_of_file.csv\")\n",
    "label_name = \"label_name\"\n",
    "# Define the transformers\n",
    "feature_transform = Pipeline([\n",
    "    (\"normalizer\", Normalizer()),\n",
    "    (\"scaler\", StandardScaler())\n",
    "])\n",
    "target_transform = Pipeline([\n",
    "    (\"label_encoder\", LabelEncoder())\n",
    "])\n",
    "# Create the dataset\n",
    "train_dataset = CustomImageDataset(\n",
    "    dataset_path=dataset_path,\n",
    "    label_name=label_name,\n",
    "    transform=feature_transform,\n",
    "    target_transform=target_transform\n",
    ")"
   ]
  }
 ],
 "metadata": {
  "kernelspec": {
   "display_name": ".venv",
   "language": "python",
   "name": "python3"
  },
  "language_info": {
   "codemirror_mode": {
    "name": "ipython",
    "version": 3
   },
   "file_extension": ".py",
   "mimetype": "text/x-python",
   "name": "python",
   "nbconvert_exporter": "python",
   "pygments_lexer": "ipython3",
   "version": "3.9.2"
  }
 },
 "nbformat": 4,
 "nbformat_minor": 2
}

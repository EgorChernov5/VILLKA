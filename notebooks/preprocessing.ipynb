{
 "cells": [
  {
   "cell_type": "markdown",
   "metadata": {},
   "source": [
    "Тетрадка для предобработки данных."
   ]
  },
  {
   "cell_type": "markdown",
   "metadata": {},
   "source": [
    "# Import"
   ]
  },
  {
   "cell_type": "code",
   "execution_count": null,
   "metadata": {},
   "outputs": [
    {
     "data": {
      "text/plain": [
       "True"
      ]
     },
     "execution_count": 1,
     "metadata": {},
     "output_type": "execute_result"
    }
   ],
   "source": [
    "import os\n",
    "from dotenv import load_dotenv\n",
    "\n",
    "import pandas as pd\n",
    "import numpy as np\n",
    "\n",
    "from sklearn.pipeline import Pipeline\n",
    "from sklearn.preprocessing import Normalizer, StandardScaler, LabelEncoder\n",
    "\n",
    "import torch\n",
    "from torch.utils.data import Dataset\n",
    "\n",
    "\n",
    "load_dotenv()"
   ]
  },
  {
   "cell_type": "markdown",
   "metadata": {},
   "source": [
    "# Config"
   ]
  },
  {
   "cell_type": "code",
   "execution_count": 2,
   "metadata": {},
   "outputs": [],
   "source": [
    "INPUT_DATA_PATH = os.getenv(\"INPUT_DATA_PATH\")\n",
    "OUTPUT_DATA_PATH = os.getenv(\"OUTPUT_DATA_PATH\")"
   ]
  },
  {
   "cell_type": "markdown",
   "metadata": {},
   "source": [
    "# Classes and functions"
   ]
  },
  {
   "cell_type": "markdown",
   "metadata": {},
   "source": [
    "Реализация класса для работы с данными ([документация](https://pytorch.org/tutorials/beginner/basics/data_tutorial.html))."
   ]
  },
  {
   "cell_type": "code",
   "execution_count": null,
   "metadata": {},
   "outputs": [],
   "source": [
    "class CustomImageDataset(Dataset):\n",
    "    def __init__(self, dataset_path: str, label_name: str, transform: Pipeline | None = None, target_transform: Pipeline | None = None):\n",
    "        dataset = pd.read_csv(dataset_path)\n",
    "        self.X, self.y = dataset.drop(label_name, axis=1), dataset[label_name]\n",
    "        self.transform = transform\n",
    "        self.target_transform = target_transform\n",
    "\n",
    "        if self.transform:\n",
    "            self.X = self.transform.fit_transform(self.X)\n",
    "        \n",
    "        if self.target_transform:\n",
    "            self.y = self.target_transform.fit_transform(self.y)\n",
    "\n",
    "    def __len__(self):\n",
    "        return len(self.y)\n",
    "\n",
    "    def __getitem__(self, idx):\n",
    "        return self.X.iloc[idx], self.y.iloc[idx]"
   ]
  },
  {
   "cell_type": "markdown",
   "metadata": {},
   "source": [
    "# Preprocess"
   ]
  },
  {
   "cell_type": "code",
   "execution_count": null,
   "metadata": {},
   "outputs": [],
   "source": [
    "# Define the data path and taget\n",
    "dataset_path = os.path.join(INPUT_DATA_PATH, \"name_of_file.csv\")\n",
    "label_name = \"label_name\"\n",
    "# Define the transformers\n",
    "feature_transform = Pipeline([\n",
    "    (\"normalizer\", Normalizer()),\n",
    "    (\"scaler\", StandardScaler())\n",
    "])\n",
    "target_transform = Pipeline([\n",
    "    (\"label_encoder\", LabelEncoder())\n",
    "])\n",
    "# Create the dataset\n",
    "train_dataset = CustomImageDataset(\n",
    "    dataset_path=dataset_path,\n",
    "    label_name=label_name,\n",
    "    transform=feature_transform,\n",
    "    target_transform=target_transform\n",
    ")"
   ]
  }
 ],
 "metadata": {
  "kernelspec": {
   "display_name": ".venv",
   "language": "python",
   "name": "python3"
  },
  "language_info": {
   "codemirror_mode": {
    "name": "ipython",
    "version": 3
   },
   "file_extension": ".py",
   "mimetype": "text/x-python",
   "name": "python",
   "nbconvert_exporter": "python",
   "pygments_lexer": "ipython3",
   "version": "3.9.2"
  }
 },
 "nbformat": 4,
 "nbformat_minor": 2
}

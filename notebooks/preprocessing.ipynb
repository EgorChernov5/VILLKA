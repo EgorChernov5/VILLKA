{
 "cells": [
  {
   "cell_type": "markdown",
   "metadata": {},
   "source": [
    "Тетрадка для предобработки данных."
   ]
  },
  {
   "cell_type": "markdown",
   "metadata": {},
   "source": [
    "# Import"
   ]
  },
  {
   "cell_type": "code",
   "execution_count": 46,
   "metadata": {},
   "outputs": [
    {
     "data": {
      "text/plain": [
       "True"
      ]
     },
     "execution_count": 46,
     "metadata": {},
     "output_type": "execute_result"
    }
   ],
   "source": [
    "import os\n",
    "from dotenv import load_dotenv\n",
    "\n",
    "import pandas as pd\n",
    "import numpy as np\n",
    "import matplotlib.pyplot as plt\n",
    "\n",
    "from sklearn.pipeline import Pipeline\n",
    "from sklearn.preprocessing import Normalizer, StandardScaler, LabelEncoder\n",
    "\n",
    "import torch\n",
    "from torch.utils.data import Dataset\n",
    "\n",
    "\n",
    "load_dotenv()"
   ]
  },
  {
   "cell_type": "markdown",
   "metadata": {},
   "source": [
    "# Config"
   ]
  },
  {
   "cell_type": "code",
   "execution_count": 2,
   "metadata": {},
   "outputs": [],
   "source": [
    "INPUT_DATA_PATH = os.getenv(\"INPUT_DATA_PATH\")\n",
    "OUTPUT_DATA_PATH = os.getenv(\"OUTPUT_DATA_PATH\")"
   ]
  },
  {
   "cell_type": "markdown",
   "metadata": {},
   "source": [
    "# Classes and functions"
   ]
  },
  {
   "cell_type": "markdown",
   "metadata": {},
   "source": [
    "Реализация класса для работы с данными ([документация](https://pytorch.org/tutorials/beginner/basics/data_tutorial.html))."
   ]
  },
  {
   "cell_type": "code",
   "execution_count": null,
   "metadata": {},
   "outputs": [],
   "source": [
    "class CustomImageDataset(Dataset):\n",
    "    def __init__(self, dataset_path: str, label_name: str, transform: Pipeline | None = None, target_transform: Pipeline | None = None):\n",
    "        dataset = pd.read_csv(dataset_path)\n",
    "        self.X, self.y = dataset.drop(label_name, axis=1), dataset[label_name]\n",
    "        self.transform = transform\n",
    "        self.target_transform = target_transform\n",
    "\n",
    "        if self.transform:\n",
    "            self.X = self.transform.fit_transform(self.X)\n",
    "        \n",
    "        if self.target_transform:\n",
    "            self.y = self.target_transform.fit_transform(self.y)\n",
    "\n",
    "    def __len__(self):\n",
    "        return len(self.y)\n",
    "\n",
    "    def __getitem__(self, idx):\n",
    "        return self.X.iloc[idx], self.y.iloc[idx]"
   ]
  },
  {
   "cell_type": "markdown",
   "metadata": {},
   "source": [
    "# EDA"
   ]
  },
  {
   "cell_type": "code",
   "execution_count": 7,
   "metadata": {},
   "outputs": [],
   "source": [
    "user_ds_path = os.path.join(INPUT_DATA_PATH, \"Предсказание количества просмотров рекламы/users.tsv\")\n",
    "history_ds_path = os.path.join(INPUT_DATA_PATH, \"Предсказание количества просмотров рекламы/history.tsv\")\n",
    "validate_ds_path = os.path.join(INPUT_DATA_PATH, \"Предсказание количества просмотров рекламы/validate.tsv\")\n",
    "\n",
    "validate_answers_ds_path = os.path.join(INPUT_DATA_PATH, \"Предсказание количества просмотров рекламы/validate_answers.tsv\")"
   ]
  },
  {
   "cell_type": "code",
   "execution_count": 99,
   "metadata": {},
   "outputs": [],
   "source": [
    "user_ds = pd.read_csv(user_ds_path, sep=\"\\t\")\n",
    "history_ds = pd.read_csv(history_ds_path, sep=\"\\t\")\n",
    "validate_ds = pd.read_csv(validate_ds_path, sep=\"\\t\")\n",
    "\n",
    "validate_answers_ds = pd.read_csv(validate_answers_ds_path, sep=\"\\t\")"
   ]
  },
  {
   "cell_type": "markdown",
   "metadata": {},
   "source": [
    "## Missed values"
   ]
  },
  {
   "cell_type": "code",
   "execution_count": 35,
   "metadata": {},
   "outputs": [
    {
     "name": "stdout",
     "output_type": "stream",
     "text": [
      "<class 'pandas.core.frame.DataFrame'>\n",
      "RangeIndex: 27769 entries, 0 to 27768\n",
      "Data columns (total 4 columns):\n",
      " #   Column   Non-Null Count  Dtype\n",
      "---  ------   --------------  -----\n",
      " 0   user_id  27769 non-null  int64\n",
      " 1   sex      27769 non-null  int64\n",
      " 2   age      27769 non-null  int64\n",
      " 3   city_id  27769 non-null  int64\n",
      "dtypes: int64(4)\n",
      "memory usage: 867.9 KB\n"
     ]
    }
   ],
   "source": [
    "user_ds.info()"
   ]
  },
  {
   "cell_type": "code",
   "execution_count": 36,
   "metadata": {},
   "outputs": [
    {
     "name": "stdout",
     "output_type": "stream",
     "text": [
      "<class 'pandas.core.frame.DataFrame'>\n",
      "RangeIndex: 1147857 entries, 0 to 1147856\n",
      "Data columns (total 4 columns):\n",
      " #   Column     Non-Null Count    Dtype  \n",
      "---  ------     --------------    -----  \n",
      " 0   hour       1147857 non-null  int64  \n",
      " 1   cpm        1147857 non-null  float64\n",
      " 2   publisher  1147857 non-null  int64  \n",
      " 3   user_id    1147857 non-null  int64  \n",
      "dtypes: float64(1), int64(3)\n",
      "memory usage: 35.0 MB\n"
     ]
    }
   ],
   "source": [
    "history_ds.info()"
   ]
  },
  {
   "cell_type": "code",
   "execution_count": 37,
   "metadata": {},
   "outputs": [
    {
     "name": "stdout",
     "output_type": "stream",
     "text": [
      "<class 'pandas.core.frame.DataFrame'>\n",
      "RangeIndex: 1008 entries, 0 to 1007\n",
      "Data columns (total 6 columns):\n",
      " #   Column         Non-Null Count  Dtype  \n",
      "---  ------         --------------  -----  \n",
      " 0   cpm            1008 non-null   float64\n",
      " 1   hour_start     1008 non-null   int64  \n",
      " 2   hour_end       1008 non-null   int64  \n",
      " 3   publishers     1008 non-null   object \n",
      " 4   audience_size  1008 non-null   int64  \n",
      " 5   user_ids       1008 non-null   object \n",
      "dtypes: float64(1), int64(3), object(2)\n",
      "memory usage: 47.4+ KB\n"
     ]
    }
   ],
   "source": [
    "validate_ds.info()"
   ]
  },
  {
   "cell_type": "code",
   "execution_count": 38,
   "metadata": {},
   "outputs": [
    {
     "name": "stdout",
     "output_type": "stream",
     "text": [
      "<class 'pandas.core.frame.DataFrame'>\n",
      "RangeIndex: 1008 entries, 0 to 1007\n",
      "Data columns (total 3 columns):\n",
      " #   Column          Non-Null Count  Dtype  \n",
      "---  ------          --------------  -----  \n",
      " 0   at_least_one    1008 non-null   float64\n",
      " 1   at_least_two    1008 non-null   float64\n",
      " 2   at_least_three  1008 non-null   float64\n",
      "dtypes: float64(3)\n",
      "memory usage: 23.8 KB\n"
     ]
    }
   ],
   "source": [
    "validate_answers_ds.info()"
   ]
  },
  {
   "cell_type": "markdown",
   "metadata": {},
   "source": [
    "___\n",
    "В данных нет None значений, но нужно исследовать значения признаков."
   ]
  },
  {
   "cell_type": "markdown",
   "metadata": {},
   "source": [
    "## Values analyse"
   ]
  },
  {
   "cell_type": "markdown",
   "metadata": {},
   "source": [
    "### users.tsv"
   ]
  },
  {
   "cell_type": "code",
   "execution_count": 5,
   "metadata": {},
   "outputs": [
    {
     "data": {
      "text/html": [
       "<div>\n",
       "<style scoped>\n",
       "    .dataframe tbody tr th:only-of-type {\n",
       "        vertical-align: middle;\n",
       "    }\n",
       "\n",
       "    .dataframe tbody tr th {\n",
       "        vertical-align: top;\n",
       "    }\n",
       "\n",
       "    .dataframe thead th {\n",
       "        text-align: right;\n",
       "    }\n",
       "</style>\n",
       "<table border=\"1\" class=\"dataframe\">\n",
       "  <thead>\n",
       "    <tr style=\"text-align: right;\">\n",
       "      <th></th>\n",
       "      <th>user_id</th>\n",
       "      <th>sex</th>\n",
       "      <th>age</th>\n",
       "      <th>city_id</th>\n",
       "    </tr>\n",
       "  </thead>\n",
       "  <tbody>\n",
       "    <tr>\n",
       "      <th>0</th>\n",
       "      <td>0</td>\n",
       "      <td>2</td>\n",
       "      <td>19</td>\n",
       "      <td>0</td>\n",
       "    </tr>\n",
       "    <tr>\n",
       "      <th>1</th>\n",
       "      <td>1</td>\n",
       "      <td>1</td>\n",
       "      <td>0</td>\n",
       "      <td>1</td>\n",
       "    </tr>\n",
       "    <tr>\n",
       "      <th>2</th>\n",
       "      <td>2</td>\n",
       "      <td>2</td>\n",
       "      <td>24</td>\n",
       "      <td>2</td>\n",
       "    </tr>\n",
       "    <tr>\n",
       "      <th>3</th>\n",
       "      <td>3</td>\n",
       "      <td>1</td>\n",
       "      <td>20</td>\n",
       "      <td>3</td>\n",
       "    </tr>\n",
       "    <tr>\n",
       "      <th>4</th>\n",
       "      <td>4</td>\n",
       "      <td>2</td>\n",
       "      <td>29</td>\n",
       "      <td>4</td>\n",
       "    </tr>\n",
       "  </tbody>\n",
       "</table>\n",
       "</div>"
      ],
      "text/plain": [
       "   user_id  sex  age  city_id\n",
       "0        0    2   19        0\n",
       "1        1    1    0        1\n",
       "2        2    2   24        2\n",
       "3        3    1   20        3\n",
       "4        4    2   29        4"
      ]
     },
     "execution_count": 5,
     "metadata": {},
     "output_type": "execute_result"
    }
   ],
   "source": [
    "user_ds.head()"
   ]
  },
  {
   "cell_type": "code",
   "execution_count": 10,
   "metadata": {},
   "outputs": [
    {
     "data": {
      "text/plain": [
       "True"
      ]
     },
     "execution_count": 10,
     "metadata": {},
     "output_type": "execute_result"
    }
   ],
   "source": [
    "len(user_ds) == len(user_ds[\"user_id\"].unique())"
   ]
  },
  {
   "cell_type": "code",
   "execution_count": 12,
   "metadata": {},
   "outputs": [
    {
     "data": {
      "text/plain": [
       "(array([0, 1, 2]), array([   30, 14515, 13224]))"
      ]
     },
     "execution_count": 12,
     "metadata": {},
     "output_type": "execute_result"
    }
   ],
   "source": [
    "np.unique(user_ds[\"sex\"], return_counts=True)"
   ]
  },
  {
   "cell_type": "code",
   "execution_count": 38,
   "metadata": {},
   "outputs": [
    {
     "data": {
      "text/plain": [
       "2180"
      ]
     },
     "execution_count": 38,
     "metadata": {},
     "output_type": "execute_result"
    }
   ],
   "source": [
    "len(user_ds[user_ds[\"age\"] == 0])"
   ]
  },
  {
   "cell_type": "code",
   "execution_count": 40,
   "metadata": {},
   "outputs": [
    {
     "data": {
      "text/plain": [
       "8479"
      ]
     },
     "execution_count": 40,
     "metadata": {},
     "output_type": "execute_result"
    }
   ],
   "source": [
    "len(user_ds[user_ds[\"city_id\"] == 0])"
   ]
  },
  {
   "cell_type": "code",
   "execution_count": 109,
   "metadata": {},
   "outputs": [
    {
     "data": {
      "text/plain": [
       "Text(0, 0.5, 'count')"
      ]
     },
     "execution_count": 109,
     "metadata": {},
     "output_type": "execute_result"
    },
    {
     "data": {
      "image/png": "[encoded data removed]",
      "text/plain": [
       "<Figure size 640x480 with 1 Axes>"
      ]
     },
     "metadata": {},
     "output_type": "display_data"
    }
   ],
   "source": [
    "uniq_users_city_id = np.unique(user_ds[user_ds[\"city_id\"] != 0][\"city_id\"], return_counts=True)\n",
    "\n",
    "plt.scatter(uniq_users_city_id[0], uniq_users_city_id[1])\n",
    "plt.xlabel(\"user__city_id\")\n",
    "plt.ylabel(\"count\")"
   ]
  },
  {
   "cell_type": "markdown",
   "metadata": {},
   "source": [
    "### history.tsv"
   ]
  },
  {
   "cell_type": "code",
   "execution_count": 41,
   "metadata": {},
   "outputs": [
    {
     "data": {
      "text/html": [
       "<div>\n",
       "<style scoped>\n",
       "    .dataframe tbody tr th:only-of-type {\n",
       "        vertical-align: middle;\n",
       "    }\n",
       "\n",
       "    .dataframe tbody tr th {\n",
       "        vertical-align: top;\n",
       "    }\n",
       "\n",
       "    .dataframe thead th {\n",
       "        text-align: right;\n",
       "    }\n",
       "</style>\n",
       "<table border=\"1\" class=\"dataframe\">\n",
       "  <thead>\n",
       "    <tr style=\"text-align: right;\">\n",
       "      <th></th>\n",
       "      <th>hour</th>\n",
       "      <th>cpm</th>\n",
       "      <th>publisher</th>\n",
       "      <th>user_id</th>\n",
       "    </tr>\n",
       "  </thead>\n",
       "  <tbody>\n",
       "    <tr>\n",
       "      <th>0</th>\n",
       "      <td>10</td>\n",
       "      <td>30.00</td>\n",
       "      <td>1</td>\n",
       "      <td>15661</td>\n",
       "    </tr>\n",
       "    <tr>\n",
       "      <th>1</th>\n",
       "      <td>8</td>\n",
       "      <td>41.26</td>\n",
       "      <td>1</td>\n",
       "      <td>8444</td>\n",
       "    </tr>\n",
       "    <tr>\n",
       "      <th>2</th>\n",
       "      <td>7</td>\n",
       "      <td>360.00</td>\n",
       "      <td>1</td>\n",
       "      <td>15821</td>\n",
       "    </tr>\n",
       "    <tr>\n",
       "      <th>3</th>\n",
       "      <td>18</td>\n",
       "      <td>370.00</td>\n",
       "      <td>1</td>\n",
       "      <td>21530</td>\n",
       "    </tr>\n",
       "    <tr>\n",
       "      <th>4</th>\n",
       "      <td>8</td>\n",
       "      <td>195.00</td>\n",
       "      <td>2</td>\n",
       "      <td>22148</td>\n",
       "    </tr>\n",
       "  </tbody>\n",
       "</table>\n",
       "</div>"
      ],
      "text/plain": [
       "   hour     cpm  publisher  user_id\n",
       "0    10   30.00          1    15661\n",
       "1     8   41.26          1     8444\n",
       "2     7  360.00          1    15821\n",
       "3    18  370.00          1    21530\n",
       "4     8  195.00          2    22148"
      ]
     },
     "execution_count": 41,
     "metadata": {},
     "output_type": "execute_result"
    }
   ],
   "source": [
    "history_ds.head()"
   ]
  },
  {
   "cell_type": "code",
   "execution_count": 44,
   "metadata": {},
   "outputs": [
    {
     "data": {
      "text/html": [
       "<div>\n",
       "<style scoped>\n",
       "    .dataframe tbody tr th:only-of-type {\n",
       "        vertical-align: middle;\n",
       "    }\n",
       "\n",
       "    .dataframe tbody tr th {\n",
       "        vertical-align: top;\n",
       "    }\n",
       "\n",
       "    .dataframe thead th {\n",
       "        text-align: right;\n",
       "    }\n",
       "</style>\n",
       "<table border=\"1\" class=\"dataframe\">\n",
       "  <thead>\n",
       "    <tr style=\"text-align: right;\">\n",
       "      <th></th>\n",
       "      <th>hour</th>\n",
       "      <th>cpm</th>\n",
       "    </tr>\n",
       "  </thead>\n",
       "  <tbody>\n",
       "    <tr>\n",
       "      <th>count</th>\n",
       "      <td>1147857.00</td>\n",
       "      <td>1147857.00</td>\n",
       "    </tr>\n",
       "    <tr>\n",
       "      <th>mean</th>\n",
       "      <td>760.30</td>\n",
       "      <td>186.40</td>\n",
       "    </tr>\n",
       "    <tr>\n",
       "      <th>std</th>\n",
       "      <td>430.62</td>\n",
       "      <td>455.73</td>\n",
       "    </tr>\n",
       "    <tr>\n",
       "      <th>min</th>\n",
       "      <td>3.00</td>\n",
       "      <td>30.00</td>\n",
       "    </tr>\n",
       "    <tr>\n",
       "      <th>25%</th>\n",
       "      <td>392.00</td>\n",
       "      <td>55.00</td>\n",
       "    </tr>\n",
       "    <tr>\n",
       "      <th>50%</th>\n",
       "      <td>762.00</td>\n",
       "      <td>110.00</td>\n",
       "    </tr>\n",
       "    <tr>\n",
       "      <th>75%</th>\n",
       "      <td>1138.00</td>\n",
       "      <td>210.00</td>\n",
       "    </tr>\n",
       "    <tr>\n",
       "      <th>max</th>\n",
       "      <td>1490.00</td>\n",
       "      <td>209053.98</td>\n",
       "    </tr>\n",
       "  </tbody>\n",
       "</table>\n",
       "</div>"
      ],
      "text/plain": [
       "             hour         cpm\n",
       "count  1147857.00  1147857.00\n",
       "mean       760.30      186.40\n",
       "std        430.62      455.73\n",
       "min          3.00       30.00\n",
       "25%        392.00       55.00\n",
       "50%        762.00      110.00\n",
       "75%       1138.00      210.00\n",
       "max       1490.00   209053.98"
      ]
     },
     "execution_count": 44,
     "metadata": {},
     "output_type": "execute_result"
    }
   ],
   "source": [
    "round(history_ds[[\"hour\", \"cpm\"]].describe(), 2)"
   ]
  },
  {
   "cell_type": "code",
   "execution_count": null,
   "metadata": {},
   "outputs": [
    {
     "data": {
      "text/plain": [
       "Text(0.5, 0, 'history__hour')"
      ]
     },
     "execution_count": 67,
     "metadata": {},
     "output_type": "execute_result"
    },
    {
     "data": {
      "image/png": "[encoded data removed]",
      "text/plain": [
       "<Figure size 640x480 with 1 Axes>"
      ]
     },
     "metadata": {},
     "output_type": "display_data"
    }
   ],
   "source": [
    "plt.scatter(history_ds[\"hour\"].value_counts().index, history_ds[\"hour\"].value_counts().values)\n",
    "plt.xlabel(\"history__hour\")\n",
    "plt.ylabel(\"count\")"
   ]
  },
  {
   "cell_type": "code",
   "execution_count": 47,
   "metadata": {},
   "outputs": [
    {
     "data": {
      "text/plain": [
       "<matplotlib.collections.PathCollection at 0x7fcef810d8b0>"
      ]
     },
     "execution_count": 47,
     "metadata": {},
     "output_type": "execute_result"
    },
    {
     "data": {
      "image/png": "[encoded data removed]",
      "text/plain": [
       "<Figure size 640x480 with 1 Axes>"
      ]
     },
     "metadata": {},
     "output_type": "display_data"
    }
   ],
   "source": [
    "plt.scatter(history_ds[\"cpm\"], history_ds.index)"
   ]
  },
  {
   "cell_type": "code",
   "execution_count": 75,
   "metadata": {},
   "outputs": [
    {
     "data": {
      "text/plain": [
       "Text(0, 0.5, 'count')"
      ]
     },
     "execution_count": 75,
     "metadata": {},
     "output_type": "execute_result"
    },
    {
     "data": {
      "image/png": "[encoded data removed]",
      "text/plain": [
       "<Figure size 640x480 with 1 Axes>"
      ]
     },
     "metadata": {},
     "output_type": "display_data"
    }
   ],
   "source": [
    "uniq_history_publisher = np.unique(history_ds[\"publisher\"], return_counts=True)\n",
    "\n",
    "fig, ax = plt.subplots()\n",
    "ax.bar(uniq_history_publisher[0], uniq_history_publisher[1])\n",
    "ax.set_xlabel(\"history__publisher\")\n",
    "ax.set_ylabel(\"count\")"
   ]
  },
  {
   "cell_type": "code",
   "execution_count": 80,
   "metadata": {},
   "outputs": [
    {
     "data": {
      "text/plain": [
       "Text(0, 0.5, 'count')"
      ]
     },
     "execution_count": 80,
     "metadata": {},
     "output_type": "execute_result"
    },
    {
     "data": {
      "image/png": "[encoded data removed]",
      "text/plain": [
       "<Figure size 640x480 with 1 Axes>"
      ]
     },
     "metadata": {},
     "output_type": "display_data"
    }
   ],
   "source": [
    "uniq_history_user_id = np.unique(history_ds[\"user_id\"], return_counts=True)\n",
    "\n",
    "fig, ax = plt.subplots()\n",
    "ax.bar(uniq_history_user_id[0], uniq_history_user_id[1])\n",
    "ax.set_xlabel(\"history__user_id\")\n",
    "ax.set_ylabel(\"count\")"
   ]
  },
  {
   "cell_type": "markdown",
   "metadata": {},
   "source": [
    "### validate.tsv"
   ]
  },
  {
   "cell_type": "code",
   "execution_count": 100,
   "metadata": {},
   "outputs": [
    {
     "data": {
      "text/html": [
       "<div>\n",
       "<style scoped>\n",
       "    .dataframe tbody tr th:only-of-type {\n",
       "        vertical-align: middle;\n",
       "    }\n",
       "\n",
       "    .dataframe tbody tr th {\n",
       "        vertical-align: top;\n",
       "    }\n",
       "\n",
       "    .dataframe thead th {\n",
       "        text-align: right;\n",
       "    }\n",
       "</style>\n",
       "<table border=\"1\" class=\"dataframe\">\n",
       "  <thead>\n",
       "    <tr style=\"text-align: right;\">\n",
       "      <th></th>\n",
       "      <th>cpm</th>\n",
       "      <th>hour_start</th>\n",
       "      <th>hour_end</th>\n",
       "      <th>publishers</th>\n",
       "      <th>audience_size</th>\n",
       "      <th>user_ids</th>\n",
       "      <th>len_publishers</th>\n",
       "    </tr>\n",
       "  </thead>\n",
       "  <tbody>\n",
       "    <tr>\n",
       "      <th>0</th>\n",
       "      <td>220.0</td>\n",
       "      <td>1058</td>\n",
       "      <td>1153</td>\n",
       "      <td>7,17</td>\n",
       "      <td>1906</td>\n",
       "      <td>12,44,46,50,58,71,93,122,134,143,176,184,187,1...</td>\n",
       "      <td>2</td>\n",
       "    </tr>\n",
       "    <tr>\n",
       "      <th>1</th>\n",
       "      <td>312.0</td>\n",
       "      <td>1295</td>\n",
       "      <td>1301</td>\n",
       "      <td>3,18</td>\n",
       "      <td>1380</td>\n",
       "      <td>29,81,98,102,165,167,195,205,218,231,242,263,3...</td>\n",
       "      <td>2</td>\n",
       "    </tr>\n",
       "    <tr>\n",
       "      <th>2</th>\n",
       "      <td>70.0</td>\n",
       "      <td>1229</td>\n",
       "      <td>1249</td>\n",
       "      <td>1,2,3,9,15,21</td>\n",
       "      <td>888</td>\n",
       "      <td>12,23,25,29,45,85,92,124,156,190,272,334,456,5...</td>\n",
       "      <td>6</td>\n",
       "    </tr>\n",
       "    <tr>\n",
       "      <th>3</th>\n",
       "      <td>240.0</td>\n",
       "      <td>1295</td>\n",
       "      <td>1377</td>\n",
       "      <td>1,14</td>\n",
       "      <td>440</td>\n",
       "      <td>44,122,187,209,242,255,312,345,382,465,513,524...</td>\n",
       "      <td>2</td>\n",
       "    </tr>\n",
       "    <tr>\n",
       "      <th>4</th>\n",
       "      <td>262.0</td>\n",
       "      <td>752</td>\n",
       "      <td>990</td>\n",
       "      <td>1,3,7,8</td>\n",
       "      <td>1476</td>\n",
       "      <td>15,24,30,43,50,53,96,105,159,168,181,190,196,2...</td>\n",
       "      <td>4</td>\n",
       "    </tr>\n",
       "  </tbody>\n",
       "</table>\n",
       "</div>"
      ],
      "text/plain": [
       "     cpm  hour_start  hour_end     publishers  audience_size  \\\n",
       "0  220.0        1058      1153           7,17           1906   \n",
       "1  312.0        1295      1301           3,18           1380   \n",
       "2   70.0        1229      1249  1,2,3,9,15,21            888   \n",
       "3  240.0        1295      1377           1,14            440   \n",
       "4  262.0         752       990        1,3,7,8           1476   \n",
       "\n",
       "                                            user_ids  len_publishers  \n",
       "0  12,44,46,50,58,71,93,122,134,143,176,184,187,1...               2  \n",
       "1  29,81,98,102,165,167,195,205,218,231,242,263,3...               2  \n",
       "2  12,23,25,29,45,85,92,124,156,190,272,334,456,5...               6  \n",
       "3  44,122,187,209,242,255,312,345,382,465,513,524...               2  \n",
       "4  15,24,30,43,50,53,96,105,159,168,181,190,196,2...               4  "
      ]
     },
     "execution_count": 100,
     "metadata": {},
     "output_type": "execute_result"
    }
   ],
   "source": [
    "validate_ds[\"len_publishers\"] = validate_ds[\"publishers\"].apply(lambda x: len([int(v) for v in x.split(\",\")]))\n",
    "validate_ds.head()"
   ]
  },
  {
   "cell_type": "code",
   "execution_count": 83,
   "metadata": {},
   "outputs": [
    {
     "data": {
      "text/html": [
       "<div>\n",
       "<style scoped>\n",
       "    .dataframe tbody tr th:only-of-type {\n",
       "        vertical-align: middle;\n",
       "    }\n",
       "\n",
       "    .dataframe tbody tr th {\n",
       "        vertical-align: top;\n",
       "    }\n",
       "\n",
       "    .dataframe thead th {\n",
       "        text-align: right;\n",
       "    }\n",
       "</style>\n",
       "<table border=\"1\" class=\"dataframe\">\n",
       "  <thead>\n",
       "    <tr style=\"text-align: right;\">\n",
       "      <th></th>\n",
       "      <th>cpm</th>\n",
       "      <th>audience_size</th>\n",
       "    </tr>\n",
       "  </thead>\n",
       "  <tbody>\n",
       "    <tr>\n",
       "      <th>count</th>\n",
       "      <td>1008.00</td>\n",
       "      <td>1008.00</td>\n",
       "    </tr>\n",
       "    <tr>\n",
       "      <th>mean</th>\n",
       "      <td>162.43</td>\n",
       "      <td>1090.09</td>\n",
       "    </tr>\n",
       "    <tr>\n",
       "      <th>std</th>\n",
       "      <td>112.19</td>\n",
       "      <td>613.56</td>\n",
       "    </tr>\n",
       "    <tr>\n",
       "      <th>min</th>\n",
       "      <td>30.00</td>\n",
       "      <td>300.00</td>\n",
       "    </tr>\n",
       "    <tr>\n",
       "      <th>25%</th>\n",
       "      <td>79.00</td>\n",
       "      <td>575.00</td>\n",
       "    </tr>\n",
       "    <tr>\n",
       "      <th>50%</th>\n",
       "      <td>130.00</td>\n",
       "      <td>960.00</td>\n",
       "    </tr>\n",
       "    <tr>\n",
       "      <th>75%</th>\n",
       "      <td>220.00</td>\n",
       "      <td>1464.00</td>\n",
       "    </tr>\n",
       "    <tr>\n",
       "      <th>max</th>\n",
       "      <td>475.00</td>\n",
       "      <td>2500.00</td>\n",
       "    </tr>\n",
       "  </tbody>\n",
       "</table>\n",
       "</div>"
      ],
      "text/plain": [
       "           cpm  audience_size\n",
       "count  1008.00        1008.00\n",
       "mean    162.43        1090.09\n",
       "std     112.19         613.56\n",
       "min      30.00         300.00\n",
       "25%      79.00         575.00\n",
       "50%     130.00         960.00\n",
       "75%     220.00        1464.00\n",
       "max     475.00        2500.00"
      ]
     },
     "execution_count": 83,
     "metadata": {},
     "output_type": "execute_result"
    }
   ],
   "source": [
    "round(validate_ds[[\"cpm\", \"audience_size\"]].describe(), 2)"
   ]
  },
  {
   "cell_type": "code",
   "execution_count": 86,
   "metadata": {},
   "outputs": [
    {
     "data": {
      "text/plain": [
       "Text(0, 0.5, 'count')"
      ]
     },
     "execution_count": 86,
     "metadata": {},
     "output_type": "execute_result"
    },
    {
     "data": {
      "image/png": "[encoded data removed]",
      "text/plain": [
       "<Figure size 640x480 with 1 Axes>"
      ]
     },
     "metadata": {},
     "output_type": "display_data"
    }
   ],
   "source": [
    "uniq_validate_hour_start = np.unique(validate_ds[\"hour_end\"], return_counts=True)\n",
    "\n",
    "fig, ax = plt.subplots()\n",
    "ax.bar(uniq_validate_hour_start[0], uniq_validate_hour_start[1])\n",
    "ax.set_xlabel(\"validate__hour_start\")\n",
    "ax.set_ylabel(\"count\")"
   ]
  },
  {
   "cell_type": "code",
   "execution_count": 98,
   "metadata": {},
   "outputs": [
    {
     "data": {
      "text/plain": [
       "Text(0, 0.5, 'count')"
      ]
     },
     "execution_count": 98,
     "metadata": {},
     "output_type": "execute_result"
    },
    {
     "data": {
      "image/png": "[encoded data removed]",
      "text/plain": [
       "<Figure size 640x480 with 1 Axes>"
      ]
     },
     "metadata": {},
     "output_type": "display_data"
    }
   ],
   "source": [
    "uniq_validate_len_pub = np.unique(validate_ds[\"len_publishers\"], return_counts=True)\n",
    "\n",
    "fig, ax = plt.subplots()\n",
    "ax.bar(uniq_validate_len_pub[0], uniq_validate_len_pub[1])\n",
    "ax.set_xlabel(\"validate__len_pub\")\n",
    "ax.set_ylabel(\"count\")"
   ]
  },
  {
   "cell_type": "markdown",
   "metadata": {},
   "source": [
    "### conclusion"
   ]
  },
  {
   "cell_type": "markdown",
   "metadata": {},
   "source": [
    "___\n",
    "**users.tsv:**\n",
    "- все пользователи уникальные,\n",
    "- 30 пользователей без пола, примерно 50/50,\n",
    "- 2180 пропущено возрастов, есть люди страше 90 лет,\n",
    "- 84790 пропущено городов, город с id=3 концентрирует в себе пользователей.\n",
    "\n",
    "**history.tsv:**\n",
    "- два выброса по cpm,\n",
    "- есть периодичность по времени,\n",
    "- все просмотры сконцентрированы на 4 площадках,\n",
    "- два пользователя смотрят очень много объявлений (мб выбросы и стоит обрезать).\n",
    "\n",
    "**validate.tsv:**\n",
    "- максимум используется 6 площадок, в основном 3-4."
   ]
  },
  {
   "cell_type": "markdown",
   "metadata": {},
   "source": [
    "## Filter values"
   ]
  },
  {
   "cell_type": "markdown",
   "metadata": {},
   "source": [
    "Изменение возраста.\n",
    "\n",
    "Мб есть люди, которые возраст поставили наугад.\n",
    "\n",
    "Разобьем людей на возрастные группы и посмотрим на их статистики. Мб группы будут пересекаться."
   ]
  },
  {
   "cell_type": "code",
   "execution_count": 112,
   "metadata": {},
   "outputs": [],
   "source": [
    "none_age_users = user_ds[user_ds[\"age\"] == 0]\n",
    "full_age_users = user_ds[user_ds[\"age\"] != 0]"
   ]
  },
  {
   "cell_type": "code",
   "execution_count": 124,
   "metadata": {},
   "outputs": [
    {
     "name": "stderr",
     "output_type": "stream",
     "text": [
      "/tmp/ipykernel_1721734/3198654064.py:3: SettingWithCopyWarning: \n",
      "A value is trying to be set on a copy of a slice from a DataFrame.\n",
      "Try using .loc[row_indexer,col_indexer] = value instead\n",
      "\n",
      "See the caveats in the documentation: https://pandas.pydata.org/pandas-docs/stable/user_guide/indexing.html#returning-a-view-versus-a-copy\n",
      "  none_age_users[\"hours\"] = none_age_users[\"user_id\"].apply(lambda x: history_ds[history_ds[\"user_id\"] == x][\"hour\"].unique())\n",
      "/tmp/ipykernel_1721734/3198654064.py:4: SettingWithCopyWarning: \n",
      "A value is trying to be set on a copy of a slice from a DataFrame.\n",
      "Try using .loc[row_indexer,col_indexer] = value instead\n",
      "\n",
      "See the caveats in the documentation: https://pandas.pydata.org/pandas-docs/stable/user_guide/indexing.html#returning-a-view-versus-a-copy\n",
      "  full_age_users[\"hours\"] = full_age_users[\"user_id\"].apply(lambda x: history_ds[history_ds[\"user_id\"] == x][\"hour\"].unique())\n"
     ]
    }
   ],
   "source": [
    "# Добавляем столбец с временными метками\n",
    "# (по ним можно узнать: сколько раз пользователь видел объявления и в какое время)\n",
    "none_age_users[\"hours\"] = none_age_users[\"user_id\"].apply(lambda x: history_ds[history_ds[\"user_id\"] == x][\"hour\"].unique())\n",
    "full_age_users[\"hours\"] = full_age_users[\"user_id\"].apply(lambda x: history_ds[history_ds[\"user_id\"] == x][\"hour\"].unique())"
   ]
  },
  {
   "cell_type": "code",
   "execution_count": 130,
   "metadata": {},
   "outputs": [
    {
     "name": "stderr",
     "output_type": "stream",
     "text": [
      "/tmp/ipykernel_1721734/636257355.py:3: SettingWithCopyWarning: \n",
      "A value is trying to be set on a copy of a slice from a DataFrame.\n",
      "Try using .loc[row_indexer,col_indexer] = value instead\n",
      "\n",
      "See the caveats in the documentation: https://pandas.pydata.org/pandas-docs/stable/user_guide/indexing.html#returning-a-view-versus-a-copy\n",
      "  none_age_users[\"publishers\"] = none_age_users[\"user_id\"].apply(lambda x: history_ds[history_ds[\"user_id\"] == x][\"publisher\"].unique())\n",
      "/tmp/ipykernel_1721734/636257355.py:4: SettingWithCopyWarning: \n",
      "A value is trying to be set on a copy of a slice from a DataFrame.\n",
      "Try using .loc[row_indexer,col_indexer] = value instead\n",
      "\n",
      "See the caveats in the documentation: https://pandas.pydata.org/pandas-docs/stable/user_guide/indexing.html#returning-a-view-versus-a-copy\n",
      "  full_age_users[\"publishers\"] = full_age_users[\"user_id\"].apply(lambda x: history_ds[history_ds[\"user_id\"] == x][\"publisher\"].unique())\n"
     ]
    }
   ],
   "source": [
    "# Добавляем столбец с площадками\n",
    "# (можно посмотреть на каких площадках сидит пользователь)\n",
    "none_age_users[\"publishers\"] = none_age_users[\"user_id\"].apply(lambda x: history_ds[history_ds[\"user_id\"] == x][\"publisher\"].unique())\n",
    "full_age_users[\"publishers\"] = full_age_users[\"user_id\"].apply(lambda x: history_ds[history_ds[\"user_id\"] == x][\"publisher\"].unique())"
   ]
  },
  {
   "cell_type": "code",
   "execution_count": 137,
   "metadata": {},
   "outputs": [
    {
     "data": {
      "text/plain": [
       "<matplotlib.collections.PathCollection at 0x7fced7e8f940>"
      ]
     },
     "execution_count": 137,
     "metadata": {},
     "output_type": "execute_result"
    },
    {
     "data": {
      "image/png": "[encoded data removed]",
      "text/plain": [
       "<Figure size 640x480 with 1 Axes>"
      ]
     },
     "metadata": {},
     "output_type": "display_data"
    }
   ],
   "source": [
    "plt.scatter(none_age_users[\"user_id\"], none_age_users[\"publishers\"].apply(lambda x: len(x)))"
   ]
  },
  {
   "cell_type": "code",
   "execution_count": 133,
   "metadata": {},
   "outputs": [
    {
     "data": {
      "text/plain": [
       "<matplotlib.collections.PathCollection at 0x7fced8146700>"
      ]
     },
     "execution_count": 133,
     "metadata": {},
     "output_type": "execute_result"
    },
    {
     "data": {
      "image/png": "[encoded data removed]",
      "text/plain": [
       "<Figure size 640x480 with 1 Axes>"
      ]
     },
     "metadata": {},
     "output_type": "display_data"
    }
   ],
   "source": [
    "plt.scatter(full_age_users[\"user_id\"], full_age_users[\"publishers\"].apply(lambda x: len(x)))"
   ]
  },
  {
   "cell_type": "markdown",
   "metadata": {},
   "source": [
    "## Form dataset"
   ]
  },
  {
   "cell_type": "code",
   "execution_count": null,
   "metadata": {},
   "outputs": [],
   "source": []
  },
  {
   "cell_type": "markdown",
   "metadata": {},
   "source": [
    "# Preprocess"
   ]
  },
  {
   "cell_type": "code",
   "execution_count": null,
   "metadata": {},
   "outputs": [],
   "source": [
    "# Define the data path and taget\n",
    "dataset_path = os.path.join(INPUT_DATA_PATH, \"name_of_file.csv\")\n",
    "label_name = \"label_name\"\n",
    "# Define the transformers\n",
    "feature_transform = Pipeline([\n",
    "    (\"normalizer\", Normalizer()),\n",
    "    (\"scaler\", StandardScaler())\n",
    "])\n",
    "target_transform = Pipeline([\n",
    "    (\"label_encoder\", LabelEncoder())\n",
    "])\n",
    "# Create the dataset\n",
    "train_dataset = CustomImageDataset(\n",
    "    dataset_path=dataset_path,\n",
    "    label_name=label_name,\n",
    "    transform=feature_transform,\n",
    "    target_transform=target_transform\n",
    ")"
   ]
  }
 ],
 "metadata": {
  "kernelspec": {
   "display_name": ".venv",
   "language": "python",
   "name": "python3"
  },
  "language_info": {
   "codemirror_mode": {
    "name": "ipython",
    "version": 3
   },
   "file_extension": ".py",
   "mimetype": "text/x-python",
   "name": "python",
   "nbconvert_exporter": "python",
   "pygments_lexer": "ipython3",
   "version": "3.9.2"
  }
 },
 "nbformat": 4,
 "nbformat_minor": 2
}

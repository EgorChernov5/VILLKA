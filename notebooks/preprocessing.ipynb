{
 "cells": [
  {
   "cell_type": "markdown",
   "metadata": {},
   "source": [
    "Тетрадка для предобработки данных."
   ]
  },
  {
   "cell_type": "markdown",
   "metadata": {},
   "source": [
    "# Import"
   ]
  },
  {
   "cell_type": "code",
   "execution_count": 69,
   "metadata": {},
   "outputs": [],
   "source": [
    "import os\n",
    "from dotenv import load_dotenv\n",
    "from tqdm import tqdm\n",
    "\n",
    "import pandas as pd\n",
    "import numpy as np\n",
    "import matplotlib.pyplot as plt\n",
    "\n",
    "import sklearn\n",
    "from sklearn.pipeline import Pipeline\n",
    "from sklearn.preprocessing import Normalizer, StandardScaler, LabelEncoder\n",
    "from sklearn.metrics.pairwise import cosine_similarity\n",
    "from sklearn.impute import KNNImputer\n",
    "from sklearn.preprocessing import OneHotEncoder\n",
    "\n",
    "import category_encoders as ce\n",
    "\n",
    "import torch\n",
    "from torch.utils.data import Dataset\n",
    "\n",
    "\n",
    "load_dotenv()\n",
    "sklearn.set_config(transform_output=\"pandas\")"
   ]
  },
  {
   "cell_type": "markdown",
   "metadata": {},
   "source": [
    "# Config"
   ]
  },
  {
   "cell_type": "code",
   "execution_count": 70,
   "metadata": {},
   "outputs": [],
   "source": [
    "INPUT_DATA_PATH = os.getenv(\"INPUT_DATA_PATH\")\n",
    "OUTPUT_DATA_PATH = os.getenv(\"OUTPUT_DATA_PATH\")"
   ]
  },
  {
   "cell_type": "markdown",
   "metadata": {},
   "source": [
    "# Classes and functions"
   ]
  },
  {
   "cell_type": "markdown",
   "metadata": {},
   "source": [
    "Реализация класса для работы с данными ([документация](https://pytorch.org/tutorials/beginner/basics/data_tutorial.html))."
   ]
  },
  {
   "cell_type": "code",
   "execution_count": 4,
   "metadata": {},
   "outputs": [],
   "source": [
    "class CustomImageDataset(Dataset):\n",
    "    def __init__(self, dataset_path: str, label_name: str, transform: Pipeline = None, target_transform: Pipeline = None):\n",
    "        dataset = pd.read_csv(dataset_path)\n",
    "        self.X, self.y = dataset.drop(label_name, axis=1), dataset[label_name]\n",
    "        self.transform = transform\n",
    "        self.target_transform = target_transform\n",
    "\n",
    "        if self.transform:\n",
    "            self.X = self.transform.fit_transform(self.X)\n",
    "        \n",
    "        if self.target_transform:\n",
    "            self.y = self.target_transform.fit_transform(self.y)\n",
    "\n",
    "    def __len__(self):\n",
    "        return len(self.y)\n",
    "\n",
    "    def __getitem__(self, idx):\n",
    "        return self.X.iloc[idx], self.y.iloc[idx]\n",
    "    \n",
    "    def _preprocess(self):\n",
    "        pass"
   ]
  },
  {
   "cell_type": "markdown",
   "metadata": {},
   "source": [
    "Вспомогательные функции."
   ]
  },
  {
   "cell_type": "code",
   "execution_count": 71,
   "metadata": {},
   "outputs": [],
   "source": [
    "def hour_to_weekday(hour):\n",
    "    day = hour // 24\n",
    "    weekday = day % 7\n",
    "    return weekday\n",
    "\n",
    "\n",
    "def hour_to_hour(hour):\n",
    "    return hour % 24"
   ]
  },
  {
   "cell_type": "markdown",
   "metadata": {},
   "source": [
    "# EDA"
   ]
  },
  {
   "cell_type": "code",
   "execution_count": 3,
   "metadata": {},
   "outputs": [],
   "source": [
    "user_ds_path = os.path.join(INPUT_DATA_PATH, \"Предсказание количества просмотров рекламы/users.tsv\")\n",
    "history_ds_path = os.path.join(INPUT_DATA_PATH, \"Предсказание количества просмотров рекламы/history.tsv\")\n",
    "validate_ds_path = os.path.join(INPUT_DATA_PATH, \"Предсказание количества просмотров рекламы/validate.tsv\")\n",
    "\n",
    "validate_answers_ds_path = os.path.join(INPUT_DATA_PATH, \"Предсказание количества просмотров рекламы/validate_answers.tsv\")"
   ]
  },
  {
   "cell_type": "code",
   "execution_count": 62,
   "metadata": {},
   "outputs": [],
   "source": [
    "user_ds = pd.read_csv(user_ds_path, sep=\"\\t\")\n",
    "history_ds = pd.read_csv(history_ds_path, sep=\"\\t\")\n",
    "validate_ds = pd.read_csv(validate_ds_path, sep=\"\\t\")\n",
    "\n",
    "validate_answers_ds = pd.read_csv(validate_answers_ds_path, sep=\"\\t\")"
   ]
  },
  {
   "cell_type": "markdown",
   "metadata": {},
   "source": [
    "## Missed values"
   ]
  },
  {
   "cell_type": "code",
   "execution_count": 35,
   "metadata": {},
   "outputs": [
    {
     "name": "stdout",
     "output_type": "stream",
     "text": [
      "<class 'pandas.core.frame.DataFrame'>\n",
      "RangeIndex: 27769 entries, 0 to 27768\n",
      "Data columns (total 4 columns):\n",
      " #   Column   Non-Null Count  Dtype\n",
      "---  ------   --------------  -----\n",
      " 0   user_id  27769 non-null  int64\n",
      " 1   sex      27769 non-null  int64\n",
      " 2   age      27769 non-null  int64\n",
      " 3   city_id  27769 non-null  int64\n",
      "dtypes: int64(4)\n",
      "memory usage: 867.9 KB\n"
     ]
    }
   ],
   "source": [
    "user_ds.info()"
   ]
  },
  {
   "cell_type": "code",
   "execution_count": 36,
   "metadata": {},
   "outputs": [
    {
     "name": "stdout",
     "output_type": "stream",
     "text": [
      "<class 'pandas.core.frame.DataFrame'>\n",
      "RangeIndex: 1147857 entries, 0 to 1147856\n",
      "Data columns (total 4 columns):\n",
      " #   Column     Non-Null Count    Dtype  \n",
      "---  ------     --------------    -----  \n",
      " 0   hour       1147857 non-null  int64  \n",
      " 1   cpm        1147857 non-null  float64\n",
      " 2   publisher  1147857 non-null  int64  \n",
      " 3   user_id    1147857 non-null  int64  \n",
      "dtypes: float64(1), int64(3)\n",
      "memory usage: 35.0 MB\n"
     ]
    }
   ],
   "source": [
    "history_ds.info()"
   ]
  },
  {
   "cell_type": "code",
   "execution_count": 37,
   "metadata": {},
   "outputs": [
    {
     "name": "stdout",
     "output_type": "stream",
     "text": [
      "<class 'pandas.core.frame.DataFrame'>\n",
      "RangeIndex: 1008 entries, 0 to 1007\n",
      "Data columns (total 6 columns):\n",
      " #   Column         Non-Null Count  Dtype  \n",
      "---  ------         --------------  -----  \n",
      " 0   cpm            1008 non-null   float64\n",
      " 1   hour_start     1008 non-null   int64  \n",
      " 2   hour_end       1008 non-null   int64  \n",
      " 3   publishers     1008 non-null   object \n",
      " 4   audience_size  1008 non-null   int64  \n",
      " 5   user_ids       1008 non-null   object \n",
      "dtypes: float64(1), int64(3), object(2)\n",
      "memory usage: 47.4+ KB\n"
     ]
    }
   ],
   "source": [
    "validate_ds.info()"
   ]
  },
  {
   "cell_type": "code",
   "execution_count": 38,
   "metadata": {},
   "outputs": [
    {
     "name": "stdout",
     "output_type": "stream",
     "text": [
      "<class 'pandas.core.frame.DataFrame'>\n",
      "RangeIndex: 1008 entries, 0 to 1007\n",
      "Data columns (total 3 columns):\n",
      " #   Column          Non-Null Count  Dtype  \n",
      "---  ------          --------------  -----  \n",
      " 0   at_least_one    1008 non-null   float64\n",
      " 1   at_least_two    1008 non-null   float64\n",
      " 2   at_least_three  1008 non-null   float64\n",
      "dtypes: float64(3)\n",
      "memory usage: 23.8 KB\n"
     ]
    }
   ],
   "source": [
    "validate_answers_ds.info()"
   ]
  },
  {
   "cell_type": "markdown",
   "metadata": {},
   "source": [
    "___\n",
    "В данных нет None значений, но нужно исследовать значения признаков."
   ]
  },
  {
   "cell_type": "markdown",
   "metadata": {},
   "source": [
    "## Values analyse"
   ]
  },
  {
   "cell_type": "markdown",
   "metadata": {},
   "source": [
    "### users.tsv"
   ]
  },
  {
   "cell_type": "code",
   "execution_count": 5,
   "metadata": {},
   "outputs": [
    {
     "data": {
      "text/html": [
       "<div>\n",
       "<style scoped>\n",
       "    .dataframe tbody tr th:only-of-type {\n",
       "        vertical-align: middle;\n",
       "    }\n",
       "\n",
       "    .dataframe tbody tr th {\n",
       "        vertical-align: top;\n",
       "    }\n",
       "\n",
       "    .dataframe thead th {\n",
       "        text-align: right;\n",
       "    }\n",
       "</style>\n",
       "<table border=\"1\" class=\"dataframe\">\n",
       "  <thead>\n",
       "    <tr style=\"text-align: right;\">\n",
       "      <th></th>\n",
       "      <th>user_id</th>\n",
       "      <th>sex</th>\n",
       "      <th>age</th>\n",
       "      <th>city_id</th>\n",
       "    </tr>\n",
       "  </thead>\n",
       "  <tbody>\n",
       "    <tr>\n",
       "      <th>0</th>\n",
       "      <td>0</td>\n",
       "      <td>2</td>\n",
       "      <td>19</td>\n",
       "      <td>0</td>\n",
       "    </tr>\n",
       "    <tr>\n",
       "      <th>1</th>\n",
       "      <td>1</td>\n",
       "      <td>1</td>\n",
       "      <td>0</td>\n",
       "      <td>1</td>\n",
       "    </tr>\n",
       "    <tr>\n",
       "      <th>2</th>\n",
       "      <td>2</td>\n",
       "      <td>2</td>\n",
       "      <td>24</td>\n",
       "      <td>2</td>\n",
       "    </tr>\n",
       "    <tr>\n",
       "      <th>3</th>\n",
       "      <td>3</td>\n",
       "      <td>1</td>\n",
       "      <td>20</td>\n",
       "      <td>3</td>\n",
       "    </tr>\n",
       "    <tr>\n",
       "      <th>4</th>\n",
       "      <td>4</td>\n",
       "      <td>2</td>\n",
       "      <td>29</td>\n",
       "      <td>4</td>\n",
       "    </tr>\n",
       "  </tbody>\n",
       "</table>\n",
       "</div>"
      ],
      "text/plain": [
       "   user_id  sex  age  city_id\n",
       "0        0    2   19        0\n",
       "1        1    1    0        1\n",
       "2        2    2   24        2\n",
       "3        3    1   20        3\n",
       "4        4    2   29        4"
      ]
     },
     "execution_count": 5,
     "metadata": {},
     "output_type": "execute_result"
    }
   ],
   "source": [
    "user_ds.head()"
   ]
  },
  {
   "cell_type": "code",
   "execution_count": 10,
   "metadata": {},
   "outputs": [
    {
     "data": {
      "text/plain": [
       "True"
      ]
     },
     "execution_count": 10,
     "metadata": {},
     "output_type": "execute_result"
    }
   ],
   "source": [
    "len(user_ds) == len(user_ds[\"user_id\"].unique())"
   ]
  },
  {
   "cell_type": "code",
   "execution_count": 12,
   "metadata": {},
   "outputs": [
    {
     "data": {
      "text/plain": [
       "(array([0, 1, 2]), array([   30, 14515, 13224]))"
      ]
     },
     "execution_count": 12,
     "metadata": {},
     "output_type": "execute_result"
    }
   ],
   "source": [
    "np.unique(user_ds[\"sex\"], return_counts=True)"
   ]
  },
  {
   "cell_type": "code",
   "execution_count": 38,
   "metadata": {},
   "outputs": [
    {
     "data": {
      "text/plain": [
       "2180"
      ]
     },
     "execution_count": 38,
     "metadata": {},
     "output_type": "execute_result"
    }
   ],
   "source": [
    "len(user_ds[user_ds[\"age\"] == 0])"
   ]
  },
  {
   "cell_type": "code",
   "execution_count": 40,
   "metadata": {},
   "outputs": [
    {
     "data": {
      "text/plain": [
       "8479"
      ]
     },
     "execution_count": 40,
     "metadata": {},
     "output_type": "execute_result"
    }
   ],
   "source": [
    "len(user_ds[user_ds[\"city_id\"] == 0])"
   ]
  },
  {
   "cell_type": "code",
   "execution_count": 109,
   "metadata": {},
   "outputs": [
    {
     "data": {
      "text/plain": [
       "Text(0, 0.5, 'count')"
      ]
     },
     "execution_count": 109,
     "metadata": {},
     "output_type": "execute_result"
    },
    {
     "data": {
      "image/png": "[encoded data removed]",
      "text/plain": [
       "<Figure size 640x480 with 1 Axes>"
      ]
     },
     "metadata": {},
     "output_type": "display_data"
    }
   ],
   "source": [
    "uniq_users_city_id = np.unique(user_ds[user_ds[\"city_id\"] != 0][\"city_id\"], return_counts=True)\n",
    "\n",
    "plt.scatter(uniq_users_city_id[0], uniq_users_city_id[1])\n",
    "plt.xlabel(\"user__city_id\")\n",
    "plt.ylabel(\"count\")"
   ]
  },
  {
   "cell_type": "markdown",
   "metadata": {},
   "source": [
    "### history.tsv"
   ]
  },
  {
   "cell_type": "code",
   "execution_count": 41,
   "metadata": {},
   "outputs": [
    {
     "data": {
      "text/html": [
       "<div>\n",
       "<style scoped>\n",
       "    .dataframe tbody tr th:only-of-type {\n",
       "        vertical-align: middle;\n",
       "    }\n",
       "\n",
       "    .dataframe tbody tr th {\n",
       "        vertical-align: top;\n",
       "    }\n",
       "\n",
       "    .dataframe thead th {\n",
       "        text-align: right;\n",
       "    }\n",
       "</style>\n",
       "<table border=\"1\" class=\"dataframe\">\n",
       "  <thead>\n",
       "    <tr style=\"text-align: right;\">\n",
       "      <th></th>\n",
       "      <th>hour</th>\n",
       "      <th>cpm</th>\n",
       "      <th>publisher</th>\n",
       "      <th>user_id</th>\n",
       "    </tr>\n",
       "  </thead>\n",
       "  <tbody>\n",
       "    <tr>\n",
       "      <th>0</th>\n",
       "      <td>10</td>\n",
       "      <td>30.00</td>\n",
       "      <td>1</td>\n",
       "      <td>15661</td>\n",
       "    </tr>\n",
       "    <tr>\n",
       "      <th>1</th>\n",
       "      <td>8</td>\n",
       "      <td>41.26</td>\n",
       "      <td>1</td>\n",
       "      <td>8444</td>\n",
       "    </tr>\n",
       "    <tr>\n",
       "      <th>2</th>\n",
       "      <td>7</td>\n",
       "      <td>360.00</td>\n",
       "      <td>1</td>\n",
       "      <td>15821</td>\n",
       "    </tr>\n",
       "    <tr>\n",
       "      <th>3</th>\n",
       "      <td>18</td>\n",
       "      <td>370.00</td>\n",
       "      <td>1</td>\n",
       "      <td>21530</td>\n",
       "    </tr>\n",
       "    <tr>\n",
       "      <th>4</th>\n",
       "      <td>8</td>\n",
       "      <td>195.00</td>\n",
       "      <td>2</td>\n",
       "      <td>22148</td>\n",
       "    </tr>\n",
       "  </tbody>\n",
       "</table>\n",
       "</div>"
      ],
      "text/plain": [
       "   hour     cpm  publisher  user_id\n",
       "0    10   30.00          1    15661\n",
       "1     8   41.26          1     8444\n",
       "2     7  360.00          1    15821\n",
       "3    18  370.00          1    21530\n",
       "4     8  195.00          2    22148"
      ]
     },
     "execution_count": 41,
     "metadata": {},
     "output_type": "execute_result"
    }
   ],
   "source": [
    "history_ds.head()"
   ]
  },
  {
   "cell_type": "code",
   "execution_count": 44,
   "metadata": {},
   "outputs": [
    {
     "data": {
      "text/html": [
       "<div>\n",
       "<style scoped>\n",
       "    .dataframe tbody tr th:only-of-type {\n",
       "        vertical-align: middle;\n",
       "    }\n",
       "\n",
       "    .dataframe tbody tr th {\n",
       "        vertical-align: top;\n",
       "    }\n",
       "\n",
       "    .dataframe thead th {\n",
       "        text-align: right;\n",
       "    }\n",
       "</style>\n",
       "<table border=\"1\" class=\"dataframe\">\n",
       "  <thead>\n",
       "    <tr style=\"text-align: right;\">\n",
       "      <th></th>\n",
       "      <th>hour</th>\n",
       "      <th>cpm</th>\n",
       "    </tr>\n",
       "  </thead>\n",
       "  <tbody>\n",
       "    <tr>\n",
       "      <th>count</th>\n",
       "      <td>1147857.00</td>\n",
       "      <td>1147857.00</td>\n",
       "    </tr>\n",
       "    <tr>\n",
       "      <th>mean</th>\n",
       "      <td>760.30</td>\n",
       "      <td>186.40</td>\n",
       "    </tr>\n",
       "    <tr>\n",
       "      <th>std</th>\n",
       "      <td>430.62</td>\n",
       "      <td>455.73</td>\n",
       "    </tr>\n",
       "    <tr>\n",
       "      <th>min</th>\n",
       "      <td>3.00</td>\n",
       "      <td>30.00</td>\n",
       "    </tr>\n",
       "    <tr>\n",
       "      <th>25%</th>\n",
       "      <td>392.00</td>\n",
       "      <td>55.00</td>\n",
       "    </tr>\n",
       "    <tr>\n",
       "      <th>50%</th>\n",
       "      <td>762.00</td>\n",
       "      <td>110.00</td>\n",
       "    </tr>\n",
       "    <tr>\n",
       "      <th>75%</th>\n",
       "      <td>1138.00</td>\n",
       "      <td>210.00</td>\n",
       "    </tr>\n",
       "    <tr>\n",
       "      <th>max</th>\n",
       "      <td>1490.00</td>\n",
       "      <td>209053.98</td>\n",
       "    </tr>\n",
       "  </tbody>\n",
       "</table>\n",
       "</div>"
      ],
      "text/plain": [
       "             hour         cpm\n",
       "count  1147857.00  1147857.00\n",
       "mean       760.30      186.40\n",
       "std        430.62      455.73\n",
       "min          3.00       30.00\n",
       "25%        392.00       55.00\n",
       "50%        762.00      110.00\n",
       "75%       1138.00      210.00\n",
       "max       1490.00   209053.98"
      ]
     },
     "execution_count": 44,
     "metadata": {},
     "output_type": "execute_result"
    }
   ],
   "source": [
    "round(history_ds[[\"hour\", \"cpm\"]].describe(), 2)"
   ]
  },
  {
   "cell_type": "code",
   "execution_count": null,
   "metadata": {},
   "outputs": [
    {
     "data": {
      "text/plain": [
       "Text(0.5, 0, 'history__hour')"
      ]
     },
     "execution_count": 67,
     "metadata": {},
     "output_type": "execute_result"
    },
    {
     "data": {
      "image/png": "[encoded data removed]",
      "text/plain": [
       "<Figure size 640x480 with 1 Axes>"
      ]
     },
     "metadata": {},
     "output_type": "display_data"
    }
   ],
   "source": [
    "plt.scatter(history_ds[\"hour\"].value_counts().index, history_ds[\"hour\"].value_counts().values)\n",
    "plt.xlabel(\"history__hour\")\n",
    "plt.ylabel(\"count\")"
   ]
  },
  {
   "cell_type": "code",
   "execution_count": 47,
   "metadata": {},
   "outputs": [
    {
     "data": {
      "text/plain": [
       "<matplotlib.collections.PathCollection at 0x7fcef810d8b0>"
      ]
     },
     "execution_count": 47,
     "metadata": {},
     "output_type": "execute_result"
    },
    {
     "data": {
      "image/png": "[encoded data removed]",
      "text/plain": [
       "<Figure size 640x480 with 1 Axes>"
      ]
     },
     "metadata": {},
     "output_type": "display_data"
    }
   ],
   "source": [
    "plt.scatter(history_ds[\"cpm\"], history_ds.index)"
   ]
  },
  {
   "cell_type": "code",
   "execution_count": 75,
   "metadata": {},
   "outputs": [
    {
     "data": {
      "text/plain": [
       "Text(0, 0.5, 'count')"
      ]
     },
     "execution_count": 75,
     "metadata": {},
     "output_type": "execute_result"
    },
    {
     "data": {
      "image/png": "[encoded data removed]",
      "text/plain": [
       "<Figure size 640x480 with 1 Axes>"
      ]
     },
     "metadata": {},
     "output_type": "display_data"
    }
   ],
   "source": [
    "uniq_history_publisher = np.unique(history_ds[\"publisher\"], return_counts=True)\n",
    "\n",
    "fig, ax = plt.subplots()\n",
    "ax.bar(uniq_history_publisher[0], uniq_history_publisher[1])\n",
    "ax.set_xlabel(\"history__publisher\")\n",
    "ax.set_ylabel(\"count\")"
   ]
  },
  {
   "cell_type": "code",
   "execution_count": 80,
   "metadata": {},
   "outputs": [
    {
     "data": {
      "text/plain": [
       "Text(0, 0.5, 'count')"
      ]
     },
     "execution_count": 80,
     "metadata": {},
     "output_type": "execute_result"
    },
    {
     "data": {
      "image/png": "[encoded data removed]",
      "text/plain": [
       "<Figure size 640x480 with 1 Axes>"
      ]
     },
     "metadata": {},
     "output_type": "display_data"
    }
   ],
   "source": [
    "uniq_history_user_id = np.unique(history_ds[\"user_id\"], return_counts=True)\n",
    "\n",
    "fig, ax = plt.subplots()\n",
    "ax.bar(uniq_history_user_id[0], uniq_history_user_id[1])\n",
    "ax.set_xlabel(\"history__user_id\")\n",
    "ax.set_ylabel(\"count\")"
   ]
  },
  {
   "cell_type": "markdown",
   "metadata": {},
   "source": [
    "### validate.tsv"
   ]
  },
  {
   "cell_type": "code",
   "execution_count": 100,
   "metadata": {},
   "outputs": [
    {
     "data": {
      "text/html": [
       "<div>\n",
       "<style scoped>\n",
       "    .dataframe tbody tr th:only-of-type {\n",
       "        vertical-align: middle;\n",
       "    }\n",
       "\n",
       "    .dataframe tbody tr th {\n",
       "        vertical-align: top;\n",
       "    }\n",
       "\n",
       "    .dataframe thead th {\n",
       "        text-align: right;\n",
       "    }\n",
       "</style>\n",
       "<table border=\"1\" class=\"dataframe\">\n",
       "  <thead>\n",
       "    <tr style=\"text-align: right;\">\n",
       "      <th></th>\n",
       "      <th>cpm</th>\n",
       "      <th>hour_start</th>\n",
       "      <th>hour_end</th>\n",
       "      <th>publishers</th>\n",
       "      <th>audience_size</th>\n",
       "      <th>user_ids</th>\n",
       "      <th>len_publishers</th>\n",
       "    </tr>\n",
       "  </thead>\n",
       "  <tbody>\n",
       "    <tr>\n",
       "      <th>0</th>\n",
       "      <td>220.0</td>\n",
       "      <td>1058</td>\n",
       "      <td>1153</td>\n",
       "      <td>7,17</td>\n",
       "      <td>1906</td>\n",
       "      <td>12,44,46,50,58,71,93,122,134,143,176,184,187,1...</td>\n",
       "      <td>2</td>\n",
       "    </tr>\n",
       "    <tr>\n",
       "      <th>1</th>\n",
       "      <td>312.0</td>\n",
       "      <td>1295</td>\n",
       "      <td>1301</td>\n",
       "      <td>3,18</td>\n",
       "      <td>1380</td>\n",
       "      <td>29,81,98,102,165,167,195,205,218,231,242,263,3...</td>\n",
       "      <td>2</td>\n",
       "    </tr>\n",
       "    <tr>\n",
       "      <th>2</th>\n",
       "      <td>70.0</td>\n",
       "      <td>1229</td>\n",
       "      <td>1249</td>\n",
       "      <td>1,2,3,9,15,21</td>\n",
       "      <td>888</td>\n",
       "      <td>12,23,25,29,45,85,92,124,156,190,272,334,456,5...</td>\n",
       "      <td>6</td>\n",
       "    </tr>\n",
       "    <tr>\n",
       "      <th>3</th>\n",
       "      <td>240.0</td>\n",
       "      <td>1295</td>\n",
       "      <td>1377</td>\n",
       "      <td>1,14</td>\n",
       "      <td>440</td>\n",
       "      <td>44,122,187,209,242,255,312,345,382,465,513,524...</td>\n",
       "      <td>2</td>\n",
       "    </tr>\n",
       "    <tr>\n",
       "      <th>4</th>\n",
       "      <td>262.0</td>\n",
       "      <td>752</td>\n",
       "      <td>990</td>\n",
       "      <td>1,3,7,8</td>\n",
       "      <td>1476</td>\n",
       "      <td>15,24,30,43,50,53,96,105,159,168,181,190,196,2...</td>\n",
       "      <td>4</td>\n",
       "    </tr>\n",
       "  </tbody>\n",
       "</table>\n",
       "</div>"
      ],
      "text/plain": [
       "     cpm  hour_start  hour_end     publishers  audience_size  \\\n",
       "0  220.0        1058      1153           7,17           1906   \n",
       "1  312.0        1295      1301           3,18           1380   \n",
       "2   70.0        1229      1249  1,2,3,9,15,21            888   \n",
       "3  240.0        1295      1377           1,14            440   \n",
       "4  262.0         752       990        1,3,7,8           1476   \n",
       "\n",
       "                                            user_ids  len_publishers  \n",
       "0  12,44,46,50,58,71,93,122,134,143,176,184,187,1...               2  \n",
       "1  29,81,98,102,165,167,195,205,218,231,242,263,3...               2  \n",
       "2  12,23,25,29,45,85,92,124,156,190,272,334,456,5...               6  \n",
       "3  44,122,187,209,242,255,312,345,382,465,513,524...               2  \n",
       "4  15,24,30,43,50,53,96,105,159,168,181,190,196,2...               4  "
      ]
     },
     "execution_count": 100,
     "metadata": {},
     "output_type": "execute_result"
    }
   ],
   "source": [
    "validate_ds[\"len_publishers\"] = validate_ds[\"publishers\"].apply(lambda x: len([int(v) for v in x.split(\",\")]))\n",
    "validate_ds.head()"
   ]
  },
  {
   "cell_type": "code",
   "execution_count": 83,
   "metadata": {},
   "outputs": [
    {
     "data": {
      "text/html": [
       "<div>\n",
       "<style scoped>\n",
       "    .dataframe tbody tr th:only-of-type {\n",
       "        vertical-align: middle;\n",
       "    }\n",
       "\n",
       "    .dataframe tbody tr th {\n",
       "        vertical-align: top;\n",
       "    }\n",
       "\n",
       "    .dataframe thead th {\n",
       "        text-align: right;\n",
       "    }\n",
       "</style>\n",
       "<table border=\"1\" class=\"dataframe\">\n",
       "  <thead>\n",
       "    <tr style=\"text-align: right;\">\n",
       "      <th></th>\n",
       "      <th>cpm</th>\n",
       "      <th>audience_size</th>\n",
       "    </tr>\n",
       "  </thead>\n",
       "  <tbody>\n",
       "    <tr>\n",
       "      <th>count</th>\n",
       "      <td>1008.00</td>\n",
       "      <td>1008.00</td>\n",
       "    </tr>\n",
       "    <tr>\n",
       "      <th>mean</th>\n",
       "      <td>162.43</td>\n",
       "      <td>1090.09</td>\n",
       "    </tr>\n",
       "    <tr>\n",
       "      <th>std</th>\n",
       "      <td>112.19</td>\n",
       "      <td>613.56</td>\n",
       "    </tr>\n",
       "    <tr>\n",
       "      <th>min</th>\n",
       "      <td>30.00</td>\n",
       "      <td>300.00</td>\n",
       "    </tr>\n",
       "    <tr>\n",
       "      <th>25%</th>\n",
       "      <td>79.00</td>\n",
       "      <td>575.00</td>\n",
       "    </tr>\n",
       "    <tr>\n",
       "      <th>50%</th>\n",
       "      <td>130.00</td>\n",
       "      <td>960.00</td>\n",
       "    </tr>\n",
       "    <tr>\n",
       "      <th>75%</th>\n",
       "      <td>220.00</td>\n",
       "      <td>1464.00</td>\n",
       "    </tr>\n",
       "    <tr>\n",
       "      <th>max</th>\n",
       "      <td>475.00</td>\n",
       "      <td>2500.00</td>\n",
       "    </tr>\n",
       "  </tbody>\n",
       "</table>\n",
       "</div>"
      ],
      "text/plain": [
       "           cpm  audience_size\n",
       "count  1008.00        1008.00\n",
       "mean    162.43        1090.09\n",
       "std     112.19         613.56\n",
       "min      30.00         300.00\n",
       "25%      79.00         575.00\n",
       "50%     130.00         960.00\n",
       "75%     220.00        1464.00\n",
       "max     475.00        2500.00"
      ]
     },
     "execution_count": 83,
     "metadata": {},
     "output_type": "execute_result"
    }
   ],
   "source": [
    "round(validate_ds[[\"cpm\", \"audience_size\"]].describe(), 2)"
   ]
  },
  {
   "cell_type": "code",
   "execution_count": 86,
   "metadata": {},
   "outputs": [
    {
     "data": {
      "text/plain": [
       "Text(0, 0.5, 'count')"
      ]
     },
     "execution_count": 86,
     "metadata": {},
     "output_type": "execute_result"
    },
    {
     "data": {
      "image/png": "[encoded data removed]",
      "text/plain": [
       "<Figure size 640x480 with 1 Axes>"
      ]
     },
     "metadata": {},
     "output_type": "display_data"
    }
   ],
   "source": [
    "uniq_validate_hour_start = np.unique(validate_ds[\"hour_end\"], return_counts=True)\n",
    "\n",
    "fig, ax = plt.subplots()\n",
    "ax.bar(uniq_validate_hour_start[0], uniq_validate_hour_start[1])\n",
    "ax.set_xlabel(\"validate__hour_start\")\n",
    "ax.set_ylabel(\"count\")"
   ]
  },
  {
   "cell_type": "code",
   "execution_count": 98,
   "metadata": {},
   "outputs": [
    {
     "data": {
      "text/plain": [
       "Text(0, 0.5, 'count')"
      ]
     },
     "execution_count": 98,
     "metadata": {},
     "output_type": "execute_result"
    },
    {
     "data": {
      "image/png": "[encoded data removed]",
      "text/plain": [
       "<Figure size 640x480 with 1 Axes>"
      ]
     },
     "metadata": {},
     "output_type": "display_data"
    }
   ],
   "source": [
    "uniq_validate_len_pub = np.unique(validate_ds[\"len_publishers\"], return_counts=True)\n",
    "\n",
    "fig, ax = plt.subplots()\n",
    "ax.bar(uniq_validate_len_pub[0], uniq_validate_len_pub[1])\n",
    "ax.set_xlabel(\"validate__len_pub\")\n",
    "ax.set_ylabel(\"count\")"
   ]
  },
  {
   "cell_type": "markdown",
   "metadata": {},
   "source": [
    "### conclusion"
   ]
  },
  {
   "cell_type": "markdown",
   "metadata": {},
   "source": [
    "___\n",
    "**users.tsv:**\n",
    "- все пользователи уникальные,\n",
    "- 30 пользователей без пола, примерно 50/50,\n",
    "- 2180 пропущено возрастов, есть люди страше 90 лет,\n",
    "- 84790 пропущено городов, город с id=3 концентрирует в себе пользователей.\n",
    "\n",
    "**history.tsv:**\n",
    "- два выброса по cpm,\n",
    "- есть периодичность по времени,\n",
    "- все просмотры сконцентрированы на 4 площадках,\n",
    "- два пользователя смотрят очень много объявлений (мб выбросы и стоит обрезать).\n",
    "\n",
    "**validate.tsv:**\n",
    "- максимум используется 6 площадок, в основном 3-4."
   ]
  },
  {
   "cell_type": "markdown",
   "metadata": {},
   "source": [
    "## Feature engineering"
   ]
  },
  {
   "cell_type": "markdown",
   "metadata": {},
   "source": [
    "### user.tsv - Age"
   ]
  },
  {
   "cell_type": "markdown",
   "metadata": {},
   "source": [
    "Мб есть люди, которые возраст поставили наугад.\n",
    "\n",
    "Разобьем людей на возрастные группы и посмотрим на их статистики. Мб группы будут пересекаться."
   ]
  },
  {
   "cell_type": "code",
   "execution_count": 5,
   "metadata": {},
   "outputs": [],
   "source": [
    "none_age_users = user_ds[user_ds[\"age\"] == 0]\n",
    "full_age_users = user_ds[user_ds[\"age\"] != 0]"
   ]
  },
  {
   "cell_type": "code",
   "execution_count": 6,
   "metadata": {},
   "outputs": [
    {
     "name": "stderr",
     "output_type": "stream",
     "text": [
      "/tmp/ipykernel_1769335/3198654064.py:3: SettingWithCopyWarning: \n",
      "A value is trying to be set on a copy of a slice from a DataFrame.\n",
      "Try using .loc[row_indexer,col_indexer] = value instead\n",
      "\n",
      "See the caveats in the documentation: https://pandas.pydata.org/pandas-docs/stable/user_guide/indexing.html#returning-a-view-versus-a-copy\n",
      "  none_age_users[\"hours\"] = none_age_users[\"user_id\"].apply(lambda x: history_ds[history_ds[\"user_id\"] == x][\"hour\"].unique())\n",
      "/tmp/ipykernel_1769335/3198654064.py:4: SettingWithCopyWarning: \n",
      "A value is trying to be set on a copy of a slice from a DataFrame.\n",
      "Try using .loc[row_indexer,col_indexer] = value instead\n",
      "\n",
      "See the caveats in the documentation: https://pandas.pydata.org/pandas-docs/stable/user_guide/indexing.html#returning-a-view-versus-a-copy\n",
      "  full_age_users[\"hours\"] = full_age_users[\"user_id\"].apply(lambda x: history_ds[history_ds[\"user_id\"] == x][\"hour\"].unique())\n"
     ]
    }
   ],
   "source": [
    "# Добавляем столбец с временными метками\n",
    "# (по ним можно узнать: сколько раз пользователь видел объявления и в какое время)\n",
    "none_age_users[\"hours\"] = none_age_users[\"user_id\"].apply(lambda x: history_ds[history_ds[\"user_id\"] == x][\"hour\"].unique())\n",
    "full_age_users[\"hours\"] = full_age_users[\"user_id\"].apply(lambda x: history_ds[history_ds[\"user_id\"] == x][\"hour\"].unique())"
   ]
  },
  {
   "cell_type": "code",
   "execution_count": 7,
   "metadata": {},
   "outputs": [
    {
     "name": "stderr",
     "output_type": "stream",
     "text": [
      "/tmp/ipykernel_1769335/636257355.py:3: SettingWithCopyWarning: \n",
      "A value is trying to be set on a copy of a slice from a DataFrame.\n",
      "Try using .loc[row_indexer,col_indexer] = value instead\n",
      "\n",
      "See the caveats in the documentation: https://pandas.pydata.org/pandas-docs/stable/user_guide/indexing.html#returning-a-view-versus-a-copy\n",
      "  none_age_users[\"publishers\"] = none_age_users[\"user_id\"].apply(lambda x: history_ds[history_ds[\"user_id\"] == x][\"publisher\"].unique())\n",
      "/tmp/ipykernel_1769335/636257355.py:4: SettingWithCopyWarning: \n",
      "A value is trying to be set on a copy of a slice from a DataFrame.\n",
      "Try using .loc[row_indexer,col_indexer] = value instead\n",
      "\n",
      "See the caveats in the documentation: https://pandas.pydata.org/pandas-docs/stable/user_guide/indexing.html#returning-a-view-versus-a-copy\n",
      "  full_age_users[\"publishers\"] = full_age_users[\"user_id\"].apply(lambda x: history_ds[history_ds[\"user_id\"] == x][\"publisher\"].unique())\n"
     ]
    }
   ],
   "source": [
    "# Добавляем столбец с площадками\n",
    "# (можно посмотреть на каких площадках сидит пользователь)\n",
    "none_age_users[\"publishers\"] = none_age_users[\"user_id\"].apply(lambda x: history_ds[history_ds[\"user_id\"] == x][\"publisher\"].unique())\n",
    "full_age_users[\"publishers\"] = full_age_users[\"user_id\"].apply(lambda x: history_ds[history_ds[\"user_id\"] == x][\"publisher\"].unique())"
   ]
  },
  {
   "cell_type": "code",
   "execution_count": 12,
   "metadata": {},
   "outputs": [
    {
     "data": {
      "text/plain": [
       "<matplotlib.collections.PathCollection at 0x7f76000156a0>"
      ]
     },
     "execution_count": 12,
     "metadata": {},
     "output_type": "execute_result"
    },
    {
     "data": {
      "image/png": "[encoded data removed]",
      "text/plain": [
       "<Figure size 640x480 with 1 Axes>"
      ]
     },
     "metadata": {},
     "output_type": "display_data"
    }
   ],
   "source": [
    "plt.scatter(full_age_users[\"user_id\"], full_age_users[\"hours\"].apply(lambda x: len(x)))\n",
    "plt.scatter(none_age_users[\"user_id\"], none_age_users[\"hours\"].apply(lambda x: len(x)))"
   ]
  },
  {
   "cell_type": "code",
   "execution_count": 13,
   "metadata": {},
   "outputs": [
    {
     "data": {
      "text/plain": [
       "<matplotlib.collections.PathCollection at 0x7f75fff61af0>"
      ]
     },
     "execution_count": 13,
     "metadata": {},
     "output_type": "execute_result"
    },
    {
     "data": {
      "image/png": "[encoded data removed]",
      "text/plain": [
       "<Figure size 640x480 with 1 Axes>"
      ]
     },
     "metadata": {},
     "output_type": "display_data"
    }
   ],
   "source": [
    "plt.scatter(full_age_users[\"user_id\"], full_age_users[\"publishers\"].apply(lambda x: len(x)))\n",
    "plt.scatter(none_age_users[\"user_id\"], none_age_users[\"publishers\"].apply(lambda x: len(x)))"
   ]
  },
  {
   "cell_type": "code",
   "execution_count": null,
   "metadata": {},
   "outputs": [
    {
     "name": "stderr",
     "output_type": "stream",
     "text": [
      "/tmp/ipykernel_1769335/44707648.py:3: SettingWithCopyWarning: \n",
      "A value is trying to be set on a copy of a slice from a DataFrame.\n",
      "Try using .loc[row_indexer,col_indexer] = value instead\n",
      "\n",
      "See the caveats in the documentation: https://pandas.pydata.org/pandas-docs/stable/user_guide/indexing.html#returning-a-view-versus-a-copy\n",
      "  none_age_users[\"len_publishers\"] = none_age_users[\"publishers\"].apply(lambda x: len(x))\n"
     ]
    }
   ],
   "source": [
    "# Какие статистики у none_age_users\n",
    "none_age_users[\"len_hours\"] = none_age_users[\"hours\"].apply(lambda x: len(x))\n",
    "none_age_users[\"len_publishers\"] = none_age_users[\"publishers\"].apply(lambda x: len(x))"
   ]
  },
  {
   "cell_type": "code",
   "execution_count": 37,
   "metadata": {},
   "outputs": [
    {
     "data": {
      "text/html": [
       "<div>\n",
       "<style scoped>\n",
       "    .dataframe tbody tr th:only-of-type {\n",
       "        vertical-align: middle;\n",
       "    }\n",
       "\n",
       "    .dataframe tbody tr th {\n",
       "        vertical-align: top;\n",
       "    }\n",
       "\n",
       "    .dataframe thead th {\n",
       "        text-align: right;\n",
       "    }\n",
       "</style>\n",
       "<table border=\"1\" class=\"dataframe\">\n",
       "  <thead>\n",
       "    <tr style=\"text-align: right;\">\n",
       "      <th></th>\n",
       "      <th>len_hours</th>\n",
       "      <th>len_publishers</th>\n",
       "    </tr>\n",
       "  </thead>\n",
       "  <tbody>\n",
       "    <tr>\n",
       "      <th>count</th>\n",
       "      <td>2180.00</td>\n",
       "      <td>2180.00</td>\n",
       "    </tr>\n",
       "    <tr>\n",
       "      <th>mean</th>\n",
       "      <td>22.36</td>\n",
       "      <td>1.18</td>\n",
       "    </tr>\n",
       "    <tr>\n",
       "      <th>std</th>\n",
       "      <td>39.43</td>\n",
       "      <td>0.65</td>\n",
       "    </tr>\n",
       "    <tr>\n",
       "      <th>min</th>\n",
       "      <td>0.00</td>\n",
       "      <td>0.00</td>\n",
       "    </tr>\n",
       "    <tr>\n",
       "      <th>25%</th>\n",
       "      <td>2.00</td>\n",
       "      <td>1.00</td>\n",
       "    </tr>\n",
       "    <tr>\n",
       "      <th>50%</th>\n",
       "      <td>6.00</td>\n",
       "      <td>1.00</td>\n",
       "    </tr>\n",
       "    <tr>\n",
       "      <th>75%</th>\n",
       "      <td>25.00</td>\n",
       "      <td>1.00</td>\n",
       "    </tr>\n",
       "    <tr>\n",
       "      <th>max</th>\n",
       "      <td>489.00</td>\n",
       "      <td>6.00</td>\n",
       "    </tr>\n",
       "  </tbody>\n",
       "</table>\n",
       "</div>"
      ],
      "text/plain": [
       "       len_hours  len_publishers\n",
       "count    2180.00         2180.00\n",
       "mean       22.36            1.18\n",
       "std        39.43            0.65\n",
       "min         0.00            0.00\n",
       "25%         2.00            1.00\n",
       "50%         6.00            1.00\n",
       "75%        25.00            1.00\n",
       "max       489.00            6.00"
      ]
     },
     "execution_count": 37,
     "metadata": {},
     "output_type": "execute_result"
    }
   ],
   "source": [
    "round(none_age_users[[\"len_hours\", \"len_publishers\"]].describe(), 2)"
   ]
  },
  {
   "cell_type": "code",
   "execution_count": null,
   "metadata": {},
   "outputs": [],
   "source": [
    "# Берем людей кто использует 1-3 площадки и смотрит рекламу меньше 25 раз за два месяца\n",
    "# full_age_users[\"len_hours\"] = full_age_users[\"hours\"].apply(lambda x: len(x))\n",
    "# full_age_users[\"len_publishers\"] = full_age_users[\"publishers\"].apply(lambda x: len(x))\n",
    "\n",
    "mask = ((full_age_users[\"len_hours\"] < 25) & (full_age_users[\"len_publishers\"] <= 3))\n",
    "full_age_users_subset = full_age_users[mask]"
   ]
  },
  {
   "cell_type": "code",
   "execution_count": 40,
   "metadata": {},
   "outputs": [
    {
     "data": {
      "text/plain": [
       "count    16043.00\n",
       "mean        32.01\n",
       "std         17.36\n",
       "min         13.00\n",
       "25%         20.00\n",
       "50%         29.00\n",
       "75%         38.00\n",
       "max        118.00\n",
       "Name: age, dtype: float64"
      ]
     },
     "execution_count": 40,
     "metadata": {},
     "output_type": "execute_result"
    }
   ],
   "source": [
    "round(full_age_users_subset[\"age\"].describe(), 2)"
   ]
  },
  {
   "cell_type": "code",
   "execution_count": 42,
   "metadata": {},
   "outputs": [
    {
     "data": {
      "text/plain": [
       "<Axes: >"
      ]
     },
     "execution_count": 42,
     "metadata": {},
     "output_type": "execute_result"
    },
    {
     "data": {
      "image/png": "[encoded data removed]",
      "text/plain": [
       "<Figure size 640x480 with 1 Axes>"
      ]
     },
     "metadata": {},
     "output_type": "display_data"
    }
   ],
   "source": [
    "full_age_users_subset[\"age\"].hist(bins=20)"
   ]
  },
  {
   "cell_type": "code",
   "execution_count": 141,
   "metadata": {},
   "outputs": [
    {
     "name": "stderr",
     "output_type": "stream",
     "text": [
      "100%|██████████| 2180/2180 [07:28<00:00,  4.86it/s]\n"
     ]
    }
   ],
   "source": [
    "# Заполняем пропущенные значения Age\n",
    "add_user_ds = user_ds.copy()\n",
    "\n",
    "mask = (add_user_ds[\"age\"] == 0)\n",
    "# 1 - с помощью среднего по всему датасету\n",
    "# add_user_ds.loc[mask, \"age\"] = int(np.mean(add_user_ds[add_user_ds[\"age\"] != 0][\"age\"]))\n",
    "\n",
    "# 2 - с помощью среднего по выборке (из графика выше взял число имперически)\n",
    "# add_user_ds.loc[mask, \"age\"] = 25\n",
    "\n",
    "# 3 - с помощью косинусной схожести\n",
    "new_ages = []\n",
    "for i, row in tqdm(none_age_users.iterrows(), total=len(none_age_users)):\n",
    "    sims = cosine_similarity([row[[\"sex\", \"city_id\", \"len_hours\", \"len_publishers\"]]], full_age_users[[\"sex\", \"city_id\", \"len_hours\", \"len_publishers\"]])\n",
    "    sims = [True if sim == np.max(sims) else False for sim in sims[0]]\n",
    "    age = int(np.mean(full_age_users.loc[sims, \"age\"]))\n",
    "    new_ages.append(age)\n",
    "\n",
    "add_user_ds.loc[mask, \"age\"] = new_ages"
   ]
  },
  {
   "cell_type": "markdown",
   "metadata": {},
   "source": [
    "### user.tsv - Sex"
   ]
  },
  {
   "cell_type": "code",
   "execution_count": 156,
   "metadata": {},
   "outputs": [
    {
     "data": {
      "text/html": [
       "<div>\n",
       "<style scoped>\n",
       "    .dataframe tbody tr th:only-of-type {\n",
       "        vertical-align: middle;\n",
       "    }\n",
       "\n",
       "    .dataframe tbody tr th {\n",
       "        vertical-align: top;\n",
       "    }\n",
       "\n",
       "    .dataframe thead th {\n",
       "        text-align: right;\n",
       "    }\n",
       "</style>\n",
       "<table border=\"1\" class=\"dataframe\">\n",
       "  <thead>\n",
       "    <tr style=\"text-align: right;\">\n",
       "      <th></th>\n",
       "      <th>user_id</th>\n",
       "      <th>sex</th>\n",
       "      <th>age</th>\n",
       "      <th>city_id</th>\n",
       "    </tr>\n",
       "  </thead>\n",
       "  <tbody>\n",
       "    <tr>\n",
       "      <th>0</th>\n",
       "      <td>0</td>\n",
       "      <td>2</td>\n",
       "      <td>19</td>\n",
       "      <td>0</td>\n",
       "    </tr>\n",
       "    <tr>\n",
       "      <th>1</th>\n",
       "      <td>1</td>\n",
       "      <td>1</td>\n",
       "      <td>38</td>\n",
       "      <td>1</td>\n",
       "    </tr>\n",
       "    <tr>\n",
       "      <th>2</th>\n",
       "      <td>2</td>\n",
       "      <td>2</td>\n",
       "      <td>24</td>\n",
       "      <td>2</td>\n",
       "    </tr>\n",
       "    <tr>\n",
       "      <th>3</th>\n",
       "      <td>3</td>\n",
       "      <td>1</td>\n",
       "      <td>20</td>\n",
       "      <td>3</td>\n",
       "    </tr>\n",
       "    <tr>\n",
       "      <th>4</th>\n",
       "      <td>4</td>\n",
       "      <td>2</td>\n",
       "      <td>29</td>\n",
       "      <td>4</td>\n",
       "    </tr>\n",
       "  </tbody>\n",
       "</table>\n",
       "</div>"
      ],
      "text/plain": [
       "   user_id  sex  age  city_id\n",
       "0        0    2   19        0\n",
       "1        1    1   38        1\n",
       "2        2    2   24        2\n",
       "3        3    1   20        3\n",
       "4        4    2   29        4"
      ]
     },
     "execution_count": 156,
     "metadata": {},
     "output_type": "execute_result"
    }
   ],
   "source": [
    "add_user_ds.head()"
   ]
  },
  {
   "cell_type": "code",
   "execution_count": 157,
   "metadata": {},
   "outputs": [],
   "source": [
    "none_sex_users = add_user_ds[add_user_ds[\"sex\"] == 0]\n",
    "full_sex_users = add_user_ds[add_user_ds[\"sex\"] != 0]"
   ]
  },
  {
   "cell_type": "code",
   "execution_count": null,
   "metadata": {},
   "outputs": [],
   "source": [
    "# "
   ]
  },
  {
   "cell_type": "markdown",
   "metadata": {},
   "source": [
    "## Form dataset"
   ]
  },
  {
   "cell_type": "markdown",
   "metadata": {},
   "source": [
    "**Новые признаки:**\n",
    "- доля женщин,\n",
    "- доля людей до 38,\n",
    "- доля людей из мегаполиса, города,\n",
    "- среднее количество площадок у пользователей,\n",
    "- топовая площадка,\n",
    "- среднее время в которое просматривалась реклама,\n",
    "- средняя цена рекламы,\n",
    "- день недели в которое выставляется реклама,\n",
    "- на сколько часов выставляется реклама.\n",
    "\n",
    "**Убрать признаки:**\n",
    "- user_ids,\n",
    "- hour_end.\n",
    "\n",
    "**Преобразование признаков:**\n",
    "- publishers в количество площадок."
   ]
  },
  {
   "cell_type": "code",
   "execution_count": null,
   "metadata": {},
   "outputs": [],
   "source": []
  },
  {
   "cell_type": "markdown",
   "metadata": {},
   "source": [
    "# Load data"
   ]
  },
  {
   "cell_type": "code",
   "execution_count": 72,
   "metadata": {},
   "outputs": [],
   "source": [
    "user_ds_path = os.path.join(INPUT_DATA_PATH, \"Предсказание количества просмотров рекламы/users.tsv\")\n",
    "history_ds_path = os.path.join(INPUT_DATA_PATH, \"Предсказание количества просмотров рекламы/history.tsv\")\n",
    "validate_ds_path = os.path.join(INPUT_DATA_PATH, \"Предсказание количества просмотров рекламы/validate.tsv\")\n",
    "\n",
    "validate_answers_ds_path = os.path.join(INPUT_DATA_PATH, \"Предсказание количества просмотров рекламы/validate_answers.tsv\")"
   ]
  },
  {
   "cell_type": "code",
   "execution_count": 73,
   "metadata": {},
   "outputs": [],
   "source": [
    "user_ds = pd.read_csv(user_ds_path, sep=\"\\t\")\n",
    "history_ds = pd.read_csv(history_ds_path, sep=\"\\t\")\n",
    "validate_ds = pd.read_csv(validate_ds_path, sep=\"\\t\")\n",
    "\n",
    "validate_answers_ds = pd.read_csv(validate_answers_ds_path, sep=\"\\t\")"
   ]
  },
  {
   "cell_type": "markdown",
   "metadata": {},
   "source": [
    "temp"
   ]
  },
  {
   "cell_type": "code",
   "execution_count": 62,
   "metadata": {},
   "outputs": [],
   "source": [
    "end_valid_ds_path = os.path.join(OUTPUT_DATA_PATH, \"end_valid.tsv\")\n",
    "end_valid_ds = pd.read_csv(end_valid_ds_path, sep=\"\\t\")"
   ]
  },
  {
   "cell_type": "code",
   "execution_count": 65,
   "metadata": {},
   "outputs": [
    {
     "data": {
      "text/html": [
       "<div>\n",
       "<style scoped>\n",
       "    .dataframe tbody tr th:only-of-type {\n",
       "        vertical-align: middle;\n",
       "    }\n",
       "\n",
       "    .dataframe tbody tr th {\n",
       "        vertical-align: top;\n",
       "    }\n",
       "\n",
       "    .dataframe thead th {\n",
       "        text-align: right;\n",
       "    }\n",
       "</style>\n",
       "<table border=\"1\" class=\"dataframe\">\n",
       "  <thead>\n",
       "    <tr style=\"text-align: right;\">\n",
       "      <th></th>\n",
       "      <th>cpm</th>\n",
       "      <th>percent_man</th>\n",
       "      <th>count_pub</th>\n",
       "      <th>input_top_pub</th>\n",
       "      <th>count_group</th>\n",
       "      <th>input_top_group</th>\n",
       "      <th>count_day</th>\n",
       "      <th>input_top_time</th>\n",
       "      <th>input_top_day</th>\n",
       "      <th>at_least_one</th>\n",
       "      <th>at_least_two</th>\n",
       "      <th>at_least_three</th>\n",
       "    </tr>\n",
       "  </thead>\n",
       "  <tbody>\n",
       "    <tr>\n",
       "      <th>count</th>\n",
       "      <td>1008.00</td>\n",
       "      <td>1008.00</td>\n",
       "      <td>1008.00</td>\n",
       "      <td>1008.00</td>\n",
       "      <td>1008.0</td>\n",
       "      <td>1008.00</td>\n",
       "      <td>1008.00</td>\n",
       "      <td>1008.00</td>\n",
       "      <td>1008.00</td>\n",
       "      <td>1008.00</td>\n",
       "      <td>1008.00</td>\n",
       "      <td>1008.00</td>\n",
       "    </tr>\n",
       "    <tr>\n",
       "      <th>mean</th>\n",
       "      <td>162.43</td>\n",
       "      <td>52.51</td>\n",
       "      <td>3.45</td>\n",
       "      <td>0.93</td>\n",
       "      <td>1.0</td>\n",
       "      <td>0.93</td>\n",
       "      <td>2.50</td>\n",
       "      <td>0.45</td>\n",
       "      <td>0.97</td>\n",
       "      <td>0.12</td>\n",
       "      <td>0.07</td>\n",
       "      <td>0.05</td>\n",
       "    </tr>\n",
       "    <tr>\n",
       "      <th>std</th>\n",
       "      <td>112.19</td>\n",
       "      <td>3.71</td>\n",
       "      <td>1.41</td>\n",
       "      <td>0.26</td>\n",
       "      <td>0.0</td>\n",
       "      <td>0.26</td>\n",
       "      <td>1.81</td>\n",
       "      <td>0.50</td>\n",
       "      <td>0.18</td>\n",
       "      <td>0.15</td>\n",
       "      <td>0.12</td>\n",
       "      <td>0.10</td>\n",
       "    </tr>\n",
       "    <tr>\n",
       "      <th>min</th>\n",
       "      <td>30.00</td>\n",
       "      <td>41.12</td>\n",
       "      <td>1.00</td>\n",
       "      <td>0.00</td>\n",
       "      <td>1.0</td>\n",
       "      <td>0.00</td>\n",
       "      <td>1.00</td>\n",
       "      <td>0.00</td>\n",
       "      <td>0.00</td>\n",
       "      <td>0.00</td>\n",
       "      <td>0.00</td>\n",
       "      <td>0.00</td>\n",
       "    </tr>\n",
       "    <tr>\n",
       "      <th>25%</th>\n",
       "      <td>79.00</td>\n",
       "      <td>50.49</td>\n",
       "      <td>2.00</td>\n",
       "      <td>1.00</td>\n",
       "      <td>1.0</td>\n",
       "      <td>1.00</td>\n",
       "      <td>1.00</td>\n",
       "      <td>0.00</td>\n",
       "      <td>1.00</td>\n",
       "      <td>0.02</td>\n",
       "      <td>0.00</td>\n",
       "      <td>0.00</td>\n",
       "    </tr>\n",
       "    <tr>\n",
       "      <th>50%</th>\n",
       "      <td>130.00</td>\n",
       "      <td>52.31</td>\n",
       "      <td>3.00</td>\n",
       "      <td>1.00</td>\n",
       "      <td>1.0</td>\n",
       "      <td>1.00</td>\n",
       "      <td>2.00</td>\n",
       "      <td>0.00</td>\n",
       "      <td>1.00</td>\n",
       "      <td>0.06</td>\n",
       "      <td>0.01</td>\n",
       "      <td>0.00</td>\n",
       "    </tr>\n",
       "    <tr>\n",
       "      <th>75%</th>\n",
       "      <td>220.00</td>\n",
       "      <td>53.93</td>\n",
       "      <td>4.25</td>\n",
       "      <td>1.00</td>\n",
       "      <td>1.0</td>\n",
       "      <td>1.00</td>\n",
       "      <td>4.00</td>\n",
       "      <td>1.00</td>\n",
       "      <td>1.00</td>\n",
       "      <td>0.16</td>\n",
       "      <td>0.08</td>\n",
       "      <td>0.05</td>\n",
       "    </tr>\n",
       "    <tr>\n",
       "      <th>max</th>\n",
       "      <td>475.00</td>\n",
       "      <td>65.66</td>\n",
       "      <td>6.00</td>\n",
       "      <td>1.00</td>\n",
       "      <td>1.0</td>\n",
       "      <td>1.00</td>\n",
       "      <td>7.00</td>\n",
       "      <td>1.00</td>\n",
       "      <td>1.00</td>\n",
       "      <td>0.93</td>\n",
       "      <td>0.91</td>\n",
       "      <td>0.88</td>\n",
       "    </tr>\n",
       "  </tbody>\n",
       "</table>\n",
       "</div>"
      ],
      "text/plain": [
       "           cpm  percent_man  count_pub  input_top_pub  count_group  \\\n",
       "count  1008.00      1008.00    1008.00        1008.00       1008.0   \n",
       "mean    162.43        52.51       3.45           0.93          1.0   \n",
       "std     112.19         3.71       1.41           0.26          0.0   \n",
       "min      30.00        41.12       1.00           0.00          1.0   \n",
       "25%      79.00        50.49       2.00           1.00          1.0   \n",
       "50%     130.00        52.31       3.00           1.00          1.0   \n",
       "75%     220.00        53.93       4.25           1.00          1.0   \n",
       "max     475.00        65.66       6.00           1.00          1.0   \n",
       "\n",
       "       input_top_group  count_day  input_top_time  input_top_day  \\\n",
       "count          1008.00    1008.00         1008.00        1008.00   \n",
       "mean              0.93       2.50            0.45           0.97   \n",
       "std               0.26       1.81            0.50           0.18   \n",
       "min               0.00       1.00            0.00           0.00   \n",
       "25%               1.00       1.00            0.00           1.00   \n",
       "50%               1.00       2.00            0.00           1.00   \n",
       "75%               1.00       4.00            1.00           1.00   \n",
       "max               1.00       7.00            1.00           1.00   \n",
       "\n",
       "       at_least_one  at_least_two  at_least_three  \n",
       "count       1008.00       1008.00         1008.00  \n",
       "mean           0.12          0.07            0.05  \n",
       "std            0.15          0.12            0.10  \n",
       "min            0.00          0.00            0.00  \n",
       "25%            0.02          0.00            0.00  \n",
       "50%            0.06          0.01            0.00  \n",
       "75%            0.16          0.08            0.05  \n",
       "max            0.93          0.91            0.88  "
      ]
     },
     "execution_count": 65,
     "metadata": {},
     "output_type": "execute_result"
    }
   ],
   "source": [
    "round(end_valid_ds.describe(), 2)"
   ]
  },
  {
   "cell_type": "markdown",
   "metadata": {},
   "source": [
    "# Data cleaning and preparation"
   ]
  },
  {
   "cell_type": "markdown",
   "metadata": {},
   "source": [
    "### Users"
   ]
  },
  {
   "cell_type": "code",
   "execution_count": 290,
   "metadata": {},
   "outputs": [
    {
     "name": "stdout",
     "output_type": "stream",
     "text": [
      "<class 'pandas.core.frame.DataFrame'>\n",
      "RangeIndex: 27769 entries, 0 to 27768\n",
      "Data columns (total 4 columns):\n",
      " #   Column   Non-Null Count  Dtype\n",
      "---  ------   --------------  -----\n",
      " 0   user_id  27769 non-null  int64\n",
      " 1   sex      27769 non-null  int64\n",
      " 2   age      27769 non-null  int64\n",
      " 3   city_id  27769 non-null  int64\n",
      "dtypes: int64(4)\n",
      "memory usage: 867.9 KB\n"
     ]
    }
   ],
   "source": [
    "user_ds.info()"
   ]
  },
  {
   "cell_type": "code",
   "execution_count": 291,
   "metadata": {},
   "outputs": [
    {
     "data": {
      "text/plain": [
       "sex        0.001\n",
       "age        0.079\n",
       "city_id    0.305\n",
       "dtype: float64"
      ]
     },
     "execution_count": 291,
     "metadata": {},
     "output_type": "execute_result"
    }
   ],
   "source": [
    "round((user_ds[[\"sex\", \"age\", \"city_id\"]] == 0).sum()/len(user_ds), 3)"
   ]
  },
  {
   "cell_type": "markdown",
   "metadata": {},
   "source": [
    "### History"
   ]
  },
  {
   "cell_type": "code",
   "execution_count": 222,
   "metadata": {},
   "outputs": [
    {
     "data": {
      "text/plain": [
       "hour         0\n",
       "cpm          0\n",
       "publisher    0\n",
       "user_id      0\n",
       "dtype: int64"
      ]
     },
     "execution_count": 222,
     "metadata": {},
     "output_type": "execute_result"
    }
   ],
   "source": [
    "history_ds.isnull().sum()"
   ]
  },
  {
   "cell_type": "code",
   "execution_count": 223,
   "metadata": {},
   "outputs": [
    {
     "data": {
      "text/plain": [
       "(np.int64(3), np.float64(30.0), np.int64(1))"
      ]
     },
     "execution_count": 223,
     "metadata": {},
     "output_type": "execute_result"
    }
   ],
   "source": [
    "history_ds[\"hour\"].min(), history_ds[\"cpm\"].min(), history_ds[\"publisher\"].min()"
   ]
  },
  {
   "cell_type": "code",
   "execution_count": 74,
   "metadata": {},
   "outputs": [],
   "source": [
    "# Перевод часов в дни недели и в интервал [0-23]\n",
    "history_ds[\"weekday\"] = history_ds[\"hour\"].apply(hour_to_weekday)\n",
    "history_ds[\"hour\"] = history_ds[\"hour\"].apply(hour_to_hour)"
   ]
  },
  {
   "cell_type": "markdown",
   "metadata": {},
   "source": [
    "### Validate"
   ]
  },
  {
   "cell_type": "code",
   "execution_count": 236,
   "metadata": {},
   "outputs": [
    {
     "data": {
      "text/html": [
       "<div>\n",
       "<style scoped>\n",
       "    .dataframe tbody tr th:only-of-type {\n",
       "        vertical-align: middle;\n",
       "    }\n",
       "\n",
       "    .dataframe tbody tr th {\n",
       "        vertical-align: top;\n",
       "    }\n",
       "\n",
       "    .dataframe thead th {\n",
       "        text-align: right;\n",
       "    }\n",
       "</style>\n",
       "<table border=\"1\" class=\"dataframe\">\n",
       "  <thead>\n",
       "    <tr style=\"text-align: right;\">\n",
       "      <th></th>\n",
       "      <th>cpm</th>\n",
       "      <th>hour_start</th>\n",
       "      <th>hour_end</th>\n",
       "      <th>publishers</th>\n",
       "      <th>audience_size</th>\n",
       "      <th>user_ids</th>\n",
       "    </tr>\n",
       "  </thead>\n",
       "  <tbody>\n",
       "    <tr>\n",
       "      <th>0</th>\n",
       "      <td>220.0</td>\n",
       "      <td>1058</td>\n",
       "      <td>1153</td>\n",
       "      <td>7,17</td>\n",
       "      <td>1906</td>\n",
       "      <td>12,44,46,50,58,71,93,122,134,143,176,184,187,1...</td>\n",
       "    </tr>\n",
       "    <tr>\n",
       "      <th>1</th>\n",
       "      <td>312.0</td>\n",
       "      <td>1295</td>\n",
       "      <td>1301</td>\n",
       "      <td>3,18</td>\n",
       "      <td>1380</td>\n",
       "      <td>29,81,98,102,165,167,195,205,218,231,242,263,3...</td>\n",
       "    </tr>\n",
       "    <tr>\n",
       "      <th>2</th>\n",
       "      <td>70.0</td>\n",
       "      <td>1229</td>\n",
       "      <td>1249</td>\n",
       "      <td>1,2,3,9,15,21</td>\n",
       "      <td>888</td>\n",
       "      <td>12,23,25,29,45,85,92,124,156,190,272,334,456,5...</td>\n",
       "    </tr>\n",
       "    <tr>\n",
       "      <th>3</th>\n",
       "      <td>240.0</td>\n",
       "      <td>1295</td>\n",
       "      <td>1377</td>\n",
       "      <td>1,14</td>\n",
       "      <td>440</td>\n",
       "      <td>44,122,187,209,242,255,312,345,382,465,513,524...</td>\n",
       "    </tr>\n",
       "    <tr>\n",
       "      <th>4</th>\n",
       "      <td>262.0</td>\n",
       "      <td>752</td>\n",
       "      <td>990</td>\n",
       "      <td>1,3,7,8</td>\n",
       "      <td>1476</td>\n",
       "      <td>15,24,30,43,50,53,96,105,159,168,181,190,196,2...</td>\n",
       "    </tr>\n",
       "  </tbody>\n",
       "</table>\n",
       "</div>"
      ],
      "text/plain": [
       "     cpm  hour_start  hour_end     publishers  audience_size  \\\n",
       "0  220.0        1058      1153           7,17           1906   \n",
       "1  312.0        1295      1301           3,18           1380   \n",
       "2   70.0        1229      1249  1,2,3,9,15,21            888   \n",
       "3  240.0        1295      1377           1,14            440   \n",
       "4  262.0         752       990        1,3,7,8           1476   \n",
       "\n",
       "                                            user_ids  \n",
       "0  12,44,46,50,58,71,93,122,134,143,176,184,187,1...  \n",
       "1  29,81,98,102,165,167,195,205,218,231,242,263,3...  \n",
       "2  12,23,25,29,45,85,92,124,156,190,272,334,456,5...  \n",
       "3  44,122,187,209,242,255,312,345,382,465,513,524...  \n",
       "4  15,24,30,43,50,53,96,105,159,168,181,190,196,2...  "
      ]
     },
     "execution_count": 236,
     "metadata": {},
     "output_type": "execute_result"
    }
   ],
   "source": [
    "validate_ds.head()"
   ]
  },
  {
   "cell_type": "code",
   "execution_count": 241,
   "metadata": {},
   "outputs": [
    {
     "data": {
      "text/plain": [
       "cpm              float64\n",
       "hour_start         int64\n",
       "hour_end           int64\n",
       "publishers        object\n",
       "audience_size      int64\n",
       "user_ids          object\n",
       "dtype: object"
      ]
     },
     "execution_count": 241,
     "metadata": {},
     "output_type": "execute_result"
    }
   ],
   "source": [
    "validate_ds.dtypes"
   ]
  },
  {
   "cell_type": "code",
   "execution_count": 75,
   "metadata": {},
   "outputs": [],
   "source": [
    "validate_ds[\"publishers\"] = validate_ds[\"publishers\"].apply(lambda publishers: [int(publisher) for publisher in publishers.split(\",\")])\n",
    "validate_ds[\"user_ids\"] = validate_ds[\"user_ids\"].apply(lambda user_ids: [int(user_id) for user_id in user_ids.split(\",\")])"
   ]
  },
  {
   "cell_type": "code",
   "execution_count": 245,
   "metadata": {},
   "outputs": [
    {
     "data": {
      "text/plain": [
       "(1, 300)"
      ]
     },
     "execution_count": 245,
     "metadata": {},
     "output_type": "execute_result"
    }
   ],
   "source": [
    "# Есть ли пропуски\n",
    "min([len(publishers) for publishers in validate_ds[\"publishers\"]]), min(validate_ds[\"audience_size\"])"
   ]
  },
  {
   "cell_type": "code",
   "execution_count": 76,
   "metadata": {},
   "outputs": [],
   "source": [
    "# Переводим hour_start в день недели и суточный час, hour_end убираем и вместо него указываем длительность\n",
    "validate_ds[\"weekday_start\"] = validate_ds[\"hour_start\"].apply(hour_to_weekday)\n",
    "validate_ds[\"duration\"] = validate_ds[\"hour_end\"] - validate_ds[\"hour_start\"]\n",
    "validate_ds[\"hour_start\"] = validate_ds[\"hour_start\"].apply(hour_to_weekday)\n",
    "validate_ds = validate_ds.drop(columns=[\"hour_end\"])"
   ]
  },
  {
   "cell_type": "code",
   "execution_count": 77,
   "metadata": {},
   "outputs": [],
   "source": [
    "# Создаем новый признак на основе publishers\n",
    "validate_ds[\"group_quantity\"] = validate_ds[\"publishers\"].apply(lambda publishers: len(publishers))"
   ]
  },
  {
   "cell_type": "code",
   "execution_count": 13,
   "metadata": {},
   "outputs": [
    {
     "data": {
      "text/html": [
       "<div>\n",
       "<style scoped>\n",
       "    .dataframe tbody tr th:only-of-type {\n",
       "        vertical-align: middle;\n",
       "    }\n",
       "\n",
       "    .dataframe tbody tr th {\n",
       "        vertical-align: top;\n",
       "    }\n",
       "\n",
       "    .dataframe thead th {\n",
       "        text-align: right;\n",
       "    }\n",
       "</style>\n",
       "<table border=\"1\" class=\"dataframe\">\n",
       "  <thead>\n",
       "    <tr style=\"text-align: right;\">\n",
       "      <th></th>\n",
       "      <th>cpm</th>\n",
       "      <th>hour_start</th>\n",
       "      <th>publishers</th>\n",
       "      <th>audience_size</th>\n",
       "      <th>user_ids</th>\n",
       "      <th>weekday_start</th>\n",
       "      <th>duration</th>\n",
       "      <th>group_quantity</th>\n",
       "    </tr>\n",
       "  </thead>\n",
       "  <tbody>\n",
       "    <tr>\n",
       "      <th>0</th>\n",
       "      <td>220.0</td>\n",
       "      <td>2</td>\n",
       "      <td>[7, 17]</td>\n",
       "      <td>1906</td>\n",
       "      <td>[12, 44, 46, 50, 58, 71, 93, 122, 134, 143, 17...</td>\n",
       "      <td>2</td>\n",
       "      <td>95</td>\n",
       "      <td>2</td>\n",
       "    </tr>\n",
       "    <tr>\n",
       "      <th>1</th>\n",
       "      <td>312.0</td>\n",
       "      <td>4</td>\n",
       "      <td>[3, 18]</td>\n",
       "      <td>1380</td>\n",
       "      <td>[29, 81, 98, 102, 165, 167, 195, 205, 218, 231...</td>\n",
       "      <td>4</td>\n",
       "      <td>6</td>\n",
       "      <td>2</td>\n",
       "    </tr>\n",
       "    <tr>\n",
       "      <th>2</th>\n",
       "      <td>70.0</td>\n",
       "      <td>2</td>\n",
       "      <td>[1, 2, 3, 9, 15, 21]</td>\n",
       "      <td>888</td>\n",
       "      <td>[12, 23, 25, 29, 45, 85, 92, 124, 156, 190, 27...</td>\n",
       "      <td>2</td>\n",
       "      <td>20</td>\n",
       "      <td>6</td>\n",
       "    </tr>\n",
       "    <tr>\n",
       "      <th>3</th>\n",
       "      <td>240.0</td>\n",
       "      <td>4</td>\n",
       "      <td>[1, 14]</td>\n",
       "      <td>440</td>\n",
       "      <td>[44, 122, 187, 209, 242, 255, 312, 345, 382, 4...</td>\n",
       "      <td>4</td>\n",
       "      <td>82</td>\n",
       "      <td>2</td>\n",
       "    </tr>\n",
       "    <tr>\n",
       "      <th>4</th>\n",
       "      <td>262.0</td>\n",
       "      <td>3</td>\n",
       "      <td>[1, 3, 7, 8]</td>\n",
       "      <td>1476</td>\n",
       "      <td>[15, 24, 30, 43, 50, 53, 96, 105, 159, 168, 18...</td>\n",
       "      <td>3</td>\n",
       "      <td>238</td>\n",
       "      <td>4</td>\n",
       "    </tr>\n",
       "  </tbody>\n",
       "</table>\n",
       "</div>"
      ],
      "text/plain": [
       "     cpm  hour_start            publishers  audience_size  \\\n",
       "0  220.0           2               [7, 17]           1906   \n",
       "1  312.0           4               [3, 18]           1380   \n",
       "2   70.0           2  [1, 2, 3, 9, 15, 21]            888   \n",
       "3  240.0           4               [1, 14]            440   \n",
       "4  262.0           3          [1, 3, 7, 8]           1476   \n",
       "\n",
       "                                            user_ids  weekday_start  duration  \\\n",
       "0  [12, 44, 46, 50, 58, 71, 93, 122, 134, 143, 17...              2        95   \n",
       "1  [29, 81, 98, 102, 165, 167, 195, 205, 218, 231...              4         6   \n",
       "2  [12, 23, 25, 29, 45, 85, 92, 124, 156, 190, 27...              2        20   \n",
       "3  [44, 122, 187, 209, 242, 255, 312, 345, 382, 4...              4        82   \n",
       "4  [15, 24, 30, 43, 50, 53, 96, 105, 159, 168, 18...              3       238   \n",
       "\n",
       "   group_quantity  \n",
       "0               2  \n",
       "1               2  \n",
       "2               6  \n",
       "3               2  \n",
       "4               4  "
      ]
     },
     "execution_count": 13,
     "metadata": {},
     "output_type": "execute_result"
    }
   ],
   "source": [
    "validate_ds.head()"
   ]
  },
  {
   "cell_type": "markdown",
   "metadata": {},
   "source": [
    "### Validate_answers"
   ]
  },
  {
   "cell_type": "code",
   "execution_count": 14,
   "metadata": {},
   "outputs": [
    {
     "data": {
      "text/html": [
       "<div>\n",
       "<style scoped>\n",
       "    .dataframe tbody tr th:only-of-type {\n",
       "        vertical-align: middle;\n",
       "    }\n",
       "\n",
       "    .dataframe tbody tr th {\n",
       "        vertical-align: top;\n",
       "    }\n",
       "\n",
       "    .dataframe thead th {\n",
       "        text-align: right;\n",
       "    }\n",
       "</style>\n",
       "<table border=\"1\" class=\"dataframe\">\n",
       "  <thead>\n",
       "    <tr style=\"text-align: right;\">\n",
       "      <th></th>\n",
       "      <th>at_least_one</th>\n",
       "      <th>at_least_two</th>\n",
       "      <th>at_least_three</th>\n",
       "    </tr>\n",
       "  </thead>\n",
       "  <tbody>\n",
       "    <tr>\n",
       "      <th>0</th>\n",
       "      <td>0.0430</td>\n",
       "      <td>0.0152</td>\n",
       "      <td>0.0073</td>\n",
       "    </tr>\n",
       "    <tr>\n",
       "      <th>1</th>\n",
       "      <td>0.0130</td>\n",
       "      <td>0.0000</td>\n",
       "      <td>0.0000</td>\n",
       "    </tr>\n",
       "    <tr>\n",
       "      <th>2</th>\n",
       "      <td>0.0878</td>\n",
       "      <td>0.0135</td>\n",
       "      <td>0.0000</td>\n",
       "    </tr>\n",
       "    <tr>\n",
       "      <th>3</th>\n",
       "      <td>0.2295</td>\n",
       "      <td>0.1295</td>\n",
       "      <td>0.0727</td>\n",
       "    </tr>\n",
       "    <tr>\n",
       "      <th>4</th>\n",
       "      <td>0.3963</td>\n",
       "      <td>0.2785</td>\n",
       "      <td>0.2270</td>\n",
       "    </tr>\n",
       "  </tbody>\n",
       "</table>\n",
       "</div>"
      ],
      "text/plain": [
       "   at_least_one  at_least_two  at_least_three\n",
       "0        0.0430        0.0152          0.0073\n",
       "1        0.0130        0.0000          0.0000\n",
       "2        0.0878        0.0135          0.0000\n",
       "3        0.2295        0.1295          0.0727\n",
       "4        0.3963        0.2785          0.2270"
      ]
     },
     "execution_count": 14,
     "metadata": {},
     "output_type": "execute_result"
    }
   ],
   "source": [
    "validate_answers_ds.head()"
   ]
  },
  {
   "cell_type": "code",
   "execution_count": 78,
   "metadata": {},
   "outputs": [],
   "source": [
    "# Переводим в количество просмотров\n",
    "for i, row in validate_answers_ds.iterrows():\n",
    "    audience_size = validate_ds.loc[i, \"audience_size\"]\n",
    "\n",
    "    validate_answers_ds.loc[i, \"at_least_one\"] = round(audience_size*validate_answers_ds.loc[i, \"at_least_one\"])\n",
    "    validate_answers_ds.loc[i, \"at_least_two\"] = round(audience_size*validate_answers_ds.loc[i, \"at_least_two\"])\n",
    "    validate_answers_ds.loc[i, \"at_least_three\"] = round(audience_size*validate_answers_ds.loc[i, \"at_least_three\"])\n",
    "\n",
    "validate_answers_ds = validate_answers_ds.apply(np.int64)"
   ]
  },
  {
   "cell_type": "code",
   "execution_count": 16,
   "metadata": {},
   "outputs": [
    {
     "data": {
      "text/html": [
       "<div>\n",
       "<style scoped>\n",
       "    .dataframe tbody tr th:only-of-type {\n",
       "        vertical-align: middle;\n",
       "    }\n",
       "\n",
       "    .dataframe tbody tr th {\n",
       "        vertical-align: top;\n",
       "    }\n",
       "\n",
       "    .dataframe thead th {\n",
       "        text-align: right;\n",
       "    }\n",
       "</style>\n",
       "<table border=\"1\" class=\"dataframe\">\n",
       "  <thead>\n",
       "    <tr style=\"text-align: right;\">\n",
       "      <th></th>\n",
       "      <th>at_least_one</th>\n",
       "      <th>at_least_two</th>\n",
       "      <th>at_least_three</th>\n",
       "    </tr>\n",
       "  </thead>\n",
       "  <tbody>\n",
       "    <tr>\n",
       "      <th>0</th>\n",
       "      <td>82</td>\n",
       "      <td>29</td>\n",
       "      <td>14</td>\n",
       "    </tr>\n",
       "    <tr>\n",
       "      <th>1</th>\n",
       "      <td>18</td>\n",
       "      <td>0</td>\n",
       "      <td>0</td>\n",
       "    </tr>\n",
       "    <tr>\n",
       "      <th>2</th>\n",
       "      <td>78</td>\n",
       "      <td>12</td>\n",
       "      <td>0</td>\n",
       "    </tr>\n",
       "    <tr>\n",
       "      <th>3</th>\n",
       "      <td>101</td>\n",
       "      <td>57</td>\n",
       "      <td>32</td>\n",
       "    </tr>\n",
       "    <tr>\n",
       "      <th>4</th>\n",
       "      <td>585</td>\n",
       "      <td>411</td>\n",
       "      <td>335</td>\n",
       "    </tr>\n",
       "  </tbody>\n",
       "</table>\n",
       "</div>"
      ],
      "text/plain": [
       "   at_least_one  at_least_two  at_least_three\n",
       "0            82            29              14\n",
       "1            18             0               0\n",
       "2            78            12               0\n",
       "3           101            57              32\n",
       "4           585           411             335"
      ]
     },
     "execution_count": 16,
     "metadata": {},
     "output_type": "execute_result"
    }
   ],
   "source": [
    "validate_answers_ds.head()"
   ]
  },
  {
   "cell_type": "markdown",
   "metadata": {},
   "source": [
    "# EDA"
   ]
  },
  {
   "cell_type": "markdown",
   "metadata": {},
   "source": [
    "### Users"
   ]
  },
  {
   "cell_type": "code",
   "execution_count": 17,
   "metadata": {},
   "outputs": [
    {
     "data": {
      "text/html": [
       "<div>\n",
       "<style scoped>\n",
       "    .dataframe tbody tr th:only-of-type {\n",
       "        vertical-align: middle;\n",
       "    }\n",
       "\n",
       "    .dataframe tbody tr th {\n",
       "        vertical-align: top;\n",
       "    }\n",
       "\n",
       "    .dataframe thead th {\n",
       "        text-align: right;\n",
       "    }\n",
       "</style>\n",
       "<table border=\"1\" class=\"dataframe\">\n",
       "  <thead>\n",
       "    <tr style=\"text-align: right;\">\n",
       "      <th></th>\n",
       "      <th>user_id</th>\n",
       "      <th>sex</th>\n",
       "      <th>age</th>\n",
       "      <th>city_id</th>\n",
       "    </tr>\n",
       "  </thead>\n",
       "  <tbody>\n",
       "    <tr>\n",
       "      <th>0</th>\n",
       "      <td>0</td>\n",
       "      <td>2</td>\n",
       "      <td>19</td>\n",
       "      <td>0</td>\n",
       "    </tr>\n",
       "    <tr>\n",
       "      <th>1</th>\n",
       "      <td>1</td>\n",
       "      <td>1</td>\n",
       "      <td>0</td>\n",
       "      <td>1</td>\n",
       "    </tr>\n",
       "    <tr>\n",
       "      <th>2</th>\n",
       "      <td>2</td>\n",
       "      <td>2</td>\n",
       "      <td>24</td>\n",
       "      <td>2</td>\n",
       "    </tr>\n",
       "    <tr>\n",
       "      <th>3</th>\n",
       "      <td>3</td>\n",
       "      <td>1</td>\n",
       "      <td>20</td>\n",
       "      <td>3</td>\n",
       "    </tr>\n",
       "    <tr>\n",
       "      <th>4</th>\n",
       "      <td>4</td>\n",
       "      <td>2</td>\n",
       "      <td>29</td>\n",
       "      <td>4</td>\n",
       "    </tr>\n",
       "  </tbody>\n",
       "</table>\n",
       "</div>"
      ],
      "text/plain": [
       "   user_id  sex  age  city_id\n",
       "0        0    2   19        0\n",
       "1        1    1    0        1\n",
       "2        2    2   24        2\n",
       "3        3    1   20        3\n",
       "4        4    2   29        4"
      ]
     },
     "execution_count": 17,
     "metadata": {},
     "output_type": "execute_result"
    }
   ],
   "source": [
    "user_ds.head()"
   ]
  },
  {
   "cell_type": "code",
   "execution_count": 21,
   "metadata": {},
   "outputs": [
    {
     "data": {
      "text/plain": [
       "<Axes: xlabel='sex'>"
      ]
     },
     "execution_count": 21,
     "metadata": {},
     "output_type": "execute_result"
    },
    {
     "data": {
      "image/png": "[encoded data removed]",
      "text/plain": [
       "<Figure size 640x480 with 1 Axes>"
      ]
     },
     "metadata": {},
     "output_type": "display_data"
    }
   ],
   "source": [
    "user_ds[\"sex\"].value_counts().plot(kind=\"bar\")"
   ]
  },
  {
   "cell_type": "code",
   "execution_count": 79,
   "metadata": {},
   "outputs": [],
   "source": [
    "# Присваиваем всех нулевым значение 1\n",
    "user_ds[\"sex\"] = user_ds[\"sex\"].replace(0, 1)\n",
    "user_ds[\"sex\"] = user_ds[\"sex\"] - 1"
   ]
  },
  {
   "cell_type": "code",
   "execution_count": 80,
   "metadata": {},
   "outputs": [
    {
     "name": "stderr",
     "output_type": "stream",
     "text": [
      "  0%|          | 0/27769 [00:00<?, ?it/s]"
     ]
    },
    {
     "name": "stderr",
     "output_type": "stream",
     "text": [
      "100%|██████████| 27769/27769 [00:56<00:00, 495.10it/s]\n"
     ]
    }
   ],
   "source": [
    "# Создадим дополнительную таблицу для лучшего понимания распределения\n",
    "add_user_ds = user_ds.copy()\n",
    "\n",
    "add_data = {\n",
    "    \"publishers\": [],\n",
    "    \"publisher_quantity\": [],\n",
    "    \"hours\": [],\n",
    "    \"weekdays\": [],\n",
    "    \"views\": []\n",
    "}\n",
    "for i, row in tqdm(add_user_ds.iterrows(), total=len(add_user_ds)):\n",
    "    user_id = row[\"user_id\"]\n",
    "\n",
    "    add_data[\"publishers\"].append(np.unique(history_ds[history_ds[\"user_id\"] == user_id][\"publisher\"]))\n",
    "    add_data[\"publisher_quantity\"].append(len(add_data[\"publishers\"][i]))\n",
    "    add_data[\"hours\"].append(list(history_ds[history_ds[\"user_id\"] == user_id][\"hour\"]))\n",
    "    add_data[\"weekdays\"].append(list(history_ds[history_ds[\"user_id\"] == user_id][\"weekday\"]))\n",
    "    add_data[\"views\"].append(len(add_data[\"hours\"][i]))\n",
    "\n",
    "add_user_ds = add_user_ds.assign(**add_data)"
   ]
  },
  {
   "cell_type": "code",
   "execution_count": null,
   "metadata": {},
   "outputs": [
    {
     "data": {
      "text/plain": [
       "<Axes: >"
      ]
     },
     "execution_count": 65,
     "metadata": {},
     "output_type": "execute_result"
    },
    {
     "data": {
      "image/png": "[encoded data removed]",
      "text/plain": [
       "<Figure size 640x480 with 1 Axes>"
      ]
     },
     "metadata": {},
     "output_type": "display_data"
    }
   ],
   "source": [
    "# В какое время чаще всего засиживаются и в какой день недели\n",
    "history_ds[\"hour\"].hist(bins=24)"
   ]
  },
  {
   "cell_type": "code",
   "execution_count": 15,
   "metadata": {},
   "outputs": [
    {
     "data": {
      "text/plain": [
       "<Axes: >"
      ]
     },
     "execution_count": 15,
     "metadata": {},
     "output_type": "execute_result"
    },
    {
     "data": {
      "image/png": "[encoded data removed]",
      "text/plain": [
       "<Figure size 640x480 with 1 Axes>"
      ]
     },
     "metadata": {},
     "output_type": "display_data"
    }
   ],
   "source": [
    "history_ds[\"weekday\"].hist(bins=7)"
   ]
  },
  {
   "cell_type": "markdown",
   "metadata": {},
   "source": [
    "По графикам выше видно что чаще всего заходят с 17 до 21, меньше всего с 22 до 6. В выходные тоже заходят меньше всего."
   ]
  },
  {
   "cell_type": "code",
   "execution_count": 81,
   "metadata": {},
   "outputs": [
    {
     "name": "stderr",
     "output_type": "stream",
     "text": [
      "100%|██████████| 27769/27769 [00:03<00:00, 8402.81it/s]\n"
     ]
    }
   ],
   "source": [
    "# Добавим категориальные признаки top_hour: [\"22-7\", \"8-15\", \"16-21\"], top_hour_ratio: float и is_weekend: float\n",
    "new_data = {\n",
    "    \"top_time_interval\": [],\n",
    "    \"top_time_interval_ratio\": [],\n",
    "    \"is_workday\": []\n",
    "}\n",
    "for i, row in tqdm(add_user_ds.iterrows(), total=len(add_user_ds)):\n",
    "    if row[\"views\"] == 0:\n",
    "        new_data[\"top_time_interval\"].append(None)\n",
    "        new_data[\"top_time_interval_ratio\"].append(None)\n",
    "        new_data[\"is_workday\"].append(None)\n",
    "        continue\n",
    "\n",
    "    hours, counts = np.unique(row[\"hours\"], return_counts=True)\n",
    "    intervals = {\n",
    "        \"22-7\": (hours <= 7) | (hours >= 22),\n",
    "        \"8-15\": (hours >= 8) & (hours <= 15),\n",
    "        \"16-21\": (hours >= 16) & (hours <= 21),\n",
    "    }\n",
    "    interval_counts = {key: np.sum(counts[mask]) for key, mask in intervals.items()}\n",
    "\n",
    "    top_time_interval = max(interval_counts, key=interval_counts.get)\n",
    "    top_time_interval_ratio = interval_counts[top_time_interval]/np.sum(list(interval_counts.values()))\n",
    "\n",
    "    weekdays, counts = np.unique(row[\"weekdays\"], return_counts=True)\n",
    "    intervals = {\n",
    "        \"0-4\": (weekdays <= 4),\n",
    "        \"5-6\": (weekdays >= 5)\n",
    "    }\n",
    "    interval_counts = {key: np.sum(counts[mask]) for key, mask in intervals.items()}\n",
    "\n",
    "    is_workday = interval_counts[\"0-4\"]/np.sum(list(interval_counts.values()))\n",
    "    \n",
    "    new_data[\"top_time_interval\"].append(top_time_interval)\n",
    "    new_data[\"top_time_interval_ratio\"].append(top_time_interval_ratio)\n",
    "    new_data[\"is_workday\"].append(is_workday)\n",
    "\n",
    "add_user_ds = add_user_ds.assign(**new_data)"
   ]
  },
  {
   "cell_type": "code",
   "execution_count": 62,
   "metadata": {},
   "outputs": [
    {
     "data": {
      "text/plain": [
       "<Axes: xlabel='publisher'>"
      ]
     },
     "execution_count": 62,
     "metadata": {},
     "output_type": "execute_result"
    },
    {
     "data": {
      "image/png": "[encoded data removed]",
      "text/plain": [
       "<Figure size 640x480 with 1 Axes>"
      ]
     },
     "metadata": {},
     "output_type": "display_data"
    }
   ],
   "source": [
    "# Популярность площадок\n",
    "history_ds[\"publisher\"].value_counts().plot(kind=\"bar\")"
   ]
  },
  {
   "cell_type": "code",
   "execution_count": 82,
   "metadata": {},
   "outputs": [
    {
     "name": "stderr",
     "output_type": "stream",
     "text": [
      "100%|██████████| 27769/27769 [00:02<00:00, 12285.27it/s]\n"
     ]
    }
   ],
   "source": [
    "# Добавим категориальные признаки\n",
    "# Есть ли популярная площадка top_publisher_type: [\"well_done\", \"medium\", \"rare\"]\n",
    "# Доля популярной площадки top_publisher_type_ratio: float\n",
    "new_data = {\n",
    "    \"top_publisher\": [],\n",
    "    \"top_publisher_ratio\": []\n",
    "}\n",
    "for i, row in tqdm(add_user_ds.iterrows(), total=len(add_user_ds)):\n",
    "    if row[\"publisher_quantity\"] == 0:\n",
    "        new_data[\"top_publisher\"].append(None)\n",
    "        new_data[\"top_publisher_ratio\"].append(None)\n",
    "        continue\n",
    "\n",
    "    publishers, counts = np.unique(row[\"publishers\"], return_counts=True)\n",
    "    intervals = {\n",
    "        \"well_done\": (publishers <= 2),\n",
    "        \"medium\": (publishers == 3) | (publishers == 7),\n",
    "        \"rare\": (publishers == 4) | (publishers == 5) | (publishers == 6) | (publishers >= 8),\n",
    "    }\n",
    "    interval_counts = {key: np.sum(counts[mask]) for key, mask in intervals.items()}\n",
    "\n",
    "    top_publisher = max(interval_counts, key=interval_counts.get)\n",
    "    top_publisher_ratio = interval_counts[top_publisher]/np.sum(list(interval_counts.values()))\n",
    "\n",
    "    new_data[\"top_publisher\"].append(top_publisher)\n",
    "    new_data[\"top_publisher_ratio\"].append(top_publisher_ratio)\n",
    "\n",
    "add_user_ds = add_user_ds.assign(**new_data)"
   ]
  },
  {
   "cell_type": "code",
   "execution_count": 83,
   "metadata": {},
   "outputs": [],
   "source": [
    "# Удаляем ненужные признаки\n",
    "add_user_ds = add_user_ds.drop(columns=[\"publishers\", \"hours\", \"weekdays\"])"
   ]
  },
  {
   "cell_type": "code",
   "execution_count": 16,
   "metadata": {},
   "outputs": [
    {
     "data": {
      "text/html": [
       "<div>\n",
       "<style scoped>\n",
       "    .dataframe tbody tr th:only-of-type {\n",
       "        vertical-align: middle;\n",
       "    }\n",
       "\n",
       "    .dataframe tbody tr th {\n",
       "        vertical-align: top;\n",
       "    }\n",
       "\n",
       "    .dataframe thead th {\n",
       "        text-align: right;\n",
       "    }\n",
       "</style>\n",
       "<table border=\"1\" class=\"dataframe\">\n",
       "  <thead>\n",
       "    <tr style=\"text-align: right;\">\n",
       "      <th></th>\n",
       "      <th>user_id</th>\n",
       "      <th>sex</th>\n",
       "      <th>age</th>\n",
       "      <th>city_id</th>\n",
       "      <th>publisher_quantity</th>\n",
       "      <th>views</th>\n",
       "      <th>top_time_interval</th>\n",
       "      <th>top_time_interval_ratio</th>\n",
       "      <th>is_workday</th>\n",
       "      <th>top_publisher</th>\n",
       "      <th>top_publisher_ratio</th>\n",
       "    </tr>\n",
       "  </thead>\n",
       "  <tbody>\n",
       "    <tr>\n",
       "      <th>0</th>\n",
       "      <td>0</td>\n",
       "      <td>1</td>\n",
       "      <td>19</td>\n",
       "      <td>0</td>\n",
       "      <td>1</td>\n",
       "      <td>2</td>\n",
       "      <td>8-15</td>\n",
       "      <td>0.500000</td>\n",
       "      <td>1.000000</td>\n",
       "      <td>well_done</td>\n",
       "      <td>1.0</td>\n",
       "    </tr>\n",
       "    <tr>\n",
       "      <th>1</th>\n",
       "      <td>1</td>\n",
       "      <td>0</td>\n",
       "      <td>0</td>\n",
       "      <td>1</td>\n",
       "      <td>1</td>\n",
       "      <td>82</td>\n",
       "      <td>8-15</td>\n",
       "      <td>0.585366</td>\n",
       "      <td>0.597561</td>\n",
       "      <td>well_done</td>\n",
       "      <td>1.0</td>\n",
       "    </tr>\n",
       "    <tr>\n",
       "      <th>2</th>\n",
       "      <td>2</td>\n",
       "      <td>1</td>\n",
       "      <td>24</td>\n",
       "      <td>2</td>\n",
       "      <td>0</td>\n",
       "      <td>0</td>\n",
       "      <td>None</td>\n",
       "      <td>NaN</td>\n",
       "      <td>NaN</td>\n",
       "      <td>None</td>\n",
       "      <td>NaN</td>\n",
       "    </tr>\n",
       "    <tr>\n",
       "      <th>3</th>\n",
       "      <td>3</td>\n",
       "      <td>0</td>\n",
       "      <td>20</td>\n",
       "      <td>3</td>\n",
       "      <td>2</td>\n",
       "      <td>8</td>\n",
       "      <td>8-15</td>\n",
       "      <td>0.500000</td>\n",
       "      <td>0.750000</td>\n",
       "      <td>well_done</td>\n",
       "      <td>0.5</td>\n",
       "    </tr>\n",
       "    <tr>\n",
       "      <th>4</th>\n",
       "      <td>4</td>\n",
       "      <td>1</td>\n",
       "      <td>29</td>\n",
       "      <td>4</td>\n",
       "      <td>2</td>\n",
       "      <td>132</td>\n",
       "      <td>8-15</td>\n",
       "      <td>0.560606</td>\n",
       "      <td>0.848485</td>\n",
       "      <td>well_done</td>\n",
       "      <td>0.5</td>\n",
       "    </tr>\n",
       "  </tbody>\n",
       "</table>\n",
       "</div>"
      ],
      "text/plain": [
       "   user_id  sex  age  city_id  publisher_quantity  views top_time_interval  \\\n",
       "0        0    1   19        0                   1      2              8-15   \n",
       "1        1    0    0        1                   1     82              8-15   \n",
       "2        2    1   24        2                   0      0              None   \n",
       "3        3    0   20        3                   2      8              8-15   \n",
       "4        4    1   29        4                   2    132              8-15   \n",
       "\n",
       "   top_time_interval_ratio  is_workday top_publisher  top_publisher_ratio  \n",
       "0                 0.500000    1.000000     well_done                  1.0  \n",
       "1                 0.585366    0.597561     well_done                  1.0  \n",
       "2                      NaN         NaN          None                  NaN  \n",
       "3                 0.500000    0.750000     well_done                  0.5  \n",
       "4                 0.560606    0.848485     well_done                  0.5  "
      ]
     },
     "execution_count": 16,
     "metadata": {},
     "output_type": "execute_result"
    }
   ],
   "source": [
    "add_user_ds.head()"
   ]
  },
  {
   "cell_type": "code",
   "execution_count": 61,
   "metadata": {},
   "outputs": [
    {
     "data": {
      "text/plain": [
       "user_id                    0.00\n",
       "sex                        0.00\n",
       "age                        0.00\n",
       "city_id                    0.00\n",
       "publisher_quantity         0.00\n",
       "views                      0.00\n",
       "top_time_interval          8.04\n",
       "top_time_interval_ratio    8.04\n",
       "is_workday                 8.04\n",
       "top_publisher              8.04\n",
       "top_publisher_ratio        8.04\n",
       "dtype: float64"
      ]
     },
     "execution_count": 61,
     "metadata": {},
     "output_type": "execute_result"
    }
   ],
   "source": [
    "round(add_user_ds.isna().sum()/len(add_user_ds)*100, 2)"
   ]
  },
  {
   "cell_type": "code",
   "execution_count": 96,
   "metadata": {},
   "outputs": [
    {
     "data": {
      "text/plain": [
       "<BarContainer object of 2457 artists>"
      ]
     },
     "execution_count": 96,
     "metadata": {},
     "output_type": "execute_result"
    },
    {
     "data": {
      "image/png": "[encoded data removed]",
      "text/plain": [
       "<Figure size 640x480 with 1 Axes>"
      ]
     },
     "metadata": {},
     "output_type": "display_data"
    }
   ],
   "source": [
    "# Популярность городов\n",
    "city_ids, counts = np.unique(add_user_ds[\"city_id\"], return_counts=True)\n",
    "plt.bar(city_ids, counts)"
   ]
  },
  {
   "cell_type": "code",
   "execution_count": 20,
   "metadata": {},
   "outputs": [
    {
     "data": {
      "text/plain": [
       "np.float64(30.53)"
      ]
     },
     "execution_count": 20,
     "metadata": {},
     "output_type": "execute_result"
    }
   ],
   "source": [
    "round((add_user_ds[\"city_id\"] == 0).sum()/len(add_user_ds)*100, 2)"
   ]
  },
  {
   "cell_type": "code",
   "execution_count": 147,
   "metadata": {},
   "outputs": [],
   "source": [
    "с_add_user_ds = add_user_ds.copy()"
   ]
  },
  {
   "cell_type": "code",
   "execution_count": 148,
   "metadata": {},
   "outputs": [
    {
     "data": {
      "text/html": [
       "<div>\n",
       "<style scoped>\n",
       "    .dataframe tbody tr th:only-of-type {\n",
       "        vertical-align: middle;\n",
       "    }\n",
       "\n",
       "    .dataframe tbody tr th {\n",
       "        vertical-align: top;\n",
       "    }\n",
       "\n",
       "    .dataframe thead th {\n",
       "        text-align: right;\n",
       "    }\n",
       "</style>\n",
       "<table border=\"1\" class=\"dataframe\">\n",
       "  <thead>\n",
       "    <tr style=\"text-align: right;\">\n",
       "      <th></th>\n",
       "      <th>user_id</th>\n",
       "      <th>sex</th>\n",
       "      <th>age</th>\n",
       "      <th>city_id</th>\n",
       "      <th>publisher_quantity</th>\n",
       "      <th>views</th>\n",
       "      <th>top_time_interval</th>\n",
       "      <th>top_time_interval_ratio</th>\n",
       "      <th>is_workday</th>\n",
       "      <th>top_publisher</th>\n",
       "      <th>top_publisher_ratio</th>\n",
       "    </tr>\n",
       "  </thead>\n",
       "  <tbody>\n",
       "    <tr>\n",
       "      <th>0</th>\n",
       "      <td>0</td>\n",
       "      <td>1</td>\n",
       "      <td>19</td>\n",
       "      <td>8479</td>\n",
       "      <td>1</td>\n",
       "      <td>2</td>\n",
       "      <td>8-15</td>\n",
       "      <td>0.500000</td>\n",
       "      <td>1.000000</td>\n",
       "      <td>well_done</td>\n",
       "      <td>1.0</td>\n",
       "    </tr>\n",
       "    <tr>\n",
       "      <th>1</th>\n",
       "      <td>1</td>\n",
       "      <td>0</td>\n",
       "      <td>0</td>\n",
       "      <td>16</td>\n",
       "      <td>1</td>\n",
       "      <td>82</td>\n",
       "      <td>8-15</td>\n",
       "      <td>0.585366</td>\n",
       "      <td>0.597561</td>\n",
       "      <td>well_done</td>\n",
       "      <td>1.0</td>\n",
       "    </tr>\n",
       "    <tr>\n",
       "      <th>2</th>\n",
       "      <td>2</td>\n",
       "      <td>1</td>\n",
       "      <td>24</td>\n",
       "      <td>1</td>\n",
       "      <td>0</td>\n",
       "      <td>0</td>\n",
       "      <td>None</td>\n",
       "      <td>NaN</td>\n",
       "      <td>NaN</td>\n",
       "      <td>None</td>\n",
       "      <td>NaN</td>\n",
       "    </tr>\n",
       "    <tr>\n",
       "      <th>3</th>\n",
       "      <td>3</td>\n",
       "      <td>0</td>\n",
       "      <td>20</td>\n",
       "      <td>1985</td>\n",
       "      <td>2</td>\n",
       "      <td>8</td>\n",
       "      <td>8-15</td>\n",
       "      <td>0.500000</td>\n",
       "      <td>0.750000</td>\n",
       "      <td>well_done</td>\n",
       "      <td>0.5</td>\n",
       "    </tr>\n",
       "    <tr>\n",
       "      <th>4</th>\n",
       "      <td>4</td>\n",
       "      <td>1</td>\n",
       "      <td>29</td>\n",
       "      <td>66</td>\n",
       "      <td>2</td>\n",
       "      <td>132</td>\n",
       "      <td>8-15</td>\n",
       "      <td>0.560606</td>\n",
       "      <td>0.848485</td>\n",
       "      <td>well_done</td>\n",
       "      <td>0.5</td>\n",
       "    </tr>\n",
       "  </tbody>\n",
       "</table>\n",
       "</div>"
      ],
      "text/plain": [
       "   user_id  sex  age  city_id  publisher_quantity  views top_time_interval  \\\n",
       "0        0    1   19     8479                   1      2              8-15   \n",
       "1        1    0    0       16                   1     82              8-15   \n",
       "2        2    1   24        1                   0      0              None   \n",
       "3        3    0   20     1985                   2      8              8-15   \n",
       "4        4    1   29       66                   2    132              8-15   \n",
       "\n",
       "   top_time_interval_ratio  is_workday top_publisher  top_publisher_ratio  \n",
       "0                 0.500000    1.000000     well_done                  1.0  \n",
       "1                 0.585366    0.597561     well_done                  1.0  \n",
       "2                      NaN         NaN          None                  NaN  \n",
       "3                 0.500000    0.750000     well_done                  0.5  \n",
       "4                 0.560606    0.848485     well_done                  0.5  "
      ]
     },
     "execution_count": 148,
     "metadata": {},
     "output_type": "execute_result"
    }
   ],
   "source": [
    "# Меняем категориальные признаки\n",
    "encoder = ce.CountEncoder(cols=[\"city_id\"])\n",
    "с_add_user_ds = encoder.fit_transform(с_add_user_ds)\n",
    "с_add_user_ds.head()"
   ]
  },
  {
   "cell_type": "code",
   "execution_count": 149,
   "metadata": {},
   "outputs": [
    {
     "data": {
      "text/html": [
       "<div>\n",
       "<style scoped>\n",
       "    .dataframe tbody tr th:only-of-type {\n",
       "        vertical-align: middle;\n",
       "    }\n",
       "\n",
       "    .dataframe tbody tr th {\n",
       "        vertical-align: top;\n",
       "    }\n",
       "\n",
       "    .dataframe thead th {\n",
       "        text-align: right;\n",
       "    }\n",
       "</style>\n",
       "<table border=\"1\" class=\"dataframe\">\n",
       "  <thead>\n",
       "    <tr style=\"text-align: right;\">\n",
       "      <th></th>\n",
       "      <th>user_id</th>\n",
       "      <th>sex</th>\n",
       "      <th>age</th>\n",
       "      <th>city_id</th>\n",
       "      <th>publisher_quantity</th>\n",
       "      <th>views</th>\n",
       "      <th>top_time_interval_8-15</th>\n",
       "      <th>top_time_interval_16-21</th>\n",
       "      <th>top_time_interval_22-7</th>\n",
       "      <th>top_time_interval_ratio</th>\n",
       "      <th>is_workday</th>\n",
       "      <th>top_publisher</th>\n",
       "      <th>top_publisher_ratio</th>\n",
       "    </tr>\n",
       "  </thead>\n",
       "  <tbody>\n",
       "    <tr>\n",
       "      <th>0</th>\n",
       "      <td>0</td>\n",
       "      <td>1</td>\n",
       "      <td>19</td>\n",
       "      <td>8479</td>\n",
       "      <td>1</td>\n",
       "      <td>2</td>\n",
       "      <td>1.0</td>\n",
       "      <td>0.0</td>\n",
       "      <td>0.0</td>\n",
       "      <td>0.500000</td>\n",
       "      <td>1.000000</td>\n",
       "      <td>well_done</td>\n",
       "      <td>1.0</td>\n",
       "    </tr>\n",
       "    <tr>\n",
       "      <th>1</th>\n",
       "      <td>1</td>\n",
       "      <td>0</td>\n",
       "      <td>0</td>\n",
       "      <td>16</td>\n",
       "      <td>1</td>\n",
       "      <td>82</td>\n",
       "      <td>1.0</td>\n",
       "      <td>0.0</td>\n",
       "      <td>0.0</td>\n",
       "      <td>0.585366</td>\n",
       "      <td>0.597561</td>\n",
       "      <td>well_done</td>\n",
       "      <td>1.0</td>\n",
       "    </tr>\n",
       "    <tr>\n",
       "      <th>2</th>\n",
       "      <td>2</td>\n",
       "      <td>1</td>\n",
       "      <td>24</td>\n",
       "      <td>1</td>\n",
       "      <td>0</td>\n",
       "      <td>0</td>\n",
       "      <td>NaN</td>\n",
       "      <td>NaN</td>\n",
       "      <td>NaN</td>\n",
       "      <td>NaN</td>\n",
       "      <td>NaN</td>\n",
       "      <td>None</td>\n",
       "      <td>NaN</td>\n",
       "    </tr>\n",
       "    <tr>\n",
       "      <th>3</th>\n",
       "      <td>3</td>\n",
       "      <td>0</td>\n",
       "      <td>20</td>\n",
       "      <td>1985</td>\n",
       "      <td>2</td>\n",
       "      <td>8</td>\n",
       "      <td>1.0</td>\n",
       "      <td>0.0</td>\n",
       "      <td>0.0</td>\n",
       "      <td>0.500000</td>\n",
       "      <td>0.750000</td>\n",
       "      <td>well_done</td>\n",
       "      <td>0.5</td>\n",
       "    </tr>\n",
       "    <tr>\n",
       "      <th>4</th>\n",
       "      <td>4</td>\n",
       "      <td>1</td>\n",
       "      <td>29</td>\n",
       "      <td>66</td>\n",
       "      <td>2</td>\n",
       "      <td>132</td>\n",
       "      <td>1.0</td>\n",
       "      <td>0.0</td>\n",
       "      <td>0.0</td>\n",
       "      <td>0.560606</td>\n",
       "      <td>0.848485</td>\n",
       "      <td>well_done</td>\n",
       "      <td>0.5</td>\n",
       "    </tr>\n",
       "  </tbody>\n",
       "</table>\n",
       "</div>"
      ],
      "text/plain": [
       "   user_id  sex  age  city_id  publisher_quantity  views  \\\n",
       "0        0    1   19     8479                   1      2   \n",
       "1        1    0    0       16                   1     82   \n",
       "2        2    1   24        1                   0      0   \n",
       "3        3    0   20     1985                   2      8   \n",
       "4        4    1   29       66                   2    132   \n",
       "\n",
       "   top_time_interval_8-15  top_time_interval_16-21  top_time_interval_22-7  \\\n",
       "0                     1.0                      0.0                     0.0   \n",
       "1                     1.0                      0.0                     0.0   \n",
       "2                     NaN                      NaN                     NaN   \n",
       "3                     1.0                      0.0                     0.0   \n",
       "4                     1.0                      0.0                     0.0   \n",
       "\n",
       "   top_time_interval_ratio  is_workday top_publisher  top_publisher_ratio  \n",
       "0                 0.500000    1.000000     well_done                  1.0  \n",
       "1                 0.585366    0.597561     well_done                  1.0  \n",
       "2                      NaN         NaN          None                  NaN  \n",
       "3                 0.500000    0.750000     well_done                  0.5  \n",
       "4                 0.560606    0.848485     well_done                  0.5  "
      ]
     },
     "execution_count": 149,
     "metadata": {},
     "output_type": "execute_result"
    }
   ],
   "source": [
    "encoder = ce.OneHotEncoder(cols=[\"top_time_interval\"], use_cat_names=True, handle_missing=\"return_nan\")\n",
    "с_add_user_ds = encoder.fit_transform(с_add_user_ds)\n",
    "с_add_user_ds.head()"
   ]
  },
  {
   "cell_type": "code",
   "execution_count": 150,
   "metadata": {},
   "outputs": [
    {
     "data": {
      "text/html": [
       "<div>\n",
       "<style scoped>\n",
       "    .dataframe tbody tr th:only-of-type {\n",
       "        vertical-align: middle;\n",
       "    }\n",
       "\n",
       "    .dataframe tbody tr th {\n",
       "        vertical-align: top;\n",
       "    }\n",
       "\n",
       "    .dataframe thead th {\n",
       "        text-align: right;\n",
       "    }\n",
       "</style>\n",
       "<table border=\"1\" class=\"dataframe\">\n",
       "  <thead>\n",
       "    <tr style=\"text-align: right;\">\n",
       "      <th></th>\n",
       "      <th>user_id</th>\n",
       "      <th>sex</th>\n",
       "      <th>age</th>\n",
       "      <th>city_id</th>\n",
       "      <th>publisher_quantity</th>\n",
       "      <th>views</th>\n",
       "      <th>top_time_interval_8-15</th>\n",
       "      <th>top_time_interval_16-21</th>\n",
       "      <th>top_time_interval_22-7</th>\n",
       "      <th>top_time_interval_ratio</th>\n",
       "      <th>is_workday</th>\n",
       "      <th>top_publisher</th>\n",
       "      <th>top_publisher_ratio</th>\n",
       "    </tr>\n",
       "  </thead>\n",
       "  <tbody>\n",
       "    <tr>\n",
       "      <th>0</th>\n",
       "      <td>0</td>\n",
       "      <td>1</td>\n",
       "      <td>19</td>\n",
       "      <td>8479</td>\n",
       "      <td>1</td>\n",
       "      <td>2</td>\n",
       "      <td>1.0</td>\n",
       "      <td>0.0</td>\n",
       "      <td>0.0</td>\n",
       "      <td>0.500000</td>\n",
       "      <td>1.000000</td>\n",
       "      <td>3.0</td>\n",
       "      <td>1.0</td>\n",
       "    </tr>\n",
       "    <tr>\n",
       "      <th>1</th>\n",
       "      <td>1</td>\n",
       "      <td>0</td>\n",
       "      <td>0</td>\n",
       "      <td>16</td>\n",
       "      <td>1</td>\n",
       "      <td>82</td>\n",
       "      <td>1.0</td>\n",
       "      <td>0.0</td>\n",
       "      <td>0.0</td>\n",
       "      <td>0.585366</td>\n",
       "      <td>0.597561</td>\n",
       "      <td>3.0</td>\n",
       "      <td>1.0</td>\n",
       "    </tr>\n",
       "    <tr>\n",
       "      <th>2</th>\n",
       "      <td>2</td>\n",
       "      <td>1</td>\n",
       "      <td>24</td>\n",
       "      <td>1</td>\n",
       "      <td>0</td>\n",
       "      <td>0</td>\n",
       "      <td>NaN</td>\n",
       "      <td>NaN</td>\n",
       "      <td>NaN</td>\n",
       "      <td>NaN</td>\n",
       "      <td>NaN</td>\n",
       "      <td>-1.0</td>\n",
       "      <td>NaN</td>\n",
       "    </tr>\n",
       "    <tr>\n",
       "      <th>3</th>\n",
       "      <td>3</td>\n",
       "      <td>0</td>\n",
       "      <td>20</td>\n",
       "      <td>1985</td>\n",
       "      <td>2</td>\n",
       "      <td>8</td>\n",
       "      <td>1.0</td>\n",
       "      <td>0.0</td>\n",
       "      <td>0.0</td>\n",
       "      <td>0.500000</td>\n",
       "      <td>0.750000</td>\n",
       "      <td>3.0</td>\n",
       "      <td>0.5</td>\n",
       "    </tr>\n",
       "    <tr>\n",
       "      <th>4</th>\n",
       "      <td>4</td>\n",
       "      <td>1</td>\n",
       "      <td>29</td>\n",
       "      <td>66</td>\n",
       "      <td>2</td>\n",
       "      <td>132</td>\n",
       "      <td>1.0</td>\n",
       "      <td>0.0</td>\n",
       "      <td>0.0</td>\n",
       "      <td>0.560606</td>\n",
       "      <td>0.848485</td>\n",
       "      <td>3.0</td>\n",
       "      <td>0.5</td>\n",
       "    </tr>\n",
       "  </tbody>\n",
       "</table>\n",
       "</div>"
      ],
      "text/plain": [
       "   user_id  sex  age  city_id  publisher_quantity  views  \\\n",
       "0        0    1   19     8479                   1      2   \n",
       "1        1    0    0       16                   1     82   \n",
       "2        2    1   24        1                   0      0   \n",
       "3        3    0   20     1985                   2      8   \n",
       "4        4    1   29       66                   2    132   \n",
       "\n",
       "   top_time_interval_8-15  top_time_interval_16-21  top_time_interval_22-7  \\\n",
       "0                     1.0                      0.0                     0.0   \n",
       "1                     1.0                      0.0                     0.0   \n",
       "2                     NaN                      NaN                     NaN   \n",
       "3                     1.0                      0.0                     0.0   \n",
       "4                     1.0                      0.0                     0.0   \n",
       "\n",
       "   top_time_interval_ratio  is_workday  top_publisher  top_publisher_ratio  \n",
       "0                 0.500000    1.000000            3.0                  1.0  \n",
       "1                 0.585366    0.597561            3.0                  1.0  \n",
       "2                      NaN         NaN           -1.0                  NaN  \n",
       "3                 0.500000    0.750000            3.0                  0.5  \n",
       "4                 0.560606    0.848485            3.0                  0.5  "
      ]
     },
     "execution_count": 150,
     "metadata": {},
     "output_type": "execute_result"
    }
   ],
   "source": [
    "mapping = [{'col': 'top_publisher', 'mapping': {\"well_done\": 3, \"medium\": 2, \"rare\": 1}}]\n",
    "encoder = ce.OrdinalEncoder(mapping=mapping, cols=[\"top_publisher\"], drop_invariant=True, handle_missing=\"return_nan\")\n",
    "с_add_user_ds = encoder.fit_transform(с_add_user_ds)\n",
    "с_add_user_ds.head()"
   ]
  },
  {
   "cell_type": "code",
   "execution_count": 151,
   "metadata": {},
   "outputs": [
    {
     "data": {
      "text/html": [
       "<div>\n",
       "<style scoped>\n",
       "    .dataframe tbody tr th:only-of-type {\n",
       "        vertical-align: middle;\n",
       "    }\n",
       "\n",
       "    .dataframe tbody tr th {\n",
       "        vertical-align: top;\n",
       "    }\n",
       "\n",
       "    .dataframe thead th {\n",
       "        text-align: right;\n",
       "    }\n",
       "</style>\n",
       "<table border=\"1\" class=\"dataframe\">\n",
       "  <thead>\n",
       "    <tr style=\"text-align: right;\">\n",
       "      <th></th>\n",
       "      <th>user_id</th>\n",
       "      <th>sex</th>\n",
       "      <th>age</th>\n",
       "      <th>city_id</th>\n",
       "      <th>publisher_quantity</th>\n",
       "      <th>views</th>\n",
       "      <th>top_time_interval_8-15</th>\n",
       "      <th>top_time_interval_16-21</th>\n",
       "      <th>top_time_interval_22-7</th>\n",
       "      <th>top_time_interval_ratio</th>\n",
       "      <th>is_workday</th>\n",
       "      <th>top_publisher</th>\n",
       "      <th>top_publisher_ratio</th>\n",
       "    </tr>\n",
       "  </thead>\n",
       "  <tbody>\n",
       "    <tr>\n",
       "      <th>0</th>\n",
       "      <td>0</td>\n",
       "      <td>1</td>\n",
       "      <td>19</td>\n",
       "      <td>8479</td>\n",
       "      <td>1</td>\n",
       "      <td>2</td>\n",
       "      <td>1</td>\n",
       "      <td>0</td>\n",
       "      <td>0</td>\n",
       "      <td>0.500000</td>\n",
       "      <td>1.000000</td>\n",
       "      <td>3</td>\n",
       "      <td>1.0</td>\n",
       "    </tr>\n",
       "    <tr>\n",
       "      <th>1</th>\n",
       "      <td>1</td>\n",
       "      <td>0</td>\n",
       "      <td>0</td>\n",
       "      <td>16</td>\n",
       "      <td>1</td>\n",
       "      <td>82</td>\n",
       "      <td>1</td>\n",
       "      <td>0</td>\n",
       "      <td>0</td>\n",
       "      <td>0.585366</td>\n",
       "      <td>0.597561</td>\n",
       "      <td>3</td>\n",
       "      <td>1.0</td>\n",
       "    </tr>\n",
       "    <tr>\n",
       "      <th>2</th>\n",
       "      <td>2</td>\n",
       "      <td>1</td>\n",
       "      <td>24</td>\n",
       "      <td>1</td>\n",
       "      <td>0</td>\n",
       "      <td>0</td>\n",
       "      <td>&lt;NA&gt;</td>\n",
       "      <td>&lt;NA&gt;</td>\n",
       "      <td>&lt;NA&gt;</td>\n",
       "      <td>NaN</td>\n",
       "      <td>NaN</td>\n",
       "      <td>&lt;NA&gt;</td>\n",
       "      <td>NaN</td>\n",
       "    </tr>\n",
       "    <tr>\n",
       "      <th>3</th>\n",
       "      <td>3</td>\n",
       "      <td>0</td>\n",
       "      <td>20</td>\n",
       "      <td>1985</td>\n",
       "      <td>2</td>\n",
       "      <td>8</td>\n",
       "      <td>1</td>\n",
       "      <td>0</td>\n",
       "      <td>0</td>\n",
       "      <td>0.500000</td>\n",
       "      <td>0.750000</td>\n",
       "      <td>3</td>\n",
       "      <td>0.5</td>\n",
       "    </tr>\n",
       "    <tr>\n",
       "      <th>4</th>\n",
       "      <td>4</td>\n",
       "      <td>1</td>\n",
       "      <td>29</td>\n",
       "      <td>66</td>\n",
       "      <td>2</td>\n",
       "      <td>132</td>\n",
       "      <td>1</td>\n",
       "      <td>0</td>\n",
       "      <td>0</td>\n",
       "      <td>0.560606</td>\n",
       "      <td>0.848485</td>\n",
       "      <td>3</td>\n",
       "      <td>0.5</td>\n",
       "    </tr>\n",
       "  </tbody>\n",
       "</table>\n",
       "</div>"
      ],
      "text/plain": [
       "   user_id  sex  age  city_id  publisher_quantity  views  \\\n",
       "0        0    1   19     8479                   1      2   \n",
       "1        1    0    0       16                   1     82   \n",
       "2        2    1   24        1                   0      0   \n",
       "3        3    0   20     1985                   2      8   \n",
       "4        4    1   29       66                   2    132   \n",
       "\n",
       "   top_time_interval_8-15  top_time_interval_16-21  top_time_interval_22-7  \\\n",
       "0                       1                        0                       0   \n",
       "1                       1                        0                       0   \n",
       "2                    <NA>                     <NA>                    <NA>   \n",
       "3                       1                        0                       0   \n",
       "4                       1                        0                       0   \n",
       "\n",
       "   top_time_interval_ratio  is_workday  top_publisher  top_publisher_ratio  \n",
       "0                 0.500000    1.000000              3                  1.0  \n",
       "1                 0.585366    0.597561              3                  1.0  \n",
       "2                      NaN         NaN           <NA>                  NaN  \n",
       "3                 0.500000    0.750000              3                  0.5  \n",
       "4                 0.560606    0.848485              3                  0.5  "
      ]
     },
     "execution_count": 151,
     "metadata": {},
     "output_type": "execute_result"
    }
   ],
   "source": [
    "# Переводим в int\n",
    "с_add_user_ds = с_add_user_ds.replace({'top_publisher': -1}, np.nan)\n",
    "с_add_user_ds = с_add_user_ds.astype({\"top_time_interval_8-15\": \"Int64\", \"top_time_interval_16-21\": \"Int64\", \"top_time_interval_22-7\": \"Int64\", \"top_publisher\": \"Int64\"})\n",
    "с_add_user_ds.head()"
   ]
  },
  {
   "cell_type": "code",
   "execution_count": 152,
   "metadata": {},
   "outputs": [
    {
     "data": {
      "text/plain": [
       "<Axes: >"
      ]
     },
     "execution_count": 152,
     "metadata": {},
     "output_type": "execute_result"
    },
    {
     "data": {
      "image/png": "[encoded data removed]",
      "text/plain": [
       "<Figure size 1000x500 with 1 Axes>"
      ]
     },
     "metadata": {},
     "output_type": "display_data"
    }
   ],
   "source": [
    "с_add_user_ds[\"age\"].hist(bins=25, figsize=(10, 5))"
   ]
  },
  {
   "cell_type": "code",
   "execution_count": 153,
   "metadata": {},
   "outputs": [],
   "source": [
    "# Убираем выбросы: кто старше 90 тому присваиваем mean\n",
    "mask = ((с_add_user_ds[\"age\"] != 0) & (с_add_user_ds[\"age\"] < 90))\n",
    "mean_age = np.mean(с_add_user_ds.loc[mask, \"age\"]).astype(np.int64)\n",
    "\n",
    "mask = с_add_user_ds[\"age\"] >= 90\n",
    "с_add_user_ds.loc[mask, \"age\"] = mean_age"
   ]
  },
  {
   "cell_type": "code",
   "execution_count": 154,
   "metadata": {},
   "outputs": [
    {
     "data": {
      "text/plain": [
       "<Axes: >"
      ]
     },
     "execution_count": 154,
     "metadata": {},
     "output_type": "execute_result"
    },
    {
     "data": {
      "image/png": "[encoded data removed]",
      "text/plain": [
       "<Figure size 1000x500 with 1 Axes>"
      ]
     },
     "metadata": {},
     "output_type": "display_data"
    }
   ],
   "source": [
    "с_add_user_ds[\"age\"].hist(bins=25, figsize=(10, 5))"
   ]
  },
  {
   "cell_type": "code",
   "execution_count": 155,
   "metadata": {},
   "outputs": [
    {
     "data": {
      "text/html": [
       "<div>\n",
       "<style scoped>\n",
       "    .dataframe tbody tr th:only-of-type {\n",
       "        vertical-align: middle;\n",
       "    }\n",
       "\n",
       "    .dataframe tbody tr th {\n",
       "        vertical-align: top;\n",
       "    }\n",
       "\n",
       "    .dataframe thead th {\n",
       "        text-align: right;\n",
       "    }\n",
       "</style>\n",
       "<table border=\"1\" class=\"dataframe\">\n",
       "  <thead>\n",
       "    <tr style=\"text-align: right;\">\n",
       "      <th></th>\n",
       "      <th>user_id</th>\n",
       "      <th>sex</th>\n",
       "      <th>age</th>\n",
       "      <th>city_id</th>\n",
       "      <th>publisher_quantity</th>\n",
       "      <th>views</th>\n",
       "      <th>top_time_interval_8-15</th>\n",
       "      <th>top_time_interval_16-21</th>\n",
       "      <th>top_time_interval_22-7</th>\n",
       "      <th>top_time_interval_ratio</th>\n",
       "      <th>is_workday</th>\n",
       "      <th>top_publisher</th>\n",
       "      <th>top_publisher_ratio</th>\n",
       "    </tr>\n",
       "  </thead>\n",
       "  <tbody>\n",
       "    <tr>\n",
       "      <th>0</th>\n",
       "      <td>0</td>\n",
       "      <td>1</td>\n",
       "      <td>19</td>\n",
       "      <td>8479</td>\n",
       "      <td>1</td>\n",
       "      <td>2</td>\n",
       "      <td>1</td>\n",
       "      <td>0</td>\n",
       "      <td>0</td>\n",
       "      <td>0.500000</td>\n",
       "      <td>1.000000</td>\n",
       "      <td>3</td>\n",
       "      <td>1.0</td>\n",
       "    </tr>\n",
       "    <tr>\n",
       "      <th>1</th>\n",
       "      <td>1</td>\n",
       "      <td>0</td>\n",
       "      <td>0</td>\n",
       "      <td>16</td>\n",
       "      <td>1</td>\n",
       "      <td>82</td>\n",
       "      <td>1</td>\n",
       "      <td>0</td>\n",
       "      <td>0</td>\n",
       "      <td>0.585366</td>\n",
       "      <td>0.597561</td>\n",
       "      <td>3</td>\n",
       "      <td>1.0</td>\n",
       "    </tr>\n",
       "    <tr>\n",
       "      <th>3</th>\n",
       "      <td>3</td>\n",
       "      <td>0</td>\n",
       "      <td>20</td>\n",
       "      <td>1985</td>\n",
       "      <td>2</td>\n",
       "      <td>8</td>\n",
       "      <td>1</td>\n",
       "      <td>0</td>\n",
       "      <td>0</td>\n",
       "      <td>0.500000</td>\n",
       "      <td>0.750000</td>\n",
       "      <td>3</td>\n",
       "      <td>0.5</td>\n",
       "    </tr>\n",
       "    <tr>\n",
       "      <th>4</th>\n",
       "      <td>4</td>\n",
       "      <td>1</td>\n",
       "      <td>29</td>\n",
       "      <td>66</td>\n",
       "      <td>2</td>\n",
       "      <td>132</td>\n",
       "      <td>1</td>\n",
       "      <td>0</td>\n",
       "      <td>0</td>\n",
       "      <td>0.560606</td>\n",
       "      <td>0.848485</td>\n",
       "      <td>3</td>\n",
       "      <td>0.5</td>\n",
       "    </tr>\n",
       "    <tr>\n",
       "      <th>5</th>\n",
       "      <td>5</td>\n",
       "      <td>1</td>\n",
       "      <td>22</td>\n",
       "      <td>20</td>\n",
       "      <td>1</td>\n",
       "      <td>9</td>\n",
       "      <td>1</td>\n",
       "      <td>0</td>\n",
       "      <td>0</td>\n",
       "      <td>0.888889</td>\n",
       "      <td>0.666667</td>\n",
       "      <td>2</td>\n",
       "      <td>1.0</td>\n",
       "    </tr>\n",
       "  </tbody>\n",
       "</table>\n",
       "</div>"
      ],
      "text/plain": [
       "   user_id  sex  age  city_id  publisher_quantity  views  \\\n",
       "0        0    1   19     8479                   1      2   \n",
       "1        1    0    0       16                   1     82   \n",
       "3        3    0   20     1985                   2      8   \n",
       "4        4    1   29       66                   2    132   \n",
       "5        5    1   22       20                   1      9   \n",
       "\n",
       "   top_time_interval_8-15  top_time_interval_16-21  top_time_interval_22-7  \\\n",
       "0                       1                        0                       0   \n",
       "1                       1                        0                       0   \n",
       "3                       1                        0                       0   \n",
       "4                       1                        0                       0   \n",
       "5                       1                        0                       0   \n",
       "\n",
       "   top_time_interval_ratio  is_workday  top_publisher  top_publisher_ratio  \n",
       "0                 0.500000    1.000000              3                  1.0  \n",
       "1                 0.585366    0.597561              3                  1.0  \n",
       "3                 0.500000    0.750000              3                  0.5  \n",
       "4                 0.560606    0.848485              3                  0.5  \n",
       "5                 0.888889    0.666667              2                  1.0  "
      ]
     },
     "execution_count": 155,
     "metadata": {},
     "output_type": "execute_result"
    }
   ],
   "source": [
    "# Возьмем юзеров без пропущенных значений\n",
    "c_add_user_ds_subset = с_add_user_ds[с_add_user_ds[\"views\"] != 0]\n",
    "c_add_user_ds_subset.head()"
   ]
  },
  {
   "cell_type": "code",
   "execution_count": 156,
   "metadata": {},
   "outputs": [
    {
     "data": {
      "text/plain": [
       "<Axes: >"
      ]
     },
     "execution_count": 156,
     "metadata": {},
     "output_type": "execute_result"
    },
    {
     "data": {
      "image/png": "[encoded data removed]",
      "text/plain": [
       "<Figure size 1000x500 with 1 Axes>"
      ]
     },
     "metadata": {},
     "output_type": "display_data"
    }
   ],
   "source": [
    "c_add_user_ds_subset[\"age\"].hist(bins=25, figsize=(10, 5))"
   ]
  },
  {
   "cell_type": "code",
   "execution_count": 157,
   "metadata": {},
   "outputs": [
    {
     "data": {
      "text/html": [
       "<div>\n",
       "<style scoped>\n",
       "    .dataframe tbody tr th:only-of-type {\n",
       "        vertical-align: middle;\n",
       "    }\n",
       "\n",
       "    .dataframe tbody tr th {\n",
       "        vertical-align: top;\n",
       "    }\n",
       "\n",
       "    .dataframe thead th {\n",
       "        text-align: right;\n",
       "    }\n",
       "</style>\n",
       "<table border=\"1\" class=\"dataframe\">\n",
       "  <thead>\n",
       "    <tr style=\"text-align: right;\">\n",
       "      <th></th>\n",
       "      <th>user_id</th>\n",
       "      <th>sex</th>\n",
       "      <th>age</th>\n",
       "      <th>city_id</th>\n",
       "      <th>publisher_quantity</th>\n",
       "      <th>views</th>\n",
       "      <th>top_time_interval_8-15</th>\n",
       "      <th>top_time_interval_16-21</th>\n",
       "      <th>top_time_interval_22-7</th>\n",
       "      <th>top_time_interval_ratio</th>\n",
       "      <th>is_workday</th>\n",
       "      <th>top_publisher</th>\n",
       "      <th>top_publisher_ratio</th>\n",
       "    </tr>\n",
       "  </thead>\n",
       "  <tbody>\n",
       "    <tr>\n",
       "      <th>0</th>\n",
       "      <td>0</td>\n",
       "      <td>1</td>\n",
       "      <td>19</td>\n",
       "      <td>8479</td>\n",
       "      <td>1</td>\n",
       "      <td>2</td>\n",
       "      <td>1</td>\n",
       "      <td>0</td>\n",
       "      <td>0</td>\n",
       "      <td>0.500000</td>\n",
       "      <td>1.000000</td>\n",
       "      <td>3</td>\n",
       "      <td>1.0</td>\n",
       "    </tr>\n",
       "    <tr>\n",
       "      <th>1</th>\n",
       "      <td>1</td>\n",
       "      <td>0</td>\n",
       "      <td>30</td>\n",
       "      <td>16</td>\n",
       "      <td>1</td>\n",
       "      <td>82</td>\n",
       "      <td>1</td>\n",
       "      <td>0</td>\n",
       "      <td>0</td>\n",
       "      <td>0.585366</td>\n",
       "      <td>0.597561</td>\n",
       "      <td>3</td>\n",
       "      <td>1.0</td>\n",
       "    </tr>\n",
       "    <tr>\n",
       "      <th>3</th>\n",
       "      <td>3</td>\n",
       "      <td>0</td>\n",
       "      <td>20</td>\n",
       "      <td>1985</td>\n",
       "      <td>2</td>\n",
       "      <td>8</td>\n",
       "      <td>1</td>\n",
       "      <td>0</td>\n",
       "      <td>0</td>\n",
       "      <td>0.500000</td>\n",
       "      <td>0.750000</td>\n",
       "      <td>3</td>\n",
       "      <td>0.5</td>\n",
       "    </tr>\n",
       "    <tr>\n",
       "      <th>4</th>\n",
       "      <td>4</td>\n",
       "      <td>1</td>\n",
       "      <td>29</td>\n",
       "      <td>66</td>\n",
       "      <td>2</td>\n",
       "      <td>132</td>\n",
       "      <td>1</td>\n",
       "      <td>0</td>\n",
       "      <td>0</td>\n",
       "      <td>0.560606</td>\n",
       "      <td>0.848485</td>\n",
       "      <td>3</td>\n",
       "      <td>0.5</td>\n",
       "    </tr>\n",
       "    <tr>\n",
       "      <th>5</th>\n",
       "      <td>5</td>\n",
       "      <td>1</td>\n",
       "      <td>22</td>\n",
       "      <td>20</td>\n",
       "      <td>1</td>\n",
       "      <td>9</td>\n",
       "      <td>1</td>\n",
       "      <td>0</td>\n",
       "      <td>0</td>\n",
       "      <td>0.888889</td>\n",
       "      <td>0.666667</td>\n",
       "      <td>2</td>\n",
       "      <td>1.0</td>\n",
       "    </tr>\n",
       "  </tbody>\n",
       "</table>\n",
       "</div>"
      ],
      "text/plain": [
       "   user_id  sex  age  city_id  publisher_quantity  views  \\\n",
       "0        0    1   19     8479                   1      2   \n",
       "1        1    0   30       16                   1     82   \n",
       "3        3    0   20     1985                   2      8   \n",
       "4        4    1   29       66                   2    132   \n",
       "5        5    1   22       20                   1      9   \n",
       "\n",
       "   top_time_interval_8-15  top_time_interval_16-21  top_time_interval_22-7  \\\n",
       "0                       1                        0                       0   \n",
       "1                       1                        0                       0   \n",
       "3                       1                        0                       0   \n",
       "4                       1                        0                       0   \n",
       "5                       1                        0                       0   \n",
       "\n",
       "   top_time_interval_ratio  is_workday  top_publisher  top_publisher_ratio  \n",
       "0                 0.500000    1.000000              3                  1.0  \n",
       "1                 0.585366    0.597561              3                  1.0  \n",
       "3                 0.500000    0.750000              3                  0.5  \n",
       "4                 0.560606    0.848485              3                  0.5  \n",
       "5                 0.888889    0.666667              2                  1.0  "
      ]
     },
     "execution_count": 157,
     "metadata": {},
     "output_type": "execute_result"
    }
   ],
   "source": [
    "# Присвоим None к возрасту и заполним их\n",
    "c_add_user_ds_subset = c_add_user_ds_subset.replace({\"age\": 0}, np.nan)\n",
    "\n",
    "imputer = KNNImputer(n_neighbors=5, weights=\"uniform\")\n",
    "c_add_user_ds_subset[\"age\"] = imputer.fit_transform(c_add_user_ds_subset.drop(columns=[\"user_id\"]))[\"age\"].astype(np.int64)\n",
    "c_add_user_ds_subset.head()"
   ]
  },
  {
   "cell_type": "code",
   "execution_count": 158,
   "metadata": {},
   "outputs": [
    {
     "data": {
      "text/plain": [
       "<Axes: >"
      ]
     },
     "execution_count": 158,
     "metadata": {},
     "output_type": "execute_result"
    },
    {
     "data": {
      "image/png": "[encoded data removed]",
      "text/plain": [
       "<Figure size 1000x500 with 1 Axes>"
      ]
     },
     "metadata": {},
     "output_type": "display_data"
    }
   ],
   "source": [
    "c_add_user_ds_subset[\"age\"].hist(bins=25, figsize=(10, 5))"
   ]
  },
  {
   "cell_type": "code",
   "execution_count": 159,
   "metadata": {},
   "outputs": [],
   "source": [
    "# Вносим в наш датасет найденные значения\n",
    "mask = с_add_user_ds['user_id'].isin(c_add_user_ds_subset['user_id'])\n",
    "с_add_user_ds.loc[mask, \"age\"] = c_add_user_ds_subset[\"age\"]"
   ]
  },
  {
   "cell_type": "code",
   "execution_count": 160,
   "metadata": {},
   "outputs": [
    {
     "data": {
      "text/plain": [
       "<Axes: >"
      ]
     },
     "execution_count": 160,
     "metadata": {},
     "output_type": "execute_result"
    },
    {
     "data": {
      "image/png": "[encoded data removed]",
      "text/plain": [
       "<Figure size 1000x500 with 1 Axes>"
      ]
     },
     "metadata": {},
     "output_type": "display_data"
    }
   ],
   "source": [
    "с_add_user_ds[\"age\"].hist(bins=25, figsize=(10, 5))"
   ]
  },
  {
   "cell_type": "code",
   "execution_count": 163,
   "metadata": {},
   "outputs": [
    {
     "data": {
      "text/html": [
       "<div>\n",
       "<style scoped>\n",
       "    .dataframe tbody tr th:only-of-type {\n",
       "        vertical-align: middle;\n",
       "    }\n",
       "\n",
       "    .dataframe tbody tr th {\n",
       "        vertical-align: top;\n",
       "    }\n",
       "\n",
       "    .dataframe thead th {\n",
       "        text-align: right;\n",
       "    }\n",
       "</style>\n",
       "<table border=\"1\" class=\"dataframe\">\n",
       "  <thead>\n",
       "    <tr style=\"text-align: right;\">\n",
       "      <th></th>\n",
       "      <th>user_id</th>\n",
       "      <th>sex</th>\n",
       "      <th>age</th>\n",
       "      <th>city_id</th>\n",
       "      <th>publisher_quantity</th>\n",
       "      <th>views</th>\n",
       "      <th>top_time_interval_8-15</th>\n",
       "      <th>top_time_interval_16-21</th>\n",
       "      <th>top_time_interval_22-7</th>\n",
       "      <th>top_time_interval_ratio</th>\n",
       "      <th>is_workday</th>\n",
       "      <th>top_publisher</th>\n",
       "      <th>top_publisher_ratio</th>\n",
       "    </tr>\n",
       "  </thead>\n",
       "  <tbody>\n",
       "    <tr>\n",
       "      <th>10</th>\n",
       "      <td>10</td>\n",
       "      <td>0</td>\n",
       "      <td>0</td>\n",
       "      <td>8479</td>\n",
       "      <td>0</td>\n",
       "      <td>0</td>\n",
       "      <td>&lt;NA&gt;</td>\n",
       "      <td>&lt;NA&gt;</td>\n",
       "      <td>&lt;NA&gt;</td>\n",
       "      <td>NaN</td>\n",
       "      <td>NaN</td>\n",
       "      <td>&lt;NA&gt;</td>\n",
       "      <td>NaN</td>\n",
       "    </tr>\n",
       "    <tr>\n",
       "      <th>143</th>\n",
       "      <td>143</td>\n",
       "      <td>1</td>\n",
       "      <td>0</td>\n",
       "      <td>237</td>\n",
       "      <td>0</td>\n",
       "      <td>0</td>\n",
       "      <td>&lt;NA&gt;</td>\n",
       "      <td>&lt;NA&gt;</td>\n",
       "      <td>&lt;NA&gt;</td>\n",
       "      <td>NaN</td>\n",
       "      <td>NaN</td>\n",
       "      <td>&lt;NA&gt;</td>\n",
       "      <td>NaN</td>\n",
       "    </tr>\n",
       "    <tr>\n",
       "      <th>317</th>\n",
       "      <td>317</td>\n",
       "      <td>1</td>\n",
       "      <td>0</td>\n",
       "      <td>8479</td>\n",
       "      <td>0</td>\n",
       "      <td>0</td>\n",
       "      <td>&lt;NA&gt;</td>\n",
       "      <td>&lt;NA&gt;</td>\n",
       "      <td>&lt;NA&gt;</td>\n",
       "      <td>NaN</td>\n",
       "      <td>NaN</td>\n",
       "      <td>&lt;NA&gt;</td>\n",
       "      <td>NaN</td>\n",
       "    </tr>\n",
       "    <tr>\n",
       "      <th>351</th>\n",
       "      <td>351</td>\n",
       "      <td>0</td>\n",
       "      <td>0</td>\n",
       "      <td>308</td>\n",
       "      <td>0</td>\n",
       "      <td>0</td>\n",
       "      <td>&lt;NA&gt;</td>\n",
       "      <td>&lt;NA&gt;</td>\n",
       "      <td>&lt;NA&gt;</td>\n",
       "      <td>NaN</td>\n",
       "      <td>NaN</td>\n",
       "      <td>&lt;NA&gt;</td>\n",
       "      <td>NaN</td>\n",
       "    </tr>\n",
       "    <tr>\n",
       "      <th>359</th>\n",
       "      <td>359</td>\n",
       "      <td>1</td>\n",
       "      <td>0</td>\n",
       "      <td>237</td>\n",
       "      <td>0</td>\n",
       "      <td>0</td>\n",
       "      <td>&lt;NA&gt;</td>\n",
       "      <td>&lt;NA&gt;</td>\n",
       "      <td>&lt;NA&gt;</td>\n",
       "      <td>NaN</td>\n",
       "      <td>NaN</td>\n",
       "      <td>&lt;NA&gt;</td>\n",
       "      <td>NaN</td>\n",
       "    </tr>\n",
       "    <tr>\n",
       "      <th>...</th>\n",
       "      <td>...</td>\n",
       "      <td>...</td>\n",
       "      <td>...</td>\n",
       "      <td>...</td>\n",
       "      <td>...</td>\n",
       "      <td>...</td>\n",
       "      <td>...</td>\n",
       "      <td>...</td>\n",
       "      <td>...</td>\n",
       "      <td>...</td>\n",
       "      <td>...</td>\n",
       "      <td>...</td>\n",
       "      <td>...</td>\n",
       "    </tr>\n",
       "    <tr>\n",
       "      <th>27428</th>\n",
       "      <td>27428</td>\n",
       "      <td>0</td>\n",
       "      <td>0</td>\n",
       "      <td>72</td>\n",
       "      <td>0</td>\n",
       "      <td>0</td>\n",
       "      <td>&lt;NA&gt;</td>\n",
       "      <td>&lt;NA&gt;</td>\n",
       "      <td>&lt;NA&gt;</td>\n",
       "      <td>NaN</td>\n",
       "      <td>NaN</td>\n",
       "      <td>&lt;NA&gt;</td>\n",
       "      <td>NaN</td>\n",
       "    </tr>\n",
       "    <tr>\n",
       "      <th>27544</th>\n",
       "      <td>27544</td>\n",
       "      <td>0</td>\n",
       "      <td>0</td>\n",
       "      <td>8479</td>\n",
       "      <td>0</td>\n",
       "      <td>0</td>\n",
       "      <td>&lt;NA&gt;</td>\n",
       "      <td>&lt;NA&gt;</td>\n",
       "      <td>&lt;NA&gt;</td>\n",
       "      <td>NaN</td>\n",
       "      <td>NaN</td>\n",
       "      <td>&lt;NA&gt;</td>\n",
       "      <td>NaN</td>\n",
       "    </tr>\n",
       "    <tr>\n",
       "      <th>27668</th>\n",
       "      <td>27668</td>\n",
       "      <td>1</td>\n",
       "      <td>0</td>\n",
       "      <td>8479</td>\n",
       "      <td>0</td>\n",
       "      <td>0</td>\n",
       "      <td>&lt;NA&gt;</td>\n",
       "      <td>&lt;NA&gt;</td>\n",
       "      <td>&lt;NA&gt;</td>\n",
       "      <td>NaN</td>\n",
       "      <td>NaN</td>\n",
       "      <td>&lt;NA&gt;</td>\n",
       "      <td>NaN</td>\n",
       "    </tr>\n",
       "    <tr>\n",
       "      <th>27748</th>\n",
       "      <td>27748</td>\n",
       "      <td>1</td>\n",
       "      <td>0</td>\n",
       "      <td>8479</td>\n",
       "      <td>0</td>\n",
       "      <td>0</td>\n",
       "      <td>&lt;NA&gt;</td>\n",
       "      <td>&lt;NA&gt;</td>\n",
       "      <td>&lt;NA&gt;</td>\n",
       "      <td>NaN</td>\n",
       "      <td>NaN</td>\n",
       "      <td>&lt;NA&gt;</td>\n",
       "      <td>NaN</td>\n",
       "    </tr>\n",
       "    <tr>\n",
       "      <th>27754</th>\n",
       "      <td>27754</td>\n",
       "      <td>0</td>\n",
       "      <td>0</td>\n",
       "      <td>315</td>\n",
       "      <td>0</td>\n",
       "      <td>0</td>\n",
       "      <td>&lt;NA&gt;</td>\n",
       "      <td>&lt;NA&gt;</td>\n",
       "      <td>&lt;NA&gt;</td>\n",
       "      <td>NaN</td>\n",
       "      <td>NaN</td>\n",
       "      <td>&lt;NA&gt;</td>\n",
       "      <td>NaN</td>\n",
       "    </tr>\n",
       "  </tbody>\n",
       "</table>\n",
       "<p>193 rows × 13 columns</p>\n",
       "</div>"
      ],
      "text/plain": [
       "       user_id  sex  age  city_id  publisher_quantity  views  \\\n",
       "10          10    0    0     8479                   0      0   \n",
       "143        143    1    0      237                   0      0   \n",
       "317        317    1    0     8479                   0      0   \n",
       "351        351    0    0      308                   0      0   \n",
       "359        359    1    0      237                   0      0   \n",
       "...        ...  ...  ...      ...                 ...    ...   \n",
       "27428    27428    0    0       72                   0      0   \n",
       "27544    27544    0    0     8479                   0      0   \n",
       "27668    27668    1    0     8479                   0      0   \n",
       "27748    27748    1    0     8479                   0      0   \n",
       "27754    27754    0    0      315                   0      0   \n",
       "\n",
       "       top_time_interval_8-15  top_time_interval_16-21  \\\n",
       "10                       <NA>                     <NA>   \n",
       "143                      <NA>                     <NA>   \n",
       "317                      <NA>                     <NA>   \n",
       "351                      <NA>                     <NA>   \n",
       "359                      <NA>                     <NA>   \n",
       "...                       ...                      ...   \n",
       "27428                    <NA>                     <NA>   \n",
       "27544                    <NA>                     <NA>   \n",
       "27668                    <NA>                     <NA>   \n",
       "27748                    <NA>                     <NA>   \n",
       "27754                    <NA>                     <NA>   \n",
       "\n",
       "       top_time_interval_22-7  top_time_interval_ratio  is_workday  \\\n",
       "10                       <NA>                      NaN         NaN   \n",
       "143                      <NA>                      NaN         NaN   \n",
       "317                      <NA>                      NaN         NaN   \n",
       "351                      <NA>                      NaN         NaN   \n",
       "359                      <NA>                      NaN         NaN   \n",
       "...                       ...                      ...         ...   \n",
       "27428                    <NA>                      NaN         NaN   \n",
       "27544                    <NA>                      NaN         NaN   \n",
       "27668                    <NA>                      NaN         NaN   \n",
       "27748                    <NA>                      NaN         NaN   \n",
       "27754                    <NA>                      NaN         NaN   \n",
       "\n",
       "       top_publisher  top_publisher_ratio  \n",
       "10              <NA>                  NaN  \n",
       "143             <NA>                  NaN  \n",
       "317             <NA>                  NaN  \n",
       "351             <NA>                  NaN  \n",
       "359             <NA>                  NaN  \n",
       "...              ...                  ...  \n",
       "27428           <NA>                  NaN  \n",
       "27544           <NA>                  NaN  \n",
       "27668           <NA>                  NaN  \n",
       "27748           <NA>                  NaN  \n",
       "27754           <NA>                  NaN  \n",
       "\n",
       "[193 rows x 13 columns]"
      ]
     },
     "execution_count": 163,
     "metadata": {},
     "output_type": "execute_result"
    }
   ],
   "source": [
    "с_add_user_ds[с_add_user_ds[\"age\"] == 0]"
   ]
  },
  {
   "cell_type": "markdown",
   "metadata": {},
   "source": [
    "# Preprocess"
   ]
  },
  {
   "cell_type": "code",
   "execution_count": null,
   "metadata": {},
   "outputs": [],
   "source": [
    "# Define the data path and taget\n",
    "dataset_path = os.path.join(INPUT_DATA_PATH, \"name_of_file.csv\")\n",
    "label_name = \"label_name\"\n",
    "# Define the transformers\n",
    "feature_transform = Pipeline([\n",
    "    (\"normalizer\", Normalizer()),\n",
    "    (\"scaler\", StandardScaler())\n",
    "])\n",
    "target_transform = Pipeline([\n",
    "    (\"label_encoder\", LabelEncoder())\n",
    "])\n",
    "# Create the dataset\n",
    "train_dataset = CustomImageDataset(\n",
    "    dataset_path=dataset_path,\n",
    "    label_name=label_name,\n",
    "    transform=feature_transform,\n",
    "    target_transform=target_transform\n",
    ")"
   ]
  }
 ],
 "metadata": {
  "kernelspec": {
   "display_name": ".venv",
   "language": "python",
   "name": "python3"
  },
  "language_info": {
   "codemirror_mode": {
    "name": "ipython",
    "version": 3
   },
   "file_extension": ".py",
   "mimetype": "text/x-python",
   "name": "python",
   "nbconvert_exporter": "python",
   "pygments_lexer": "ipython3",
   "version": "3.9.2"
  }
 },
 "nbformat": 4,
 "nbformat_minor": 2
}

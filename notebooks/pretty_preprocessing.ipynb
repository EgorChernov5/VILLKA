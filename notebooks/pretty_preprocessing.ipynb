{
 "cells": [
  {
   "cell_type": "markdown",
   "metadata": {},
   "source": [
    "# Import"
   ]
  },
  {
   "cell_type": "code",
   "execution_count": 336,
   "metadata": {},
   "outputs": [],
   "source": [
    "import os\n",
    "from dotenv import load_dotenv\n",
    "from tqdm import tqdm\n",
    "\n",
    "import pandas as pd\n",
    "import numpy as np\n",
    "import matplotlib.pyplot as plt\n",
    "import seaborn as sns\n",
    "import ast\n",
    "from scipy import stats\n",
    "\n",
    "import sklearn\n",
    "from sklearn.pipeline import Pipeline\n",
    "from sklearn.compose import make_column_transformer\n",
    "from sklearn.preprocessing import FunctionTransformer\n",
    "from sklearn.preprocessing import Normalizer, StandardScaler, LabelEncoder\n",
    "from sklearn.metrics.pairwise import cosine_similarity\n",
    "from sklearn.impute import KNNImputer\n",
    "from sklearn.preprocessing import OneHotEncoder\n",
    "from sklearn.preprocessing import MinMaxScaler\n",
    "\n",
    "import category_encoders as ce\n",
    "\n",
    "import torch\n",
    "from torch.utils.data import Dataset\n",
    "\n",
    "\n",
    "load_dotenv()\n",
    "sklearn.set_config(transform_output=\"pandas\")"
   ]
  },
  {
   "cell_type": "markdown",
   "metadata": {},
   "source": [
    "# Config"
   ]
  },
  {
   "cell_type": "code",
   "execution_count": 2,
   "metadata": {},
   "outputs": [],
   "source": [
    "INPUT_DATA_PATH = os.getenv(\"INPUT_DATA_PATH\")\n",
    "OUTPUT_DATA_PATH = os.getenv(\"OUTPUT_DATA_PATH\")"
   ]
  },
  {
   "cell_type": "markdown",
   "metadata": {},
   "source": [
    "# Classes and functions"
   ]
  },
  {
   "cell_type": "markdown",
   "metadata": {},
   "source": [
    "Функции для перевода временной метки в день недели и час"
   ]
  },
  {
   "cell_type": "code",
   "execution_count": 3,
   "metadata": {},
   "outputs": [],
   "source": [
    "def hour_to_weekday(hour):\n",
    "    day = hour // 24\n",
    "    weekday = day % 7\n",
    "    return weekday\n",
    "\n",
    "\n",
    "def hour_to_daytime(hour):\n",
    "    return hour % 24"
   ]
  },
  {
   "cell_type": "markdown",
   "metadata": {},
   "source": [
    "Перевод строки в формате \"1,2,3,4\" в формат [1, 2, 3, 4]"
   ]
  },
  {
   "cell_type": "code",
   "execution_count": null,
   "metadata": {},
   "outputs": [],
   "source": [
    "def str_to_list(X):\n",
    "    for col in X.columns:\n",
    "        X[col] = X[col].apply(lambda x: [int(v) for v in x.split(\",\")])\n",
    "    \n",
    "    return X"
   ]
  },
  {
   "cell_type": "markdown",
   "metadata": {},
   "source": [
    "# Load data"
   ]
  },
  {
   "cell_type": "code",
   "execution_count": 323,
   "metadata": {},
   "outputs": [],
   "source": [
    "user_ds_path = os.path.join(INPUT_DATA_PATH, \"Предсказание количества просмотров рекламы/users.tsv\")\n",
    "history_ds_path = os.path.join(INPUT_DATA_PATH, \"Предсказание количества просмотров рекламы/history.tsv\")\n",
    "validate_ds_path = os.path.join(INPUT_DATA_PATH, \"Предсказание количества просмотров рекламы/validate.tsv\")\n",
    "\n",
    "validate_answers_ds_path = os.path.join(INPUT_DATA_PATH, \"Предсказание количества просмотров рекламы/validate_answers.tsv\")"
   ]
  },
  {
   "cell_type": "code",
   "execution_count": null,
   "metadata": {},
   "outputs": [],
   "source": [
    "user_ds = pd.read_csv(user_ds_path, sep=\"\\t\")\n",
    "history_ds = pd.read_csv(history_ds_path, sep=\"\\t\")\n",
    "validate_ds = pd.read_csv(validate_ds_path, sep=\"\\t\")\n",
    "\n",
    "validate_answers_ds = pd.read_csv(validate_answers_ds_path, sep=\"\\t\")"
   ]
  },
  {
   "cell_type": "markdown",
   "metadata": {},
   "source": [
    "Определяем pipeline для предобработки данных"
   ]
  },
  {
   "cell_type": "code",
   "execution_count": null,
   "metadata": {},
   "outputs": [],
   "source": [
    "ct = make_column_transformer(\n",
    "    (FunctionTransformer(str_to_list), [\"publishers\", \"user_ids\"]),\n",
    "\n",
    "    remainder='passthrough',  # Остальные столбцы оставляем без изменений\n",
    "    verbose_feature_names_out=False\n",
    ")"
   ]
  },
  {
   "cell_type": "markdown",
   "metadata": {},
   "source": [
    "# Explore data"
   ]
  },
  {
   "cell_type": "markdown",
   "metadata": {},
   "source": [
    "## Step 1 - first connection"
   ]
  },
  {
   "cell_type": "markdown",
   "metadata": {},
   "source": [
    "___\n",
    "**users.tsv:**\n",
    "- все пользователи уникальные,\n",
    "- 30 пользователей без пола,\n",
    "- 2180 пропущено возрастов, есть люди страше 90 лет,\n",
    "- 84790 пропущено городов, из города с id=3 больше всего пользователей.\n",
    "\n",
    "**history.tsv:**\n",
    "- два выброса по cpm,\n",
    "- активные часы - вечерние, активные дни - будни,\n",
    "- есть периодичность и сезонность,\n",
    "- все просмотры сконцентрированы на 4 площадках,\n",
    "- два пользователя смотрят очень много объявлений (мб выбросы и стоит обрезать).\n",
    "\n",
    "**validate.tsv:**\n",
    "- в среднем рекламу размещают на ~5 дней, 75% квартиль покрывает 7 дней,\n",
    "- максимум используется 6 площадок, в основном 3-4."
   ]
  },
  {
   "cell_type": "markdown",
   "metadata": {},
   "source": [
    "### user.tsv"
   ]
  },
  {
   "cell_type": "markdown",
   "metadata": {},
   "source": [
    "Посмотрим на пропуски"
   ]
  },
  {
   "cell_type": "code",
   "execution_count": null,
   "metadata": {},
   "outputs": [
    {
     "name": "stdout",
     "output_type": "stream",
     "text": [
      "<class 'pandas.core.frame.DataFrame'>\n",
      "RangeIndex: 27769 entries, 0 to 27768\n",
      "Data columns (total 4 columns):\n",
      " #   Column   Non-Null Count  Dtype\n",
      "---  ------   --------------  -----\n",
      " 0   user_id  27769 non-null  int64\n",
      " 1   sex      27769 non-null  int64\n",
      " 2   age      27769 non-null  int64\n",
      " 3   city_id  27769 non-null  int64\n",
      "dtypes: int64(4)\n",
      "memory usage: 867.9 KB\n"
     ]
    }
   ],
   "source": [
    "user_ds.info()"
   ]
  },
  {
   "cell_type": "code",
   "execution_count": null,
   "metadata": {},
   "outputs": [
    {
     "data": {
      "text/plain": [
       "sex        0.001\n",
       "age        0.079\n",
       "city_id    0.305\n",
       "dtype: float64"
      ]
     },
     "metadata": {},
     "output_type": "display_data"
    }
   ],
   "source": [
    "round((user_ds[[\"sex\", \"age\", \"city_id\"]] == 0).sum()/len(user_ds), 3)"
   ]
  },
  {
   "cell_type": "markdown",
   "metadata": {},
   "source": [
    "Посмотрим распределение по полу"
   ]
  },
  {
   "cell_type": "code",
   "execution_count": null,
   "metadata": {},
   "outputs": [
    {
     "data": {
      "text/plain": [
       "<Axes: xlabel='sex'>"
      ]
     },
     "execution_count": 5,
     "metadata": {},
     "output_type": "execute_result"
    },
    {
     "data": {
      "image/png": "[encoded data removed]",
      "text/plain": [
       "<Figure size 640x480 with 1 Axes>"
      ]
     },
     "metadata": {},
     "output_type": "display_data"
    }
   ],
   "source": [
    "user_ds[\"sex\"].value_counts().plot(kind=\"bar\")"
   ]
  },
  {
   "cell_type": "markdown",
   "metadata": {},
   "source": [
    "Для признака age почти 8% данных пропущено. Посмотрим на распределения пользователей по возрасту"
   ]
  },
  {
   "cell_type": "code",
   "execution_count": 10,
   "metadata": {},
   "outputs": [
    {
     "data": {
      "text/plain": [
       "<Axes: >"
      ]
     },
     "execution_count": 10,
     "metadata": {},
     "output_type": "execute_result"
    },
    {
     "data": {
      "image/png": "[encoded data removed]",
      "text/plain": [
       "<Figure size 640x480 with 1 Axes>"
      ]
     },
     "metadata": {},
     "output_type": "display_data"
    }
   ],
   "source": [
    "user_ds[\"age\"].hist(bins=30)"
   ]
  },
  {
   "cell_type": "markdown",
   "metadata": {},
   "source": [
    "По графику видно, что есть пользователи, которым больше 90 лет. Выведем сколько таких"
   ]
  },
  {
   "cell_type": "code",
   "execution_count": 17,
   "metadata": {},
   "outputs": [
    {
     "name": "stdout",
     "output_type": "stream",
     "text": [
      "Доля пользователей страше 90: 2.13%\n"
     ]
    }
   ],
   "source": [
    "print(f\"Доля пользователей страше 90: {round((user_ds['age'] > 90).sum() / len(user_ds)*100, 2)}%\")"
   ]
  },
  {
   "cell_type": "markdown",
   "metadata": {},
   "source": [
    "Выведем средний возраст пользователей за исключением тех, кому больше 90 и не будем принимать во внимание пропуски (значение 0)"
   ]
  },
  {
   "cell_type": "code",
   "execution_count": 20,
   "metadata": {},
   "outputs": [
    {
     "name": "stdout",
     "output_type": "stream",
     "text": [
      "Средний возраст: 29\n"
     ]
    }
   ],
   "source": [
    "mask = (user_ds[\"age\"] != 0) & (user_ds[\"age\"] <= 90)\n",
    "age_mean = np.mean(user_ds.loc[mask, \"age\"])\n",
    "print(f\"Средний возраст: {round(age_mean)}\")"
   ]
  },
  {
   "cell_type": "markdown",
   "metadata": {},
   "source": [
    "Чтобы заполнить пропуски применим KNNImputer. Для того, чтобы алгоритм лучше понимал, какое значение подойдет больше сгенерируем дополнительные признаки ([Feature engineering -> user.tsv](#feature-engineering)).\n",
    "\n",
    "Создавать новые признаки будем на основе исторических данных. Поэтому перейдем к обзору history.tsv."
   ]
  },
  {
   "cell_type": "markdown",
   "metadata": {},
   "source": [
    "### history.tsv"
   ]
  },
  {
   "cell_type": "code",
   "execution_count": 7,
   "metadata": {},
   "outputs": [
    {
     "data": {
      "text/html": [
       "<div>\n",
       "<style scoped>\n",
       "    .dataframe tbody tr th:only-of-type {\n",
       "        vertical-align: middle;\n",
       "    }\n",
       "\n",
       "    .dataframe tbody tr th {\n",
       "        vertical-align: top;\n",
       "    }\n",
       "\n",
       "    .dataframe thead th {\n",
       "        text-align: right;\n",
       "    }\n",
       "</style>\n",
       "<table border=\"1\" class=\"dataframe\">\n",
       "  <thead>\n",
       "    <tr style=\"text-align: right;\">\n",
       "      <th></th>\n",
       "      <th>hour</th>\n",
       "      <th>cpm</th>\n",
       "      <th>publisher</th>\n",
       "      <th>user_id</th>\n",
       "    </tr>\n",
       "  </thead>\n",
       "  <tbody>\n",
       "    <tr>\n",
       "      <th>0</th>\n",
       "      <td>10</td>\n",
       "      <td>30.00</td>\n",
       "      <td>1</td>\n",
       "      <td>15661</td>\n",
       "    </tr>\n",
       "    <tr>\n",
       "      <th>1</th>\n",
       "      <td>8</td>\n",
       "      <td>41.26</td>\n",
       "      <td>1</td>\n",
       "      <td>8444</td>\n",
       "    </tr>\n",
       "    <tr>\n",
       "      <th>2</th>\n",
       "      <td>7</td>\n",
       "      <td>360.00</td>\n",
       "      <td>1</td>\n",
       "      <td>15821</td>\n",
       "    </tr>\n",
       "    <tr>\n",
       "      <th>3</th>\n",
       "      <td>18</td>\n",
       "      <td>370.00</td>\n",
       "      <td>1</td>\n",
       "      <td>21530</td>\n",
       "    </tr>\n",
       "    <tr>\n",
       "      <th>4</th>\n",
       "      <td>8</td>\n",
       "      <td>195.00</td>\n",
       "      <td>2</td>\n",
       "      <td>22148</td>\n",
       "    </tr>\n",
       "  </tbody>\n",
       "</table>\n",
       "</div>"
      ],
      "text/plain": [
       "   hour     cpm  publisher  user_id\n",
       "0    10   30.00          1    15661\n",
       "1     8   41.26          1     8444\n",
       "2     7  360.00          1    15821\n",
       "3    18  370.00          1    21530\n",
       "4     8  195.00          2    22148"
      ]
     },
     "execution_count": 7,
     "metadata": {},
     "output_type": "execute_result"
    }
   ],
   "source": [
    "history_ds.head()"
   ]
  },
  {
   "cell_type": "markdown",
   "metadata": {},
   "source": [
    "Для лучшего понимания данных добавим два признака ([Feature engineering -> history.tsv](#feature-engineering)):\n",
    "- daytime - час просмотра рекламы,\n",
    "- weekday - день просмотра рекламы."
   ]
  },
  {
   "cell_type": "code",
   "execution_count": 24,
   "metadata": {},
   "outputs": [
    {
     "data": {
      "text/html": [
       "<div>\n",
       "<style scoped>\n",
       "    .dataframe tbody tr th:only-of-type {\n",
       "        vertical-align: middle;\n",
       "    }\n",
       "\n",
       "    .dataframe tbody tr th {\n",
       "        vertical-align: top;\n",
       "    }\n",
       "\n",
       "    .dataframe thead th {\n",
       "        text-align: right;\n",
       "    }\n",
       "</style>\n",
       "<table border=\"1\" class=\"dataframe\">\n",
       "  <thead>\n",
       "    <tr style=\"text-align: right;\">\n",
       "      <th></th>\n",
       "      <th>hour</th>\n",
       "      <th>cpm</th>\n",
       "      <th>publisher</th>\n",
       "      <th>user_id</th>\n",
       "      <th>weekday</th>\n",
       "      <th>daytime</th>\n",
       "    </tr>\n",
       "  </thead>\n",
       "  <tbody>\n",
       "    <tr>\n",
       "      <th>319525</th>\n",
       "      <td>494</td>\n",
       "      <td>58.86</td>\n",
       "      <td>1</td>\n",
       "      <td>7217</td>\n",
       "      <td>6</td>\n",
       "      <td>14</td>\n",
       "    </tr>\n",
       "    <tr>\n",
       "      <th>518921</th>\n",
       "      <td>770</td>\n",
       "      <td>30.00</td>\n",
       "      <td>1</td>\n",
       "      <td>8735</td>\n",
       "      <td>4</td>\n",
       "      <td>2</td>\n",
       "    </tr>\n",
       "    <tr>\n",
       "      <th>680078</th>\n",
       "      <td>1041</td>\n",
       "      <td>446.90</td>\n",
       "      <td>1</td>\n",
       "      <td>18060</td>\n",
       "      <td>1</td>\n",
       "      <td>9</td>\n",
       "    </tr>\n",
       "    <tr>\n",
       "      <th>1077519</th>\n",
       "      <td>1349</td>\n",
       "      <td>90.00</td>\n",
       "      <td>1</td>\n",
       "      <td>13441</td>\n",
       "      <td>0</td>\n",
       "      <td>5</td>\n",
       "    </tr>\n",
       "    <tr>\n",
       "      <th>294876</th>\n",
       "      <td>442</td>\n",
       "      <td>92.50</td>\n",
       "      <td>1</td>\n",
       "      <td>8444</td>\n",
       "      <td>4</td>\n",
       "      <td>10</td>\n",
       "    </tr>\n",
       "  </tbody>\n",
       "</table>\n",
       "</div>"
      ],
      "text/plain": [
       "         hour     cpm  publisher  user_id  weekday  daytime\n",
       "319525    494   58.86          1     7217        6       14\n",
       "518921    770   30.00          1     8735        4        2\n",
       "680078   1041  446.90          1    18060        1        9\n",
       "1077519  1349   90.00          1    13441        0        5\n",
       "294876    442   92.50          1     8444        4       10"
      ]
     },
     "execution_count": 24,
     "metadata": {},
     "output_type": "execute_result"
    }
   ],
   "source": [
    "history_ds.sample(5)"
   ]
  },
  {
   "cell_type": "markdown",
   "metadata": {},
   "source": [
    "Посмотрим в какой день недели и в какой день пользователи чаще всего видят рекламу"
   ]
  },
  {
   "cell_type": "code",
   "execution_count": 29,
   "metadata": {},
   "outputs": [
    {
     "data": {
      "text/plain": [
       "<Axes: >"
      ]
     },
     "execution_count": 29,
     "metadata": {},
     "output_type": "execute_result"
    },
    {
     "data": {
      "image/png": "[encoded data removed]",
      "text/plain": [
       "<Figure size 640x480 with 1 Axes>"
      ]
     },
     "metadata": {},
     "output_type": "display_data"
    }
   ],
   "source": [
    "history_ds[\"weekday\"].hist(bins=7)"
   ]
  },
  {
   "cell_type": "code",
   "execution_count": 31,
   "metadata": {},
   "outputs": [
    {
     "data": {
      "text/plain": [
       "<Axes: >"
      ]
     },
     "execution_count": 31,
     "metadata": {},
     "output_type": "execute_result"
    },
    {
     "data": {
      "image/png": "[encoded data removed]",
      "text/plain": [
       "<Figure size 640x480 with 1 Axes>"
      ]
     },
     "metadata": {},
     "output_type": "display_data"
    }
   ],
   "source": [
    "history_ds[\"daytime\"].hist(bins=24)"
   ]
  },
  {
   "cell_type": "markdown",
   "metadata": {},
   "source": [
    "Выведем популярность площадок"
   ]
  },
  {
   "cell_type": "code",
   "execution_count": 28,
   "metadata": {},
   "outputs": [
    {
     "data": {
      "text/plain": [
       "<Axes: >"
      ]
     },
     "execution_count": 28,
     "metadata": {},
     "output_type": "execute_result"
    },
    {
     "data": {
      "image/png": "[encoded data removed]",
      "text/plain": [
       "<Figure size 640x480 with 1 Axes>"
      ]
     },
     "metadata": {},
     "output_type": "display_data"
    }
   ],
   "source": [
    "history_ds[\"publisher\"].hist(bins=history_ds[\"publisher\"].max())"
   ]
  },
  {
   "cell_type": "markdown",
   "metadata": {},
   "source": [
    "Какой промежуток времени взят"
   ]
  },
  {
   "cell_type": "code",
   "execution_count": 34,
   "metadata": {},
   "outputs": [
    {
     "name": "stdout",
     "output_type": "stream",
     "text": [
      "Количество рассматриваемых дней: 62\n"
     ]
    }
   ],
   "source": [
    "print(f\"Количество рассматриваемых дней: {round((np.max(history_ds['hour']) - np.min(history_ds['hour']))/24)}\")"
   ]
  },
  {
   "cell_type": "markdown",
   "metadata": {},
   "source": [
    "Временной ряд по неделям, дням и часам"
   ]
  },
  {
   "cell_type": "code",
   "execution_count": 37,
   "metadata": {},
   "outputs": [
    {
     "data": {
      "text/plain": [
       "<Axes: >"
      ]
     },
     "execution_count": 37,
     "metadata": {},
     "output_type": "execute_result"
    },
    {
     "data": {
      "image/png": "[encoded data removed]",
      "text/plain": [
       "<Figure size 640x480 with 1 Axes>"
      ]
     },
     "metadata": {},
     "output_type": "display_data"
    }
   ],
   "source": [
    "history_ds[\"hour\"].hist(bins=62//7)"
   ]
  },
  {
   "cell_type": "code",
   "execution_count": 40,
   "metadata": {},
   "outputs": [
    {
     "data": {
      "text/plain": [
       "<Axes: >"
      ]
     },
     "execution_count": 40,
     "metadata": {},
     "output_type": "execute_result"
    },
    {
     "data": {
      "image/png": "[encoded data removed]",
      "text/plain": [
       "<Figure size 640x480 with 1 Axes>"
      ]
     },
     "metadata": {},
     "output_type": "display_data"
    }
   ],
   "source": [
    "history_ds[\"hour\"].hist(bins=62)"
   ]
  },
  {
   "cell_type": "code",
   "execution_count": 41,
   "metadata": {},
   "outputs": [
    {
     "data": {
      "text/plain": [
       "<Axes: >"
      ]
     },
     "execution_count": 41,
     "metadata": {},
     "output_type": "execute_result"
    },
    {
     "data": {
      "image/png": "[encoded data removed]",
      "text/plain": [
       "<Figure size 640x480 with 1 Axes>"
      ]
     },
     "metadata": {},
     "output_type": "display_data"
    }
   ],
   "source": [
    "history_ds[\"hour\"].hist(bins=62*24)"
   ]
  },
  {
   "cell_type": "markdown",
   "metadata": {},
   "source": [
    "Распределение любимых площадок у пользователей"
   ]
  },
  {
   "cell_type": "code",
   "execution_count": 58,
   "metadata": {},
   "outputs": [
    {
     "data": {
      "text/plain": [
       "<BarContainer object of 19 artists>"
      ]
     },
     "execution_count": 58,
     "metadata": {},
     "output_type": "execute_result"
    },
    {
     "data": {
      "image/png": "[encoded data removed]",
      "text/plain": [
       "<Figure size 640x480 with 1 Axes>"
      ]
     },
     "metadata": {},
     "output_type": "display_data"
    }
   ],
   "source": [
    "modes = []\n",
    "for i, row in history_ds.groupby(by=\"user_id\"):\n",
    "    modes.append(row[\"publisher\"].mode()[0])\n",
    "\n",
    "v, c = np.unique(modes, return_counts=True)\n",
    "plt.bar(v, c)"
   ]
  },
  {
   "cell_type": "markdown",
   "metadata": {},
   "source": [
    "Распределение просмотров у пользователей в течении недели"
   ]
  },
  {
   "cell_type": "code",
   "execution_count": 102,
   "metadata": {},
   "outputs": [
    {
     "data": {
      "text/plain": [
       "count    16237.000000\n",
       "mean         7.500647\n",
       "std          9.102951\n",
       "min          1.000000\n",
       "25%          2.000000\n",
       "50%          4.000000\n",
       "75%         10.000000\n",
       "max        136.000000\n",
       "dtype: float64"
      ]
     },
     "execution_count": 102,
     "metadata": {},
     "output_type": "execute_result"
    }
   ],
   "source": [
    "num_week = 1\n",
    "start_hour = (num_week - 1)*7*24\n",
    "hour_end = num_week*7*24\n",
    "mask = (history_ds[\"hour\"] >= start_hour) & (history_ds[\"hour\"] < hour_end)\n",
    "week_data = history_ds.loc[mask, \"user_id\"]\n",
    "v, c = np.unique(week_data, return_counts=True)\n",
    "pd.Series(c).describe()"
   ]
  },
  {
   "cell_type": "markdown",
   "metadata": {},
   "source": [
    "### validate.tsv"
   ]
  },
  {
   "cell_type": "markdown",
   "metadata": {},
   "source": [
    "Посмотрим на данные"
   ]
  },
  {
   "cell_type": "code",
   "execution_count": 325,
   "metadata": {},
   "outputs": [
    {
     "data": {
      "text/html": [
       "<div>\n",
       "<style scoped>\n",
       "    .dataframe tbody tr th:only-of-type {\n",
       "        vertical-align: middle;\n",
       "    }\n",
       "\n",
       "    .dataframe tbody tr th {\n",
       "        vertical-align: top;\n",
       "    }\n",
       "\n",
       "    .dataframe thead th {\n",
       "        text-align: right;\n",
       "    }\n",
       "</style>\n",
       "<table border=\"1\" class=\"dataframe\">\n",
       "  <thead>\n",
       "    <tr style=\"text-align: right;\">\n",
       "      <th></th>\n",
       "      <th>cpm</th>\n",
       "      <th>hour_start</th>\n",
       "      <th>hour_end</th>\n",
       "      <th>publishers</th>\n",
       "      <th>audience_size</th>\n",
       "      <th>user_ids</th>\n",
       "    </tr>\n",
       "  </thead>\n",
       "  <tbody>\n",
       "    <tr>\n",
       "      <th>0</th>\n",
       "      <td>220.0</td>\n",
       "      <td>1058</td>\n",
       "      <td>1153</td>\n",
       "      <td>7,17</td>\n",
       "      <td>1906</td>\n",
       "      <td>12,44,46,50,58,71,93,122,134,143,176,184,187,1...</td>\n",
       "    </tr>\n",
       "    <tr>\n",
       "      <th>1</th>\n",
       "      <td>312.0</td>\n",
       "      <td>1295</td>\n",
       "      <td>1301</td>\n",
       "      <td>3,18</td>\n",
       "      <td>1380</td>\n",
       "      <td>29,81,98,102,165,167,195,205,218,231,242,263,3...</td>\n",
       "    </tr>\n",
       "    <tr>\n",
       "      <th>2</th>\n",
       "      <td>70.0</td>\n",
       "      <td>1229</td>\n",
       "      <td>1249</td>\n",
       "      <td>1,2,3,9,15,21</td>\n",
       "      <td>888</td>\n",
       "      <td>12,23,25,29,45,85,92,124,156,190,272,334,456,5...</td>\n",
       "    </tr>\n",
       "    <tr>\n",
       "      <th>3</th>\n",
       "      <td>240.0</td>\n",
       "      <td>1295</td>\n",
       "      <td>1377</td>\n",
       "      <td>1,14</td>\n",
       "      <td>440</td>\n",
       "      <td>44,122,187,209,242,255,312,345,382,465,513,524...</td>\n",
       "    </tr>\n",
       "    <tr>\n",
       "      <th>4</th>\n",
       "      <td>262.0</td>\n",
       "      <td>752</td>\n",
       "      <td>990</td>\n",
       "      <td>1,3,7,8</td>\n",
       "      <td>1476</td>\n",
       "      <td>15,24,30,43,50,53,96,105,159,168,181,190,196,2...</td>\n",
       "    </tr>\n",
       "  </tbody>\n",
       "</table>\n",
       "</div>"
      ],
      "text/plain": [
       "     cpm  hour_start  hour_end     publishers  audience_size  \\\n",
       "0  220.0        1058      1153           7,17           1906   \n",
       "1  312.0        1295      1301           3,18           1380   \n",
       "2   70.0        1229      1249  1,2,3,9,15,21            888   \n",
       "3  240.0        1295      1377           1,14            440   \n",
       "4  262.0         752       990        1,3,7,8           1476   \n",
       "\n",
       "                                            user_ids  \n",
       "0  12,44,46,50,58,71,93,122,134,143,176,184,187,1...  \n",
       "1  29,81,98,102,165,167,195,205,218,231,242,263,3...  \n",
       "2  12,23,25,29,45,85,92,124,156,190,272,334,456,5...  \n",
       "3  44,122,187,209,242,255,312,345,382,465,513,524...  \n",
       "4  15,24,30,43,50,53,96,105,159,168,181,190,196,2...  "
      ]
     },
     "execution_count": 325,
     "metadata": {},
     "output_type": "execute_result"
    }
   ],
   "source": [
    "validate_ds.head()"
   ]
  },
  {
   "cell_type": "code",
   "execution_count": 300,
   "metadata": {},
   "outputs": [
    {
     "data": {
      "text/plain": [
       "cpm              float64\n",
       "hour_start         int64\n",
       "hour_end           int64\n",
       "publishers        object\n",
       "audience_size      int64\n",
       "user_ids          object\n",
       "dtype: object"
      ]
     },
     "execution_count": 300,
     "metadata": {},
     "output_type": "execute_result"
    }
   ],
   "source": [
    "validate_ds.dtypes"
   ]
  },
  {
   "cell_type": "markdown",
   "metadata": {},
   "source": [
    "Для дальнейшего анализа переведем publishers и user_ids в списки ([Clean and prepare -> Step 1 -> validate.tsv](#clean-and-prepare-data))"
   ]
  },
  {
   "cell_type": "code",
   "execution_count": 445,
   "metadata": {},
   "outputs": [
    {
     "data": {
      "text/html": [
       "<div>\n",
       "<style scoped>\n",
       "    .dataframe tbody tr th:only-of-type {\n",
       "        vertical-align: middle;\n",
       "    }\n",
       "\n",
       "    .dataframe tbody tr th {\n",
       "        vertical-align: top;\n",
       "    }\n",
       "\n",
       "    .dataframe thead th {\n",
       "        text-align: right;\n",
       "    }\n",
       "</style>\n",
       "<table border=\"1\" class=\"dataframe\">\n",
       "  <thead>\n",
       "    <tr style=\"text-align: right;\">\n",
       "      <th></th>\n",
       "      <th>publishers</th>\n",
       "      <th>user_ids</th>\n",
       "      <th>cpm</th>\n",
       "      <th>hour_start</th>\n",
       "      <th>hour_end</th>\n",
       "      <th>audience_size</th>\n",
       "    </tr>\n",
       "  </thead>\n",
       "  <tbody>\n",
       "    <tr>\n",
       "      <th>0</th>\n",
       "      <td>[7, 17]</td>\n",
       "      <td>[12, 44, 46, 50, 58, 71, 93, 122, 134, 143, 17...</td>\n",
       "      <td>220.0</td>\n",
       "      <td>1058</td>\n",
       "      <td>1153</td>\n",
       "      <td>1906</td>\n",
       "    </tr>\n",
       "    <tr>\n",
       "      <th>1</th>\n",
       "      <td>[3, 18]</td>\n",
       "      <td>[29, 81, 98, 102, 165, 167, 195, 205, 218, 231...</td>\n",
       "      <td>312.0</td>\n",
       "      <td>1295</td>\n",
       "      <td>1301</td>\n",
       "      <td>1380</td>\n",
       "    </tr>\n",
       "    <tr>\n",
       "      <th>2</th>\n",
       "      <td>[1, 2, 3, 9, 15, 21]</td>\n",
       "      <td>[12, 23, 25, 29, 45, 85, 92, 124, 156, 190, 27...</td>\n",
       "      <td>70.0</td>\n",
       "      <td>1229</td>\n",
       "      <td>1249</td>\n",
       "      <td>888</td>\n",
       "    </tr>\n",
       "    <tr>\n",
       "      <th>3</th>\n",
       "      <td>[1, 14]</td>\n",
       "      <td>[44, 122, 187, 209, 242, 255, 312, 345, 382, 4...</td>\n",
       "      <td>240.0</td>\n",
       "      <td>1295</td>\n",
       "      <td>1377</td>\n",
       "      <td>440</td>\n",
       "    </tr>\n",
       "    <tr>\n",
       "      <th>4</th>\n",
       "      <td>[1, 3, 7, 8]</td>\n",
       "      <td>[15, 24, 30, 43, 50, 53, 96, 105, 159, 168, 18...</td>\n",
       "      <td>262.0</td>\n",
       "      <td>752</td>\n",
       "      <td>990</td>\n",
       "      <td>1476</td>\n",
       "    </tr>\n",
       "  </tbody>\n",
       "</table>\n",
       "</div>"
      ],
      "text/plain": [
       "             publishers                                           user_ids  \\\n",
       "0               [7, 17]  [12, 44, 46, 50, 58, 71, 93, 122, 134, 143, 17...   \n",
       "1               [3, 18]  [29, 81, 98, 102, 165, 167, 195, 205, 218, 231...   \n",
       "2  [1, 2, 3, 9, 15, 21]  [12, 23, 25, 29, 45, 85, 92, 124, 156, 190, 27...   \n",
       "3               [1, 14]  [44, 122, 187, 209, 242, 255, 312, 345, 382, 4...   \n",
       "4          [1, 3, 7, 8]  [15, 24, 30, 43, 50, 53, 96, 105, 159, 168, 18...   \n",
       "\n",
       "     cpm  hour_start  hour_end  audience_size  \n",
       "0  220.0        1058      1153           1906  \n",
       "1  312.0        1295      1301           1380  \n",
       "2   70.0        1229      1249            888  \n",
       "3  240.0        1295      1377            440  \n",
       "4  262.0         752       990           1476  "
      ]
     },
     "execution_count": 445,
     "metadata": {},
     "output_type": "execute_result"
    }
   ],
   "source": [
    "validate_ds.head()"
   ]
  },
  {
   "cell_type": "markdown",
   "metadata": {},
   "source": [
    "Какой период размещения рекламы"
   ]
  },
  {
   "cell_type": "code",
   "execution_count": 296,
   "metadata": {},
   "outputs": [
    {
     "data": {
      "text/plain": [
       "count    1008.00\n",
       "mean      101.18\n",
       "std       126.40\n",
       "min         2.00\n",
       "25%         8.00\n",
       "50%        36.50\n",
       "75%       169.75\n",
       "max       503.00\n",
       "dtype: float64"
      ]
     },
     "execution_count": 296,
     "metadata": {},
     "output_type": "execute_result"
    }
   ],
   "source": [
    "round((validate_ds[\"hour_end\"] - validate_ds[\"hour_start\"]).describe(), 2)"
   ]
  },
  {
   "cell_type": "markdown",
   "metadata": {},
   "source": [
    "Какое количество площадок фигурирует в объявлениях"
   ]
  },
  {
   "cell_type": "code",
   "execution_count": 444,
   "metadata": {},
   "outputs": [
    {
     "data": {
      "text/plain": [
       "<Axes: >"
      ]
     },
     "execution_count": 444,
     "metadata": {},
     "output_type": "execute_result"
    },
    {
     "data": {
      "image/png": "[encoded data removed]",
      "text/plain": [
       "<Figure size 640x480 with 1 Axes>"
      ]
     },
     "metadata": {},
     "output_type": "display_data"
    }
   ],
   "source": [
    "validate_ds[\"publishers\"].apply(len).hist(bins=int(validate_ds[\"publishers\"].apply(len).max()))"
   ]
  },
  {
   "cell_type": "markdown",
   "metadata": {},
   "source": [
    "Статистика по audience_size"
   ]
  },
  {
   "cell_type": "code",
   "execution_count": 333,
   "metadata": {},
   "outputs": [
    {
     "data": {
      "text/plain": [
       "count    1008.00\n",
       "mean     1090.09\n",
       "std       613.56\n",
       "min       300.00\n",
       "25%       575.00\n",
       "50%       960.00\n",
       "75%      1464.00\n",
       "max      2500.00\n",
       "Name: audience_size, dtype: float64"
      ]
     },
     "execution_count": 333,
     "metadata": {},
     "output_type": "execute_result"
    }
   ],
   "source": [
    "round(validate_ds[\"audience_size\"].describe(), 2)"
   ]
  },
  {
   "cell_type": "markdown",
   "metadata": {},
   "source": [
    "Перейдем к формированию новых признаков ([Feature engineering -> validate.tsv](#feature-engineering))"
   ]
  },
  {
   "cell_type": "markdown",
   "metadata": {},
   "source": [
    "## Step 2 - feature importance"
   ]
  },
  {
   "cell_type": "markdown",
   "metadata": {},
   "source": [
    "___\n",
    "После добавления новых признаков посмотрим какой вклад они приносят"
   ]
  },
  {
   "cell_type": "markdown",
   "metadata": {},
   "source": [
    "### user.tsv"
   ]
  },
  {
   "cell_type": "markdown",
   "metadata": {},
   "source": [
    "Посмотрим на корреляцию признаков между собой"
   ]
  },
  {
   "cell_type": "code",
   "execution_count": 154,
   "metadata": {},
   "outputs": [
    {
     "data": {
      "text/html": [
       "<style type=\"text/css\">\n",
       "#T_1f07c_row0_col0, #T_1f07c_row1_col1, #T_1f07c_row2_col2, #T_1f07c_row3_col3, #T_1f07c_row4_col4, #T_1f07c_row5_col5, #T_1f07c_row6_col6, #T_1f07c_row7_col7, #T_1f07c_row8_col8, #T_1f07c_row9_col9 {\n",
       "  background-color: #b40426;\n",
       "  color: #f1f1f1;\n",
       "}\n",
       "#T_1f07c_row0_col1, #T_1f07c_row0_col2, #T_1f07c_row1_col3, #T_1f07c_row3_col8 {\n",
       "  background-color: #445acc;\n",
       "  color: #f1f1f1;\n",
       "}\n",
       "#T_1f07c_row0_col3 {\n",
       "  background-color: #6282ea;\n",
       "  color: #f1f1f1;\n",
       "}\n",
       "#T_1f07c_row0_col4, #T_1f07c_row2_col0, #T_1f07c_row7_col9, #T_1f07c_row9_col3 {\n",
       "  background-color: #4257c9;\n",
       "  color: #f1f1f1;\n",
       "}\n",
       "#T_1f07c_row0_col5, #T_1f07c_row0_col7, #T_1f07c_row4_col0, #T_1f07c_row5_col0, #T_1f07c_row8_col1, #T_1f07c_row9_col7 {\n",
       "  background-color: #3c4ec2;\n",
       "  color: #f1f1f1;\n",
       "}\n",
       "#T_1f07c_row0_col6, #T_1f07c_row1_col8, #T_1f07c_row2_col5, #T_1f07c_row5_col3, #T_1f07c_row8_col0 {\n",
       "  background-color: #3d50c3;\n",
       "  color: #f1f1f1;\n",
       "}\n",
       "#T_1f07c_row0_col8, #T_1f07c_row2_col9, #T_1f07c_row4_col9 {\n",
       "  background-color: #455cce;\n",
       "  color: #f1f1f1;\n",
       "}\n",
       "#T_1f07c_row0_col9, #T_1f07c_row4_col3, #T_1f07c_row9_col1 {\n",
       "  background-color: #465ecf;\n",
       "  color: #f1f1f1;\n",
       "}\n",
       "#T_1f07c_row1_col0, #T_1f07c_row2_col1, #T_1f07c_row6_col1 {\n",
       "  background-color: #3e51c5;\n",
       "  color: #f1f1f1;\n",
       "}\n",
       "#T_1f07c_row1_col2, #T_1f07c_row1_col4, #T_1f07c_row1_col5, #T_1f07c_row1_col6, #T_1f07c_row1_col7, #T_1f07c_row3_col5, #T_1f07c_row3_col6, #T_1f07c_row3_col7, #T_1f07c_row4_col1, #T_1f07c_row6_col0, #T_1f07c_row6_col3, #T_1f07c_row7_col0, #T_1f07c_row7_col3, #T_1f07c_row8_col9, #T_1f07c_row9_col8 {\n",
       "  background-color: #3b4cc0;\n",
       "  color: #f1f1f1;\n",
       "}\n",
       "#T_1f07c_row1_col9, #T_1f07c_row3_col1, #T_1f07c_row3_col9, #T_1f07c_row6_col9 {\n",
       "  background-color: #485fd1;\n",
       "  color: #f1f1f1;\n",
       "}\n",
       "#T_1f07c_row2_col3, #T_1f07c_row2_col4 {\n",
       "  background-color: #4f69d9;\n",
       "  color: #f1f1f1;\n",
       "}\n",
       "#T_1f07c_row2_col6, #T_1f07c_row5_col1, #T_1f07c_row7_col2, #T_1f07c_row9_col2 {\n",
       "  background-color: #4055c8;\n",
       "  color: #f1f1f1;\n",
       "}\n",
       "#T_1f07c_row2_col7, #T_1f07c_row5_col2, #T_1f07c_row6_col2, #T_1f07c_row7_col1, #T_1f07c_row8_col3, #T_1f07c_row9_col0 {\n",
       "  background-color: #3f53c6;\n",
       "  color: #f1f1f1;\n",
       "}\n",
       "#T_1f07c_row2_col8, #T_1f07c_row8_col5 {\n",
       "  background-color: #4961d2;\n",
       "  color: #f1f1f1;\n",
       "}\n",
       "#T_1f07c_row3_col0 {\n",
       "  background-color: #5f7fe8;\n",
       "  color: #f1f1f1;\n",
       "}\n",
       "#T_1f07c_row3_col2 {\n",
       "  background-color: #4e68d8;\n",
       "  color: #f1f1f1;\n",
       "}\n",
       "#T_1f07c_row3_col4, #T_1f07c_row5_col9 {\n",
       "  background-color: #4a63d3;\n",
       "  color: #f1f1f1;\n",
       "}\n",
       "#T_1f07c_row4_col2, #T_1f07c_row8_col4, #T_1f07c_row8_col6, #T_1f07c_row8_col7 {\n",
       "  background-color: #4b64d5;\n",
       "  color: #f1f1f1;\n",
       "}\n",
       "#T_1f07c_row4_col5 {\n",
       "  background-color: #82a6fb;\n",
       "  color: #f1f1f1;\n",
       "}\n",
       "#T_1f07c_row4_col6 {\n",
       "  background-color: #779af7;\n",
       "  color: #f1f1f1;\n",
       "}\n",
       "#T_1f07c_row4_col7 {\n",
       "  background-color: #6e90f2;\n",
       "  color: #f1f1f1;\n",
       "}\n",
       "#T_1f07c_row4_col8 {\n",
       "  background-color: #4c66d6;\n",
       "  color: #f1f1f1;\n",
       "}\n",
       "#T_1f07c_row5_col4 {\n",
       "  background-color: #88abfd;\n",
       "  color: #000000;\n",
       "}\n",
       "#T_1f07c_row5_col6, #T_1f07c_row6_col5 {\n",
       "  background-color: #e7745b;\n",
       "  color: #f1f1f1;\n",
       "}\n",
       "#T_1f07c_row5_col7, #T_1f07c_row7_col5 {\n",
       "  background-color: #f18f71;\n",
       "  color: #f1f1f1;\n",
       "}\n",
       "#T_1f07c_row5_col8 {\n",
       "  background-color: #506bda;\n",
       "  color: #f1f1f1;\n",
       "}\n",
       "#T_1f07c_row6_col4 {\n",
       "  background-color: #7a9df8;\n",
       "  color: #f1f1f1;\n",
       "}\n",
       "#T_1f07c_row6_col7 {\n",
       "  background-color: #d0473d;\n",
       "  color: #f1f1f1;\n",
       "}\n",
       "#T_1f07c_row6_col8, #T_1f07c_row7_col8 {\n",
       "  background-color: #516ddb;\n",
       "  color: #f1f1f1;\n",
       "}\n",
       "#T_1f07c_row7_col4 {\n",
       "  background-color: #7295f4;\n",
       "  color: #f1f1f1;\n",
       "}\n",
       "#T_1f07c_row7_col6 {\n",
       "  background-color: #cf453c;\n",
       "  color: #f1f1f1;\n",
       "}\n",
       "#T_1f07c_row8_col2, #T_1f07c_row9_col4, #T_1f07c_row9_col5, #T_1f07c_row9_col6 {\n",
       "  background-color: #4358cb;\n",
       "  color: #f1f1f1;\n",
       "}\n",
       "</style>\n",
       "<table id=\"T_1f07c\">\n",
       "  <thead>\n",
       "    <tr>\n",
       "      <th class=\"blank level0\" >&nbsp;</th>\n",
       "      <th id=\"T_1f07c_level0_col0\" class=\"col_heading level0 col0\" >user_id</th>\n",
       "      <th id=\"T_1f07c_level0_col1\" class=\"col_heading level0 col1\" >sex</th>\n",
       "      <th id=\"T_1f07c_level0_col2\" class=\"col_heading level0 col2\" >age</th>\n",
       "      <th id=\"T_1f07c_level0_col3\" class=\"col_heading level0 col3\" >city_id</th>\n",
       "      <th id=\"T_1f07c_level0_col4\" class=\"col_heading level0 col4\" >publishers</th>\n",
       "      <th id=\"T_1f07c_level0_col5\" class=\"col_heading level0 col5\" >views</th>\n",
       "      <th id=\"T_1f07c_level0_col6\" class=\"col_heading level0 col6\" >views_per_week</th>\n",
       "      <th id=\"T_1f07c_level0_col7\" class=\"col_heading level0 col7\" >views_per_day</th>\n",
       "      <th id=\"T_1f07c_level0_col8\" class=\"col_heading level0 col8\" >top_time_interval</th>\n",
       "      <th id=\"T_1f07c_level0_col9\" class=\"col_heading level0 col9\" >is_workday</th>\n",
       "    </tr>\n",
       "  </thead>\n",
       "  <tbody>\n",
       "    <tr>\n",
       "      <th id=\"T_1f07c_level0_row0\" class=\"row_heading level0 row0\" >user_id</th>\n",
       "      <td id=\"T_1f07c_row0_col0\" class=\"data row0 col0\" >1.000000</td>\n",
       "      <td id=\"T_1f07c_row0_col1\" class=\"data row0 col1\" >0.001652</td>\n",
       "      <td id=\"T_1f07c_row0_col2\" class=\"data row0 col2\" >0.012078</td>\n",
       "      <td id=\"T_1f07c_row0_col3\" class=\"data row0 col3\" >0.109968</td>\n",
       "      <td id=\"T_1f07c_row0_col4\" class=\"data row0 col4\" >-0.006642</td>\n",
       "      <td id=\"T_1f07c_row0_col5\" class=\"data row0 col5\" >-0.004627</td>\n",
       "      <td id=\"T_1f07c_row0_col6\" class=\"data row0 col6\" >-0.010060</td>\n",
       "      <td id=\"T_1f07c_row0_col7\" class=\"data row0 col7\" >-0.012467</td>\n",
       "      <td id=\"T_1f07c_row0_col8\" class=\"data row0 col8\" >-0.001371</td>\n",
       "      <td id=\"T_1f07c_row0_col9\" class=\"data row0 col9\" >0.004963</td>\n",
       "    </tr>\n",
       "    <tr>\n",
       "      <th id=\"T_1f07c_level0_row1\" class=\"row_heading level0 row1\" >sex</th>\n",
       "      <td id=\"T_1f07c_row1_col0\" class=\"data row1 col0\" >0.001652</td>\n",
       "      <td id=\"T_1f07c_row1_col1\" class=\"data row1 col1\" >1.000000</td>\n",
       "      <td id=\"T_1f07c_row1_col2\" class=\"data row1 col2\" >-0.019877</td>\n",
       "      <td id=\"T_1f07c_row1_col3\" class=\"data row1 col3\" >0.014633</td>\n",
       "      <td id=\"T_1f07c_row1_col4\" class=\"data row1 col4\" >-0.032656</td>\n",
       "      <td id=\"T_1f07c_row1_col5\" class=\"data row1 col5\" >-0.009384</td>\n",
       "      <td id=\"T_1f07c_row1_col6\" class=\"data row1 col6\" >-0.017094</td>\n",
       "      <td id=\"T_1f07c_row1_col7\" class=\"data row1 col7\" >-0.014466</td>\n",
       "      <td id=\"T_1f07c_row1_col8\" class=\"data row1 col8\" >-0.027435</td>\n",
       "      <td id=\"T_1f07c_row1_col9\" class=\"data row1 col9\" >0.009308</td>\n",
       "    </tr>\n",
       "    <tr>\n",
       "      <th id=\"T_1f07c_level0_row2\" class=\"row_heading level0 row2\" >age</th>\n",
       "      <td id=\"T_1f07c_row2_col0\" class=\"data row2 col0\" >0.012078</td>\n",
       "      <td id=\"T_1f07c_row2_col1\" class=\"data row2 col1\" >-0.019877</td>\n",
       "      <td id=\"T_1f07c_row2_col2\" class=\"data row2 col2\" >1.000000</td>\n",
       "      <td id=\"T_1f07c_row2_col3\" class=\"data row2 col3\" >0.047560</td>\n",
       "      <td id=\"T_1f07c_row2_col4\" class=\"data row2 col4\" >0.038372</td>\n",
       "      <td id=\"T_1f07c_row2_col5\" class=\"data row2 col5\" >-0.000947</td>\n",
       "      <td id=\"T_1f07c_row2_col6\" class=\"data row2 col6\" >-0.000271</td>\n",
       "      <td id=\"T_1f07c_row2_col7\" class=\"data row2 col7\" >0.000631</td>\n",
       "      <td id=\"T_1f07c_row2_col8\" class=\"data row2 col8\" >0.011663</td>\n",
       "      <td id=\"T_1f07c_row2_col9\" class=\"data row2 col9\" >0.000994</td>\n",
       "    </tr>\n",
       "    <tr>\n",
       "      <th id=\"T_1f07c_level0_row3\" class=\"row_heading level0 row3\" >city_id</th>\n",
       "      <td id=\"T_1f07c_row3_col0\" class=\"data row3 col0\" >0.109968</td>\n",
       "      <td id=\"T_1f07c_row3_col1\" class=\"data row3 col1\" >0.014633</td>\n",
       "      <td id=\"T_1f07c_row3_col2\" class=\"data row3 col2\" >0.047560</td>\n",
       "      <td id=\"T_1f07c_row3_col3\" class=\"data row3 col3\" >1.000000</td>\n",
       "      <td id=\"T_1f07c_row3_col4\" class=\"data row3 col4\" >0.022402</td>\n",
       "      <td id=\"T_1f07c_row3_col5\" class=\"data row3 col5\" >-0.011935</td>\n",
       "      <td id=\"T_1f07c_row3_col6\" class=\"data row3 col6\" >-0.020698</td>\n",
       "      <td id=\"T_1f07c_row3_col7\" class=\"data row3 col7\" >-0.016715</td>\n",
       "      <td id=\"T_1f07c_row3_col8\" class=\"data row3 col8\" >-0.003714</td>\n",
       "      <td id=\"T_1f07c_row3_col9\" class=\"data row3 col9\" >0.006239</td>\n",
       "    </tr>\n",
       "    <tr>\n",
       "      <th id=\"T_1f07c_level0_row4\" class=\"row_heading level0 row4\" >publishers</th>\n",
       "      <td id=\"T_1f07c_row4_col0\" class=\"data row4 col0\" >-0.006642</td>\n",
       "      <td id=\"T_1f07c_row4_col1\" class=\"data row4 col1\" >-0.032656</td>\n",
       "      <td id=\"T_1f07c_row4_col2\" class=\"data row4 col2\" >0.038372</td>\n",
       "      <td id=\"T_1f07c_row4_col3\" class=\"data row4 col3\" >0.022402</td>\n",
       "      <td id=\"T_1f07c_row4_col4\" class=\"data row4 col4\" >1.000000</td>\n",
       "      <td id=\"T_1f07c_row4_col5\" class=\"data row4 col5\" >0.210588</td>\n",
       "      <td id=\"T_1f07c_row4_col6\" class=\"data row4 col6\" >0.172331</td>\n",
       "      <td id=\"T_1f07c_row4_col7\" class=\"data row4 col7\" >0.146921</td>\n",
       "      <td id=\"T_1f07c_row4_col8\" class=\"data row4 col8\" >0.025186</td>\n",
       "      <td id=\"T_1f07c_row4_col9\" class=\"data row4 col9\" >-0.001053</td>\n",
       "    </tr>\n",
       "    <tr>\n",
       "      <th id=\"T_1f07c_level0_row5\" class=\"row_heading level0 row5\" >views</th>\n",
       "      <td id=\"T_1f07c_row5_col0\" class=\"data row5 col0\" >-0.004627</td>\n",
       "      <td id=\"T_1f07c_row5_col1\" class=\"data row5 col1\" >-0.009384</td>\n",
       "      <td id=\"T_1f07c_row5_col2\" class=\"data row5 col2\" >-0.000947</td>\n",
       "      <td id=\"T_1f07c_row5_col3\" class=\"data row5 col3\" >-0.011935</td>\n",
       "      <td id=\"T_1f07c_row5_col4\" class=\"data row5 col4\" >0.210588</td>\n",
       "      <td id=\"T_1f07c_row5_col5\" class=\"data row5 col5\" >1.000000</td>\n",
       "      <td id=\"T_1f07c_row5_col6\" class=\"data row5 col6\" >0.830984</td>\n",
       "      <td id=\"T_1f07c_row5_col7\" class=\"data row5 col7\" >0.771151</td>\n",
       "      <td id=\"T_1f07c_row5_col8\" class=\"data row5 col8\" >0.036533</td>\n",
       "      <td id=\"T_1f07c_row5_col9\" class=\"data row5 col9\" >0.015773</td>\n",
       "    </tr>\n",
       "    <tr>\n",
       "      <th id=\"T_1f07c_level0_row6\" class=\"row_heading level0 row6\" >views_per_week</th>\n",
       "      <td id=\"T_1f07c_row6_col0\" class=\"data row6 col0\" >-0.010060</td>\n",
       "      <td id=\"T_1f07c_row6_col1\" class=\"data row6 col1\" >-0.017094</td>\n",
       "      <td id=\"T_1f07c_row6_col2\" class=\"data row6 col2\" >-0.000271</td>\n",
       "      <td id=\"T_1f07c_row6_col3\" class=\"data row6 col3\" >-0.020698</td>\n",
       "      <td id=\"T_1f07c_row6_col4\" class=\"data row6 col4\" >0.172331</td>\n",
       "      <td id=\"T_1f07c_row6_col5\" class=\"data row6 col5\" >0.830984</td>\n",
       "      <td id=\"T_1f07c_row6_col6\" class=\"data row6 col6\" >1.000000</td>\n",
       "      <td id=\"T_1f07c_row6_col7\" class=\"data row6 col7\" >0.920311</td>\n",
       "      <td id=\"T_1f07c_row6_col8\" class=\"data row6 col8\" >0.038832</td>\n",
       "      <td id=\"T_1f07c_row6_col9\" class=\"data row6 col9\" >0.009457</td>\n",
       "    </tr>\n",
       "    <tr>\n",
       "      <th id=\"T_1f07c_level0_row7\" class=\"row_heading level0 row7\" >views_per_day</th>\n",
       "      <td id=\"T_1f07c_row7_col0\" class=\"data row7 col0\" >-0.012467</td>\n",
       "      <td id=\"T_1f07c_row7_col1\" class=\"data row7 col1\" >-0.014466</td>\n",
       "      <td id=\"T_1f07c_row7_col2\" class=\"data row7 col2\" >0.000631</td>\n",
       "      <td id=\"T_1f07c_row7_col3\" class=\"data row7 col3\" >-0.016715</td>\n",
       "      <td id=\"T_1f07c_row7_col4\" class=\"data row7 col4\" >0.146921</td>\n",
       "      <td id=\"T_1f07c_row7_col5\" class=\"data row7 col5\" >0.771151</td>\n",
       "      <td id=\"T_1f07c_row7_col6\" class=\"data row7 col6\" >0.920311</td>\n",
       "      <td id=\"T_1f07c_row7_col7\" class=\"data row7 col7\" >1.000000</td>\n",
       "      <td id=\"T_1f07c_row7_col8\" class=\"data row7 col8\" >0.041943</td>\n",
       "      <td id=\"T_1f07c_row7_col9\" class=\"data row7 col9\" >-0.011914</td>\n",
       "    </tr>\n",
       "    <tr>\n",
       "      <th id=\"T_1f07c_level0_row8\" class=\"row_heading level0 row8\" >top_time_interval</th>\n",
       "      <td id=\"T_1f07c_row8_col0\" class=\"data row8 col0\" >-0.001371</td>\n",
       "      <td id=\"T_1f07c_row8_col1\" class=\"data row8 col1\" >-0.027435</td>\n",
       "      <td id=\"T_1f07c_row8_col2\" class=\"data row8 col2\" >0.011663</td>\n",
       "      <td id=\"T_1f07c_row8_col3\" class=\"data row8 col3\" >-0.003714</td>\n",
       "      <td id=\"T_1f07c_row8_col4\" class=\"data row8 col4\" >0.025186</td>\n",
       "      <td id=\"T_1f07c_row8_col5\" class=\"data row8 col5\" >0.036533</td>\n",
       "      <td id=\"T_1f07c_row8_col6\" class=\"data row8 col6\" >0.038832</td>\n",
       "      <td id=\"T_1f07c_row8_col7\" class=\"data row8 col7\" >0.041943</td>\n",
       "      <td id=\"T_1f07c_row8_col8\" class=\"data row8 col8\" >1.000000</td>\n",
       "      <td id=\"T_1f07c_row8_col9\" class=\"data row8 col9\" >-0.038562</td>\n",
       "    </tr>\n",
       "    <tr>\n",
       "      <th id=\"T_1f07c_level0_row9\" class=\"row_heading level0 row9\" >is_workday</th>\n",
       "      <td id=\"T_1f07c_row9_col0\" class=\"data row9 col0\" >0.004963</td>\n",
       "      <td id=\"T_1f07c_row9_col1\" class=\"data row9 col1\" >0.009308</td>\n",
       "      <td id=\"T_1f07c_row9_col2\" class=\"data row9 col2\" >0.000994</td>\n",
       "      <td id=\"T_1f07c_row9_col3\" class=\"data row9 col3\" >0.006239</td>\n",
       "      <td id=\"T_1f07c_row9_col4\" class=\"data row9 col4\" >-0.001053</td>\n",
       "      <td id=\"T_1f07c_row9_col5\" class=\"data row9 col5\" >0.015773</td>\n",
       "      <td id=\"T_1f07c_row9_col6\" class=\"data row9 col6\" >0.009457</td>\n",
       "      <td id=\"T_1f07c_row9_col7\" class=\"data row9 col7\" >-0.011914</td>\n",
       "      <td id=\"T_1f07c_row9_col8\" class=\"data row9 col8\" >-0.038562</td>\n",
       "      <td id=\"T_1f07c_row9_col9\" class=\"data row9 col9\" >1.000000</td>\n",
       "    </tr>\n",
       "  </tbody>\n",
       "</table>\n"
      ],
      "text/plain": [
       "<pandas.io.formats.style.Styler at 0x7f0b1807aa30>"
      ]
     },
     "execution_count": 154,
     "metadata": {},
     "output_type": "execute_result"
    }
   ],
   "source": [
    "ext_user_ds.corr().style.background_gradient(cmap='coolwarm')"
   ]
  },
  {
   "cell_type": "markdown",
   "metadata": {},
   "source": [
    "Посмотрим на статистики сильно коррелирующих признаков"
   ]
  },
  {
   "cell_type": "code",
   "execution_count": 158,
   "metadata": {},
   "outputs": [
    {
     "data": {
      "text/html": [
       "<div>\n",
       "<style scoped>\n",
       "    .dataframe tbody tr th:only-of-type {\n",
       "        vertical-align: middle;\n",
       "    }\n",
       "\n",
       "    .dataframe tbody tr th {\n",
       "        vertical-align: top;\n",
       "    }\n",
       "\n",
       "    .dataframe thead th {\n",
       "        text-align: right;\n",
       "    }\n",
       "</style>\n",
       "<table border=\"1\" class=\"dataframe\">\n",
       "  <thead>\n",
       "    <tr style=\"text-align: right;\">\n",
       "      <th></th>\n",
       "      <th>views_per_week</th>\n",
       "      <th>views_per_day</th>\n",
       "    </tr>\n",
       "  </thead>\n",
       "  <tbody>\n",
       "    <tr>\n",
       "      <th>count</th>\n",
       "      <td>25536.000000</td>\n",
       "      <td>25536.000000</td>\n",
       "    </tr>\n",
       "    <tr>\n",
       "      <th>mean</th>\n",
       "      <td>0.945293</td>\n",
       "      <td>0.249138</td>\n",
       "    </tr>\n",
       "    <tr>\n",
       "      <th>std</th>\n",
       "      <td>1.724954</td>\n",
       "      <td>0.575356</td>\n",
       "    </tr>\n",
       "    <tr>\n",
       "      <th>min</th>\n",
       "      <td>0.000000</td>\n",
       "      <td>0.000000</td>\n",
       "    </tr>\n",
       "    <tr>\n",
       "      <th>25%</th>\n",
       "      <td>0.000000</td>\n",
       "      <td>0.000000</td>\n",
       "    </tr>\n",
       "    <tr>\n",
       "      <th>50%</th>\n",
       "      <td>0.000000</td>\n",
       "      <td>0.000000</td>\n",
       "    </tr>\n",
       "    <tr>\n",
       "      <th>75%</th>\n",
       "      <td>1.000000</td>\n",
       "      <td>0.000000</td>\n",
       "    </tr>\n",
       "    <tr>\n",
       "      <th>max</th>\n",
       "      <td>29.000000</td>\n",
       "      <td>8.000000</td>\n",
       "    </tr>\n",
       "  </tbody>\n",
       "</table>\n",
       "</div>"
      ],
      "text/plain": [
       "       views_per_week  views_per_day\n",
       "count    25536.000000   25536.000000\n",
       "mean         0.945293       0.249138\n",
       "std          1.724954       0.575356\n",
       "min          0.000000       0.000000\n",
       "25%          0.000000       0.000000\n",
       "50%          0.000000       0.000000\n",
       "75%          1.000000       0.000000\n",
       "max         29.000000       8.000000"
      ]
     },
     "execution_count": 158,
     "metadata": {},
     "output_type": "execute_result"
    }
   ],
   "source": [
    "ext_user_ds[[\"views_per_week\", \"views_per_day\"]].describe()"
   ]
  },
  {
   "cell_type": "code",
   "execution_count": 169,
   "metadata": {},
   "outputs": [
    {
     "data": {
      "text/plain": [
       "<Axes: >"
      ]
     },
     "execution_count": 169,
     "metadata": {},
     "output_type": "execute_result"
    },
    {
     "data": {
      "image/png": "[encoded data removed]",
      "text/plain": [
       "<Figure size 640x480 with 1 Axes>"
      ]
     },
     "metadata": {},
     "output_type": "display_data"
    }
   ],
   "source": [
    "ext_user_ds[\"views_per_week\"].hist(bins=int(ext_user_ds[\"views_per_week\"].max()), alpha=0.5)\n",
    "ext_user_ds[\"views_per_day\"].hist(bins=int(ext_user_ds[\"views_per_day\"].max()), alpha=0.5)"
   ]
  },
  {
   "cell_type": "markdown",
   "metadata": {},
   "source": [
    "## Step 3 - after feature imputation"
   ]
  },
  {
   "cell_type": "markdown",
   "metadata": {},
   "source": [
    "___\n",
    "Смотрим на статистики признаков после заполнения пропусков в [Clean and prepare -> Step 2 -> user.tsv](#clean-and-prepare-data)"
   ]
  },
  {
   "cell_type": "markdown",
   "metadata": {},
   "source": [
    "### user.tsv"
   ]
  },
  {
   "cell_type": "markdown",
   "metadata": {},
   "source": [
    "Посмотрим остались ли пропуски"
   ]
  },
  {
   "cell_type": "code",
   "execution_count": 217,
   "metadata": {},
   "outputs": [
    {
     "name": "stdout",
     "output_type": "stream",
     "text": [
      "Количество пропущенных значений в age: 193\n"
     ]
    }
   ],
   "source": [
    "mask = (~ext_user_ds[\"user_id\"].isin(sf_ext_user_ds[\"user_id\"])) & (ext_user_ds[\"age\"] == 0)\n",
    "print(f\"Количество пропущенных значений в age: {len(ext_user_ds.loc[mask])}\")"
   ]
  },
  {
   "cell_type": "code",
   "execution_count": 218,
   "metadata": {},
   "outputs": [
    {
     "data": {
      "text/html": [
       "<div>\n",
       "<style scoped>\n",
       "    .dataframe tbody tr th:only-of-type {\n",
       "        vertical-align: middle;\n",
       "    }\n",
       "\n",
       "    .dataframe tbody tr th {\n",
       "        vertical-align: top;\n",
       "    }\n",
       "\n",
       "    .dataframe thead th {\n",
       "        text-align: right;\n",
       "    }\n",
       "</style>\n",
       "<table border=\"1\" class=\"dataframe\">\n",
       "  <thead>\n",
       "    <tr style=\"text-align: right;\">\n",
       "      <th></th>\n",
       "      <th>user_id</th>\n",
       "      <th>sex</th>\n",
       "      <th>age</th>\n",
       "      <th>city_id</th>\n",
       "      <th>publishers</th>\n",
       "      <th>views</th>\n",
       "      <th>views_per_week</th>\n",
       "      <th>views_per_day</th>\n",
       "      <th>top_time_interval</th>\n",
       "      <th>is_workday</th>\n",
       "    </tr>\n",
       "  </thead>\n",
       "  <tbody>\n",
       "    <tr>\n",
       "      <th>10</th>\n",
       "      <td>10</td>\n",
       "      <td>0</td>\n",
       "      <td>0</td>\n",
       "      <td>0</td>\n",
       "      <td>NaN</td>\n",
       "      <td>NaN</td>\n",
       "      <td>NaN</td>\n",
       "      <td>NaN</td>\n",
       "      <td>NaN</td>\n",
       "      <td>NaN</td>\n",
       "    </tr>\n",
       "    <tr>\n",
       "      <th>143</th>\n",
       "      <td>143</td>\n",
       "      <td>1</td>\n",
       "      <td>0</td>\n",
       "      <td>67</td>\n",
       "      <td>NaN</td>\n",
       "      <td>NaN</td>\n",
       "      <td>NaN</td>\n",
       "      <td>NaN</td>\n",
       "      <td>NaN</td>\n",
       "      <td>NaN</td>\n",
       "    </tr>\n",
       "    <tr>\n",
       "      <th>317</th>\n",
       "      <td>317</td>\n",
       "      <td>1</td>\n",
       "      <td>0</td>\n",
       "      <td>0</td>\n",
       "      <td>NaN</td>\n",
       "      <td>NaN</td>\n",
       "      <td>NaN</td>\n",
       "      <td>NaN</td>\n",
       "      <td>NaN</td>\n",
       "      <td>NaN</td>\n",
       "    </tr>\n",
       "    <tr>\n",
       "      <th>351</th>\n",
       "      <td>351</td>\n",
       "      <td>0</td>\n",
       "      <td>0</td>\n",
       "      <td>19</td>\n",
       "      <td>NaN</td>\n",
       "      <td>NaN</td>\n",
       "      <td>NaN</td>\n",
       "      <td>NaN</td>\n",
       "      <td>NaN</td>\n",
       "      <td>NaN</td>\n",
       "    </tr>\n",
       "    <tr>\n",
       "      <th>359</th>\n",
       "      <td>359</td>\n",
       "      <td>1</td>\n",
       "      <td>0</td>\n",
       "      <td>67</td>\n",
       "      <td>NaN</td>\n",
       "      <td>NaN</td>\n",
       "      <td>NaN</td>\n",
       "      <td>NaN</td>\n",
       "      <td>NaN</td>\n",
       "      <td>NaN</td>\n",
       "    </tr>\n",
       "    <tr>\n",
       "      <th>...</th>\n",
       "      <td>...</td>\n",
       "      <td>...</td>\n",
       "      <td>...</td>\n",
       "      <td>...</td>\n",
       "      <td>...</td>\n",
       "      <td>...</td>\n",
       "      <td>...</td>\n",
       "      <td>...</td>\n",
       "      <td>...</td>\n",
       "      <td>...</td>\n",
       "    </tr>\n",
       "    <tr>\n",
       "      <th>27428</th>\n",
       "      <td>27428</td>\n",
       "      <td>0</td>\n",
       "      <td>0</td>\n",
       "      <td>231</td>\n",
       "      <td>NaN</td>\n",
       "      <td>NaN</td>\n",
       "      <td>NaN</td>\n",
       "      <td>NaN</td>\n",
       "      <td>NaN</td>\n",
       "      <td>NaN</td>\n",
       "    </tr>\n",
       "    <tr>\n",
       "      <th>27544</th>\n",
       "      <td>27544</td>\n",
       "      <td>0</td>\n",
       "      <td>0</td>\n",
       "      <td>0</td>\n",
       "      <td>NaN</td>\n",
       "      <td>NaN</td>\n",
       "      <td>NaN</td>\n",
       "      <td>NaN</td>\n",
       "      <td>NaN</td>\n",
       "      <td>NaN</td>\n",
       "    </tr>\n",
       "    <tr>\n",
       "      <th>27668</th>\n",
       "      <td>27668</td>\n",
       "      <td>1</td>\n",
       "      <td>0</td>\n",
       "      <td>0</td>\n",
       "      <td>NaN</td>\n",
       "      <td>NaN</td>\n",
       "      <td>NaN</td>\n",
       "      <td>NaN</td>\n",
       "      <td>NaN</td>\n",
       "      <td>NaN</td>\n",
       "    </tr>\n",
       "    <tr>\n",
       "      <th>27748</th>\n",
       "      <td>27748</td>\n",
       "      <td>1</td>\n",
       "      <td>0</td>\n",
       "      <td>0</td>\n",
       "      <td>NaN</td>\n",
       "      <td>NaN</td>\n",
       "      <td>NaN</td>\n",
       "      <td>NaN</td>\n",
       "      <td>NaN</td>\n",
       "      <td>NaN</td>\n",
       "    </tr>\n",
       "    <tr>\n",
       "      <th>27754</th>\n",
       "      <td>27754</td>\n",
       "      <td>0</td>\n",
       "      <td>0</td>\n",
       "      <td>25</td>\n",
       "      <td>NaN</td>\n",
       "      <td>NaN</td>\n",
       "      <td>NaN</td>\n",
       "      <td>NaN</td>\n",
       "      <td>NaN</td>\n",
       "      <td>NaN</td>\n",
       "    </tr>\n",
       "  </tbody>\n",
       "</table>\n",
       "<p>193 rows × 10 columns</p>\n",
       "</div>"
      ],
      "text/plain": [
       "       user_id  sex  age  city_id  publishers  views  views_per_week  \\\n",
       "10          10    0    0        0         NaN    NaN             NaN   \n",
       "143        143    1    0       67         NaN    NaN             NaN   \n",
       "317        317    1    0        0         NaN    NaN             NaN   \n",
       "351        351    0    0       19         NaN    NaN             NaN   \n",
       "359        359    1    0       67         NaN    NaN             NaN   \n",
       "...        ...  ...  ...      ...         ...    ...             ...   \n",
       "27428    27428    0    0      231         NaN    NaN             NaN   \n",
       "27544    27544    0    0        0         NaN    NaN             NaN   \n",
       "27668    27668    1    0        0         NaN    NaN             NaN   \n",
       "27748    27748    1    0        0         NaN    NaN             NaN   \n",
       "27754    27754    0    0       25         NaN    NaN             NaN   \n",
       "\n",
       "       views_per_day  top_time_interval  is_workday  \n",
       "10               NaN                NaN         NaN  \n",
       "143              NaN                NaN         NaN  \n",
       "317              NaN                NaN         NaN  \n",
       "351              NaN                NaN         NaN  \n",
       "359              NaN                NaN         NaN  \n",
       "...              ...                ...         ...  \n",
       "27428            NaN                NaN         NaN  \n",
       "27544            NaN                NaN         NaN  \n",
       "27668            NaN                NaN         NaN  \n",
       "27748            NaN                NaN         NaN  \n",
       "27754            NaN                NaN         NaN  \n",
       "\n",
       "[193 rows x 10 columns]"
      ]
     },
     "execution_count": 218,
     "metadata": {},
     "output_type": "execute_result"
    }
   ],
   "source": [
    "ext_user_ds.loc[mask]"
   ]
  },
  {
   "cell_type": "markdown",
   "metadata": {},
   "source": [
    "Сколько данных с NaN"
   ]
  },
  {
   "cell_type": "code",
   "execution_count": 249,
   "metadata": {},
   "outputs": [
    {
     "data": {
      "text/plain": [
       "user_id              0.0\n",
       "sex                  0.0\n",
       "age                  0.0\n",
       "city_id              0.0\n",
       "publishers           8.0\n",
       "views                8.0\n",
       "views_per_week       8.0\n",
       "views_per_day        8.0\n",
       "top_time_interval    8.0\n",
       "is_workday           8.0\n",
       "dtype: float64"
      ]
     },
     "execution_count": 249,
     "metadata": {},
     "output_type": "execute_result"
    }
   ],
   "source": [
    "round(ext_user_ds.isna().sum()/len(ext_user_ds)*100, 1)"
   ]
  },
  {
   "cell_type": "markdown",
   "metadata": {},
   "source": [
    "Сколько пользователей нет в истории"
   ]
  },
  {
   "cell_type": "code",
   "execution_count": 252,
   "metadata": {},
   "outputs": [
    {
     "data": {
      "text/plain": [
       "8.0"
      ]
     },
     "execution_count": 252,
     "metadata": {},
     "output_type": "execute_result"
    }
   ],
   "source": [
    "round((len(ext_user_ds)-len(history_ds[\"user_id\"].unique()))/len(ext_user_ds)*100, 1)"
   ]
  },
  {
   "cell_type": "markdown",
   "metadata": {},
   "source": [
    "Как мы видим пропуски остались, но мало. Удалим эти объекты, тк кроме age у этих же объектов отсутствуют значения и у других признаков ([Clean and prepare -> Step 2 -> user.tsv](#clean-and-prepare-data))"
   ]
  },
  {
   "cell_type": "markdown",
   "metadata": {},
   "source": [
    "# Clean and prepare data"
   ]
  },
  {
   "cell_type": "markdown",
   "metadata": {},
   "source": [
    "## Step 1 - first connection"
   ]
  },
  {
   "cell_type": "markdown",
   "metadata": {},
   "source": [
    "___\n",
    "**user.tsv**\n",
    "- Заполняем признак sex средним значением и делаем его бинарным,\n",
    "\n",
    "**history.tsv**\n",
    "- ...\n",
    "\n",
    "**validate.tsv**\n",
    "- ...\n",
    "\n",
    "**validate_answers.tsv**\n",
    "- ..."
   ]
  },
  {
   "cell_type": "markdown",
   "metadata": {},
   "source": [
    "### user.tsv"
   ]
  },
  {
   "cell_type": "markdown",
   "metadata": {},
   "source": [
    "Заполняем пропуски единицей, приводим к бинарному виду для sex."
   ]
  },
  {
   "cell_type": "code",
   "execution_count": 281,
   "metadata": {},
   "outputs": [
    {
     "data": {
      "text/html": [
       "<div>\n",
       "<style scoped>\n",
       "    .dataframe tbody tr th:only-of-type {\n",
       "        vertical-align: middle;\n",
       "    }\n",
       "\n",
       "    .dataframe tbody tr th {\n",
       "        vertical-align: top;\n",
       "    }\n",
       "\n",
       "    .dataframe thead th {\n",
       "        text-align: right;\n",
       "    }\n",
       "</style>\n",
       "<table border=\"1\" class=\"dataframe\">\n",
       "  <thead>\n",
       "    <tr style=\"text-align: right;\">\n",
       "      <th></th>\n",
       "      <th>user_id</th>\n",
       "      <th>sex</th>\n",
       "      <th>age</th>\n",
       "      <th>city_id</th>\n",
       "    </tr>\n",
       "  </thead>\n",
       "  <tbody>\n",
       "    <tr>\n",
       "      <th>0</th>\n",
       "      <td>0</td>\n",
       "      <td>1</td>\n",
       "      <td>19</td>\n",
       "      <td>0</td>\n",
       "    </tr>\n",
       "    <tr>\n",
       "      <th>1</th>\n",
       "      <td>1</td>\n",
       "      <td>0</td>\n",
       "      <td>0</td>\n",
       "      <td>1</td>\n",
       "    </tr>\n",
       "    <tr>\n",
       "      <th>2</th>\n",
       "      <td>2</td>\n",
       "      <td>1</td>\n",
       "      <td>24</td>\n",
       "      <td>2</td>\n",
       "    </tr>\n",
       "    <tr>\n",
       "      <th>3</th>\n",
       "      <td>3</td>\n",
       "      <td>0</td>\n",
       "      <td>20</td>\n",
       "      <td>3</td>\n",
       "    </tr>\n",
       "    <tr>\n",
       "      <th>4</th>\n",
       "      <td>4</td>\n",
       "      <td>1</td>\n",
       "      <td>29</td>\n",
       "      <td>4</td>\n",
       "    </tr>\n",
       "  </tbody>\n",
       "</table>\n",
       "</div>"
      ],
      "text/plain": [
       "   user_id  sex  age  city_id\n",
       "0        0    1   19        0\n",
       "1        1    0    0        1\n",
       "2        2    1   24        2\n",
       "3        3    0   20        3\n",
       "4        4    1   29        4"
      ]
     },
     "execution_count": 281,
     "metadata": {},
     "output_type": "execute_result"
    }
   ],
   "source": [
    "# Берем индексы со значением 0\n",
    "zero_indices = user_ds[user_ds['sex'] == 0].index\n",
    "half = len(zero_indices) // 2\n",
    "# Заполняем 1 и 2\n",
    "user_ds.loc[zero_indices[:half], 'sex'] = 1\n",
    "user_ds.loc[zero_indices[half:], 'sex'] = 2\n",
    "# Делаем признак бинарным\n",
    "user_ds[\"sex\"] = user_ds[\"sex\"] - 1\n",
    "\n",
    "user_ds.head()"
   ]
  },
  {
   "cell_type": "markdown",
   "metadata": {},
   "source": [
    "Для людей старше 90 лет присвоим среднее значение"
   ]
  },
  {
   "cell_type": "code",
   "execution_count": 282,
   "metadata": {},
   "outputs": [
    {
     "data": {
      "text/plain": [
       "count    27769.000000\n",
       "mean        27.137888\n",
       "std         13.912057\n",
       "min          0.000000\n",
       "25%         18.000000\n",
       "50%         27.000000\n",
       "75%         35.000000\n",
       "max         89.000000\n",
       "Name: age, dtype: float64"
      ]
     },
     "execution_count": 282,
     "metadata": {},
     "output_type": "execute_result"
    }
   ],
   "source": [
    "mask = (user_ds[\"age\"] != 0) & (user_ds[\"age\"] < 90)\n",
    "age_mean = round(np.mean(user_ds.loc[mask, \"age\"]))\n",
    "\n",
    "mask = user_ds[\"age\"] >= 90\n",
    "user_ds.loc[mask, \"age\"] = age_mean\n",
    "user_ds[\"age\"].describe()"
   ]
  },
  {
   "cell_type": "markdown",
   "metadata": {},
   "source": [
    "Для того, чтобы заполнить пропуски в age нужно выполнить следующие шаги:\n",
    "1) Добавить новые признаки пользователям,\n",
    "2) Масштабировать признаки,\n",
    "3) Посчитать для каждого пропуска ближайшее значение с помощью KNNImputer.\n",
    "\n",
    "Перейдем к генерации признаков ([Feature engineering -> user.tsv](#feature-engineering))"
   ]
  },
  {
   "cell_type": "markdown",
   "metadata": {},
   "source": [
    "### validate.tsv"
   ]
  },
  {
   "cell_type": "markdown",
   "metadata": {},
   "source": [
    "Переводим строки в списки"
   ]
  },
  {
   "cell_type": "code",
   "execution_count": 443,
   "metadata": {},
   "outputs": [
    {
     "data": {
      "text/html": [
       "<div>\n",
       "<style scoped>\n",
       "    .dataframe tbody tr th:only-of-type {\n",
       "        vertical-align: middle;\n",
       "    }\n",
       "\n",
       "    .dataframe tbody tr th {\n",
       "        vertical-align: top;\n",
       "    }\n",
       "\n",
       "    .dataframe thead th {\n",
       "        text-align: right;\n",
       "    }\n",
       "</style>\n",
       "<table border=\"1\" class=\"dataframe\">\n",
       "  <thead>\n",
       "    <tr style=\"text-align: right;\">\n",
       "      <th></th>\n",
       "      <th>publishers</th>\n",
       "      <th>user_ids</th>\n",
       "      <th>cpm</th>\n",
       "      <th>hour_start</th>\n",
       "      <th>hour_end</th>\n",
       "      <th>audience_size</th>\n",
       "    </tr>\n",
       "  </thead>\n",
       "  <tbody>\n",
       "    <tr>\n",
       "      <th>0</th>\n",
       "      <td>[7, 17]</td>\n",
       "      <td>[12, 44, 46, 50, 58, 71, 93, 122, 134, 143, 17...</td>\n",
       "      <td>220.0</td>\n",
       "      <td>1058</td>\n",
       "      <td>1153</td>\n",
       "      <td>1906</td>\n",
       "    </tr>\n",
       "    <tr>\n",
       "      <th>1</th>\n",
       "      <td>[3, 18]</td>\n",
       "      <td>[29, 81, 98, 102, 165, 167, 195, 205, 218, 231...</td>\n",
       "      <td>312.0</td>\n",
       "      <td>1295</td>\n",
       "      <td>1301</td>\n",
       "      <td>1380</td>\n",
       "    </tr>\n",
       "    <tr>\n",
       "      <th>2</th>\n",
       "      <td>[1, 2, 3, 9, 15, 21]</td>\n",
       "      <td>[12, 23, 25, 29, 45, 85, 92, 124, 156, 190, 27...</td>\n",
       "      <td>70.0</td>\n",
       "      <td>1229</td>\n",
       "      <td>1249</td>\n",
       "      <td>888</td>\n",
       "    </tr>\n",
       "    <tr>\n",
       "      <th>3</th>\n",
       "      <td>[1, 14]</td>\n",
       "      <td>[44, 122, 187, 209, 242, 255, 312, 345, 382, 4...</td>\n",
       "      <td>240.0</td>\n",
       "      <td>1295</td>\n",
       "      <td>1377</td>\n",
       "      <td>440</td>\n",
       "    </tr>\n",
       "    <tr>\n",
       "      <th>4</th>\n",
       "      <td>[1, 3, 7, 8]</td>\n",
       "      <td>[15, 24, 30, 43, 50, 53, 96, 105, 159, 168, 18...</td>\n",
       "      <td>262.0</td>\n",
       "      <td>752</td>\n",
       "      <td>990</td>\n",
       "      <td>1476</td>\n",
       "    </tr>\n",
       "  </tbody>\n",
       "</table>\n",
       "</div>"
      ],
      "text/plain": [
       "             publishers                                           user_ids  \\\n",
       "0               [7, 17]  [12, 44, 46, 50, 58, 71, 93, 122, 134, 143, 17...   \n",
       "1               [3, 18]  [29, 81, 98, 102, 165, 167, 195, 205, 218, 231...   \n",
       "2  [1, 2, 3, 9, 15, 21]  [12, 23, 25, 29, 45, 85, 92, 124, 156, 190, 27...   \n",
       "3               [1, 14]  [44, 122, 187, 209, 242, 255, 312, 345, 382, 4...   \n",
       "4          [1, 3, 7, 8]  [15, 24, 30, 43, 50, 53, 96, 105, 159, 168, 18...   \n",
       "\n",
       "     cpm  hour_start  hour_end  audience_size  \n",
       "0  220.0        1058      1153           1906  \n",
       "1  312.0        1295      1301           1380  \n",
       "2   70.0        1229      1249            888  \n",
       "3  240.0        1295      1377            440  \n",
       "4  262.0         752       990           1476  "
      ]
     },
     "execution_count": 443,
     "metadata": {},
     "output_type": "execute_result"
    }
   ],
   "source": [
    "validate_ds = ct.fit_transform(validate_ds)\n",
    "validate_ds.head()"
   ]
  },
  {
   "cell_type": "markdown",
   "metadata": {},
   "source": [
    "## Step 2 - after feature engineering"
   ]
  },
  {
   "cell_type": "markdown",
   "metadata": {},
   "source": [
    "___\n",
    "После генерации новых признаков чистим данные.\n",
    "\n",
    "**user.tsv**\n",
    "- с помощью KNN добавляем пропущенные значения в age,\n",
    "- удаляем объекты, которые имеют много пропусков в признаках."
   ]
  },
  {
   "cell_type": "markdown",
   "metadata": {},
   "source": [
    "### user.tsv"
   ]
  },
  {
   "cell_type": "markdown",
   "metadata": {},
   "source": [
    "Уберем данные с пропущенными признаками"
   ]
  },
  {
   "cell_type": "code",
   "execution_count": null,
   "metadata": {},
   "outputs": [
    {
     "data": {
      "text/html": [
       "<div>\n",
       "<style scoped>\n",
       "    .dataframe tbody tr th:only-of-type {\n",
       "        vertical-align: middle;\n",
       "    }\n",
       "\n",
       "    .dataframe tbody tr th {\n",
       "        vertical-align: top;\n",
       "    }\n",
       "\n",
       "    .dataframe thead th {\n",
       "        text-align: right;\n",
       "    }\n",
       "</style>\n",
       "<table border=\"1\" class=\"dataframe\">\n",
       "  <thead>\n",
       "    <tr style=\"text-align: right;\">\n",
       "      <th></th>\n",
       "      <th>user_id</th>\n",
       "      <th>sex</th>\n",
       "      <th>age</th>\n",
       "      <th>city_id</th>\n",
       "      <th>publishers</th>\n",
       "      <th>views</th>\n",
       "      <th>views_per_week</th>\n",
       "      <th>views_per_day</th>\n",
       "      <th>top_time_interval</th>\n",
       "      <th>is_workday</th>\n",
       "    </tr>\n",
       "  </thead>\n",
       "  <tbody>\n",
       "    <tr>\n",
       "      <th>0</th>\n",
       "      <td>0</td>\n",
       "      <td>1</td>\n",
       "      <td>19</td>\n",
       "      <td>0</td>\n",
       "      <td>1.0</td>\n",
       "      <td>2.0</td>\n",
       "      <td>0.0</td>\n",
       "      <td>0.0</td>\n",
       "      <td>-0.866025</td>\n",
       "      <td>1.0</td>\n",
       "    </tr>\n",
       "    <tr>\n",
       "      <th>1</th>\n",
       "      <td>1</td>\n",
       "      <td>0</td>\n",
       "      <td>0</td>\n",
       "      <td>1</td>\n",
       "      <td>1.0</td>\n",
       "      <td>82.0</td>\n",
       "      <td>2.0</td>\n",
       "      <td>0.0</td>\n",
       "      <td>-0.707107</td>\n",
       "      <td>0.0</td>\n",
       "    </tr>\n",
       "    <tr>\n",
       "      <th>3</th>\n",
       "      <td>3</td>\n",
       "      <td>0</td>\n",
       "      <td>20</td>\n",
       "      <td>3</td>\n",
       "      <td>2.0</td>\n",
       "      <td>8.0</td>\n",
       "      <td>0.0</td>\n",
       "      <td>0.0</td>\n",
       "      <td>0.707107</td>\n",
       "      <td>1.0</td>\n",
       "    </tr>\n",
       "    <tr>\n",
       "      <th>4</th>\n",
       "      <td>4</td>\n",
       "      <td>1</td>\n",
       "      <td>29</td>\n",
       "      <td>4</td>\n",
       "      <td>2.0</td>\n",
       "      <td>132.0</td>\n",
       "      <td>3.0</td>\n",
       "      <td>1.0</td>\n",
       "      <td>-0.707107</td>\n",
       "      <td>1.0</td>\n",
       "    </tr>\n",
       "    <tr>\n",
       "      <th>5</th>\n",
       "      <td>5</td>\n",
       "      <td>1</td>\n",
       "      <td>22</td>\n",
       "      <td>5</td>\n",
       "      <td>1.0</td>\n",
       "      <td>9.0</td>\n",
       "      <td>0.0</td>\n",
       "      <td>0.0</td>\n",
       "      <td>-1.000000</td>\n",
       "      <td>1.0</td>\n",
       "    </tr>\n",
       "  </tbody>\n",
       "</table>\n",
       "</div>"
      ],
      "text/plain": [
       "   user_id  sex  age  city_id  publishers  views  views_per_week  \\\n",
       "0        0    1   19        0         1.0    2.0             0.0   \n",
       "1        1    0    0        1         1.0   82.0             2.0   \n",
       "3        3    0   20        3         2.0    8.0             0.0   \n",
       "4        4    1   29        4         2.0  132.0             3.0   \n",
       "5        5    1   22        5         1.0    9.0             0.0   \n",
       "\n",
       "   views_per_day  top_time_interval  is_workday  \n",
       "0            0.0          -0.866025         1.0  \n",
       "1            0.0          -0.707107         0.0  \n",
       "3            0.0           0.707107         1.0  \n",
       "4            1.0          -0.707107         1.0  \n",
       "5            0.0          -1.000000         1.0  "
      ]
     },
     "execution_count": 287,
     "metadata": {},
     "output_type": "execute_result"
    }
   ],
   "source": [
    "filtered_features = ext_user_ds[~ext_user_ds[\"views\"].isna()]\n",
    "filtered_features.head()"
   ]
  },
  {
   "cell_type": "markdown",
   "metadata": {},
   "source": [
    "Масштабируем данные"
   ]
  },
  {
   "cell_type": "code",
   "execution_count": 288,
   "metadata": {},
   "outputs": [
    {
     "data": {
      "text/html": [
       "<div>\n",
       "<style scoped>\n",
       "    .dataframe tbody tr th:only-of-type {\n",
       "        vertical-align: middle;\n",
       "    }\n",
       "\n",
       "    .dataframe tbody tr th {\n",
       "        vertical-align: top;\n",
       "    }\n",
       "\n",
       "    .dataframe thead th {\n",
       "        text-align: right;\n",
       "    }\n",
       "</style>\n",
       "<table border=\"1\" class=\"dataframe\">\n",
       "  <thead>\n",
       "    <tr style=\"text-align: right;\">\n",
       "      <th></th>\n",
       "      <th>age</th>\n",
       "      <th>city_id</th>\n",
       "      <th>publishers</th>\n",
       "      <th>views</th>\n",
       "      <th>views_per_week</th>\n",
       "      <th>views_per_day</th>\n",
       "      <th>top_time_interval</th>\n",
       "    </tr>\n",
       "  </thead>\n",
       "  <tbody>\n",
       "    <tr>\n",
       "      <th>0</th>\n",
       "      <td>0.213483</td>\n",
       "      <td>0.000000</td>\n",
       "      <td>0.0</td>\n",
       "      <td>0.000816</td>\n",
       "      <td>0.000000</td>\n",
       "      <td>0.000</td>\n",
       "      <td>0.066987</td>\n",
       "    </tr>\n",
       "    <tr>\n",
       "      <th>1</th>\n",
       "      <td>0.000000</td>\n",
       "      <td>0.000407</td>\n",
       "      <td>0.0</td>\n",
       "      <td>0.066122</td>\n",
       "      <td>0.068966</td>\n",
       "      <td>0.000</td>\n",
       "      <td>0.146447</td>\n",
       "    </tr>\n",
       "    <tr>\n",
       "      <th>3</th>\n",
       "      <td>0.224719</td>\n",
       "      <td>0.001221</td>\n",
       "      <td>0.2</td>\n",
       "      <td>0.005714</td>\n",
       "      <td>0.000000</td>\n",
       "      <td>0.000</td>\n",
       "      <td>0.853553</td>\n",
       "    </tr>\n",
       "    <tr>\n",
       "      <th>4</th>\n",
       "      <td>0.325843</td>\n",
       "      <td>0.001629</td>\n",
       "      <td>0.2</td>\n",
       "      <td>0.106939</td>\n",
       "      <td>0.103448</td>\n",
       "      <td>0.125</td>\n",
       "      <td>0.146447</td>\n",
       "    </tr>\n",
       "    <tr>\n",
       "      <th>5</th>\n",
       "      <td>0.247191</td>\n",
       "      <td>0.002036</td>\n",
       "      <td>0.0</td>\n",
       "      <td>0.006531</td>\n",
       "      <td>0.000000</td>\n",
       "      <td>0.000</td>\n",
       "      <td>0.000000</td>\n",
       "    </tr>\n",
       "  </tbody>\n",
       "</table>\n",
       "</div>"
      ],
      "text/plain": [
       "        age   city_id  publishers     views  views_per_week  views_per_day  \\\n",
       "0  0.213483  0.000000         0.0  0.000816        0.000000          0.000   \n",
       "1  0.000000  0.000407         0.0  0.066122        0.068966          0.000   \n",
       "3  0.224719  0.001221         0.2  0.005714        0.000000          0.000   \n",
       "4  0.325843  0.001629         0.2  0.106939        0.103448          0.125   \n",
       "5  0.247191  0.002036         0.0  0.006531        0.000000          0.000   \n",
       "\n",
       "   top_time_interval  \n",
       "0           0.066987  \n",
       "1           0.146447  \n",
       "3           0.853553  \n",
       "4           0.146447  \n",
       "5           0.000000  "
      ]
     },
     "execution_count": 288,
     "metadata": {},
     "output_type": "execute_result"
    }
   ],
   "source": [
    "scaler = MinMaxScaler()\n",
    "scaled_f_features = scaler.fit_transform(filtered_features.drop(columns=[\"user_id\", \"sex\", \"is_workday\"]))\n",
    "scaled_f_features.head()"
   ]
  },
  {
   "cell_type": "code",
   "execution_count": 289,
   "metadata": {},
   "outputs": [
    {
     "data": {
      "text/html": [
       "<div>\n",
       "<style scoped>\n",
       "    .dataframe tbody tr th:only-of-type {\n",
       "        vertical-align: middle;\n",
       "    }\n",
       "\n",
       "    .dataframe tbody tr th {\n",
       "        vertical-align: top;\n",
       "    }\n",
       "\n",
       "    .dataframe thead th {\n",
       "        text-align: right;\n",
       "    }\n",
       "</style>\n",
       "<table border=\"1\" class=\"dataframe\">\n",
       "  <thead>\n",
       "    <tr style=\"text-align: right;\">\n",
       "      <th></th>\n",
       "      <th>user_id</th>\n",
       "      <th>sex</th>\n",
       "      <th>age</th>\n",
       "      <th>city_id</th>\n",
       "      <th>publishers</th>\n",
       "      <th>views</th>\n",
       "      <th>views_per_week</th>\n",
       "      <th>views_per_day</th>\n",
       "      <th>top_time_interval</th>\n",
       "      <th>is_workday</th>\n",
       "    </tr>\n",
       "  </thead>\n",
       "  <tbody>\n",
       "    <tr>\n",
       "      <th>0</th>\n",
       "      <td>0</td>\n",
       "      <td>1</td>\n",
       "      <td>0.213483</td>\n",
       "      <td>0.000000</td>\n",
       "      <td>0.0</td>\n",
       "      <td>0.000816</td>\n",
       "      <td>0.000000</td>\n",
       "      <td>0.000</td>\n",
       "      <td>0.066987</td>\n",
       "      <td>1.0</td>\n",
       "    </tr>\n",
       "    <tr>\n",
       "      <th>1</th>\n",
       "      <td>1</td>\n",
       "      <td>0</td>\n",
       "      <td>0.000000</td>\n",
       "      <td>0.000407</td>\n",
       "      <td>0.0</td>\n",
       "      <td>0.066122</td>\n",
       "      <td>0.068966</td>\n",
       "      <td>0.000</td>\n",
       "      <td>0.146447</td>\n",
       "      <td>0.0</td>\n",
       "    </tr>\n",
       "    <tr>\n",
       "      <th>3</th>\n",
       "      <td>3</td>\n",
       "      <td>0</td>\n",
       "      <td>0.224719</td>\n",
       "      <td>0.001221</td>\n",
       "      <td>0.2</td>\n",
       "      <td>0.005714</td>\n",
       "      <td>0.000000</td>\n",
       "      <td>0.000</td>\n",
       "      <td>0.853553</td>\n",
       "      <td>1.0</td>\n",
       "    </tr>\n",
       "    <tr>\n",
       "      <th>4</th>\n",
       "      <td>4</td>\n",
       "      <td>1</td>\n",
       "      <td>0.325843</td>\n",
       "      <td>0.001629</td>\n",
       "      <td>0.2</td>\n",
       "      <td>0.106939</td>\n",
       "      <td>0.103448</td>\n",
       "      <td>0.125</td>\n",
       "      <td>0.146447</td>\n",
       "      <td>1.0</td>\n",
       "    </tr>\n",
       "    <tr>\n",
       "      <th>5</th>\n",
       "      <td>5</td>\n",
       "      <td>1</td>\n",
       "      <td>0.247191</td>\n",
       "      <td>0.002036</td>\n",
       "      <td>0.0</td>\n",
       "      <td>0.006531</td>\n",
       "      <td>0.000000</td>\n",
       "      <td>0.000</td>\n",
       "      <td>0.000000</td>\n",
       "      <td>1.0</td>\n",
       "    </tr>\n",
       "  </tbody>\n",
       "</table>\n",
       "</div>"
      ],
      "text/plain": [
       "   user_id  sex       age   city_id  publishers     views  views_per_week  \\\n",
       "0        0    1  0.213483  0.000000         0.0  0.000816        0.000000   \n",
       "1        1    0  0.000000  0.000407         0.0  0.066122        0.068966   \n",
       "3        3    0  0.224719  0.001221         0.2  0.005714        0.000000   \n",
       "4        4    1  0.325843  0.001629         0.2  0.106939        0.103448   \n",
       "5        5    1  0.247191  0.002036         0.0  0.006531        0.000000   \n",
       "\n",
       "   views_per_day  top_time_interval  is_workday  \n",
       "0          0.000           0.066987         1.0  \n",
       "1          0.000           0.146447         0.0  \n",
       "3          0.000           0.853553         1.0  \n",
       "4          0.125           0.146447         1.0  \n",
       "5          0.000           0.000000         1.0  "
      ]
     },
     "execution_count": 289,
     "metadata": {},
     "output_type": "execute_result"
    }
   ],
   "source": [
    "sf_ext_user_ds = filtered_features.copy()\n",
    "sf_ext_user_ds[scaled_f_features.columns] = scaled_f_features\n",
    "sf_ext_user_ds.head()"
   ]
  },
  {
   "cell_type": "markdown",
   "metadata": {},
   "source": [
    "Применим KNNImputer для присвоения значений пропускам в age"
   ]
  },
  {
   "cell_type": "code",
   "execution_count": 290,
   "metadata": {},
   "outputs": [
    {
     "data": {
      "text/html": [
       "<div>\n",
       "<style scoped>\n",
       "    .dataframe tbody tr th:only-of-type {\n",
       "        vertical-align: middle;\n",
       "    }\n",
       "\n",
       "    .dataframe tbody tr th {\n",
       "        vertical-align: top;\n",
       "    }\n",
       "\n",
       "    .dataframe thead th {\n",
       "        text-align: right;\n",
       "    }\n",
       "</style>\n",
       "<table border=\"1\" class=\"dataframe\">\n",
       "  <thead>\n",
       "    <tr style=\"text-align: right;\">\n",
       "      <th></th>\n",
       "      <th>user_id</th>\n",
       "      <th>sex</th>\n",
       "      <th>age</th>\n",
       "      <th>city_id</th>\n",
       "      <th>publishers</th>\n",
       "      <th>views</th>\n",
       "      <th>views_per_week</th>\n",
       "      <th>views_per_day</th>\n",
       "      <th>top_time_interval</th>\n",
       "      <th>is_workday</th>\n",
       "    </tr>\n",
       "  </thead>\n",
       "  <tbody>\n",
       "    <tr>\n",
       "      <th>0</th>\n",
       "      <td>0</td>\n",
       "      <td>1</td>\n",
       "      <td>0.213483</td>\n",
       "      <td>0.000000</td>\n",
       "      <td>0.0</td>\n",
       "      <td>0.000816</td>\n",
       "      <td>0.000000</td>\n",
       "      <td>0.000</td>\n",
       "      <td>0.066987</td>\n",
       "      <td>1.0</td>\n",
       "    </tr>\n",
       "    <tr>\n",
       "      <th>1</th>\n",
       "      <td>1</td>\n",
       "      <td>0</td>\n",
       "      <td>0.397753</td>\n",
       "      <td>0.000407</td>\n",
       "      <td>0.0</td>\n",
       "      <td>0.066122</td>\n",
       "      <td>0.068966</td>\n",
       "      <td>0.000</td>\n",
       "      <td>0.146447</td>\n",
       "      <td>0.0</td>\n",
       "    </tr>\n",
       "    <tr>\n",
       "      <th>3</th>\n",
       "      <td>3</td>\n",
       "      <td>0</td>\n",
       "      <td>0.224719</td>\n",
       "      <td>0.001221</td>\n",
       "      <td>0.2</td>\n",
       "      <td>0.005714</td>\n",
       "      <td>0.000000</td>\n",
       "      <td>0.000</td>\n",
       "      <td>0.853553</td>\n",
       "      <td>1.0</td>\n",
       "    </tr>\n",
       "    <tr>\n",
       "      <th>4</th>\n",
       "      <td>4</td>\n",
       "      <td>1</td>\n",
       "      <td>0.325843</td>\n",
       "      <td>0.001629</td>\n",
       "      <td>0.2</td>\n",
       "      <td>0.106939</td>\n",
       "      <td>0.103448</td>\n",
       "      <td>0.125</td>\n",
       "      <td>0.146447</td>\n",
       "      <td>1.0</td>\n",
       "    </tr>\n",
       "    <tr>\n",
       "      <th>5</th>\n",
       "      <td>5</td>\n",
       "      <td>1</td>\n",
       "      <td>0.247191</td>\n",
       "      <td>0.002036</td>\n",
       "      <td>0.0</td>\n",
       "      <td>0.006531</td>\n",
       "      <td>0.000000</td>\n",
       "      <td>0.000</td>\n",
       "      <td>0.000000</td>\n",
       "      <td>1.0</td>\n",
       "    </tr>\n",
       "  </tbody>\n",
       "</table>\n",
       "</div>"
      ],
      "text/plain": [
       "   user_id  sex       age   city_id  publishers     views  views_per_week  \\\n",
       "0        0    1  0.213483  0.000000         0.0  0.000816        0.000000   \n",
       "1        1    0  0.397753  0.000407         0.0  0.066122        0.068966   \n",
       "3        3    0  0.224719  0.001221         0.2  0.005714        0.000000   \n",
       "4        4    1  0.325843  0.001629         0.2  0.106939        0.103448   \n",
       "5        5    1  0.247191  0.002036         0.0  0.006531        0.000000   \n",
       "\n",
       "   views_per_day  top_time_interval  is_workday  \n",
       "0          0.000           0.066987         1.0  \n",
       "1          0.000           0.146447         0.0  \n",
       "3          0.000           0.853553         1.0  \n",
       "4          0.125           0.146447         1.0  \n",
       "5          0.000           0.000000         1.0  "
      ]
     },
     "execution_count": 290,
     "metadata": {},
     "output_type": "execute_result"
    }
   ],
   "source": [
    "sf_ext_user_ds = sf_ext_user_ds.replace({\"age\": 0}, np.nan)\n",
    "\n",
    "imputer = KNNImputer(n_neighbors=5, weights=\"uniform\")\n",
    "sf_ext_user_ds[\"age\"] = imputer.fit_transform(sf_ext_user_ds.drop(columns=[\"user_id\"]))[\"age\"]\n",
    "sf_ext_user_ds.head()"
   ]
  },
  {
   "cell_type": "markdown",
   "metadata": {},
   "source": [
    "Вернем масштаб данных и внесем данные в датасет user.tsv"
   ]
  },
  {
   "cell_type": "code",
   "execution_count": 291,
   "metadata": {},
   "outputs": [
    {
     "data": {
      "text/html": [
       "<div>\n",
       "<style scoped>\n",
       "    .dataframe tbody tr th:only-of-type {\n",
       "        vertical-align: middle;\n",
       "    }\n",
       "\n",
       "    .dataframe tbody tr th {\n",
       "        vertical-align: top;\n",
       "    }\n",
       "\n",
       "    .dataframe thead th {\n",
       "        text-align: right;\n",
       "    }\n",
       "</style>\n",
       "<table border=\"1\" class=\"dataframe\">\n",
       "  <thead>\n",
       "    <tr style=\"text-align: right;\">\n",
       "      <th></th>\n",
       "      <th>age</th>\n",
       "      <th>city_id</th>\n",
       "      <th>publishers</th>\n",
       "      <th>views</th>\n",
       "      <th>views_per_week</th>\n",
       "      <th>views_per_day</th>\n",
       "      <th>top_time_interval</th>\n",
       "    </tr>\n",
       "  </thead>\n",
       "  <tbody>\n",
       "    <tr>\n",
       "      <th>0</th>\n",
       "      <td>19.0</td>\n",
       "      <td>0.0</td>\n",
       "      <td>1.0</td>\n",
       "      <td>2.0</td>\n",
       "      <td>0.0</td>\n",
       "      <td>0.0</td>\n",
       "      <td>-0.866025</td>\n",
       "    </tr>\n",
       "    <tr>\n",
       "      <th>1</th>\n",
       "      <td>35.4</td>\n",
       "      <td>1.0</td>\n",
       "      <td>1.0</td>\n",
       "      <td>82.0</td>\n",
       "      <td>2.0</td>\n",
       "      <td>0.0</td>\n",
       "      <td>-0.707107</td>\n",
       "    </tr>\n",
       "    <tr>\n",
       "      <th>3</th>\n",
       "      <td>20.0</td>\n",
       "      <td>3.0</td>\n",
       "      <td>2.0</td>\n",
       "      <td>8.0</td>\n",
       "      <td>0.0</td>\n",
       "      <td>0.0</td>\n",
       "      <td>0.707107</td>\n",
       "    </tr>\n",
       "    <tr>\n",
       "      <th>4</th>\n",
       "      <td>29.0</td>\n",
       "      <td>4.0</td>\n",
       "      <td>2.0</td>\n",
       "      <td>132.0</td>\n",
       "      <td>3.0</td>\n",
       "      <td>1.0</td>\n",
       "      <td>-0.707107</td>\n",
       "    </tr>\n",
       "    <tr>\n",
       "      <th>5</th>\n",
       "      <td>22.0</td>\n",
       "      <td>5.0</td>\n",
       "      <td>1.0</td>\n",
       "      <td>9.0</td>\n",
       "      <td>0.0</td>\n",
       "      <td>0.0</td>\n",
       "      <td>-1.000000</td>\n",
       "    </tr>\n",
       "  </tbody>\n",
       "</table>\n",
       "</div>"
      ],
      "text/plain": [
       "    age  city_id  publishers  views  views_per_week  views_per_day  \\\n",
       "0  19.0      0.0         1.0    2.0             0.0            0.0   \n",
       "1  35.4      1.0         1.0   82.0             2.0            0.0   \n",
       "3  20.0      3.0         2.0    8.0             0.0            0.0   \n",
       "4  29.0      4.0         2.0  132.0             3.0            1.0   \n",
       "5  22.0      5.0         1.0    9.0             0.0            0.0   \n",
       "\n",
       "   top_time_interval  \n",
       "0          -0.866025  \n",
       "1          -0.707107  \n",
       "3           0.707107  \n",
       "4          -0.707107  \n",
       "5          -1.000000  "
      ]
     },
     "execution_count": 291,
     "metadata": {},
     "output_type": "execute_result"
    }
   ],
   "source": [
    "inversed_feature = scaler.inverse_transform(sf_ext_user_ds[scaled_f_features.columns])\n",
    "inversed_feature = pd.DataFrame(data=inversed_feature, columns=scaled_f_features.columns, index=sf_ext_user_ds.index)\n",
    "inversed_feature.head()"
   ]
  },
  {
   "cell_type": "code",
   "execution_count": 293,
   "metadata": {},
   "outputs": [
    {
     "name": "stderr",
     "output_type": "stream",
     "text": [
      "/tmp/ipykernel_3064492/90890206.py:1: FutureWarning: Setting an item of incompatible dtype is deprecated and will raise an error in a future version of pandas. Value '[19.  35.4 20.  ... 21.  17.  30. ]' has dtype incompatible with int64, please explicitly cast to a compatible dtype first.\n",
      "  ext_user_ds.loc[inversed_feature.index, inversed_feature.columns] = inversed_feature\n",
      "/tmp/ipykernel_3064492/90890206.py:1: FutureWarning: Setting an item of incompatible dtype is deprecated and will raise an error in a future version of pandas. Value '[0.000e+00 1.000e+00 3.000e+00 ... 1.953e+03 0.000e+00 0.000e+00]' has dtype incompatible with int64, please explicitly cast to a compatible dtype first.\n",
      "  ext_user_ds.loc[inversed_feature.index, inversed_feature.columns] = inversed_feature\n"
     ]
    },
    {
     "data": {
      "text/html": [
       "<div>\n",
       "<style scoped>\n",
       "    .dataframe tbody tr th:only-of-type {\n",
       "        vertical-align: middle;\n",
       "    }\n",
       "\n",
       "    .dataframe tbody tr th {\n",
       "        vertical-align: top;\n",
       "    }\n",
       "\n",
       "    .dataframe thead th {\n",
       "        text-align: right;\n",
       "    }\n",
       "</style>\n",
       "<table border=\"1\" class=\"dataframe\">\n",
       "  <thead>\n",
       "    <tr style=\"text-align: right;\">\n",
       "      <th></th>\n",
       "      <th>user_id</th>\n",
       "      <th>sex</th>\n",
       "      <th>age</th>\n",
       "      <th>city_id</th>\n",
       "      <th>publishers</th>\n",
       "      <th>views</th>\n",
       "      <th>views_per_week</th>\n",
       "      <th>views_per_day</th>\n",
       "      <th>top_time_interval</th>\n",
       "      <th>is_workday</th>\n",
       "    </tr>\n",
       "  </thead>\n",
       "  <tbody>\n",
       "    <tr>\n",
       "      <th>0</th>\n",
       "      <td>0</td>\n",
       "      <td>1</td>\n",
       "      <td>19.0</td>\n",
       "      <td>0.0</td>\n",
       "      <td>1.0</td>\n",
       "      <td>2.0</td>\n",
       "      <td>0.0</td>\n",
       "      <td>0.0</td>\n",
       "      <td>-0.866025</td>\n",
       "      <td>1.0</td>\n",
       "    </tr>\n",
       "    <tr>\n",
       "      <th>1</th>\n",
       "      <td>1</td>\n",
       "      <td>0</td>\n",
       "      <td>35.4</td>\n",
       "      <td>1.0</td>\n",
       "      <td>1.0</td>\n",
       "      <td>82.0</td>\n",
       "      <td>2.0</td>\n",
       "      <td>0.0</td>\n",
       "      <td>-0.707107</td>\n",
       "      <td>0.0</td>\n",
       "    </tr>\n",
       "    <tr>\n",
       "      <th>2</th>\n",
       "      <td>2</td>\n",
       "      <td>1</td>\n",
       "      <td>24.0</td>\n",
       "      <td>2.0</td>\n",
       "      <td>NaN</td>\n",
       "      <td>NaN</td>\n",
       "      <td>NaN</td>\n",
       "      <td>NaN</td>\n",
       "      <td>NaN</td>\n",
       "      <td>NaN</td>\n",
       "    </tr>\n",
       "    <tr>\n",
       "      <th>3</th>\n",
       "      <td>3</td>\n",
       "      <td>0</td>\n",
       "      <td>20.0</td>\n",
       "      <td>3.0</td>\n",
       "      <td>2.0</td>\n",
       "      <td>8.0</td>\n",
       "      <td>0.0</td>\n",
       "      <td>0.0</td>\n",
       "      <td>0.707107</td>\n",
       "      <td>1.0</td>\n",
       "    </tr>\n",
       "    <tr>\n",
       "      <th>4</th>\n",
       "      <td>4</td>\n",
       "      <td>1</td>\n",
       "      <td>29.0</td>\n",
       "      <td>4.0</td>\n",
       "      <td>2.0</td>\n",
       "      <td>132.0</td>\n",
       "      <td>3.0</td>\n",
       "      <td>1.0</td>\n",
       "      <td>-0.707107</td>\n",
       "      <td>1.0</td>\n",
       "    </tr>\n",
       "  </tbody>\n",
       "</table>\n",
       "</div>"
      ],
      "text/plain": [
       "   user_id  sex   age  city_id  publishers  views  views_per_week  \\\n",
       "0        0    1  19.0      0.0         1.0    2.0             0.0   \n",
       "1        1    0  35.4      1.0         1.0   82.0             2.0   \n",
       "2        2    1  24.0      2.0         NaN    NaN             NaN   \n",
       "3        3    0  20.0      3.0         2.0    8.0             0.0   \n",
       "4        4    1  29.0      4.0         2.0  132.0             3.0   \n",
       "\n",
       "   views_per_day  top_time_interval  is_workday  \n",
       "0            0.0          -0.866025         1.0  \n",
       "1            0.0          -0.707107         0.0  \n",
       "2            NaN                NaN         NaN  \n",
       "3            0.0           0.707107         1.0  \n",
       "4            1.0          -0.707107         1.0  "
      ]
     },
     "execution_count": 293,
     "metadata": {},
     "output_type": "execute_result"
    }
   ],
   "source": [
    "ext_user_ds.loc[inversed_feature.index, inversed_feature.columns] = inversed_feature\n",
    "ext_user_ds.head()"
   ]
  },
  {
   "cell_type": "markdown",
   "metadata": {},
   "source": [
    "Посмотрим остались ли пропуски в age ([Explore data -> Step 3 -> user.tsv](#explore-data))\n",
    "\n",
    "Удалим пустые объекты"
   ]
  },
  {
   "cell_type": "code",
   "execution_count": 294,
   "metadata": {},
   "outputs": [
    {
     "data": {
      "text/html": [
       "<div>\n",
       "<style scoped>\n",
       "    .dataframe tbody tr th:only-of-type {\n",
       "        vertical-align: middle;\n",
       "    }\n",
       "\n",
       "    .dataframe tbody tr th {\n",
       "        vertical-align: top;\n",
       "    }\n",
       "\n",
       "    .dataframe thead th {\n",
       "        text-align: right;\n",
       "    }\n",
       "</style>\n",
       "<table border=\"1\" class=\"dataframe\">\n",
       "  <thead>\n",
       "    <tr style=\"text-align: right;\">\n",
       "      <th></th>\n",
       "      <th>user_id</th>\n",
       "      <th>sex</th>\n",
       "      <th>age</th>\n",
       "      <th>city_id</th>\n",
       "      <th>publishers</th>\n",
       "      <th>views</th>\n",
       "      <th>views_per_week</th>\n",
       "      <th>views_per_day</th>\n",
       "      <th>top_time_interval</th>\n",
       "      <th>is_workday</th>\n",
       "    </tr>\n",
       "  </thead>\n",
       "  <tbody>\n",
       "    <tr>\n",
       "      <th>0</th>\n",
       "      <td>0</td>\n",
       "      <td>1</td>\n",
       "      <td>19.0</td>\n",
       "      <td>0.0</td>\n",
       "      <td>1.0</td>\n",
       "      <td>2.0</td>\n",
       "      <td>0.0</td>\n",
       "      <td>0.0</td>\n",
       "      <td>-0.866025</td>\n",
       "      <td>1.0</td>\n",
       "    </tr>\n",
       "    <tr>\n",
       "      <th>1</th>\n",
       "      <td>1</td>\n",
       "      <td>0</td>\n",
       "      <td>35.4</td>\n",
       "      <td>1.0</td>\n",
       "      <td>1.0</td>\n",
       "      <td>82.0</td>\n",
       "      <td>2.0</td>\n",
       "      <td>0.0</td>\n",
       "      <td>-0.707107</td>\n",
       "      <td>0.0</td>\n",
       "    </tr>\n",
       "    <tr>\n",
       "      <th>3</th>\n",
       "      <td>3</td>\n",
       "      <td>0</td>\n",
       "      <td>20.0</td>\n",
       "      <td>3.0</td>\n",
       "      <td>2.0</td>\n",
       "      <td>8.0</td>\n",
       "      <td>0.0</td>\n",
       "      <td>0.0</td>\n",
       "      <td>0.707107</td>\n",
       "      <td>1.0</td>\n",
       "    </tr>\n",
       "    <tr>\n",
       "      <th>4</th>\n",
       "      <td>4</td>\n",
       "      <td>1</td>\n",
       "      <td>29.0</td>\n",
       "      <td>4.0</td>\n",
       "      <td>2.0</td>\n",
       "      <td>132.0</td>\n",
       "      <td>3.0</td>\n",
       "      <td>1.0</td>\n",
       "      <td>-0.707107</td>\n",
       "      <td>1.0</td>\n",
       "    </tr>\n",
       "    <tr>\n",
       "      <th>5</th>\n",
       "      <td>5</td>\n",
       "      <td>1</td>\n",
       "      <td>22.0</td>\n",
       "      <td>5.0</td>\n",
       "      <td>1.0</td>\n",
       "      <td>9.0</td>\n",
       "      <td>0.0</td>\n",
       "      <td>0.0</td>\n",
       "      <td>-1.000000</td>\n",
       "      <td>1.0</td>\n",
       "    </tr>\n",
       "  </tbody>\n",
       "</table>\n",
       "</div>"
      ],
      "text/plain": [
       "   user_id  sex   age  city_id  publishers  views  views_per_week  \\\n",
       "0        0    1  19.0      0.0         1.0    2.0             0.0   \n",
       "1        1    0  35.4      1.0         1.0   82.0             2.0   \n",
       "3        3    0  20.0      3.0         2.0    8.0             0.0   \n",
       "4        4    1  29.0      4.0         2.0  132.0             3.0   \n",
       "5        5    1  22.0      5.0         1.0    9.0             0.0   \n",
       "\n",
       "   views_per_day  top_time_interval  is_workday  \n",
       "0            0.0          -0.866025         1.0  \n",
       "1            0.0          -0.707107         0.0  \n",
       "3            0.0           0.707107         1.0  \n",
       "4            1.0          -0.707107         1.0  \n",
       "5            0.0          -1.000000         1.0  "
      ]
     },
     "execution_count": 294,
     "metadata": {},
     "output_type": "execute_result"
    }
   ],
   "source": [
    "mask = (ext_user_ds[\"age\"] != 0) & (~ext_user_ds[\"views\"].isna())\n",
    "ext_user_ds = ext_user_ds.loc[mask]\n",
    "ext_user_ds.head()"
   ]
  },
  {
   "cell_type": "code",
   "execution_count": 295,
   "metadata": {},
   "outputs": [
    {
     "data": {
      "text/plain": [
       "25536"
      ]
     },
     "execution_count": 295,
     "metadata": {},
     "output_type": "execute_result"
    }
   ],
   "source": [
    "len(ext_user_ds)"
   ]
  },
  {
   "cell_type": "markdown",
   "metadata": {},
   "source": [
    "Сохраним датасет"
   ]
  },
  {
   "cell_type": "code",
   "execution_count": 297,
   "metadata": {},
   "outputs": [],
   "source": [
    "ext_user_ds.to_csv(os.path.join(OUTPUT_DATA_PATH, \"ext_user.csv\"), index=False)"
   ]
  },
  {
   "cell_type": "markdown",
   "metadata": {},
   "source": [
    "# Feature engineering"
   ]
  },
  {
   "cell_type": "markdown",
   "metadata": {},
   "source": [
    "### user.tsv"
   ]
  },
  {
   "cell_type": "markdown",
   "metadata": {},
   "source": [
    "___\n",
    "Добавим новые признаки (делается после добавления признаков в history):\n",
    "- publishers - кол-во используемых площадок,\n",
    "- top_publisher - любимая площадка,\n",
    "- views - кол-во просмотров за все время,\n",
    "- views_per_week - среднее количество просмотров в неделю,\n",
    "- views_per_day - среднее количество просмотров в день,\n",
    "- top_time_interval - в какой промежуток времени видит рекламу чаще всего,\n",
    "- is_workday - по будням или по выходным видит рекламу."
   ]
  },
  {
   "cell_type": "code",
   "execution_count": 283,
   "metadata": {},
   "outputs": [],
   "source": [
    "def get_interval_views(ds, step):\n",
    "    interval_views = []\n",
    "    start_hour = 0\n",
    "    for end_hour in range(24, history_ds[\"hour\"].max(), step):\n",
    "        mask = (ds[\"hour\"] >= start_hour) & (ds[\"hour\"] < hour_end)\n",
    "        interval_views.append(len(ds.loc[mask]))\n",
    "        start_hour = end_hour\n",
    "\n",
    "    return interval_views"
   ]
  },
  {
   "cell_type": "code",
   "execution_count": 286,
   "metadata": {},
   "outputs": [
    {
     "name": "stderr",
     "output_type": "stream",
     "text": [
      "100%|██████████| 25536/25536 [08:20<00:00, 51.02it/s]\n"
     ]
    },
    {
     "data": {
      "text/html": [
       "<div>\n",
       "<style scoped>\n",
       "    .dataframe tbody tr th:only-of-type {\n",
       "        vertical-align: middle;\n",
       "    }\n",
       "\n",
       "    .dataframe tbody tr th {\n",
       "        vertical-align: top;\n",
       "    }\n",
       "\n",
       "    .dataframe thead th {\n",
       "        text-align: right;\n",
       "    }\n",
       "</style>\n",
       "<table border=\"1\" class=\"dataframe\">\n",
       "  <thead>\n",
       "    <tr style=\"text-align: right;\">\n",
       "      <th></th>\n",
       "      <th>user_id</th>\n",
       "      <th>sex</th>\n",
       "      <th>age</th>\n",
       "      <th>city_id</th>\n",
       "      <th>publishers</th>\n",
       "      <th>views</th>\n",
       "      <th>views_per_week</th>\n",
       "      <th>views_per_day</th>\n",
       "      <th>top_time_interval</th>\n",
       "      <th>is_workday</th>\n",
       "    </tr>\n",
       "  </thead>\n",
       "  <tbody>\n",
       "    <tr>\n",
       "      <th>0</th>\n",
       "      <td>0</td>\n",
       "      <td>1</td>\n",
       "      <td>19</td>\n",
       "      <td>0</td>\n",
       "      <td>1.0</td>\n",
       "      <td>2.0</td>\n",
       "      <td>0.0</td>\n",
       "      <td>0.0</td>\n",
       "      <td>-0.866025</td>\n",
       "      <td>1.0</td>\n",
       "    </tr>\n",
       "    <tr>\n",
       "      <th>1</th>\n",
       "      <td>1</td>\n",
       "      <td>0</td>\n",
       "      <td>0</td>\n",
       "      <td>1</td>\n",
       "      <td>1.0</td>\n",
       "      <td>82.0</td>\n",
       "      <td>2.0</td>\n",
       "      <td>0.0</td>\n",
       "      <td>-0.707107</td>\n",
       "      <td>0.0</td>\n",
       "    </tr>\n",
       "    <tr>\n",
       "      <th>2</th>\n",
       "      <td>2</td>\n",
       "      <td>1</td>\n",
       "      <td>24</td>\n",
       "      <td>2</td>\n",
       "      <td>NaN</td>\n",
       "      <td>NaN</td>\n",
       "      <td>NaN</td>\n",
       "      <td>NaN</td>\n",
       "      <td>NaN</td>\n",
       "      <td>NaN</td>\n",
       "    </tr>\n",
       "    <tr>\n",
       "      <th>3</th>\n",
       "      <td>3</td>\n",
       "      <td>0</td>\n",
       "      <td>20</td>\n",
       "      <td>3</td>\n",
       "      <td>2.0</td>\n",
       "      <td>8.0</td>\n",
       "      <td>0.0</td>\n",
       "      <td>0.0</td>\n",
       "      <td>0.707107</td>\n",
       "      <td>1.0</td>\n",
       "    </tr>\n",
       "    <tr>\n",
       "      <th>4</th>\n",
       "      <td>4</td>\n",
       "      <td>1</td>\n",
       "      <td>29</td>\n",
       "      <td>4</td>\n",
       "      <td>2.0</td>\n",
       "      <td>132.0</td>\n",
       "      <td>3.0</td>\n",
       "      <td>1.0</td>\n",
       "      <td>-0.707107</td>\n",
       "      <td>1.0</td>\n",
       "    </tr>\n",
       "  </tbody>\n",
       "</table>\n",
       "</div>"
      ],
      "text/plain": [
       "   user_id  sex  age  city_id  publishers  views  views_per_week  \\\n",
       "0        0    1   19        0         1.0    2.0             0.0   \n",
       "1        1    0    0        1         1.0   82.0             2.0   \n",
       "2        2    1   24        2         NaN    NaN             NaN   \n",
       "3        3    0   20        3         2.0    8.0             0.0   \n",
       "4        4    1   29        4         2.0  132.0             3.0   \n",
       "\n",
       "   views_per_day  top_time_interval  is_workday  \n",
       "0            0.0          -0.866025         1.0  \n",
       "1            0.0          -0.707107         0.0  \n",
       "2            NaN                NaN         NaN  \n",
       "3            0.0           0.707107         1.0  \n",
       "4            1.0          -0.707107         1.0  "
      ]
     },
     "execution_count": 286,
     "metadata": {},
     "output_type": "execute_result"
    }
   ],
   "source": [
    "new_features = {\n",
    "    \"user_id\": [],\n",
    "    \"publishers\": [],\n",
    "    \"views\": [],\n",
    "    \"views_per_week\": [],\n",
    "    \"views_per_day\": [],\n",
    "    \"top_time_interval\": [],\n",
    "    \"is_workday\": []\n",
    "}\n",
    "users_history_ds = history_ds.groupby(\"user_id\")\n",
    "for user_id, user_history_ds in tqdm(users_history_ds, total=len(users_history_ds)):\n",
    "    publishers = len(user_history_ds[\"publisher\"].unique())\n",
    "    views = len(user_history_ds)\n",
    "    views_per_week = round(np.mean(get_interval_views(user_history_ds, step=24*7)))\n",
    "    views_per_day = round(np.mean(get_interval_views(user_history_ds, step=24)))\n",
    "    top_time_interval = np.cos(2*np.pi*user_history_ds[\"daytime\"].mode()[0]/24)\n",
    "    is_workday = 1 if user_history_ds[\"weekday\"].mode()[0] <= 4 else 0\n",
    "\n",
    "    new_features[\"user_id\"].append(user_id)\n",
    "    new_features[\"publishers\"].append(publishers)\n",
    "    new_features[\"views\"].append(views)\n",
    "    new_features[\"views_per_week\"].append(views_per_week)\n",
    "    new_features[\"views_per_day\"].append(views_per_day)\n",
    "    new_features[\"top_time_interval\"].append(top_time_interval)\n",
    "    new_features[\"is_workday\"].append(is_workday)\n",
    "\n",
    "ext_user_ds = user_ds.copy()\n",
    "ext_user_ds = pd.merge(ext_user_ds, pd.DataFrame(new_features), how=\"left\", on=\"user_id\")\n",
    "ext_user_ds.head()"
   ]
  },
  {
   "cell_type": "markdown",
   "metadata": {},
   "source": [
    "После того, как мы добавили новые признаки их стоит исследовать ([Explore data -> Step 2 -> user.tsv](#explore-data)).\n",
    "\n",
    "Далее на основе новых признаков нужно заполнить пропущенные значения в столбце age, используя KNNImputer ([Clean and prepare -> Step 2 -> user.tsv](#clean-and-prepare-data))."
   ]
  },
  {
   "cell_type": "markdown",
   "metadata": {},
   "source": [
    "### history.tsv"
   ]
  },
  {
   "cell_type": "markdown",
   "metadata": {},
   "source": [
    "___\n",
    "Новые признаки для заполнения возраста:\n",
    "- daytime - час просмотра рекламы,\n",
    "- weekday - день просмотра рекламы."
   ]
  },
  {
   "cell_type": "code",
   "execution_count": 7,
   "metadata": {},
   "outputs": [
    {
     "data": {
      "text/html": [
       "<div>\n",
       "<style scoped>\n",
       "    .dataframe tbody tr th:only-of-type {\n",
       "        vertical-align: middle;\n",
       "    }\n",
       "\n",
       "    .dataframe tbody tr th {\n",
       "        vertical-align: top;\n",
       "    }\n",
       "\n",
       "    .dataframe thead th {\n",
       "        text-align: right;\n",
       "    }\n",
       "</style>\n",
       "<table border=\"1\" class=\"dataframe\">\n",
       "  <thead>\n",
       "    <tr style=\"text-align: right;\">\n",
       "      <th></th>\n",
       "      <th>hour</th>\n",
       "      <th>cpm</th>\n",
       "      <th>publisher</th>\n",
       "      <th>user_id</th>\n",
       "    </tr>\n",
       "  </thead>\n",
       "  <tbody>\n",
       "    <tr>\n",
       "      <th>0</th>\n",
       "      <td>10</td>\n",
       "      <td>30.00</td>\n",
       "      <td>1</td>\n",
       "      <td>15661</td>\n",
       "    </tr>\n",
       "    <tr>\n",
       "      <th>1</th>\n",
       "      <td>8</td>\n",
       "      <td>41.26</td>\n",
       "      <td>1</td>\n",
       "      <td>8444</td>\n",
       "    </tr>\n",
       "    <tr>\n",
       "      <th>2</th>\n",
       "      <td>7</td>\n",
       "      <td>360.00</td>\n",
       "      <td>1</td>\n",
       "      <td>15821</td>\n",
       "    </tr>\n",
       "    <tr>\n",
       "      <th>3</th>\n",
       "      <td>18</td>\n",
       "      <td>370.00</td>\n",
       "      <td>1</td>\n",
       "      <td>21530</td>\n",
       "    </tr>\n",
       "    <tr>\n",
       "      <th>4</th>\n",
       "      <td>8</td>\n",
       "      <td>195.00</td>\n",
       "      <td>2</td>\n",
       "      <td>22148</td>\n",
       "    </tr>\n",
       "  </tbody>\n",
       "</table>\n",
       "</div>"
      ],
      "text/plain": [
       "   hour     cpm  publisher  user_id\n",
       "0    10   30.00          1    15661\n",
       "1     8   41.26          1     8444\n",
       "2     7  360.00          1    15821\n",
       "3    18  370.00          1    21530\n",
       "4     8  195.00          2    22148"
      ]
     },
     "execution_count": 7,
     "metadata": {},
     "output_type": "execute_result"
    }
   ],
   "source": [
    "history_ds.head()"
   ]
  },
  {
   "cell_type": "code",
   "execution_count": 285,
   "metadata": {},
   "outputs": [
    {
     "data": {
      "text/html": [
       "<div>\n",
       "<style scoped>\n",
       "    .dataframe tbody tr th:only-of-type {\n",
       "        vertical-align: middle;\n",
       "    }\n",
       "\n",
       "    .dataframe tbody tr th {\n",
       "        vertical-align: top;\n",
       "    }\n",
       "\n",
       "    .dataframe thead th {\n",
       "        text-align: right;\n",
       "    }\n",
       "</style>\n",
       "<table border=\"1\" class=\"dataframe\">\n",
       "  <thead>\n",
       "    <tr style=\"text-align: right;\">\n",
       "      <th></th>\n",
       "      <th>hour</th>\n",
       "      <th>cpm</th>\n",
       "      <th>publisher</th>\n",
       "      <th>user_id</th>\n",
       "      <th>weekday</th>\n",
       "      <th>daytime</th>\n",
       "    </tr>\n",
       "  </thead>\n",
       "  <tbody>\n",
       "    <tr>\n",
       "      <th>382420</th>\n",
       "      <td>586</td>\n",
       "      <td>30.00</td>\n",
       "      <td>2</td>\n",
       "      <td>6072</td>\n",
       "      <td>3</td>\n",
       "      <td>10</td>\n",
       "    </tr>\n",
       "    <tr>\n",
       "      <th>332318</th>\n",
       "      <td>525</td>\n",
       "      <td>90.00</td>\n",
       "      <td>1</td>\n",
       "      <td>11667</td>\n",
       "      <td>0</td>\n",
       "      <td>21</td>\n",
       "    </tr>\n",
       "    <tr>\n",
       "      <th>236418</th>\n",
       "      <td>369</td>\n",
       "      <td>387.42</td>\n",
       "      <td>1</td>\n",
       "      <td>9480</td>\n",
       "      <td>1</td>\n",
       "      <td>9</td>\n",
       "    </tr>\n",
       "    <tr>\n",
       "      <th>1016784</th>\n",
       "      <td>1342</td>\n",
       "      <td>35.06</td>\n",
       "      <td>1</td>\n",
       "      <td>15178</td>\n",
       "      <td>6</td>\n",
       "      <td>22</td>\n",
       "    </tr>\n",
       "    <tr>\n",
       "      <th>1097641</th>\n",
       "      <td>271</td>\n",
       "      <td>250.00</td>\n",
       "      <td>1</td>\n",
       "      <td>27099</td>\n",
       "      <td>4</td>\n",
       "      <td>7</td>\n",
       "    </tr>\n",
       "  </tbody>\n",
       "</table>\n",
       "</div>"
      ],
      "text/plain": [
       "         hour     cpm  publisher  user_id  weekday  daytime\n",
       "382420    586   30.00          2     6072        3       10\n",
       "332318    525   90.00          1    11667        0       21\n",
       "236418    369  387.42          1     9480        1        9\n",
       "1016784  1342   35.06          1    15178        6       22\n",
       "1097641   271  250.00          1    27099        4        7"
      ]
     },
     "execution_count": 285,
     "metadata": {},
     "output_type": "execute_result"
    }
   ],
   "source": [
    "history_ds[\"weekday\"] = history_ds[\"hour\"].apply(hour_to_weekday)\n",
    "history_ds[\"daytime\"] = history_ds[\"hour\"].apply(hour_to_daytime)\n",
    "history_ds.sample(5)"
   ]
  },
  {
   "cell_type": "markdown",
   "metadata": {},
   "source": [
    "Сохраним датасет"
   ]
  },
  {
   "cell_type": "code",
   "execution_count": 298,
   "metadata": {},
   "outputs": [],
   "source": [
    "history_ds.to_csv(os.path.join(OUTPUT_DATA_PATH, \"ext_history.csv\"), index=False)"
   ]
  },
  {
   "cell_type": "markdown",
   "metadata": {},
   "source": [
    "### validate.tsv"
   ]
  },
  {
   "cell_type": "markdown",
   "metadata": {},
   "source": [
    "___\n",
    "Добавим новые признаки:\n",
    "- среднее количество используемых в рекламе площадок среди пользователей за месяц в отношении к данным площадкам,\n",
    "- пик активности у пользователей за неделю, месяц по времени, дню недели,\n",
    "- среднее время сессии у пользователей за месяц, неделю,\n",
    "- кол-во сессий у пользователей за месяц, неделю,\n",
    "- средняя цена сессий за месяц, неделю,\n",
    "- среднее кол-во просмотров у сессий за месяц, неделю."
   ]
  },
  {
   "cell_type": "code",
   "execution_count": null,
   "metadata": {},
   "outputs": [],
   "source": []
  },
  {
   "cell_type": "code",
   "execution_count": null,
   "metadata": {},
   "outputs": [],
   "source": []
  },
  {
   "cell_type": "code",
   "execution_count": 27,
   "metadata": {},
   "outputs": [
    {
     "data": {
      "text/html": [
       "<div>\n",
       "<style scoped>\n",
       "    .dataframe tbody tr th:only-of-type {\n",
       "        vertical-align: middle;\n",
       "    }\n",
       "\n",
       "    .dataframe tbody tr th {\n",
       "        vertical-align: top;\n",
       "    }\n",
       "\n",
       "    .dataframe thead th {\n",
       "        text-align: right;\n",
       "    }\n",
       "</style>\n",
       "<table border=\"1\" class=\"dataframe\">\n",
       "  <thead>\n",
       "    <tr style=\"text-align: right;\">\n",
       "      <th></th>\n",
       "      <th>user_id</th>\n",
       "      <th>sex</th>\n",
       "      <th>age</th>\n",
       "      <th>city_id</th>\n",
       "    </tr>\n",
       "  </thead>\n",
       "  <tbody>\n",
       "    <tr>\n",
       "      <th>0</th>\n",
       "      <td>0</td>\n",
       "      <td>1</td>\n",
       "      <td>19</td>\n",
       "      <td>8479</td>\n",
       "    </tr>\n",
       "    <tr>\n",
       "      <th>1</th>\n",
       "      <td>1</td>\n",
       "      <td>0</td>\n",
       "      <td>30</td>\n",
       "      <td>16</td>\n",
       "    </tr>\n",
       "    <tr>\n",
       "      <th>2</th>\n",
       "      <td>2</td>\n",
       "      <td>1</td>\n",
       "      <td>24</td>\n",
       "      <td>1</td>\n",
       "    </tr>\n",
       "    <tr>\n",
       "      <th>3</th>\n",
       "      <td>3</td>\n",
       "      <td>0</td>\n",
       "      <td>20</td>\n",
       "      <td>1985</td>\n",
       "    </tr>\n",
       "    <tr>\n",
       "      <th>4</th>\n",
       "      <td>4</td>\n",
       "      <td>1</td>\n",
       "      <td>29</td>\n",
       "      <td>66</td>\n",
       "    </tr>\n",
       "  </tbody>\n",
       "</table>\n",
       "</div>"
      ],
      "text/plain": [
       "   user_id  sex  age  city_id\n",
       "0        0    1   19     8479\n",
       "1        1    0   30       16\n",
       "2        2    1   24        1\n",
       "3        3    0   20     1985\n",
       "4        4    1   29       66"
      ]
     },
     "execution_count": 27,
     "metadata": {},
     "output_type": "execute_result"
    }
   ],
   "source": [
    "ext_user_ds = pd.read_csv(os.path.join(OUTPUT_DATA_PATH, \"ext_users.csv\"))\n",
    "ext_user_ds = ext_user_ds[[\"user_id\", \"sex\", \"age\", \"city_id\"]]\n",
    "ext_user_ds.head()"
   ]
  },
  {
   "cell_type": "code",
   "execution_count": 29,
   "metadata": {},
   "outputs": [
    {
     "data": {
      "text/html": [
       "<div>\n",
       "<style scoped>\n",
       "    .dataframe tbody tr th:only-of-type {\n",
       "        vertical-align: middle;\n",
       "    }\n",
       "\n",
       "    .dataframe tbody tr th {\n",
       "        vertical-align: top;\n",
       "    }\n",
       "\n",
       "    .dataframe thead th {\n",
       "        text-align: right;\n",
       "    }\n",
       "</style>\n",
       "<table border=\"1\" class=\"dataframe\">\n",
       "  <thead>\n",
       "    <tr style=\"text-align: right;\">\n",
       "      <th></th>\n",
       "      <th>hour_old</th>\n",
       "      <th>cpm</th>\n",
       "      <th>publisher</th>\n",
       "      <th>user_id</th>\n",
       "      <th>weekday</th>\n",
       "      <th>hour</th>\n",
       "    </tr>\n",
       "  </thead>\n",
       "  <tbody>\n",
       "    <tr>\n",
       "      <th>0</th>\n",
       "      <td>10</td>\n",
       "      <td>30.00</td>\n",
       "      <td>1</td>\n",
       "      <td>15661</td>\n",
       "      <td>0</td>\n",
       "      <td>10</td>\n",
       "    </tr>\n",
       "    <tr>\n",
       "      <th>1</th>\n",
       "      <td>8</td>\n",
       "      <td>41.26</td>\n",
       "      <td>1</td>\n",
       "      <td>8444</td>\n",
       "      <td>0</td>\n",
       "      <td>8</td>\n",
       "    </tr>\n",
       "    <tr>\n",
       "      <th>2</th>\n",
       "      <td>7</td>\n",
       "      <td>360.00</td>\n",
       "      <td>1</td>\n",
       "      <td>15821</td>\n",
       "      <td>0</td>\n",
       "      <td>7</td>\n",
       "    </tr>\n",
       "    <tr>\n",
       "      <th>3</th>\n",
       "      <td>18</td>\n",
       "      <td>370.00</td>\n",
       "      <td>1</td>\n",
       "      <td>21530</td>\n",
       "      <td>0</td>\n",
       "      <td>18</td>\n",
       "    </tr>\n",
       "    <tr>\n",
       "      <th>4</th>\n",
       "      <td>8</td>\n",
       "      <td>195.00</td>\n",
       "      <td>2</td>\n",
       "      <td>22148</td>\n",
       "      <td>0</td>\n",
       "      <td>8</td>\n",
       "    </tr>\n",
       "  </tbody>\n",
       "</table>\n",
       "</div>"
      ],
      "text/plain": [
       "   hour_old     cpm  publisher  user_id  weekday  hour\n",
       "0        10   30.00          1    15661        0    10\n",
       "1         8   41.26          1     8444        0     8\n",
       "2         7  360.00          1    15821        0     7\n",
       "3        18  370.00          1    21530        0    18\n",
       "4         8  195.00          2    22148        0     8"
      ]
     },
     "execution_count": 29,
     "metadata": {},
     "output_type": "execute_result"
    }
   ],
   "source": [
    "ext_history_ds = pd.read_csv(os.path.join(OUTPUT_DATA_PATH, \"ext_history.csv\"))\n",
    "ext_history_ds.head()"
   ]
  },
  {
   "cell_type": "code",
   "execution_count": 70,
   "metadata": {},
   "outputs": [
    {
     "data": {
      "text/html": [
       "<div>\n",
       "<style scoped>\n",
       "    .dataframe tbody tr th:only-of-type {\n",
       "        vertical-align: middle;\n",
       "    }\n",
       "\n",
       "    .dataframe tbody tr th {\n",
       "        vertical-align: top;\n",
       "    }\n",
       "\n",
       "    .dataframe thead th {\n",
       "        text-align: right;\n",
       "    }\n",
       "</style>\n",
       "<table border=\"1\" class=\"dataframe\">\n",
       "  <thead>\n",
       "    <tr style=\"text-align: right;\">\n",
       "      <th></th>\n",
       "      <th>cpm</th>\n",
       "      <th>hour_start_old</th>\n",
       "      <th>hour_end</th>\n",
       "      <th>publishers</th>\n",
       "      <th>audience_size</th>\n",
       "      <th>user_ids</th>\n",
       "      <th>weekday_start</th>\n",
       "      <th>duration</th>\n",
       "      <th>hour_start</th>\n",
       "      <th>publisher_quantity</th>\n",
       "    </tr>\n",
       "  </thead>\n",
       "  <tbody>\n",
       "    <tr>\n",
       "      <th>0</th>\n",
       "      <td>220.0</td>\n",
       "      <td>1058</td>\n",
       "      <td>1153</td>\n",
       "      <td>[7, 17]</td>\n",
       "      <td>1906</td>\n",
       "      <td>[12, 44, 46, 50, 58, 71, 93, 122, 134, 143, 17...</td>\n",
       "      <td>2</td>\n",
       "      <td>95</td>\n",
       "      <td>2</td>\n",
       "      <td>2</td>\n",
       "    </tr>\n",
       "    <tr>\n",
       "      <th>1</th>\n",
       "      <td>312.0</td>\n",
       "      <td>1295</td>\n",
       "      <td>1301</td>\n",
       "      <td>[3, 18]</td>\n",
       "      <td>1380</td>\n",
       "      <td>[29, 81, 98, 102, 165, 167, 195, 205, 218, 231...</td>\n",
       "      <td>4</td>\n",
       "      <td>6</td>\n",
       "      <td>4</td>\n",
       "      <td>2</td>\n",
       "    </tr>\n",
       "    <tr>\n",
       "      <th>2</th>\n",
       "      <td>70.0</td>\n",
       "      <td>1229</td>\n",
       "      <td>1249</td>\n",
       "      <td>[1, 2, 3, 9, 15, 21]</td>\n",
       "      <td>888</td>\n",
       "      <td>[12, 23, 25, 29, 45, 85, 92, 124, 156, 190, 27...</td>\n",
       "      <td>2</td>\n",
       "      <td>20</td>\n",
       "      <td>2</td>\n",
       "      <td>6</td>\n",
       "    </tr>\n",
       "    <tr>\n",
       "      <th>3</th>\n",
       "      <td>240.0</td>\n",
       "      <td>1295</td>\n",
       "      <td>1377</td>\n",
       "      <td>[1, 14]</td>\n",
       "      <td>440</td>\n",
       "      <td>[44, 122, 187, 209, 242, 255, 312, 345, 382, 4...</td>\n",
       "      <td>4</td>\n",
       "      <td>82</td>\n",
       "      <td>4</td>\n",
       "      <td>2</td>\n",
       "    </tr>\n",
       "    <tr>\n",
       "      <th>4</th>\n",
       "      <td>262.0</td>\n",
       "      <td>752</td>\n",
       "      <td>990</td>\n",
       "      <td>[1, 3, 7, 8]</td>\n",
       "      <td>1476</td>\n",
       "      <td>[15, 24, 30, 43, 50, 53, 96, 105, 159, 168, 18...</td>\n",
       "      <td>3</td>\n",
       "      <td>238</td>\n",
       "      <td>3</td>\n",
       "      <td>4</td>\n",
       "    </tr>\n",
       "  </tbody>\n",
       "</table>\n",
       "</div>"
      ],
      "text/plain": [
       "     cpm  hour_start_old  hour_end            publishers  audience_size  \\\n",
       "0  220.0            1058      1153               [7, 17]           1906   \n",
       "1  312.0            1295      1301               [3, 18]           1380   \n",
       "2   70.0            1229      1249  [1, 2, 3, 9, 15, 21]            888   \n",
       "3  240.0            1295      1377               [1, 14]            440   \n",
       "4  262.0             752       990          [1, 3, 7, 8]           1476   \n",
       "\n",
       "                                            user_ids  weekday_start  duration  \\\n",
       "0  [12, 44, 46, 50, 58, 71, 93, 122, 134, 143, 17...              2        95   \n",
       "1  [29, 81, 98, 102, 165, 167, 195, 205, 218, 231...              4         6   \n",
       "2  [12, 23, 25, 29, 45, 85, 92, 124, 156, 190, 27...              2        20   \n",
       "3  [44, 122, 187, 209, 242, 255, 312, 345, 382, 4...              4        82   \n",
       "4  [15, 24, 30, 43, 50, 53, 96, 105, 159, 168, 18...              3       238   \n",
       "\n",
       "   hour_start  publisher_quantity  \n",
       "0           2                   2  \n",
       "1           4                   2  \n",
       "2           2                   6  \n",
       "3           4                   2  \n",
       "4           3                   4  "
      ]
     },
     "execution_count": 70,
     "metadata": {},
     "output_type": "execute_result"
    }
   ],
   "source": [
    "ext_validate_ds = pd.read_csv(os.path.join(OUTPUT_DATA_PATH, \"ext_validate.csv\"))\n",
    "ext_validate_ds[\"publishers\"] = ext_validate_ds[\"publishers\"].apply(ast.literal_eval)\n",
    "ext_validate_ds[\"user_ids\"] = ext_validate_ds[\"user_ids\"].apply(ast.literal_eval)\n",
    "ext_validate_ds.head()"
   ]
  },
  {
   "cell_type": "code",
   "execution_count": 31,
   "metadata": {},
   "outputs": [
    {
     "data": {
      "text/html": [
       "<div>\n",
       "<style scoped>\n",
       "    .dataframe tbody tr th:only-of-type {\n",
       "        vertical-align: middle;\n",
       "    }\n",
       "\n",
       "    .dataframe tbody tr th {\n",
       "        vertical-align: top;\n",
       "    }\n",
       "\n",
       "    .dataframe thead th {\n",
       "        text-align: right;\n",
       "    }\n",
       "</style>\n",
       "<table border=\"1\" class=\"dataframe\">\n",
       "  <thead>\n",
       "    <tr style=\"text-align: right;\">\n",
       "      <th></th>\n",
       "      <th>at_least_one</th>\n",
       "      <th>at_least_two</th>\n",
       "      <th>at_least_three</th>\n",
       "    </tr>\n",
       "  </thead>\n",
       "  <tbody>\n",
       "    <tr>\n",
       "      <th>0</th>\n",
       "      <td>82</td>\n",
       "      <td>29</td>\n",
       "      <td>14</td>\n",
       "    </tr>\n",
       "    <tr>\n",
       "      <th>1</th>\n",
       "      <td>18</td>\n",
       "      <td>0</td>\n",
       "      <td>0</td>\n",
       "    </tr>\n",
       "    <tr>\n",
       "      <th>2</th>\n",
       "      <td>78</td>\n",
       "      <td>12</td>\n",
       "      <td>0</td>\n",
       "    </tr>\n",
       "    <tr>\n",
       "      <th>3</th>\n",
       "      <td>101</td>\n",
       "      <td>57</td>\n",
       "      <td>32</td>\n",
       "    </tr>\n",
       "    <tr>\n",
       "      <th>4</th>\n",
       "      <td>585</td>\n",
       "      <td>411</td>\n",
       "      <td>335</td>\n",
       "    </tr>\n",
       "  </tbody>\n",
       "</table>\n",
       "</div>"
      ],
      "text/plain": [
       "   at_least_one  at_least_two  at_least_three\n",
       "0            82            29              14\n",
       "1            18             0               0\n",
       "2            78            12               0\n",
       "3           101            57              32\n",
       "4           585           411             335"
      ]
     },
     "execution_count": 31,
     "metadata": {},
     "output_type": "execute_result"
    }
   ],
   "source": [
    "ext_validate_answers_ds = pd.read_csv(os.path.join(OUTPUT_DATA_PATH, \"ext_validate_answers.csv\"))\n",
    "ext_validate_answers_ds.head()"
   ]
  },
  {
   "cell_type": "markdown",
   "metadata": {},
   "source": [
    "Добавим для каждого объекта из validate.tsv новые признаки.\n",
    "\n",
    "1) Среднее количество используемых в рекламе площадок среди пользователей за месяц в отношении к данным площадкам:"
   ]
  },
  {
   "cell_type": "code",
   "execution_count": 77,
   "metadata": {},
   "outputs": [
    {
     "name": "stderr",
     "output_type": "stream",
     "text": [
      "100%|██████████| 1008/1008 [00:39<00:00, 25.28it/s]\n"
     ]
    }
   ],
   "source": [
    "new_data = {\n",
    "    \"used_publishers_ration\": []\n",
    "}\n",
    "for i, row in tqdm(ext_validate_ds.iterrows(), total=len(ext_validate_ds)):\n",
    "    publishers = row[\"publishers\"]\n",
    "    user_ids = row[\"user_ids\"]\n",
    "    start = row[\"hour_start_old\"] - 31*24\n",
    "    end = row[\"hour_start_old\"]\n",
    "\n",
    "    # Берем пользователей рекламы, площадки на которых размещаем и исторические данные за месяц\n",
    "    mask = (ext_history_ds[\"user_id\"].isin(user_ids)) & (ext_history_ds[\"publisher\"].isin(publishers)) & (ext_history_ds[\"hour_old\"].between(start, end, \"left\"))\n",
    "    users_publishers = ext_history_ds.loc[mask, [\"publisher\", \"user_id\"]]\n",
    "    # Для каждого пользователя считаем сколько подходящих групп он использовал и от этого берем среднее\n",
    "    used_publishers_mean = np.mean(users_publishers.groupby(\"user_id\")[\"publisher\"].apply(lambda publishers: len(np.unique(publishers))))\n",
    "    # Считаем отношение\n",
    "    used_publishers_ration = used_publishers_mean/len(publishers)\n",
    "\n",
    "    new_data[\"used_publishers_ration\"].append(used_publishers_ration)\n",
    "\n",
    "ext_validate_ds = ext_validate_ds.assign(**new_data)"
   ]
  },
  {
   "cell_type": "code",
   "execution_count": 91,
   "metadata": {},
   "outputs": [
    {
     "data": {
      "text/plain": [
       "np.int64(0)"
      ]
     },
     "execution_count": 91,
     "metadata": {},
     "output_type": "execute_result"
    }
   ],
   "source": [
    "ext_validate_ds[\"used_publishers_ration\"].isna().sum()"
   ]
  },
  {
   "cell_type": "code",
   "execution_count": 81,
   "metadata": {},
   "outputs": [
    {
     "data": {
      "text/html": [
       "<div>\n",
       "<style scoped>\n",
       "    .dataframe tbody tr th:only-of-type {\n",
       "        vertical-align: middle;\n",
       "    }\n",
       "\n",
       "    .dataframe tbody tr th {\n",
       "        vertical-align: top;\n",
       "    }\n",
       "\n",
       "    .dataframe thead th {\n",
       "        text-align: right;\n",
       "    }\n",
       "</style>\n",
       "<table border=\"1\" class=\"dataframe\">\n",
       "  <thead>\n",
       "    <tr style=\"text-align: right;\">\n",
       "      <th></th>\n",
       "      <th>cpm</th>\n",
       "      <th>hour_start_old</th>\n",
       "      <th>hour_end</th>\n",
       "      <th>publishers</th>\n",
       "      <th>audience_size</th>\n",
       "      <th>user_ids</th>\n",
       "      <th>weekday_start</th>\n",
       "      <th>duration</th>\n",
       "      <th>hour_start</th>\n",
       "      <th>publisher_quantity</th>\n",
       "      <th>used_publishers_ration</th>\n",
       "    </tr>\n",
       "  </thead>\n",
       "  <tbody>\n",
       "    <tr>\n",
       "      <th>0</th>\n",
       "      <td>220.0</td>\n",
       "      <td>1058</td>\n",
       "      <td>1153</td>\n",
       "      <td>[7, 17]</td>\n",
       "      <td>1906</td>\n",
       "      <td>[12, 44, 46, 50, 58, 71, 93, 122, 134, 143, 17...</td>\n",
       "      <td>2</td>\n",
       "      <td>95</td>\n",
       "      <td>2</td>\n",
       "      <td>2</td>\n",
       "      <td>0.500000</td>\n",
       "    </tr>\n",
       "    <tr>\n",
       "      <th>1</th>\n",
       "      <td>312.0</td>\n",
       "      <td>1295</td>\n",
       "      <td>1301</td>\n",
       "      <td>[3, 18]</td>\n",
       "      <td>1380</td>\n",
       "      <td>[29, 81, 98, 102, 165, 167, 195, 205, 218, 231...</td>\n",
       "      <td>4</td>\n",
       "      <td>6</td>\n",
       "      <td>4</td>\n",
       "      <td>2</td>\n",
       "      <td>0.503846</td>\n",
       "    </tr>\n",
       "    <tr>\n",
       "      <th>2</th>\n",
       "      <td>70.0</td>\n",
       "      <td>1229</td>\n",
       "      <td>1249</td>\n",
       "      <td>[1, 2, 3, 9, 15, 21]</td>\n",
       "      <td>888</td>\n",
       "      <td>[12, 23, 25, 29, 45, 85, 92, 124, 156, 190, 27...</td>\n",
       "      <td>2</td>\n",
       "      <td>20</td>\n",
       "      <td>2</td>\n",
       "      <td>6</td>\n",
       "      <td>0.185101</td>\n",
       "    </tr>\n",
       "    <tr>\n",
       "      <th>3</th>\n",
       "      <td>240.0</td>\n",
       "      <td>1295</td>\n",
       "      <td>1377</td>\n",
       "      <td>[1, 14]</td>\n",
       "      <td>440</td>\n",
       "      <td>[44, 122, 187, 209, 242, 255, 312, 345, 382, 4...</td>\n",
       "      <td>4</td>\n",
       "      <td>82</td>\n",
       "      <td>4</td>\n",
       "      <td>2</td>\n",
       "      <td>0.502347</td>\n",
       "    </tr>\n",
       "    <tr>\n",
       "      <th>4</th>\n",
       "      <td>262.0</td>\n",
       "      <td>752</td>\n",
       "      <td>990</td>\n",
       "      <td>[1, 3, 7, 8]</td>\n",
       "      <td>1476</td>\n",
       "      <td>[15, 24, 30, 43, 50, 53, 96, 105, 159, 168, 18...</td>\n",
       "      <td>3</td>\n",
       "      <td>238</td>\n",
       "      <td>3</td>\n",
       "      <td>4</td>\n",
       "      <td>0.292857</td>\n",
       "    </tr>\n",
       "  </tbody>\n",
       "</table>\n",
       "</div>"
      ],
      "text/plain": [
       "     cpm  hour_start_old  hour_end            publishers  audience_size  \\\n",
       "0  220.0            1058      1153               [7, 17]           1906   \n",
       "1  312.0            1295      1301               [3, 18]           1380   \n",
       "2   70.0            1229      1249  [1, 2, 3, 9, 15, 21]            888   \n",
       "3  240.0            1295      1377               [1, 14]            440   \n",
       "4  262.0             752       990          [1, 3, 7, 8]           1476   \n",
       "\n",
       "                                            user_ids  weekday_start  duration  \\\n",
       "0  [12, 44, 46, 50, 58, 71, 93, 122, 134, 143, 17...              2        95   \n",
       "1  [29, 81, 98, 102, 165, 167, 195, 205, 218, 231...              4         6   \n",
       "2  [12, 23, 25, 29, 45, 85, 92, 124, 156, 190, 27...              2        20   \n",
       "3  [44, 122, 187, 209, 242, 255, 312, 345, 382, 4...              4        82   \n",
       "4  [15, 24, 30, 43, 50, 53, 96, 105, 159, 168, 18...              3       238   \n",
       "\n",
       "   hour_start  publisher_quantity  used_publishers_ration  \n",
       "0           2                   2                0.500000  \n",
       "1           4                   2                0.503846  \n",
       "2           2                   6                0.185101  \n",
       "3           4                   2                0.502347  \n",
       "4           3                   4                0.292857  "
      ]
     },
     "execution_count": 81,
     "metadata": {},
     "output_type": "execute_result"
    }
   ],
   "source": [
    "ext_validate_ds.head()"
   ]
  },
  {
   "cell_type": "markdown",
   "metadata": {},
   "source": [
    "2) Пик активности у пользователей за неделю, месяц по времени, дню недели:"
   ]
  },
  {
   "cell_type": "code",
   "execution_count": 87,
   "metadata": {},
   "outputs": [
    {
     "name": "stderr",
     "output_type": "stream",
     "text": [
      "100%|██████████| 1008/1008 [00:29<00:00, 33.72it/s]\n"
     ]
    }
   ],
   "source": [
    "new_data = {\n",
    "    \"top_time_month\": [],\n",
    "    \"top_time_week\": [],\n",
    "    \"top_weekday_month\": [],\n",
    "    \"top_weekday_week\": []\n",
    "}\n",
    "for i, row in tqdm(ext_validate_ds.iterrows(), total=len(ext_validate_ds)):\n",
    "    user_ids = row[\"user_ids\"]\n",
    "    end = row[\"hour_start_old\"]\n",
    "    # Время-месяц\n",
    "    start = row[\"hour_start_old\"] - 31*24\n",
    "    mask = (ext_history_ds[\"user_id\"].isin(user_ids)) & (ext_history_ds[\"hour_old\"].between(start, end, \"left\"))\n",
    "    users_hours = ext_history_ds.loc[mask, \"hour\"]\n",
    "    users_weekdays = ext_history_ds.loc[mask, \"weekday\"]\n",
    "\n",
    "    top_time_month = stats.mode(users_hours)[0]\n",
    "    top_weekday_month = stats.mode(users_weekdays)[0]\n",
    "    # Время-неделя\n",
    "    start = row[\"hour_start_old\"] - 7*24\n",
    "    mask = (ext_history_ds[\"user_id\"].isin(user_ids)) & (ext_history_ds[\"hour_old\"].between(start, end, \"left\"))\n",
    "    users_hours = ext_history_ds.loc[mask, \"hour\"]\n",
    "    users_weekdays = ext_history_ds.loc[mask, \"weekday\"]\n",
    "\n",
    "    top_time_week = stats.mode(users_hours)[0]\n",
    "    top_weekday_week = stats.mode(users_weekdays)[0]\n",
    "\n",
    "    new_data[\"top_time_month\"].append(top_time_month)\n",
    "    new_data[\"top_time_week\"].append(top_time_week)\n",
    "    new_data[\"top_weekday_month\"].append(top_weekday_month)\n",
    "    new_data[\"top_weekday_week\"].append(top_weekday_week)\n",
    "\n",
    "ext_validate_ds = ext_validate_ds.assign(**new_data)"
   ]
  },
  {
   "cell_type": "code",
   "execution_count": 90,
   "metadata": {},
   "outputs": [
    {
     "data": {
      "text/plain": [
       "top_time_month       0\n",
       "top_time_week        0\n",
       "top_weekday_month    0\n",
       "top_weekday_week     0\n",
       "dtype: int64"
      ]
     },
     "execution_count": 90,
     "metadata": {},
     "output_type": "execute_result"
    }
   ],
   "source": [
    "ext_validate_ds[[\"top_time_month\", \"top_time_week\", \"top_weekday_month\", \"top_weekday_week\"]].isna().sum()"
   ]
  },
  {
   "cell_type": "code",
   "execution_count": null,
   "metadata": {},
   "outputs": [
    {
     "data": {
      "text/html": [
       "<div>\n",
       "<style scoped>\n",
       "    .dataframe tbody tr th:only-of-type {\n",
       "        vertical-align: middle;\n",
       "    }\n",
       "\n",
       "    .dataframe tbody tr th {\n",
       "        vertical-align: top;\n",
       "    }\n",
       "\n",
       "    .dataframe thead th {\n",
       "        text-align: right;\n",
       "    }\n",
       "</style>\n",
       "<table border=\"1\" class=\"dataframe\">\n",
       "  <thead>\n",
       "    <tr style=\"text-align: right;\">\n",
       "      <th></th>\n",
       "      <th>top_time_month</th>\n",
       "      <th>top_time_week</th>\n",
       "      <th>top_weekday_month</th>\n",
       "      <th>top_weekday_week</th>\n",
       "    </tr>\n",
       "  </thead>\n",
       "  <tbody>\n",
       "    <tr>\n",
       "      <th>count</th>\n",
       "      <td>1008.00</td>\n",
       "      <td>1008.00</td>\n",
       "      <td>1008.00</td>\n",
       "      <td>1008.00</td>\n",
       "    </tr>\n",
       "    <tr>\n",
       "      <th>mean</th>\n",
       "      <td>19.04</td>\n",
       "      <td>18.28</td>\n",
       "      <td>2.26</td>\n",
       "      <td>2.18</td>\n",
       "    </tr>\n",
       "    <tr>\n",
       "      <th>std</th>\n",
       "      <td>3.47</td>\n",
       "      <td>3.82</td>\n",
       "      <td>1.63</td>\n",
       "      <td>1.51</td>\n",
       "    </tr>\n",
       "    <tr>\n",
       "      <th>min</th>\n",
       "      <td>0.00</td>\n",
       "      <td>0.00</td>\n",
       "      <td>0.00</td>\n",
       "      <td>0.00</td>\n",
       "    </tr>\n",
       "    <tr>\n",
       "      <th>25%</th>\n",
       "      <td>19.00</td>\n",
       "      <td>17.00</td>\n",
       "      <td>1.00</td>\n",
       "      <td>1.00</td>\n",
       "    </tr>\n",
       "    <tr>\n",
       "      <th>50%</th>\n",
       "      <td>20.00</td>\n",
       "      <td>20.00</td>\n",
       "      <td>2.00</td>\n",
       "      <td>2.00</td>\n",
       "    </tr>\n",
       "    <tr>\n",
       "      <th>75%</th>\n",
       "      <td>21.00</td>\n",
       "      <td>21.00</td>\n",
       "      <td>4.00</td>\n",
       "      <td>3.00</td>\n",
       "    </tr>\n",
       "    <tr>\n",
       "      <th>max</th>\n",
       "      <td>23.00</td>\n",
       "      <td>23.00</td>\n",
       "      <td>6.00</td>\n",
       "      <td>6.00</td>\n",
       "    </tr>\n",
       "  </tbody>\n",
       "</table>\n",
       "</div>"
      ],
      "text/plain": [
       "       top_time_month  top_time_week  top_weekday_month  top_weekday_week\n",
       "count         1008.00        1008.00            1008.00           1008.00\n",
       "mean            19.04          18.28               2.26              2.18\n",
       "std              3.47           3.82               1.63              1.51\n",
       "min              0.00           0.00               0.00              0.00\n",
       "25%             19.00          17.00               1.00              1.00\n",
       "50%             20.00          20.00               2.00              2.00\n",
       "75%             21.00          21.00               4.00              3.00\n",
       "max             23.00          23.00               6.00              6.00"
      ]
     },
     "execution_count": 89,
     "metadata": {},
     "output_type": "execute_result"
    }
   ],
   "source": [
    "round(ext_validate_ds[[\"top_time_month\", \"top_time_week\", \"top_weekday_month\", \"top_weekday_week\"]].describe(), 2)"
   ]
  },
  {
   "cell_type": "markdown",
   "metadata": {},
   "source": [
    "3) Среднее время сессии у пользователей за месяц, неделю\n",
    "4) Кол-во сессий у пользователей за месяц, неделю\n",
    "5) Средняя цена сессий за месяц, неделю\n",
    "6) Среднее кол-во просмотров у сессий за месяц, неделю"
   ]
  },
  {
   "cell_type": "code",
   "execution_count": 137,
   "metadata": {},
   "outputs": [
    {
     "name": "stderr",
     "output_type": "stream",
     "text": [
      "100%|██████████| 1008/1008 [05:06<00:00,  3.29it/s]\n"
     ]
    }
   ],
   "source": [
    "new_data = {\n",
    "    \"session_duration_month_mean\": [],\n",
    "    \"session_duration_week_mean\": [],\n",
    "\n",
    "    \"session_quantity_month\": [],\n",
    "    \"session_quantity_week\": [],\n",
    "\n",
    "    \"session_cpm_month_mean\": [],\n",
    "    \"session_cpm_week_mean\": [],\n",
    "\n",
    "    \"views_month_mean\": [],\n",
    "    \"views_week_mean\": []\n",
    "}\n",
    "for _, row in tqdm(ext_validate_ds.iterrows(), total=len(ext_validate_ds)):\n",
    "    user_ids = row[\"user_ids\"]\n",
    "    end = row[\"hour_start_old\"]\n",
    "    # Месяц\n",
    "    start = row[\"hour_start_old\"] - 31*24\n",
    "    mask = (ext_history_ds[\"user_id\"].isin(user_ids)) & (ext_history_ds[\"hour_old\"].between(start, end, \"left\"))\n",
    "    users_hours = ext_history_ds.loc[mask, [\"user_id\", \"hour_old\", \"cpm\"]].sort_values(\"hour_old\")\n",
    "    # Группируем по пользователям и считаем сколько времени длилась сессия\n",
    "    users_sessions = []\n",
    "    users_cpms = []\n",
    "    for _, h_row in users_hours.groupby(\"user_id\"):\n",
    "        hours = list(h_row[\"hour_old\"])\n",
    "        cpms = list(h_row[\"cpm\"])\n",
    "\n",
    "        user_sessions = [hours[0]]\n",
    "        user_cpms = [cpms[0]]\n",
    "        for i, hour in enumerate(hours[1:], 1):\n",
    "            if hour - user_sessions[-1] <= 6:\n",
    "                user_sessions.append(hour)\n",
    "                user_cpms.append(cpms[i])\n",
    "                continue\n",
    "\n",
    "            users_sessions.append(user_sessions)\n",
    "            users_cpms.append(user_cpms)\n",
    "            user_sessions = [hour]\n",
    "            user_cpms = [cpms[i]]\n",
    "        \n",
    "        users_sessions.append(user_sessions)\n",
    "        users_cpms.append(user_cpms)\n",
    "\n",
    "    session_duration_month_mean = round(np.mean([np.max(user_sessions) - np.min(user_sessions) + 1 for user_sessions in users_sessions]))\n",
    "    session_quantity_month = len(users_sessions)\n",
    "    session_cpm_month_mean = np.mean([np.mean(user_cpms) for user_cpms in users_cpms])\n",
    "    views_month_mean = len(users_hours)\n",
    "    # Неделя\n",
    "    start = row[\"hour_start_old\"] - 7*24\n",
    "    mask = (ext_history_ds[\"user_id\"].isin(user_ids)) & (ext_history_ds[\"hour_old\"].between(start, end, \"left\"))\n",
    "    users_hours = ext_history_ds.loc[mask, [\"user_id\", \"hour_old\", \"cpm\"]].sort_values(\"hour_old\")\n",
    "    # Группируем по пользователям и считаем сколько времени длилась сессия\n",
    "    users_sessions = []\n",
    "    users_cpms = []\n",
    "    for _, h_row in users_hours.groupby(\"user_id\"):\n",
    "        hours = list(h_row[\"hour_old\"])\n",
    "        cpms = list(h_row[\"cpm\"])\n",
    "\n",
    "        user_sessions = [hours[0]]\n",
    "        user_cpms = [cpms[0]]\n",
    "        for i, hour in enumerate(hours[1:], 1):\n",
    "            if hour - user_sessions[-1] <= 6:\n",
    "                user_sessions.append(hour)\n",
    "                user_cpms.append(cpms[i])\n",
    "                continue\n",
    "\n",
    "            users_sessions.append(user_sessions)\n",
    "            users_cpms.append(user_cpms)\n",
    "            user_sessions = [hour]\n",
    "            user_cpms = [cpms[i]]\n",
    "        \n",
    "        users_sessions.append(user_sessions)\n",
    "        users_cpms.append(user_cpms)\n",
    "\n",
    "    session_duration_week_mean = round(np.mean([np.max(user_sessions) - np.min(user_sessions) + 1 for user_sessions in users_sessions]))\n",
    "    session_quantity_week = len(users_sessions)\n",
    "    session_cpm_week_mean = np.mean([np.mean(user_cpms) for user_cpms in users_cpms])\n",
    "    views_week_mean = len(users_hours)\n",
    "\n",
    "    new_data[\"session_duration_month_mean\"].append(session_duration_month_mean)\n",
    "    new_data[\"session_duration_week_mean\"].append(session_duration_week_mean)\n",
    "\n",
    "    new_data[\"session_quantity_month\"].append(session_quantity_month)\n",
    "    new_data[\"session_quantity_week\"].append(session_quantity_week)\n",
    "\n",
    "    new_data[\"session_cpm_month_mean\"].append(session_cpm_month_mean)\n",
    "    new_data[\"session_cpm_week_mean\"].append(session_cpm_week_mean)\n",
    "\n",
    "    new_data[\"views_month_mean\"].append(views_month_mean)\n",
    "    new_data[\"views_week_mean\"].append(views_week_mean)\n",
    "\n",
    "ext_validate_ds = ext_validate_ds.assign(**new_data)"
   ]
  },
  {
   "cell_type": "code",
   "execution_count": 146,
   "metadata": {},
   "outputs": [
    {
     "data": {
      "text/html": [
       "<div>\n",
       "<style scoped>\n",
       "    .dataframe tbody tr th:only-of-type {\n",
       "        vertical-align: middle;\n",
       "    }\n",
       "\n",
       "    .dataframe tbody tr th {\n",
       "        vertical-align: top;\n",
       "    }\n",
       "\n",
       "    .dataframe thead th {\n",
       "        text-align: right;\n",
       "    }\n",
       "</style>\n",
       "<table border=\"1\" class=\"dataframe\">\n",
       "  <thead>\n",
       "    <tr style=\"text-align: right;\">\n",
       "      <th></th>\n",
       "      <th>session_duration_month_mean</th>\n",
       "      <th>session_duration_week_mean</th>\n",
       "      <th>session_quantity_month</th>\n",
       "      <th>session_quantity_week</th>\n",
       "      <th>session_cpm_month_mean</th>\n",
       "      <th>session_cpm_week_mean</th>\n",
       "      <th>views_month_mean</th>\n",
       "      <th>views_week_mean</th>\n",
       "    </tr>\n",
       "  </thead>\n",
       "  <tbody>\n",
       "    <tr>\n",
       "      <th>count</th>\n",
       "      <td>1008.00</td>\n",
       "      <td>1008.00</td>\n",
       "      <td>1008.00</td>\n",
       "      <td>1008.00</td>\n",
       "      <td>1008.00</td>\n",
       "      <td>1008.00</td>\n",
       "      <td>1008.00</td>\n",
       "      <td>1008.00</td>\n",
       "    </tr>\n",
       "    <tr>\n",
       "      <th>mean</th>\n",
       "      <td>2.15</td>\n",
       "      <td>2.14</td>\n",
       "      <td>10912.88</td>\n",
       "      <td>2510.06</td>\n",
       "      <td>242.14</td>\n",
       "      <td>251.63</td>\n",
       "      <td>24276.27</td>\n",
       "      <td>5601.70</td>\n",
       "    </tr>\n",
       "    <tr>\n",
       "      <th>std</th>\n",
       "      <td>0.57</td>\n",
       "      <td>0.56</td>\n",
       "      <td>10173.41</td>\n",
       "      <td>2355.25</td>\n",
       "      <td>153.55</td>\n",
       "      <td>164.27</td>\n",
       "      <td>28332.79</td>\n",
       "      <td>6563.43</td>\n",
       "    </tr>\n",
       "    <tr>\n",
       "      <th>min</th>\n",
       "      <td>1.00</td>\n",
       "      <td>1.00</td>\n",
       "      <td>129.00</td>\n",
       "      <td>28.00</td>\n",
       "      <td>58.50</td>\n",
       "      <td>54.61</td>\n",
       "      <td>133.00</td>\n",
       "      <td>29.00</td>\n",
       "    </tr>\n",
       "    <tr>\n",
       "      <th>25%</th>\n",
       "      <td>2.00</td>\n",
       "      <td>2.00</td>\n",
       "      <td>4356.75</td>\n",
       "      <td>993.75</td>\n",
       "      <td>185.73</td>\n",
       "      <td>188.39</td>\n",
       "      <td>8864.00</td>\n",
       "      <td>2023.50</td>\n",
       "    </tr>\n",
       "    <tr>\n",
       "      <th>50%</th>\n",
       "      <td>2.00</td>\n",
       "      <td>2.00</td>\n",
       "      <td>8726.00</td>\n",
       "      <td>2008.00</td>\n",
       "      <td>210.27</td>\n",
       "      <td>216.24</td>\n",
       "      <td>17867.00</td>\n",
       "      <td>4099.00</td>\n",
       "    </tr>\n",
       "    <tr>\n",
       "      <th>75%</th>\n",
       "      <td>2.00</td>\n",
       "      <td>2.00</td>\n",
       "      <td>14222.50</td>\n",
       "      <td>3249.75</td>\n",
       "      <td>232.61</td>\n",
       "      <td>249.64</td>\n",
       "      <td>30527.50</td>\n",
       "      <td>7013.00</td>\n",
       "    </tr>\n",
       "    <tr>\n",
       "      <th>max</th>\n",
       "      <td>4.00</td>\n",
       "      <td>4.00</td>\n",
       "      <td>81393.00</td>\n",
       "      <td>19038.00</td>\n",
       "      <td>1102.84</td>\n",
       "      <td>1301.24</td>\n",
       "      <td>251260.00</td>\n",
       "      <td>58649.00</td>\n",
       "    </tr>\n",
       "  </tbody>\n",
       "</table>\n",
       "</div>"
      ],
      "text/plain": [
       "       session_duration_month_mean  session_duration_week_mean  \\\n",
       "count                      1008.00                     1008.00   \n",
       "mean                          2.15                        2.14   \n",
       "std                           0.57                        0.56   \n",
       "min                           1.00                        1.00   \n",
       "25%                           2.00                        2.00   \n",
       "50%                           2.00                        2.00   \n",
       "75%                           2.00                        2.00   \n",
       "max                           4.00                        4.00   \n",
       "\n",
       "       session_quantity_month  session_quantity_week  session_cpm_month_mean  \\\n",
       "count                 1008.00                1008.00                 1008.00   \n",
       "mean                 10912.88                2510.06                  242.14   \n",
       "std                  10173.41                2355.25                  153.55   \n",
       "min                    129.00                  28.00                   58.50   \n",
       "25%                   4356.75                 993.75                  185.73   \n",
       "50%                   8726.00                2008.00                  210.27   \n",
       "75%                  14222.50                3249.75                  232.61   \n",
       "max                  81393.00               19038.00                 1102.84   \n",
       "\n",
       "       session_cpm_week_mean  views_month_mean  views_week_mean  \n",
       "count                1008.00           1008.00          1008.00  \n",
       "mean                  251.63          24276.27          5601.70  \n",
       "std                   164.27          28332.79          6563.43  \n",
       "min                    54.61            133.00            29.00  \n",
       "25%                   188.39           8864.00          2023.50  \n",
       "50%                   216.24          17867.00          4099.00  \n",
       "75%                   249.64          30527.50          7013.00  \n",
       "max                  1301.24         251260.00         58649.00  "
      ]
     },
     "execution_count": 146,
     "metadata": {},
     "output_type": "execute_result"
    }
   ],
   "source": [
    "round(ext_validate_ds[['session_duration_month_mean', 'session_duration_week_mean',\n",
    "       'session_quantity_month', 'session_quantity_week',\n",
    "       'session_cpm_month_mean', 'session_cpm_week_mean', 'views_month_mean',\n",
    "       'views_week_mean']].describe(), 2)"
   ]
  },
  {
   "cell_type": "code",
   "execution_count": 147,
   "metadata": {},
   "outputs": [
    {
     "data": {
      "text/plain": [
       "Index(['cpm', 'hour_start_old', 'hour_end', 'publishers', 'audience_size',\n",
       "       'user_ids', 'weekday_start', 'duration', 'hour_start',\n",
       "       'publisher_quantity', 'used_publishers_ration', 'top_time_month',\n",
       "       'top_time_week', 'top_weekday_month', 'top_weekday_week',\n",
       "       'session_duration_month_mean', 'session_duration_week_mean',\n",
       "       'session_quantity_month', 'session_quantity_week',\n",
       "       'session_cpm_month_mean', 'session_cpm_week_mean', 'views_month_mean',\n",
       "       'views_week_mean'],\n",
       "      dtype='object')"
      ]
     },
     "execution_count": 147,
     "metadata": {},
     "output_type": "execute_result"
    }
   ],
   "source": [
    "ext_validate_ds.columns"
   ]
  },
  {
   "cell_type": "code",
   "execution_count": 148,
   "metadata": {},
   "outputs": [],
   "source": [
    "ext_validate_ds.to_csv(os.path.join(OUTPUT_DATA_PATH, \"ext_validate_2.csv\"), index=False)"
   ]
  },
  {
   "cell_type": "code",
   "execution_count": 6,
   "metadata": {},
   "outputs": [],
   "source": [
    "ext_validate_ds = pd.read_csv(os.path.join(OUTPUT_DATA_PATH, \"ext_validate_2.csv\"))\n",
    "ext_validate_ds[\"publishers\"] = ext_validate_ds[\"publishers\"].apply(ast.literal_eval)\n",
    "ext_validate_ds[\"user_ids\"] = ext_validate_ds[\"user_ids\"].apply(ast.literal_eval)"
   ]
  },
  {
   "cell_type": "code",
   "execution_count": 8,
   "metadata": {},
   "outputs": [],
   "source": [
    "ext_validate_answers_ds = pd.read_csv(os.path.join(OUTPUT_DATA_PATH, \"ext_validate_answers.csv\"))"
   ]
  },
  {
   "cell_type": "code",
   "execution_count": 7,
   "metadata": {},
   "outputs": [
    {
     "data": {
      "text/html": [
       "<div>\n",
       "<style scoped>\n",
       "    .dataframe tbody tr th:only-of-type {\n",
       "        vertical-align: middle;\n",
       "    }\n",
       "\n",
       "    .dataframe tbody tr th {\n",
       "        vertical-align: top;\n",
       "    }\n",
       "\n",
       "    .dataframe thead th {\n",
       "        text-align: right;\n",
       "    }\n",
       "</style>\n",
       "<table border=\"1\" class=\"dataframe\">\n",
       "  <thead>\n",
       "    <tr style=\"text-align: right;\">\n",
       "      <th></th>\n",
       "      <th>cpm</th>\n",
       "      <th>hour_start_old</th>\n",
       "      <th>hour_end</th>\n",
       "      <th>publishers</th>\n",
       "      <th>audience_size</th>\n",
       "      <th>user_ids</th>\n",
       "      <th>weekday_start</th>\n",
       "      <th>duration</th>\n",
       "      <th>hour_start</th>\n",
       "      <th>publisher_quantity</th>\n",
       "      <th>...</th>\n",
       "      <th>top_weekday_month</th>\n",
       "      <th>top_weekday_week</th>\n",
       "      <th>session_duration_month_mean</th>\n",
       "      <th>session_duration_week_mean</th>\n",
       "      <th>session_quantity_month</th>\n",
       "      <th>session_quantity_week</th>\n",
       "      <th>session_cpm_month_mean</th>\n",
       "      <th>session_cpm_week_mean</th>\n",
       "      <th>views_month_mean</th>\n",
       "      <th>views_week_mean</th>\n",
       "    </tr>\n",
       "  </thead>\n",
       "  <tbody>\n",
       "    <tr>\n",
       "      <th>0</th>\n",
       "      <td>220.0</td>\n",
       "      <td>1058</td>\n",
       "      <td>1153</td>\n",
       "      <td>[7, 17]</td>\n",
       "      <td>1906</td>\n",
       "      <td>[12, 44, 46, 50, 58, 71, 93, 122, 134, 143, 17...</td>\n",
       "      <td>2</td>\n",
       "      <td>95</td>\n",
       "      <td>2</td>\n",
       "      <td>2</td>\n",
       "      <td>...</td>\n",
       "      <td>0</td>\n",
       "      <td>0</td>\n",
       "      <td>2</td>\n",
       "      <td>2</td>\n",
       "      <td>18372</td>\n",
       "      <td>4114</td>\n",
       "      <td>210.480455</td>\n",
       "      <td>221.471304</td>\n",
       "      <td>38082</td>\n",
       "      <td>8588</td>\n",
       "    </tr>\n",
       "    <tr>\n",
       "      <th>1</th>\n",
       "      <td>312.0</td>\n",
       "      <td>1295</td>\n",
       "      <td>1301</td>\n",
       "      <td>[3, 18]</td>\n",
       "      <td>1380</td>\n",
       "      <td>[29, 81, 98, 102, 165, 167, 195, 205, 218, 231...</td>\n",
       "      <td>4</td>\n",
       "      <td>6</td>\n",
       "      <td>4</td>\n",
       "      <td>2</td>\n",
       "      <td>...</td>\n",
       "      <td>2</td>\n",
       "      <td>1</td>\n",
       "      <td>3</td>\n",
       "      <td>3</td>\n",
       "      <td>35777</td>\n",
       "      <td>8321</td>\n",
       "      <td>188.068698</td>\n",
       "      <td>199.748844</td>\n",
       "      <td>91285</td>\n",
       "      <td>21335</td>\n",
       "    </tr>\n",
       "    <tr>\n",
       "      <th>2</th>\n",
       "      <td>70.0</td>\n",
       "      <td>1229</td>\n",
       "      <td>1249</td>\n",
       "      <td>[1, 2, 3, 9, 15, 21]</td>\n",
       "      <td>888</td>\n",
       "      <td>[12, 23, 25, 29, 45, 85, 92, 124, 156, 190, 27...</td>\n",
       "      <td>2</td>\n",
       "      <td>20</td>\n",
       "      <td>2</td>\n",
       "      <td>6</td>\n",
       "      <td>...</td>\n",
       "      <td>1</td>\n",
       "      <td>1</td>\n",
       "      <td>2</td>\n",
       "      <td>2</td>\n",
       "      <td>9049</td>\n",
       "      <td>2055</td>\n",
       "      <td>231.275441</td>\n",
       "      <td>224.800802</td>\n",
       "      <td>19524</td>\n",
       "      <td>4514</td>\n",
       "    </tr>\n",
       "    <tr>\n",
       "      <th>3</th>\n",
       "      <td>240.0</td>\n",
       "      <td>1295</td>\n",
       "      <td>1377</td>\n",
       "      <td>[1, 14]</td>\n",
       "      <td>440</td>\n",
       "      <td>[44, 122, 187, 209, 242, 255, 312, 345, 382, 4...</td>\n",
       "      <td>4</td>\n",
       "      <td>82</td>\n",
       "      <td>4</td>\n",
       "      <td>2</td>\n",
       "      <td>...</td>\n",
       "      <td>2</td>\n",
       "      <td>4</td>\n",
       "      <td>2</td>\n",
       "      <td>2</td>\n",
       "      <td>4140</td>\n",
       "      <td>932</td>\n",
       "      <td>212.932135</td>\n",
       "      <td>225.402752</td>\n",
       "      <td>8483</td>\n",
       "      <td>1904</td>\n",
       "    </tr>\n",
       "    <tr>\n",
       "      <th>4</th>\n",
       "      <td>262.0</td>\n",
       "      <td>752</td>\n",
       "      <td>990</td>\n",
       "      <td>[1, 3, 7, 8]</td>\n",
       "      <td>1476</td>\n",
       "      <td>[15, 24, 30, 43, 50, 53, 96, 105, 159, 168, 18...</td>\n",
       "      <td>3</td>\n",
       "      <td>238</td>\n",
       "      <td>3</td>\n",
       "      <td>4</td>\n",
       "      <td>...</td>\n",
       "      <td>2</td>\n",
       "      <td>2</td>\n",
       "      <td>2</td>\n",
       "      <td>2</td>\n",
       "      <td>12393</td>\n",
       "      <td>2881</td>\n",
       "      <td>252.865318</td>\n",
       "      <td>265.688009</td>\n",
       "      <td>25310</td>\n",
       "      <td>5906</td>\n",
       "    </tr>\n",
       "    <tr>\n",
       "      <th>...</th>\n",
       "      <td>...</td>\n",
       "      <td>...</td>\n",
       "      <td>...</td>\n",
       "      <td>...</td>\n",
       "      <td>...</td>\n",
       "      <td>...</td>\n",
       "      <td>...</td>\n",
       "      <td>...</td>\n",
       "      <td>...</td>\n",
       "      <td>...</td>\n",
       "      <td>...</td>\n",
       "      <td>...</td>\n",
       "      <td>...</td>\n",
       "      <td>...</td>\n",
       "      <td>...</td>\n",
       "      <td>...</td>\n",
       "      <td>...</td>\n",
       "      <td>...</td>\n",
       "      <td>...</td>\n",
       "      <td>...</td>\n",
       "      <td>...</td>\n",
       "    </tr>\n",
       "    <tr>\n",
       "      <th>1003</th>\n",
       "      <td>127.0</td>\n",
       "      <td>1095</td>\n",
       "      <td>1154</td>\n",
       "      <td>[2, 7, 12, 15, 16]</td>\n",
       "      <td>368</td>\n",
       "      <td>[38, 50, 143, 237, 456, 649, 653, 698, 881, 89...</td>\n",
       "      <td>3</td>\n",
       "      <td>59</td>\n",
       "      <td>3</td>\n",
       "      <td>5</td>\n",
       "      <td>...</td>\n",
       "      <td>1</td>\n",
       "      <td>0</td>\n",
       "      <td>2</td>\n",
       "      <td>2</td>\n",
       "      <td>3320</td>\n",
       "      <td>744</td>\n",
       "      <td>202.874765</td>\n",
       "      <td>188.274907</td>\n",
       "      <td>6614</td>\n",
       "      <td>1492</td>\n",
       "    </tr>\n",
       "    <tr>\n",
       "      <th>1004</th>\n",
       "      <td>90.0</td>\n",
       "      <td>1052</td>\n",
       "      <td>1056</td>\n",
       "      <td>[2, 21]</td>\n",
       "      <td>484</td>\n",
       "      <td>[1, 4, 61, 212, 230, 348, 356, 372, 429, 431, ...</td>\n",
       "      <td>1</td>\n",
       "      <td>4</td>\n",
       "      <td>1</td>\n",
       "      <td>2</td>\n",
       "      <td>...</td>\n",
       "      <td>0</td>\n",
       "      <td>2</td>\n",
       "      <td>2</td>\n",
       "      <td>2</td>\n",
       "      <td>4818</td>\n",
       "      <td>1094</td>\n",
       "      <td>204.525761</td>\n",
       "      <td>198.658989</td>\n",
       "      <td>10286</td>\n",
       "      <td>2338</td>\n",
       "    </tr>\n",
       "    <tr>\n",
       "      <th>1005</th>\n",
       "      <td>122.0</td>\n",
       "      <td>1058</td>\n",
       "      <td>1063</td>\n",
       "      <td>[2, 5]</td>\n",
       "      <td>704</td>\n",
       "      <td>[1, 23, 29, 104, 136, 176, 201, 206, 250, 269,...</td>\n",
       "      <td>2</td>\n",
       "      <td>5</td>\n",
       "      <td>2</td>\n",
       "      <td>2</td>\n",
       "      <td>...</td>\n",
       "      <td>1</td>\n",
       "      <td>2</td>\n",
       "      <td>3</td>\n",
       "      <td>3</td>\n",
       "      <td>16735</td>\n",
       "      <td>3787</td>\n",
       "      <td>179.105573</td>\n",
       "      <td>184.306063</td>\n",
       "      <td>40183</td>\n",
       "      <td>8801</td>\n",
       "    </tr>\n",
       "    <tr>\n",
       "      <th>1006</th>\n",
       "      <td>138.0</td>\n",
       "      <td>932</td>\n",
       "      <td>1169</td>\n",
       "      <td>[1, 2, 7]</td>\n",
       "      <td>1210</td>\n",
       "      <td>[67, 73, 80, 146, 182, 202, 212, 254, 307, 377...</td>\n",
       "      <td>3</td>\n",
       "      <td>237</td>\n",
       "      <td>3</td>\n",
       "      <td>3</td>\n",
       "      <td>...</td>\n",
       "      <td>2</td>\n",
       "      <td>0</td>\n",
       "      <td>2</td>\n",
       "      <td>2</td>\n",
       "      <td>10260</td>\n",
       "      <td>2432</td>\n",
       "      <td>211.501190</td>\n",
       "      <td>213.593645</td>\n",
       "      <td>20662</td>\n",
       "      <td>4976</td>\n",
       "    </tr>\n",
       "    <tr>\n",
       "      <th>1007</th>\n",
       "      <td>35.0</td>\n",
       "      <td>747</td>\n",
       "      <td>806</td>\n",
       "      <td>[1, 3, 7, 18]</td>\n",
       "      <td>1000</td>\n",
       "      <td>[39, 78, 101, 205, 242, 266, 277, 284, 306, 44...</td>\n",
       "      <td>3</td>\n",
       "      <td>59</td>\n",
       "      <td>3</td>\n",
       "      <td>4</td>\n",
       "      <td>...</td>\n",
       "      <td>2</td>\n",
       "      <td>3</td>\n",
       "      <td>2</td>\n",
       "      <td>2</td>\n",
       "      <td>9499</td>\n",
       "      <td>2148</td>\n",
       "      <td>217.545371</td>\n",
       "      <td>221.634882</td>\n",
       "      <td>19862</td>\n",
       "      <td>4462</td>\n",
       "    </tr>\n",
       "  </tbody>\n",
       "</table>\n",
       "<p>1008 rows × 23 columns</p>\n",
       "</div>"
      ],
      "text/plain": [
       "        cpm  hour_start_old  hour_end            publishers  audience_size  \\\n",
       "0     220.0            1058      1153               [7, 17]           1906   \n",
       "1     312.0            1295      1301               [3, 18]           1380   \n",
       "2      70.0            1229      1249  [1, 2, 3, 9, 15, 21]            888   \n",
       "3     240.0            1295      1377               [1, 14]            440   \n",
       "4     262.0             752       990          [1, 3, 7, 8]           1476   \n",
       "...     ...             ...       ...                   ...            ...   \n",
       "1003  127.0            1095      1154    [2, 7, 12, 15, 16]            368   \n",
       "1004   90.0            1052      1056               [2, 21]            484   \n",
       "1005  122.0            1058      1063                [2, 5]            704   \n",
       "1006  138.0             932      1169             [1, 2, 7]           1210   \n",
       "1007   35.0             747       806         [1, 3, 7, 18]           1000   \n",
       "\n",
       "                                               user_ids  weekday_start  \\\n",
       "0     [12, 44, 46, 50, 58, 71, 93, 122, 134, 143, 17...              2   \n",
       "1     [29, 81, 98, 102, 165, 167, 195, 205, 218, 231...              4   \n",
       "2     [12, 23, 25, 29, 45, 85, 92, 124, 156, 190, 27...              2   \n",
       "3     [44, 122, 187, 209, 242, 255, 312, 345, 382, 4...              4   \n",
       "4     [15, 24, 30, 43, 50, 53, 96, 105, 159, 168, 18...              3   \n",
       "...                                                 ...            ...   \n",
       "1003  [38, 50, 143, 237, 456, 649, 653, 698, 881, 89...              3   \n",
       "1004  [1, 4, 61, 212, 230, 348, 356, 372, 429, 431, ...              1   \n",
       "1005  [1, 23, 29, 104, 136, 176, 201, 206, 250, 269,...              2   \n",
       "1006  [67, 73, 80, 146, 182, 202, 212, 254, 307, 377...              3   \n",
       "1007  [39, 78, 101, 205, 242, 266, 277, 284, 306, 44...              3   \n",
       "\n",
       "      duration  hour_start  publisher_quantity  ...  top_weekday_month  \\\n",
       "0           95           2                   2  ...                  0   \n",
       "1            6           4                   2  ...                  2   \n",
       "2           20           2                   6  ...                  1   \n",
       "3           82           4                   2  ...                  2   \n",
       "4          238           3                   4  ...                  2   \n",
       "...        ...         ...                 ...  ...                ...   \n",
       "1003        59           3                   5  ...                  1   \n",
       "1004         4           1                   2  ...                  0   \n",
       "1005         5           2                   2  ...                  1   \n",
       "1006       237           3                   3  ...                  2   \n",
       "1007        59           3                   4  ...                  2   \n",
       "\n",
       "      top_weekday_week  session_duration_month_mean  \\\n",
       "0                    0                            2   \n",
       "1                    1                            3   \n",
       "2                    1                            2   \n",
       "3                    4                            2   \n",
       "4                    2                            2   \n",
       "...                ...                          ...   \n",
       "1003                 0                            2   \n",
       "1004                 2                            2   \n",
       "1005                 2                            3   \n",
       "1006                 0                            2   \n",
       "1007                 3                            2   \n",
       "\n",
       "      session_duration_week_mean  session_quantity_month  \\\n",
       "0                              2                   18372   \n",
       "1                              3                   35777   \n",
       "2                              2                    9049   \n",
       "3                              2                    4140   \n",
       "4                              2                   12393   \n",
       "...                          ...                     ...   \n",
       "1003                           2                    3320   \n",
       "1004                           2                    4818   \n",
       "1005                           3                   16735   \n",
       "1006                           2                   10260   \n",
       "1007                           2                    9499   \n",
       "\n",
       "      session_quantity_week  session_cpm_month_mean  session_cpm_week_mean  \\\n",
       "0                      4114              210.480455             221.471304   \n",
       "1                      8321              188.068698             199.748844   \n",
       "2                      2055              231.275441             224.800802   \n",
       "3                       932              212.932135             225.402752   \n",
       "4                      2881              252.865318             265.688009   \n",
       "...                     ...                     ...                    ...   \n",
       "1003                    744              202.874765             188.274907   \n",
       "1004                   1094              204.525761             198.658989   \n",
       "1005                   3787              179.105573             184.306063   \n",
       "1006                   2432              211.501190             213.593645   \n",
       "1007                   2148              217.545371             221.634882   \n",
       "\n",
       "      views_month_mean  views_week_mean  \n",
       "0                38082             8588  \n",
       "1                91285            21335  \n",
       "2                19524             4514  \n",
       "3                 8483             1904  \n",
       "4                25310             5906  \n",
       "...                ...              ...  \n",
       "1003              6614             1492  \n",
       "1004             10286             2338  \n",
       "1005             40183             8801  \n",
       "1006             20662             4976  \n",
       "1007             19862             4462  \n",
       "\n",
       "[1008 rows x 23 columns]"
      ]
     },
     "execution_count": 7,
     "metadata": {},
     "output_type": "execute_result"
    }
   ],
   "source": [
    "ext_validate_ds"
   ]
  },
  {
   "cell_type": "code",
   "execution_count": 9,
   "metadata": {},
   "outputs": [
    {
     "data": {
      "text/html": [
       "<div>\n",
       "<style scoped>\n",
       "    .dataframe tbody tr th:only-of-type {\n",
       "        vertical-align: middle;\n",
       "    }\n",
       "\n",
       "    .dataframe tbody tr th {\n",
       "        vertical-align: top;\n",
       "    }\n",
       "\n",
       "    .dataframe thead th {\n",
       "        text-align: right;\n",
       "    }\n",
       "</style>\n",
       "<table border=\"1\" class=\"dataframe\">\n",
       "  <thead>\n",
       "    <tr style=\"text-align: right;\">\n",
       "      <th></th>\n",
       "      <th>at_least_one</th>\n",
       "      <th>at_least_two</th>\n",
       "      <th>at_least_three</th>\n",
       "    </tr>\n",
       "  </thead>\n",
       "  <tbody>\n",
       "    <tr>\n",
       "      <th>0</th>\n",
       "      <td>82</td>\n",
       "      <td>29</td>\n",
       "      <td>14</td>\n",
       "    </tr>\n",
       "    <tr>\n",
       "      <th>1</th>\n",
       "      <td>18</td>\n",
       "      <td>0</td>\n",
       "      <td>0</td>\n",
       "    </tr>\n",
       "    <tr>\n",
       "      <th>2</th>\n",
       "      <td>78</td>\n",
       "      <td>12</td>\n",
       "      <td>0</td>\n",
       "    </tr>\n",
       "    <tr>\n",
       "      <th>3</th>\n",
       "      <td>101</td>\n",
       "      <td>57</td>\n",
       "      <td>32</td>\n",
       "    </tr>\n",
       "    <tr>\n",
       "      <th>4</th>\n",
       "      <td>585</td>\n",
       "      <td>411</td>\n",
       "      <td>335</td>\n",
       "    </tr>\n",
       "  </tbody>\n",
       "</table>\n",
       "</div>"
      ],
      "text/plain": [
       "   at_least_one  at_least_two  at_least_three\n",
       "0            82            29              14\n",
       "1            18             0               0\n",
       "2            78            12               0\n",
       "3           101            57              32\n",
       "4           585           411             335"
      ]
     },
     "execution_count": 9,
     "metadata": {},
     "output_type": "execute_result"
    }
   ],
   "source": [
    "ext_validate_answers_ds.head()"
   ]
  },
  {
   "cell_type": "code",
   "execution_count": null,
   "metadata": {},
   "outputs": [],
   "source": [
    "pd.concat([ext_validate_ds, ext_validate_answers_ds], axis=1).to_csv(os.path.join(OUTPUT_DATA_PATH, \"dataset.csv\"), index=False)"
   ]
  }
 ],
 "metadata": {
  "kernelspec": {
   "display_name": ".venv",
   "language": "python",
   "name": "python3"
  },
  "language_info": {
   "codemirror_mode": {
    "name": "ipython",
    "version": 3
   },
   "file_extension": ".py",
   "mimetype": "text/x-python",
   "name": "python",
   "nbconvert_exporter": "python",
   "pygments_lexer": "ipython3",
   "version": "3.9.2"
  }
 },
 "nbformat": 4,
 "nbformat_minor": 2
}

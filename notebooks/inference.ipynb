{
 "cells": [
  {
   "cell_type": "markdown",
   "metadata": {},
   "source": [
    "Тетрадка для обучения модели."
   ]
  },
  {
   "cell_type": "markdown",
   "metadata": {},
   "source": [
    "# Import"
   ]
  },
  {
   "cell_type": "code",
   "execution_count": 29,
   "metadata": {},
   "outputs": [],
   "source": [
    "import os\n",
    "import sys\n",
    "from dotenv import load_dotenv\n",
    "import time\n",
    "from pickle import load\n",
    "import warnings\n",
    "\n",
    "import pandas as pd\n",
    "import numpy as np\n",
    "import matplotlib.pyplot as plt\n",
    "import shap\n",
    "\n",
    "\n",
    "import sklearn\n",
    "from sklearn.compose import make_column_transformer\n",
    "from sklearn.preprocessing import FunctionTransformer\n",
    "from sklearn.compose import ColumnTransformer\n",
    "from sklearn.model_selection import train_test_split\n",
    "from sklearn.model_selection import KFold\n",
    "\n",
    "\n",
    "load_dotenv()\n",
    "sklearn.set_config(transform_output=\"pandas\")\n",
    "pd.options.display.max_columns = None\n",
    "ROOT_PATH = os.getenv(\"ROOT_PATH\")\n",
    "sys.path.append(ROOT_PATH)\n",
    "warnings.filterwarnings(\"ignore\")"
   ]
  },
  {
   "cell_type": "code",
   "execution_count": 2,
   "metadata": {},
   "outputs": [],
   "source": [
    "from src.metrics import get_smoothed_mean_log_accuracy_ratio"
   ]
  },
  {
   "cell_type": "markdown",
   "metadata": {},
   "source": [
    "# Config"
   ]
  },
  {
   "cell_type": "code",
   "execution_count": 3,
   "metadata": {},
   "outputs": [],
   "source": [
    "INPUT_DATA_PATH = os.getenv(\"INPUT_DATA_PATH\")\n",
    "OUTPUT_DATA_PATH = os.getenv(\"OUTPUT_DATA_PATH\")"
   ]
  },
  {
   "cell_type": "markdown",
   "metadata": {},
   "source": [
    "# Classes and functions"
   ]
  },
  {
   "cell_type": "markdown",
   "metadata": {},
   "source": [
    "Функции для перевода временной метки в день недели и час"
   ]
  },
  {
   "cell_type": "code",
   "execution_count": 4,
   "metadata": {},
   "outputs": [],
   "source": [
    "def hour_to_weekday(hour):\n",
    "    day = hour // 24\n",
    "    weekday = day % 7\n",
    "    return weekday\n",
    "\n",
    "\n",
    "def hour_to_daytime(hour):\n",
    "    return hour % 24"
   ]
  },
  {
   "cell_type": "markdown",
   "metadata": {},
   "source": [
    "Перевод строки в формате \"1,2,3,4\" в формат [1, 2, 3, 4]"
   ]
  },
  {
   "cell_type": "code",
   "execution_count": 5,
   "metadata": {},
   "outputs": [],
   "source": [
    "def str_to_list(X):\n",
    "    for col in X.columns:\n",
    "        X[col] = X[col].apply(lambda x: [int(v) for v in x.split(\",\")])\n",
    "    \n",
    "    return X"
   ]
  },
  {
   "cell_type": "markdown",
   "metadata": {},
   "source": [
    "Функции для генерации новых признаков в validate.tsv"
   ]
  },
  {
   "cell_type": "code",
   "execution_count": 6,
   "metadata": {},
   "outputs": [],
   "source": [
    "def get_interval_times(mask, history):\n",
    "    users_history = history.loc[mask, [\"weekday\", \"daytime\"]]\n",
    "\n",
    "    top_weekday = np.cos(2*np.pi*users_history[\"weekday\"].mode()[0]/7)\n",
    "    top_daytime = np.cos(2*np.pi*users_history[\"daytime\"].mode()[0]/24)\n",
    "\n",
    "    return top_weekday, top_daytime\n",
    "\n",
    "\n",
    "def get_sessions_features(mask, history):\n",
    "    # Берем интересующую историю активности\n",
    "    users_hours = history.loc[mask, [\"user_id\", \"hour\", \"cpm\"]]\n",
    "    # Группируем по пользователям и считаем сколько времени длилась сессия и какая была цена\n",
    "    users_sessions = []\n",
    "    users_cpms = []\n",
    "    for _, user_data in users_hours.groupby(by=\"user_id\"):\n",
    "        user_data = user_data.sort_values(by=\"hour\")\n",
    "        hours = list(user_data[\"hour\"])\n",
    "        cpms = list(user_data[\"cpm\"])\n",
    "        # Если пользователь не видел рекламу больше 6 часов, то у него начинается новая сессия\n",
    "        user_sessions = [hours[0]]\n",
    "        user_cpms = [cpms[0]]\n",
    "        for i, hour in enumerate(hours[1:], 1):\n",
    "            if hour - user_sessions[-1] <= 6:\n",
    "                user_sessions.append(hour)\n",
    "                user_cpms.append(cpms[i])\n",
    "                continue\n",
    "\n",
    "            users_sessions.append(user_sessions)\n",
    "            users_cpms.append(user_cpms)\n",
    "            user_sessions = [hour]\n",
    "            user_cpms = [cpms[i]]\n",
    "\n",
    "        users_sessions.append(user_sessions)\n",
    "        users_cpms.append(user_cpms)\n",
    "\n",
    "    sessions_duration = round(np.mean([np.max(\n",
    "        user_sessions) - np.min(user_sessions) + 1 for user_sessions in users_sessions]))\n",
    "    num_sessions = len(users_sessions)\n",
    "    sessions_cpm = np.mean([np.mean(user_cpms) for user_cpms in users_cpms])\n",
    "\n",
    "    return sessions_duration, num_sessions, sessions_cpm"
   ]
  },
  {
   "cell_type": "code",
   "execution_count": 7,
   "metadata": {},
   "outputs": [],
   "source": [
    "def add_num_publishers(X):\n",
    "    return X[\"publishers\"].apply(len)\n",
    "\n",
    "\n",
    "def add_used_publishers_ratio(X, history):\n",
    "    new_feature = {\n",
    "        \"used_publishers_ration\": []\n",
    "    }\n",
    "    for _, row in X.iterrows():\n",
    "        # Берем записи с пользователями и площадкам из объявления\n",
    "        mask = (history[\"user_id\"].isin(row[\"user_ids\"])) & (history[\"publisher\"].isin(row[\"publishers\"]))\n",
    "        users_publishers = history.loc[mask, [\"publisher\", \"user_id\"]]\n",
    "        # Для каждого пользователя считаем сколько подходящих групп он использовал и берем популярное кол-во\n",
    "        n_used_publishers = users_publishers.groupby(\"user_id\")[\"publisher\"].apply(lambda publishers: len(np.unique(publishers))).mode()[0]\n",
    "        # Считаем отношение\n",
    "        used_publishers_ration = n_used_publishers/len(row[\"publishers\"])\n",
    "\n",
    "        new_feature[\"used_publishers_ration\"].append(used_publishers_ration)\n",
    "\n",
    "    return pd.DataFrame(new_feature)\n",
    "\n",
    "\n",
    "def add_top_intervals(X, history):\n",
    "    new_feature = {\n",
    "        \"top_weekday\": [],\n",
    "        \"top_daytime\": [],\n",
    "        \"top_weekday_on_pubs\": [],\n",
    "        \"top_daytime_on_pubs\": []\n",
    "    }\n",
    "    for _, row in X.iterrows():\n",
    "        mask = history[\"user_id\"].isin(row[\"user_ids\"])\n",
    "        top_weekday, top_daytime = get_interval_times(mask, history)\n",
    "\n",
    "        mask = (history[\"user_id\"].isin(row[\"user_ids\"])) & (history[\"publisher\"].isin(row[\"publishers\"]))\n",
    "        top_weekday_on_pubs, top_daytime_on_pubs = get_interval_times(mask, history)\n",
    "\n",
    "        new_feature[\"top_weekday\"].append(top_weekday)\n",
    "        new_feature[\"top_daytime\"].append(top_daytime)\n",
    "        new_feature[\"top_weekday_on_pubs\"].append(top_weekday_on_pubs)\n",
    "        new_feature[\"top_daytime_on_pubs\"].append(top_daytime_on_pubs)\n",
    "\n",
    "    return pd.DataFrame(new_feature)\n",
    "\n",
    "\n",
    "def add_session_features(X, history):\n",
    "    new_feature = {\n",
    "        \"sessions_duration\": [],\n",
    "        \"sessions_duration_on_pubs\": [],\n",
    "\n",
    "        \"num_sessions\": [],\n",
    "        \"num_sessions_on_pubs\": [],\n",
    "\n",
    "        \"sessions_cpm\": [],\n",
    "        \"sessions_cpm_on_pubs\": []\n",
    "    }\n",
    "    for _, row in X.iterrows():\n",
    "        # На всех площадках\n",
    "        mask = (history[\"user_id\"].isin(row[\"user_ids\"]))\n",
    "        sessions_duration, num_sessions, sessions_cpm = get_sessions_features(mask, history)\n",
    "        # На конкретных площадках\n",
    "        mask = (history[\"user_id\"].isin(row[\"user_ids\"])) & (history[\"publisher\"].isin(row[\"publishers\"]))\n",
    "        sessions_duration_on_pubs, num_sessions_on_pubs, sessions_cpm_on_pubs = get_sessions_features(mask, history)\n",
    "\n",
    "        new_feature[\"sessions_duration\"].append(sessions_duration)\n",
    "        new_feature[\"sessions_duration_on_pubs\"].append(sessions_duration_on_pubs)\n",
    "\n",
    "        new_feature[\"num_sessions\"].append(num_sessions)\n",
    "        new_feature[\"num_sessions_on_pubs\"].append(num_sessions_on_pubs)\n",
    "\n",
    "        new_feature[\"sessions_cpm\"].append(sessions_cpm)\n",
    "        new_feature[\"sessions_cpm_on_pubs\"].append(sessions_cpm_on_pubs)\n",
    "\n",
    "    return pd.DataFrame(new_feature)\n",
    "\n",
    "\n",
    "def add_views(X, history):\n",
    "    new_feature = {\n",
    "        \"num_views\": [],\n",
    "        \"num_views_on_pubs\": []\n",
    "    }\n",
    "    for _, row in X.iterrows():\n",
    "        num_views = (history[\"user_id\"].isin(row[\"user_ids\"])).sum()\n",
    "        num_views_on_pubs = ((history[\"user_id\"].isin(row[\"user_ids\"])) & (history[\"publisher\"].isin(row[\"publishers\"]))).sum()\n",
    "\n",
    "        new_feature[\"num_views\"].append(num_views)\n",
    "        new_feature[\"num_views_on_pubs\"].append(num_views_on_pubs)\n",
    "\n",
    "    return pd.DataFrame(new_feature)\n",
    "\n",
    "\n",
    "def add_times(X):\n",
    "    X[\"weekday_start\"] = X[\"hour_start\"]//24%7\n",
    "    X[\"weekday_end\"] = X[\"hour_end\"]//24%7\n",
    "    X[\"daytime_start\"] = X[\"hour_start\"]%24\n",
    "    X[\"daytime_end\"] = X[\"hour_end\"]%24\n",
    "    X[\"duration\"] = X[\"hour_end\"] - X[\"hour_start\"]\n",
    "    return X\n",
    "\n",
    "\n",
    "def add_publishers_data(X, history):\n",
    "    new_features = {\n",
    "        \"publishers_mean_cpm_bid\": [],\n",
    "        \"publishers_IQR_cpm_bid\": []\n",
    "    }\n",
    "    for _, row in X.iterrows():\n",
    "        mask = (history[\"user_id\"].isin(row[\"user_ids\"])) & (history[\"publisher\"].isin(row[\"publishers\"]))\n",
    "        users_hours = history.loc[mask, [\"cpm\"]]\n",
    "\n",
    "        publishers_mean_cpm_bid = np.mean(users_hours[\"cpm\"])\n",
    "        publishers_IQR_cpm_bid = users_hours[\"cpm\"].quantile(0.75) - users_hours[\"cpm\"].quantile(0.25)\n",
    "\n",
    "        new_features[\"publishers_mean_cpm_bid\"].append(publishers_mean_cpm_bid)\n",
    "        new_features[\"publishers_IQR_cpm_bid\"].append(publishers_IQR_cpm_bid)\n",
    "\n",
    "    return pd.DataFrame(new_features)"
   ]
  },
  {
   "cell_type": "markdown",
   "metadata": {},
   "source": [
    "Функция для подсчета метрики"
   ]
  },
  {
   "cell_type": "code",
   "execution_count": 8,
   "metadata": {},
   "outputs": [],
   "source": [
    "def get_smoothed_log_mape_column_value(responses_column, answers_column, epsilon):\n",
    "    return np.abs(np.log(\n",
    "        (responses_column + epsilon)\n",
    "        / (answers_column + epsilon)\n",
    "    )).mean()\n",
    "\n",
    "\n",
    "def get_smoothed_mean_log_accuracy_ratio_np(answers, responses, epsilon=0.005):\n",
    "    answers = answers.to_numpy().reshape(len(responses), 3)\n",
    "    log_accuracy_ratio_mean = np.array(\n",
    "        [\n",
    "            get_smoothed_log_mape_column_value(responses[:, 0], answers[:, 0], epsilon),\n",
    "            get_smoothed_log_mape_column_value(responses[:, 1], answers[:, 1], epsilon),\n",
    "            get_smoothed_log_mape_column_value(responses[:, 2], answers[:, 2], epsilon),\n",
    "        ]\n",
    "    ).mean()\n",
    "    \n",
    "    percentage_error = 100 * (np.exp(log_accuracy_ratio_mean) - 1)\n",
    "\n",
    "    return percentage_error.round(\n",
    "        decimals=2\n",
    "    )"
   ]
  },
  {
   "cell_type": "markdown",
   "metadata": {},
   "source": [
    "Функции для визуализации"
   ]
  },
  {
   "cell_type": "code",
   "execution_count": 9,
   "metadata": {},
   "outputs": [],
   "source": [
    "def get_shap_values(model, X_test, y_test, save_dir_path=None):\n",
    "    # Для каждой целевой переменной\n",
    "    for idx, target_name in enumerate(y_test.columns):\n",
    "        # Создадим экземпляр класса shap\n",
    "        explainer = shap.Explainer(model.estimators_[idx])\n",
    "        # Получим shap значений\n",
    "        shap_values = explainer(X_test)\n",
    "        # Отрисуем необходимые диаграммы\n",
    "        plt.figure(figsize=(8, 6)) \n",
    "        shap.plots.bar(shap_values, show=False, max_display=len(X_test.columns))\n",
    "        plt.ylim(0.5, X_test.shape[1] + 1)\n",
    "        if save_dir_path:\n",
    "            plt.savefig(os.path.join(save_dir_path, f\"barplot_{target_name}.png\"), dpi=300, bbox_inches=\"tight\")\n",
    "\n",
    "        plt.close()\n",
    "\n",
    "        plt.figure(figsize=(8, 6)) \n",
    "        shap.plots.beeswarm(shap_values, show=False, max_display=len(X_test.columns))\n",
    "        plt.ylim(0.5, X_test.shape[1] + 1)\n",
    "        if save_dir_path:\n",
    "            plt.savefig(os.path.join(save_dir_path, f\"beeswarm_{target_name}.png\"), dpi=300, bbox_inches=\"tight\")\n",
    "\n",
    "        plt.close()"
   ]
  },
  {
   "cell_type": "markdown",
   "metadata": {},
   "source": [
    "Функция для кросс-валидации"
   ]
  },
  {
   "cell_type": "code",
   "execution_count": 10,
   "metadata": {},
   "outputs": [],
   "source": [
    "def ccross_val(model, X, y, verbose=True):\n",
    "    cv = KFold(n_splits=5, shuffle=True, random_state=42)\n",
    "    scores = {\n",
    "        \"train_times\": [],\n",
    "        \"inference_times\": [],\n",
    "        \"metrics\": []\n",
    "    }\n",
    "    for train_idx, test_idx in cv.split(X):\n",
    "        # Обучаем модель\n",
    "        start = time.time()\n",
    "\n",
    "        model.fit(X.iloc[train_idx], y.iloc[train_idx])\n",
    "\n",
    "        train_time = time.time() - start\n",
    "        # Получаем предсказания\n",
    "        start = time.time()\n",
    "\n",
    "        y_pred = model.predict(X.iloc[test_idx])\n",
    "\n",
    "        inference_time = time.time() - start\n",
    "        # Делаем постобработку\n",
    "        y_pred[y_pred < 0.] = 0.\n",
    "        # Считаем метрику\n",
    "        metric = get_smoothed_mean_log_accuracy_ratio_np(y.iloc[test_idx], y_pred)\n",
    "\n",
    "        scores[\"train_times\"].append(train_time)\n",
    "        scores[\"inference_times\"].append(inference_time)\n",
    "        scores[\"metrics\"].append(metric)\n",
    "\n",
    "    if verbose:\n",
    "        print(f\"Train batch size: {len(train_idx)}\\nTest batch size: {len(test_idx)}\")\n",
    "        print(f\"Mean train time: {round(np.mean(scores['train_times']), 2)} s\")\n",
    "        print(f\"Mean inference time: {round(np.mean(scores['inference_times']), 2)} s\")\n",
    "        print(f\"Mean metric: {round(np.mean(scores['metrics']), 2)}\")"
   ]
  },
  {
   "cell_type": "markdown",
   "metadata": {},
   "source": [
    "# Load data"
   ]
  },
  {
   "cell_type": "markdown",
   "metadata": {},
   "source": [
    "### load"
   ]
  },
  {
   "cell_type": "markdown",
   "metadata": {},
   "source": [
    "Загружаем данные. В целях экономии ресурсов мы загружаем предобработанные users и history."
   ]
  },
  {
   "cell_type": "code",
   "execution_count": 15,
   "metadata": {},
   "outputs": [],
   "source": [
    "ext_user_ds_path = os.path.join(OUTPUT_DATA_PATH, \"ext_users.csv\")\n",
    "ext_history_ds_path = os.path.join(OUTPUT_DATA_PATH, \"ext_history.csv\")\n",
    "validate_ds_path = os.path.join(INPUT_DATA_PATH, \"validate.tsv\")\n",
    "validate_answers_ds_path = os.path.join(INPUT_DATA_PATH, \"validate_answers.tsv\")\n",
    "\n",
    "ext_user_ds = pd.read_csv(ext_user_ds_path)\n",
    "ext_history_ds = pd.read_csv(ext_history_ds_path)\n",
    "validate_ds = pd.read_csv(validate_ds_path, sep=\"\\t\")\n",
    "validate_answers_ds = pd.read_csv(validate_answers_ds_path, sep=\"\\t\")"
   ]
  },
  {
   "cell_type": "markdown",
   "metadata": {},
   "source": [
    "### preprocess"
   ]
  },
  {
   "cell_type": "markdown",
   "metadata": {},
   "source": [
    "Делаем предобработку данных и добавляем новые признаки."
   ]
  },
  {
   "cell_type": "code",
   "execution_count": 12,
   "metadata": {},
   "outputs": [],
   "source": [
    "ct = make_column_transformer(\n",
    "    (FunctionTransformer(str_to_list), [\"publishers\", \"user_ids\"]),\n",
    "\n",
    "    remainder='passthrough',\n",
    "    verbose_feature_names_out=False\n",
    ")\n",
    "\n",
    "fe_ct = ColumnTransformer([\n",
    "    (\"add_num_publishers\",\n",
    "     FunctionTransformer(func=add_num_publishers,\n",
    "                         feature_names_out=lambda *_: [\"num_publishers\"]),\n",
    "     [\"publishers\"]),\n",
    "\n",
    "     (\"add_used_publishers_ratio\",\n",
    "     FunctionTransformer(func=add_used_publishers_ratio,\n",
    "                         feature_names_out=lambda *_: [\"used_publishers_ration\"],\n",
    "                         kw_args={\"history\": ext_history_ds}),\n",
    "     [\"user_ids\", \"publishers\"]),\n",
    "\n",
    "     (\"add_top_intervals\",\n",
    "     FunctionTransformer(func=add_top_intervals,\n",
    "                         feature_names_out=lambda *_: [\"top_weekday\", \"top_daytime\", \"top_weekday_on_pubs\", \"top_daytime_on_pubs\"],\n",
    "                         kw_args={\"history\": ext_history_ds}),\n",
    "    [\"user_ids\", \"publishers\"]),\n",
    "\n",
    "    (\"add_session_features\",\n",
    "     FunctionTransformer(func=add_session_features,\n",
    "                         feature_names_out=lambda *_: [\"sessions_duration\", \"sessions_duration_on_pubs\", \"num_sessions\", \"num_sessions_on_pubs\", \"sessions_cpm\", \"sessions_cpm_on_pubs\"],\n",
    "                         kw_args={\"history\": ext_history_ds}),\n",
    "    [\"user_ids\", \"publishers\"]),\n",
    "     \n",
    "    (\"add_views\",\n",
    "     FunctionTransformer(func=add_views,\n",
    "                         feature_names_out=lambda *_: [\"num_views\", \"num_views_on_pubs\"],\n",
    "                         kw_args={\"history\": ext_history_ds}),\n",
    "    [\"user_ids\", \"publishers\"]),\n",
    "    (\"add_times\",\n",
    "     FunctionTransformer(func=add_times,\n",
    "                         feature_names_out=lambda *_: [\"hour_start\", \"hour_end\", \"weekday_start\", \"weekday_end\", \"daytime_start\", \"daytime_end\", \"duration\"]),\n",
    "    [\"hour_start\", \"hour_end\"]),\n",
    "    (\"add_publishers_data\",\n",
    "     FunctionTransformer(func=add_publishers_data,\n",
    "                         feature_names_out=lambda *_: [\"publishers_mean_cpm_bid\", \"publishers_IQR_cpm_bid\"],\n",
    "                         kw_args={\"history\": ext_history_ds}),\n",
    "     [\"user_ids\", \"publishers\"])\n",
    "    ],\n",
    "    remainder='passthrough',\n",
    "    n_jobs=12,\n",
    "    verbose=True,\n",
    "    verbose_feature_names_out=False\n",
    ")"
   ]
  },
  {
   "cell_type": "code",
   "execution_count": 16,
   "metadata": {},
   "outputs": [
    {
     "name": "stdout",
     "output_type": "stream",
     "text": [
      "[ColumnTransformer]  (1 of 8) Processing add_num_publishers, total=   0.0s\n",
      "[ColumnTransformer] ..... (6 of 8) Processing add_times, total=   0.0s\n",
      "[ColumnTransformer] ..... (8 of 8) Processing remainder, total=   0.0s\n",
      "[ColumnTransformer]  (7 of 8) Processing add_publishers_data, total=  35.9s\n",
      "[ColumnTransformer] ..... (5 of 8) Processing add_views, total=  50.6s\n",
      "[ColumnTransformer]  (3 of 8) Processing add_top_intervals, total=  59.1s\n",
      "[ColumnTransformer]  (2 of 8) Processing add_used_publishers_ratio, total= 1.0min\n",
      "[ColumnTransformer]  (4 of 8) Processing add_session_features, total=15.0min\n"
     ]
    },
    {
     "data": {
      "text/html": [
       "<div>\n",
       "<style scoped>\n",
       "    .dataframe tbody tr th:only-of-type {\n",
       "        vertical-align: middle;\n",
       "    }\n",
       "\n",
       "    .dataframe tbody tr th {\n",
       "        vertical-align: top;\n",
       "    }\n",
       "\n",
       "    .dataframe thead th {\n",
       "        text-align: right;\n",
       "    }\n",
       "</style>\n",
       "<table border=\"1\" class=\"dataframe\">\n",
       "  <thead>\n",
       "    <tr style=\"text-align: right;\">\n",
       "      <th></th>\n",
       "      <th>num_publishers</th>\n",
       "      <th>used_publishers_ration</th>\n",
       "      <th>top_weekday</th>\n",
       "      <th>top_daytime</th>\n",
       "      <th>top_weekday_on_pubs</th>\n",
       "      <th>top_daytime_on_pubs</th>\n",
       "      <th>sessions_duration</th>\n",
       "      <th>sessions_duration_on_pubs</th>\n",
       "      <th>num_sessions</th>\n",
       "      <th>num_sessions_on_pubs</th>\n",
       "      <th>sessions_cpm</th>\n",
       "      <th>sessions_cpm_on_pubs</th>\n",
       "      <th>num_views</th>\n",
       "      <th>num_views_on_pubs</th>\n",
       "      <th>hour_start</th>\n",
       "      <th>hour_end</th>\n",
       "      <th>weekday_start</th>\n",
       "      <th>weekday_end</th>\n",
       "      <th>daytime_start</th>\n",
       "      <th>daytime_end</th>\n",
       "      <th>duration</th>\n",
       "      <th>publishers_mean_cpm_bid</th>\n",
       "      <th>publishers_IQR_cpm_bid</th>\n",
       "      <th>cpm</th>\n",
       "      <th>audience_size</th>\n",
       "    </tr>\n",
       "  </thead>\n",
       "  <tbody>\n",
       "    <tr>\n",
       "      <th>0</th>\n",
       "      <td>2</td>\n",
       "      <td>0.500000</td>\n",
       "      <td>-0.900969</td>\n",
       "      <td>0.258819</td>\n",
       "      <td>1.000000</td>\n",
       "      <td>-0.965926</td>\n",
       "      <td>2</td>\n",
       "      <td>2</td>\n",
       "      <td>37327</td>\n",
       "      <td>2661</td>\n",
       "      <td>221.736712</td>\n",
       "      <td>304.767717</td>\n",
       "      <td>77321</td>\n",
       "      <td>4598</td>\n",
       "      <td>1058</td>\n",
       "      <td>1153</td>\n",
       "      <td>2</td>\n",
       "      <td>6</td>\n",
       "      <td>2</td>\n",
       "      <td>1</td>\n",
       "      <td>95</td>\n",
       "      <td>253.183282</td>\n",
       "      <td>197.415</td>\n",
       "      <td>220.0</td>\n",
       "      <td>1906</td>\n",
       "    </tr>\n",
       "    <tr>\n",
       "      <th>1</th>\n",
       "      <td>2</td>\n",
       "      <td>0.500000</td>\n",
       "      <td>-0.222521</td>\n",
       "      <td>0.258819</td>\n",
       "      <td>-0.900969</td>\n",
       "      <td>0.500000</td>\n",
       "      <td>3</td>\n",
       "      <td>3</td>\n",
       "      <td>70595</td>\n",
       "      <td>3922</td>\n",
       "      <td>182.222638</td>\n",
       "      <td>189.190416</td>\n",
       "      <td>178007</td>\n",
       "      <td>10967</td>\n",
       "      <td>1295</td>\n",
       "      <td>1301</td>\n",
       "      <td>4</td>\n",
       "      <td>5</td>\n",
       "      <td>23</td>\n",
       "      <td>5</td>\n",
       "      <td>6</td>\n",
       "      <td>173.083709</td>\n",
       "      <td>151.780</td>\n",
       "      <td>312.0</td>\n",
       "      <td>1380</td>\n",
       "    </tr>\n",
       "    <tr>\n",
       "      <th>2</th>\n",
       "      <td>6</td>\n",
       "      <td>0.166667</td>\n",
       "      <td>-0.900969</td>\n",
       "      <td>0.500000</td>\n",
       "      <td>0.623490</td>\n",
       "      <td>0.500000</td>\n",
       "      <td>2</td>\n",
       "      <td>2</td>\n",
       "      <td>18025</td>\n",
       "      <td>16165</td>\n",
       "      <td>231.532268</td>\n",
       "      <td>232.619346</td>\n",
       "      <td>39052</td>\n",
       "      <td>34691</td>\n",
       "      <td>1229</td>\n",
       "      <td>1249</td>\n",
       "      <td>2</td>\n",
       "      <td>3</td>\n",
       "      <td>5</td>\n",
       "      <td>1</td>\n",
       "      <td>20</td>\n",
       "      <td>197.274887</td>\n",
       "      <td>150.000</td>\n",
       "      <td>70.0</td>\n",
       "      <td>888</td>\n",
       "    </tr>\n",
       "    <tr>\n",
       "      <th>3</th>\n",
       "      <td>2</td>\n",
       "      <td>0.500000</td>\n",
       "      <td>-0.222521</td>\n",
       "      <td>-0.965926</td>\n",
       "      <td>-0.222521</td>\n",
       "      <td>0.258819</td>\n",
       "      <td>2</td>\n",
       "      <td>2</td>\n",
       "      <td>8304</td>\n",
       "      <td>5054</td>\n",
       "      <td>215.579714</td>\n",
       "      <td>224.737393</td>\n",
       "      <td>17013</td>\n",
       "      <td>10146</td>\n",
       "      <td>1295</td>\n",
       "      <td>1377</td>\n",
       "      <td>4</td>\n",
       "      <td>1</td>\n",
       "      <td>23</td>\n",
       "      <td>9</td>\n",
       "      <td>82</td>\n",
       "      <td>195.917368</td>\n",
       "      <td>160.855</td>\n",
       "      <td>240.0</td>\n",
       "      <td>440</td>\n",
       "    </tr>\n",
       "    <tr>\n",
       "      <th>4</th>\n",
       "      <td>4</td>\n",
       "      <td>0.250000</td>\n",
       "      <td>-0.222521</td>\n",
       "      <td>0.500000</td>\n",
       "      <td>1.000000</td>\n",
       "      <td>0.500000</td>\n",
       "      <td>2</td>\n",
       "      <td>2</td>\n",
       "      <td>25286</td>\n",
       "      <td>20591</td>\n",
       "      <td>266.370060</td>\n",
       "      <td>272.764926</td>\n",
       "      <td>52434</td>\n",
       "      <td>42564</td>\n",
       "      <td>752</td>\n",
       "      <td>990</td>\n",
       "      <td>3</td>\n",
       "      <td>6</td>\n",
       "      <td>8</td>\n",
       "      <td>6</td>\n",
       "      <td>238</td>\n",
       "      <td>234.729084</td>\n",
       "      <td>188.665</td>\n",
       "      <td>262.0</td>\n",
       "      <td>1476</td>\n",
       "    </tr>\n",
       "  </tbody>\n",
       "</table>\n",
       "</div>"
      ],
      "text/plain": [
       "   num_publishers  used_publishers_ration  top_weekday  top_daytime  \\\n",
       "0               2                0.500000    -0.900969     0.258819   \n",
       "1               2                0.500000    -0.222521     0.258819   \n",
       "2               6                0.166667    -0.900969     0.500000   \n",
       "3               2                0.500000    -0.222521    -0.965926   \n",
       "4               4                0.250000    -0.222521     0.500000   \n",
       "\n",
       "   top_weekday_on_pubs  top_daytime_on_pubs  sessions_duration  \\\n",
       "0             1.000000            -0.965926                  2   \n",
       "1            -0.900969             0.500000                  3   \n",
       "2             0.623490             0.500000                  2   \n",
       "3            -0.222521             0.258819                  2   \n",
       "4             1.000000             0.500000                  2   \n",
       "\n",
       "   sessions_duration_on_pubs  num_sessions  num_sessions_on_pubs  \\\n",
       "0                          2         37327                  2661   \n",
       "1                          3         70595                  3922   \n",
       "2                          2         18025                 16165   \n",
       "3                          2          8304                  5054   \n",
       "4                          2         25286                 20591   \n",
       "\n",
       "   sessions_cpm  sessions_cpm_on_pubs  num_views  num_views_on_pubs  \\\n",
       "0    221.736712            304.767717      77321               4598   \n",
       "1    182.222638            189.190416     178007              10967   \n",
       "2    231.532268            232.619346      39052              34691   \n",
       "3    215.579714            224.737393      17013              10146   \n",
       "4    266.370060            272.764926      52434              42564   \n",
       "\n",
       "   hour_start  hour_end  weekday_start  weekday_end  daytime_start  \\\n",
       "0        1058      1153              2            6              2   \n",
       "1        1295      1301              4            5             23   \n",
       "2        1229      1249              2            3              5   \n",
       "3        1295      1377              4            1             23   \n",
       "4         752       990              3            6              8   \n",
       "\n",
       "   daytime_end  duration  publishers_mean_cpm_bid  publishers_IQR_cpm_bid  \\\n",
       "0            1        95               253.183282                 197.415   \n",
       "1            5         6               173.083709                 151.780   \n",
       "2            1        20               197.274887                 150.000   \n",
       "3            9        82               195.917368                 160.855   \n",
       "4            6       238               234.729084                 188.665   \n",
       "\n",
       "     cpm  audience_size  \n",
       "0  220.0           1906  \n",
       "1  312.0           1380  \n",
       "2   70.0            888  \n",
       "3  240.0            440  \n",
       "4  262.0           1476  "
      ]
     },
     "execution_count": 16,
     "metadata": {},
     "output_type": "execute_result"
    }
   ],
   "source": [
    "ext_validate_ds = ct.fit_transform(validate_ds)\n",
    "ext_validate_ds = fe_ct.fit_transform(ext_validate_ds)\n",
    "ext_validate_ds.head()"
   ]
  },
  {
   "cell_type": "markdown",
   "metadata": {},
   "source": [
    "# XGBRegression"
   ]
  },
  {
   "cell_type": "markdown",
   "metadata": {},
   "source": [
    "### setup"
   ]
  },
  {
   "cell_type": "markdown",
   "metadata": {},
   "source": [
    "Инициализируем модель. Ниже представлена используемая модель с параметрами."
   ]
  },
  {
   "cell_type": "code",
   "execution_count": null,
   "metadata": {},
   "outputs": [],
   "source": [
    "# xgb = XGBRegressor(\n",
    "#     device=\"cuda\",\n",
    "#     random_state=42,\n",
    "\n",
    "#     n_estimators=1000,\n",
    "#     learning_rate=0.05,\n",
    "#     gamma=0,\n",
    "#     max_depth=6,\n",
    "#     reg_lambda=1,\n",
    "#     tree_method=\"hist\",\n",
    "\n",
    "#     objective=\"reg:gamma\"\n",
    "# )\n",
    "\n",
    "# model = MultiOutputRegressor(\n",
    "#     estimator=xgb,\n",
    "#     n_jobs=8\n",
    "# )"
   ]
  },
  {
   "cell_type": "code",
   "execution_count": 32,
   "metadata": {},
   "outputs": [],
   "source": [
    "with open(os.path.join(OUTPUT_DATA_PATH, \"xgbr_cek2.pkl\"), \"rb\") as f:\n",
    "    MODEL = load(f)"
   ]
  },
  {
   "cell_type": "code",
   "execution_count": 33,
   "metadata": {},
   "outputs": [],
   "source": [
    "X_train, X_test, y_train, y_test = train_test_split(ext_validate_ds, validate_answers_ds, test_size=0.2, random_state=42)"
   ]
  },
  {
   "cell_type": "markdown",
   "metadata": {},
   "source": [
    "### evaluate"
   ]
  },
  {
   "cell_type": "markdown",
   "metadata": {},
   "source": [
    "Запускаем модель и считаем метрику качества."
   ]
  },
  {
   "cell_type": "code",
   "execution_count": 39,
   "metadata": {},
   "outputs": [
    {
     "name": "stdout",
     "output_type": "stream",
     "text": [
      "29.47\n"
     ]
    }
   ],
   "source": [
    "y_pred = MODEL.predict(X_test)\n",
    "y_pred[y_pred < 0.] = 0.\n",
    "print(get_smoothed_mean_log_accuracy_ratio_np(y_test, y_pred))"
   ]
  },
  {
   "cell_type": "markdown",
   "metadata": {},
   "source": [
    "Визуализация SHAP значений."
   ]
  },
  {
   "cell_type": "code",
   "execution_count": null,
   "metadata": {},
   "outputs": [],
   "source": [
    "save_dir_path = os.path.join(OUTPUT_DATA_PATH, \"plots/shap\")\n",
    "os.makedirs(save_dir_path, exist_ok=True)\n",
    "get_shap_values(MODEL, X_test, y_test, save_dir_path)"
   ]
  },
  {
   "cell_type": "markdown",
   "metadata": {},
   "source": [
    "Прогон модели на фолдах."
   ]
  },
  {
   "cell_type": "code",
   "execution_count": 40,
   "metadata": {},
   "outputs": [
    {
     "name": "stdout",
     "output_type": "stream",
     "text": [
      "Train batch size: 807\n",
      "Test batch size: 201\n",
      "Mean train time: 9.56 s\n",
      "Mean inference time: 0.08 s\n",
      "Mean metric: 25.91\n"
     ]
    }
   ],
   "source": [
    "ccross_val(MODEL, ext_validate_ds, validate_answers_ds+0.0005)"
   ]
  }
 ],
 "metadata": {
  "kernelspec": {
   "display_name": ".venv",
   "language": "python",
   "name": "python3"
  },
  "language_info": {
   "codemirror_mode": {
    "name": "ipython",
    "version": 3
   },
   "file_extension": ".py",
   "mimetype": "text/x-python",
   "name": "python",
   "nbconvert_exporter": "python",
   "pygments_lexer": "ipython3",
   "version": "3.9.2"
  }
 },
 "nbformat": 4,
 "nbformat_minor": 2
}
